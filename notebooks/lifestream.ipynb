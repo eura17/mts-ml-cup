{
 "cells": [
  {
   "cell_type": "code",
   "execution_count": 1,
   "id": "4fdfc771-6739-41dc-a79c-81f3ea0e8473",
   "metadata": {},
   "outputs": [
    {
     "name": "stderr",
     "output_type": "stream",
     "text": [
      "/home/ababkin/.cache/pypoetry/virtualenvs/mts-ml-cup-qFoUb2su-py3.8/lib/python3.8/site-packages/tqdm/auto.py:22: TqdmWarning: IProgress not found. Please update jupyter and ipywidgets. See https://ipywidgets.readthedocs.io/en/stable/user_install.html\n",
      "  from .autonotebook import tqdm as notebook_tqdm\n"
     ]
    }
   ],
   "source": [
    "from __future__ import annotations\n",
    "\n",
    "import polars\n",
    "import torch\n",
    "import pytorch_lightning as pl\n",
    "from tqdm import tqdm\n",
    "\n",
    "from mts_ml_cup.preprocessing import _polars_map"
   ]
  },
  {
   "cell_type": "code",
   "execution_count": 2,
   "id": "916c07f3-f5e6-437c-b8be-eca23536ebd3",
   "metadata": {},
   "outputs": [
    {
     "name": "stdout",
     "output_type": "stream",
     "text": [
      "CPU times: user 54.3 s, sys: 14.3 s, total: 1min 8s\n",
      "Wall time: 27.9 s\n"
     ]
    }
   ],
   "source": [
    "%%time\n",
    "df = polars.read_parquet(\"../data/processed/sessions.pq\")"
   ]
  },
  {
   "cell_type": "markdown",
   "id": "25643c79-ad9c-478d-aed8-50c3643d41fe",
   "metadata": {
    "tags": []
   },
   "source": [
    "# Data preparation"
   ]
  },
  {
   "cell_type": "code",
   "execution_count": 3,
   "id": "4380d0a8-4b11-4f0d-81a0-86f16a489b7e",
   "metadata": {},
   "outputs": [
    {
     "name": "stdout",
     "output_type": "stream",
     "text": [
      "CPU times: user 3min 13s, sys: 32.5 s, total: 3min 45s\n",
      "Wall time: 56.7 s\n"
     ]
    }
   ],
   "source": [
    "%%time\n",
    "urls = df[\"url_host\"].unique()\n",
    "urls_mapping = dict(zip(sorted(urls), range(1, len(urls) + 1)))\n",
    "df = (\n",
    "    df\n",
    "    .sort([\"user_id\", \"date\", \"part_of_day_id\"])\n",
    "    .join(\n",
    "        other=_polars_map(\n",
    "            mapping=urls_mapping,\n",
    "            key_name=\"url_host\",\n",
    "            id_name=\"url_id\",\n",
    "            id_dtype=polars.Int32,\n",
    "        ),\n",
    "        how=\"left\",\n",
    "        on=\"url_host\",\n",
    "    )\n",
    ")"
   ]
  },
  {
   "cell_type": "code",
   "execution_count": 4,
   "id": "cd24ed91-34a8-48b0-9aaf-0c6a1ca569b2",
   "metadata": {},
   "outputs": [
    {
     "name": "stdout",
     "output_type": "stream",
     "text": [
      "df['region_id'].n_unique() = 81\n",
      "df['city_id'].n_unique() = 1000\n",
      "df['manufacturer_id'].n_unique() = 31\n",
      "df['model_id'].n_unique() = 603\n",
      "df['part_of_day_id'].n_unique() = 4\n",
      "df['url_id'].n_unique() = 199527\n"
     ]
    }
   ],
   "source": [
    "print(\n",
    "    f\"{df['region_id'].n_unique() = }\\n\"\n",
    "    f\"{df['city_id'].n_unique() = }\\n\"\n",
    "    f\"{df['manufacturer_id'].n_unique() = }\\n\"\n",
    "    f\"{df['model_id'].n_unique() = }\\n\"\n",
    "    f\"{df['part_of_day_id'].n_unique() = }\\n\"\n",
    "    f\"{df['url_id'].n_unique() = }\"\n",
    ")"
   ]
  },
  {
   "cell_type": "code",
   "execution_count": 7,
   "id": "c9b2f5ab-390b-451b-9673-d1d1509215d7",
   "metadata": {},
   "outputs": [],
   "source": [
    "def dataset_for_ptls(df: polars.DataFrame) -> dict[str, torch.Tensor | float]:\n",
    "    dataset = []\n",
    "    for user_id, user_df in tqdm(df.groupby(\"user_id\"), total=df[\"user_id\"].n_unique()):\n",
    "        user_encoded = {\n",
    "            \"user_id\": user_id,\n",
    "            \"region_id\": torch.from_numpy(user_df[\"region_id\"].to_numpy()),\n",
    "            \"city_id\": torch.from_numpy(user_df[\"city_id\"].to_numpy().astype(\"int16\")),\n",
    "            \"manufacturer_id\": torch.from_numpy(user_df[\"manufacturer_id\"].to_numpy()),\n",
    "            \"model_id\": torch.from_numpy(user_df[\"model_id\"].to_numpy().astype(\"int16\")),\n",
    "            \"event_time\": torch.from_numpy(user_df[\"date\"].to_numpy().astype(\"datetime64[s]\").astype(\"int64\")),\n",
    "            \"part_of_day_id\": torch.from_numpy(user_df[\"part_of_day_id\"].to_numpy()),\n",
    "            \"url_id\": torch.from_numpy(user_df[\"url_id\"].to_numpy()),\n",
    "            \"request_cnt\": torch.from_numpy(user_df[\"request_cnt\"].to_numpy()),\n",
    "        }\n",
    "        dataset.append(user_encoded)\n",
    "    return dataset"
   ]
  },
  {
   "cell_type": "code",
   "execution_count": 8,
   "id": "336c993c-4520-49a1-af12-d6e814727c69",
   "metadata": {},
   "outputs": [
    {
     "name": "stderr",
     "output_type": "stream",
     "text": [
      "100%|█████████████████████████████████| 415317/415317 [03:53<00:00, 1777.26it/s]\n"
     ]
    }
   ],
   "source": [
    "dataset = dataset_for_ptls(df)"
   ]
  },
  {
   "cell_type": "code",
   "execution_count": 9,
   "id": "afd11df7-70f7-4cd2-8075-ea73a0b8ce25",
   "metadata": {},
   "outputs": [
    {
     "name": "stdout",
     "output_type": "stream",
     "text": [
      "CPU times: user 2min 22s, sys: 12.9 s, total: 2min 35s\n",
      "Wall time: 2min 41s\n"
     ]
    }
   ],
   "source": [
    "%%time\n",
    "torch.save(dataset, \"../data/ptls/dataset.pt\")"
   ]
  },
  {
   "cell_type": "code",
   "execution_count": 10,
   "id": "633192ca-4649-48ad-8ede-e36ceb6b00c4",
   "metadata": {},
   "outputs": [
    {
     "name": "stdout",
     "output_type": "stream",
     "text": [
      "total 6.9G\n",
      "-rw-rw-r-- 1 ababkin ababkin 6.9G Mar  1 19:30 dataset.pt\n"
     ]
    }
   ],
   "source": [
    "! ls -lh ../data/ptls/"
   ]
  },
  {
   "cell_type": "markdown",
   "id": "b37857b3-4361-480d-9243-5206cc9e1e55",
   "metadata": {},
   "source": [
    "# Fit self-supervised"
   ]
  },
  {
   "cell_type": "code",
   "execution_count": 2,
   "id": "eb7e20db-6b03-4be6-a8c0-13332ffb8135",
   "metadata": {},
   "outputs": [
    {
     "name": "stdout",
     "output_type": "stream",
     "text": [
      "CPU times: user 2min 2s, sys: 18.5 s, total: 2min 20s\n",
      "Wall time: 12min 38s\n"
     ]
    }
   ],
   "source": [
    "%%time\n",
    "dataset = torch.load(\"../data/ptls/dataset.pt\")"
   ]
  },
  {
   "cell_type": "code",
   "execution_count": 3,
   "id": "1f57ed02-28dd-44c7-b5d0-95b1319d6ec4",
   "metadata": {},
   "outputs": [
    {
     "data": {
      "text/plain": [
       "dict_keys(['user_id', 'region_id', 'city_id', 'manufacturer_id', 'model_id', 'event_time', 'part_of_day_id', 'url_id', 'request_cnt'])"
      ]
     },
     "execution_count": 3,
     "metadata": {},
     "output_type": "execute_result"
    }
   ],
   "source": [
    "dataset[0].keys()"
   ]
  },
  {
   "cell_type": "code",
   "execution_count": 4,
   "id": "d4383946-05dd-4321-ad5b-c85646c14bf2",
   "metadata": {},
   "outputs": [],
   "source": [
    "from functools import partial\n",
    "from ptls.nn import TrxEncoder, RnnSeqEncoder\n",
    "from ptls.frames.coles import CoLESModule"
   ]
  },
  {
   "cell_type": "code",
   "execution_count": 5,
   "id": "5e4a145f-ae31-4d96-b8d8-d9df3cc7a6e2",
   "metadata": {},
   "outputs": [],
   "source": [
    "seq_encoder = RnnSeqEncoder(\n",
    "    trx_encoder=TrxEncoder(\n",
    "        embeddings={\n",
    "            \"region_id\": {\"in\": 81, \"out\": 4},\n",
    "            \"city_id\": {\"in\": 1_000, \"out\": 8},\n",
    "            \"manufacturer_id\": {\"in\": 31, \"out\": 4},\n",
    "            \"model_id\": {\"in\": 603, \"out\": 8},\n",
    "            \"part_of_day_id\": {\"in\": 4, \"out\": 2},\n",
    "            \"url_id\": {\"in\": 199527, \"out\": 128},\n",
    "        },\n",
    "        embeddings_noise=0.003,\n",
    "        numeric_values={\n",
    "            \"request_cnt\": \"log\",\n",
    "        },\n",
    "        use_batch_norm_with_lens=True,\n",
    "        orthogonal_init=True,\n",
    "    ),\n",
    "    hidden_size=256,\n",
    "    type=\"gru\",\n",
    ")\n",
    "\n",
    "model = CoLESModule(\n",
    "    seq_encoder=seq_encoder,\n",
    "    optimizer_partial=partial(torch.optim.Adam, lr=0.001),\n",
    "    lr_scheduler_partial=partial(torch.optim.lr_scheduler.StepLR, step_size=30, gamma=0.9),\n",
    ")"
   ]
  },
  {
   "cell_type": "code",
   "execution_count": 6,
   "id": "f6a0dca2-cc26-4958-8783-72447d22084d",
   "metadata": {},
   "outputs": [
    {
     "data": {
      "text/plain": [
       "25870178"
      ]
     },
     "execution_count": 6,
     "metadata": {},
     "output_type": "execute_result"
    }
   ],
   "source": [
    "sum(p.numel() for p in seq_encoder.parameters())"
   ]
  },
  {
   "cell_type": "code",
   "execution_count": 7,
   "id": "4f28c1c3-9d5b-464d-a94a-82b826ea49bc",
   "metadata": {},
   "outputs": [],
   "source": [
    "from ptls.data_load.datasets import MemoryMapDataset\n",
    "from ptls.data_load.iterable_processing import SeqLenFilter\n",
    "from ptls.frames.coles import ColesDataset\n",
    "from ptls.frames.coles.split_strategy import SampleSlices\n",
    "from ptls.frames import PtlsDataModule\n",
    "\n",
    "train_dl = PtlsDataModule(\n",
    "    train_data=ColesDataset(\n",
    "        MemoryMapDataset(\n",
    "            data=dataset,\n",
    "            i_filters=[\n",
    "                SeqLenFilter(min_seq_len=25),\n",
    "            ],\n",
    "        ),\n",
    "        splitter=SampleSlices(\n",
    "            split_count=5,\n",
    "            cnt_min=25,\n",
    "            cnt_max=200,\n",
    "        ),\n",
    "    ),\n",
    "    train_num_workers=0,\n",
    "    train_batch_size=256,\n",
    ")"
   ]
  },
  {
   "cell_type": "code",
   "execution_count": 8,
   "id": "f7208abf-e116-401a-93b0-57f09f1fdf94",
   "metadata": {},
   "outputs": [
    {
     "name": "stderr",
     "output_type": "stream",
     "text": [
      "GPU available: True, used: True\n",
      "TPU available: False, using: 0 TPU cores\n",
      "IPU available: False, using: 0 IPUs\n",
      "HPU available: False, using: 0 HPUs\n"
     ]
    }
   ],
   "source": [
    "trainer = pl.Trainer(\n",
    "    max_epochs=15,\n",
    "    gpus=1 if torch.cuda.is_available() else 0,\n",
    "    enable_progress_bar=True,\n",
    ")"
   ]
  },
  {
   "cell_type": "code",
   "execution_count": null,
   "id": "f0071727-a309-4e3d-9484-bd6a4f8067d1",
   "metadata": {},
   "outputs": [
    {
     "name": "stderr",
     "output_type": "stream",
     "text": [
      "/home/ababkin/.cache/pypoetry/virtualenvs/mts-ml-cup-qFoUb2su-py3.8/lib/python3.8/site-packages/pytorch_lightning/trainer/configuration_validator.py:133: UserWarning: You defined a `validation_step` but have no `val_dataloader`. Skipping val loop.\n",
      "  rank_zero_warn(\"You defined a `validation_step` but have no `val_dataloader`. Skipping val loop.\")\n",
      "LOCAL_RANK: 0 - CUDA_VISIBLE_DEVICES: [0]\n",
      "\n",
      "  | Name               | Type            | Params\n",
      "-------------------------------------------------------\n",
      "0 | _loss              | ContrastiveLoss | 0     \n",
      "1 | _seq_encoder       | RnnSeqEncoder   | 25.9 M\n",
      "2 | _validation_metric | BatchRecallTopK | 0     \n",
      "3 | _head              | Head            | 0     \n",
      "-------------------------------------------------------\n",
      "25.9 M    Trainable params\n",
      "0         Non-trainable params\n",
      "25.9 M    Total params\n",
      "103.481   Total estimated model params size (MB)\n",
      "/home/ababkin/.cache/pypoetry/virtualenvs/mts-ml-cup-qFoUb2su-py3.8/lib/python3.8/site-packages/pytorch_lightning/trainer/connectors/data_connector.py:240: PossibleUserWarning: The dataloader, train_dataloader, does not have many workers which may be a bottleneck. Consider increasing the value of the `num_workers` argument` (try 8 which is the number of cpus on this machine) in the `DataLoader` init to improve performance.\n",
      "  rank_zero_warn(\n"
     ]
    },
    {
     "name": "stdout",
     "output_type": "stream",
     "text": [
      "Epoch 0:  82%|▊| 1180/1443 [06:35<01:28,  2.99it/s, loss=71.3, v_num=5, seq_len="
     ]
    }
   ],
   "source": [
    "trainer.fit(model, train_dl)\n",
    "print(trainer.logged_metrics)"
   ]
  },
  {
   "cell_type": "code",
   "execution_count": 11,
   "id": "b6e1b33a-286c-4afd-81e3-4b7cf11eb565",
   "metadata": {},
   "outputs": [
    {
     "name": "stdout",
     "output_type": "stream",
     "text": [
      "{'loss': tensor(30.7693), 'seq_len': tensor(95.3654)}\n"
     ]
    }
   ],
   "source": [
    "print(trainer.logged_metrics)"
   ]
  },
  {
   "cell_type": "code",
   "execution_count": 15,
   "id": "35f29f3e-f7e1-4c8f-9cd1-357e1e61f21d",
   "metadata": {},
   "outputs": [],
   "source": [
    "torch.save(seq_encoder, \"../data/ptls/seq-encoder-v1.pt\")"
   ]
  },
  {
   "cell_type": "code",
   "execution_count": 18,
   "id": "93947c87-b4fd-4afa-a006-28e3e1bd49a5",
   "metadata": {},
   "outputs": [],
   "source": [
    "from ptls.data_load.datasets import inference_data_loader"
   ]
  },
  {
   "cell_type": "code",
   "execution_count": 28,
   "id": "3834e654-4afe-4982-8524-862e118fd583",
   "metadata": {},
   "outputs": [],
   "source": [
    "inference_dl = inference_data_loader(dataset, num_workers=0, batch_size=256)"
   ]
  },
  {
   "cell_type": "code",
   "execution_count": 22,
   "id": "bb4dcd07-94fd-43ed-83f4-222c800de74b",
   "metadata": {},
   "outputs": [],
   "source": [
    "model.eval();"
   ]
  },
  {
   "cell_type": "code",
   "execution_count": 29,
   "id": "d0dfb733-bef6-46ff-b87f-8e1c2a5e3b37",
   "metadata": {},
   "outputs": [
    {
     "name": "stderr",
     "output_type": "stream",
     "text": [
      "LOCAL_RANK: 0 - CUDA_VISIBLE_DEVICES: [0]\n"
     ]
    },
    {
     "name": "stdout",
     "output_type": "stream",
     "text": [
      "Predicting DataLoader 0: : 1623it [06:28,  2.16s/it]   \n"
     ]
    }
   ],
   "source": [
    "coles_embs = trainer.predict(model, inference_dl)"
   ]
  },
  {
   "cell_type": "code",
   "execution_count": 34,
   "id": "32efa91c-72b4-454b-9c79-4b32854c29d4",
   "metadata": {},
   "outputs": [
    {
     "name": "stdout",
     "output_type": "stream",
     "text": [
      "CPU times: user 461 ms, sys: 232 ms, total: 693 ms\n",
      "Wall time: 176 ms\n"
     ]
    }
   ],
   "source": [
    "%%time\n",
    "coles_embs = torch.vstack(coles_embs)"
   ]
  },
  {
   "cell_type": "code",
   "execution_count": 36,
   "id": "2975bd02-22d7-4e54-82e4-d3df0806404a",
   "metadata": {},
   "outputs": [],
   "source": [
    "torch.save(coles_embs, \"../data/ptls/embeddings-v1.pt\")"
   ]
  },
  {
   "cell_type": "code",
   "execution_count": 37,
   "id": "822918aa-616e-4bb9-b105-651592803772",
   "metadata": {},
   "outputs": [
    {
     "data": {
      "text/plain": [
       "torch.Size([415317, 256])"
      ]
     },
     "execution_count": 37,
     "metadata": {},
     "output_type": "execute_result"
    }
   ],
   "source": [
    "coles_embs.shape"
   ]
  },
  {
   "cell_type": "code",
   "execution_count": 40,
   "id": "0ec44208-67ff-4eca-96db-2539b997ae83",
   "metadata": {},
   "outputs": [],
   "source": [
    "user_ids = [d[\"user_id\"] for d in dataset]"
   ]
  },
  {
   "cell_type": "code",
   "execution_count": 41,
   "id": "0858ce21-2040-4573-a764-a7e57c0654e1",
   "metadata": {},
   "outputs": [
    {
     "data": {
      "text/plain": [
       "['../data/ptls/user_ids.jbl']"
      ]
     },
     "execution_count": 41,
     "metadata": {},
     "output_type": "execute_result"
    }
   ],
   "source": [
    "import joblib as jbl\n",
    "jbl.dump(user_ids, \"../data/ptls/user_ids.jbl\")"
   ]
  },
  {
   "cell_type": "code",
   "execution_count": null,
   "id": "2ebf0375-b521-4a46-9cf0-2113f626f68b",
   "metadata": {},
   "outputs": [],
   "source": []
  }
 ],
 "metadata": {
  "kernelspec": {
   "display_name": "Python (mts-ml-cup)",
   "language": "python",
   "name": "mts-ml-cup"
  },
  "language_info": {
   "codemirror_mode": {
    "name": "ipython",
    "version": 3
   },
   "file_extension": ".py",
   "mimetype": "text/x-python",
   "name": "python",
   "nbconvert_exporter": "python",
   "pygments_lexer": "ipython3",
   "version": "3.8.10"
  }
 },
 "nbformat": 4,
 "nbformat_minor": 5
}
