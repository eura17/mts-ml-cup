{
 "cells": [
  {
   "cell_type": "code",
   "execution_count": 26,
   "id": "2ecbb739-5c88-4e67-9523-b0e894db1592",
   "metadata": {},
   "outputs": [],
   "source": [
    "import polars as pl\n",
    "import scipy.sparse as sp\n",
    "import numpy as np\n",
    "from tqdm import tqdm"
   ]
  },
  {
   "cell_type": "code",
   "execution_count": 3,
   "id": "d5775cab-d532-44f2-bca5-be8890307c7c",
   "metadata": {},
   "outputs": [
    {
     "name": "stdout",
     "output_type": "stream",
     "text": [
      "CPU times: user 1.47 s, sys: 599 ms, total: 2.07 s\n",
      "Wall time: 2.06 s\n"
     ]
    }
   ],
   "source": [
    "%%time\n",
    "df = pl.read_parquet(\"../data/combinations/k=2/mapped/0.pq\")"
   ]
  },
  {
   "cell_type": "code",
   "execution_count": 21,
   "id": "a33df59a-795d-4122-a80d-87228afd4f43",
   "metadata": {},
   "outputs": [
    {
     "name": "stderr",
     "output_type": "stream",
     "text": [
      "100%|███████████████████████████████████████████| 42/42 [12:02<00:00, 17.21s/it]\n"
     ]
    }
   ],
   "source": [
    "n_users = 0\n",
    "max_comb_id = 0\n",
    "for i in tqdm(range(42)):\n",
    "    batch = pl.read_parquet(f\"../data/combinations/k=2/mapped/{i}.pq\")\n",
    "    n_users += batch[\"user_id\"].n_unique()\n",
    "    max_comb_id = max(\n",
    "        max_comb_id,\n",
    "        batch\n",
    "        .select(pl.col(\"url_combination_id\").str.split(\" \"))\n",
    "        .to_series()\n",
    "        .explode()\n",
    "        .cast(pl.Int32)\n",
    "        .max()\n",
    "    )"
   ]
  },
  {
   "cell_type": "code",
   "execution_count": 22,
   "id": "44535dbb-17a2-41ec-9503-18a06fccff49",
   "metadata": {},
   "outputs": [
    {
     "data": {
      "text/plain": [
       "163791897"
      ]
     },
     "execution_count": 22,
     "metadata": {},
     "output_type": "execute_result"
    }
   ],
   "source": [
    "max_comb_id"
   ]
  },
  {
   "cell_type": "code",
   "execution_count": 23,
   "id": "8d75d98a-2ec3-47f6-9e83-6f6413535cbe",
   "metadata": {},
   "outputs": [
    {
     "data": {
      "text/plain": [
       "415317"
      ]
     },
     "execution_count": 23,
     "metadata": {},
     "output_type": "execute_result"
    }
   ],
   "source": [
    "n_users"
   ]
  },
  {
   "cell_type": "code",
   "execution_count": null,
   "id": "aa46db80-bced-452c-ae2c-2848e7902fcc",
   "metadata": {},
   "outputs": [
    {
     "name": "stderr",
     "output_type": "stream",
     "text": [
      "  5%|█▊                                     | 2/42 [42:29<14:15:00, 1282.50s/it]"
     ]
    }
   ],
   "source": [
    "combinations_matrix = sp.dok_matrix((n_users, max_comb_id), dtype=np.int32)\n",
    "for i in tqdm(range(42)):\n",
    "    batch = pl.read_parquet(f\"../data/combinations/k=2/mapped/{i}.pq\")\n",
    "    for user_id, combs in batch.iter_rows():\n",
    "        for comb in map(int, combs.split()):\n",
    "            combinations_matrix[user_id, comb] += 1"
   ]
  },
  {
   "cell_type": "code",
   "execution_count": 29,
   "id": "81c2e222-0c67-455a-9197-e23a62baca58",
   "metadata": {},
   "outputs": [],
   "source": [
    "for user_id, combs in batch.iter_rows():\n",
    "    break"
   ]
  },
  {
   "cell_type": "code",
   "execution_count": 30,
   "id": "e1532a48-fff5-40c2-ab2b-fac7bd4a4fd8",
   "metadata": {},
   "outputs": [
    {
     "data": {
      "text/plain": [
       "'8079160 8133131 4021875 10904004 5898178 856450 10993435 3943900 5331456 12875331 82677 322875 5593876 2365432 12071475 3572139 11026401 12852864 3781541 3121923 8084821 12676196 203582 7649299 9501907 6806162 4405606 10265786 9775834 4862777 8579290 3889453 11583574 4995067 3715927 4208081 968526 5135811 11284955 3925583 3110602 12180367 9725547 4746696 12940433 1008225 9588976 2941376 4387574 410343 1560473 2154898 5254950 11248678 842233 5445665 6139940 1011237 12359314 12004931 11569824 3776484 2631272 9696982 5631782 11621285 10091916 12892673 8513358 2624726 1624339 4549812 5539046 9277190 3130887 11928573 6365137 2775813'"
      ]
     },
     "execution_count": 30,
     "metadata": {},
     "output_type": "execute_result"
    }
   ],
   "source": [
    "combs"
   ]
  },
  {
   "cell_type": "code",
   "execution_count": null,
   "id": "291db140-7b03-4f1a-ac25-9e9359d50d3e",
   "metadata": {},
   "outputs": [],
   "source": []
  }
 ],
 "metadata": {
  "kernelspec": {
   "display_name": "Python (mts-ml-cup)",
   "language": "python",
   "name": "mts-ml-cup"
  },
  "language_info": {
   "codemirror_mode": {
    "name": "ipython",
    "version": 3
   },
   "file_extension": ".py",
   "mimetype": "text/x-python",
   "name": "python",
   "nbconvert_exporter": "python",
   "pygments_lexer": "ipython3",
   "version": "3.8.10"
  }
 },
 "nbformat": 4,
 "nbformat_minor": 5
}
