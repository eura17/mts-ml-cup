{
 "cells": [
  {
   "cell_type": "code",
   "execution_count": 19,
   "id": "2ecbb739-5c88-4e67-9523-b0e894db1592",
   "metadata": {},
   "outputs": [],
   "source": [
    "import polars as pl\n",
    "import pandas as pd\n",
    "import scipy.sparse as sp\n",
    "import numpy as np\n",
    "from tqdm import tqdm\n",
    "import joblib as jbl"
   ]
  },
  {
   "cell_type": "code",
   "execution_count": 3,
   "id": "d5775cab-d532-44f2-bca5-be8890307c7c",
   "metadata": {},
   "outputs": [
    {
     "name": "stdout",
     "output_type": "stream",
     "text": [
      "CPU times: user 1.47 s, sys: 599 ms, total: 2.07 s\n",
      "Wall time: 2.06 s\n"
     ]
    }
   ],
   "source": [
    "%%time\n",
    "df = pl.read_parquet(\"../data/combinations/k=2/mapped/0.pq\")"
   ]
  },
  {
   "cell_type": "code",
   "execution_count": 21,
   "id": "a33df59a-795d-4122-a80d-87228afd4f43",
   "metadata": {},
   "outputs": [
    {
     "name": "stderr",
     "output_type": "stream",
     "text": [
      "100%|███████████████████████████████████████████| 42/42 [12:02<00:00, 17.21s/it]\n"
     ]
    }
   ],
   "source": [
    "n_users = 0\n",
    "max_comb_id = 0\n",
    "for i in tqdm(range(42)):\n",
    "    batch = pl.read_parquet(f\"../data/combinations/k=2/mapped/{i}.pq\")\n",
    "    n_users += batch[\"user_id\"].n_unique()\n",
    "    max_comb_id = max(\n",
    "        max_comb_id,\n",
    "        batch\n",
    "        .select(pl.col(\"url_combination_id\").str.split(\" \"))\n",
    "        .to_series()\n",
    "        .explode()\n",
    "        .cast(pl.Int32)\n",
    "        .max()\n",
    "    )"
   ]
  },
  {
   "cell_type": "code",
   "execution_count": 22,
   "id": "44535dbb-17a2-41ec-9503-18a06fccff49",
   "metadata": {},
   "outputs": [
    {
     "data": {
      "text/plain": [
       "163791897"
      ]
     },
     "execution_count": 22,
     "metadata": {},
     "output_type": "execute_result"
    }
   ],
   "source": [
    "max_comb_id"
   ]
  },
  {
   "cell_type": "code",
   "execution_count": 23,
   "id": "8d75d98a-2ec3-47f6-9e83-6f6413535cbe",
   "metadata": {},
   "outputs": [
    {
     "data": {
      "text/plain": [
       "415317"
      ]
     },
     "execution_count": 23,
     "metadata": {},
     "output_type": "execute_result"
    }
   ],
   "source": [
    "n_users"
   ]
  },
  {
   "cell_type": "code",
   "execution_count": 2,
   "id": "2db3a973-1646-4fd2-b35d-c775808c1b1b",
   "metadata": {},
   "outputs": [],
   "source": [
    "def to_sparse_batch(i: int) -> None:\n",
    "    batch = pl.read_parquet(f\"../data/combinations/mapped/{i}.pq\")\n",
    "    \n",
    "    users = dict(zip(batch[\"user_id\"].to_list(), range(len(batch))))\n",
    "    combinations_matrix = sp.dok_matrix((len(users), 163791897+1), dtype=np.int32)\n",
    "    for user_id, combs in tqdm(batch.iter_rows(), desc=f\"batch={i}\", total=len(batch)):\n",
    "        for comb in map(int, combs.split()):\n",
    "            combinations_matrix[users[user_id], comb] += 1\n",
    "    combinations_matrix = combinations_matrix.tocsr()\n",
    "    \n",
    "    jbl.dump(users, f\"../data/combinations/sparse/{i}/users.jbl\")\n",
    "    sp.save_npz(f\"../data/combinations/sparse/{i}/combinations.npz\", combinations_matrix)"
   ]
  },
  {
   "cell_type": "code",
   "execution_count": null,
   "id": "f81a0ae8-680e-4a1c-8857-2443f8897e79",
   "metadata": {},
   "outputs": [
    {
     "name": "stderr",
     "output_type": "stream",
     "text": [
      "batch=1:  93%|█████████▎| 9288/10000 [15:29<01:09, 10.20it/s]]  \n",
      "batch=0:  99%|█████████▉| 9914/10000 [16:18<00:11,  7.70it/s]]]\n",
      "batch=1:  98%|█████████▊| 9835/10000 [16:24<00:05, 29.49it/s]]\n",
      "batch=1:  99%|█████████▊| 9864/10000 [16:27<00:09, 14.71it/s]]\n",
      "batch=12:  95%|█████████▌| 9515/10000 [16:55<01:08,  7.08it/s]\n",
      "batch=12:  96%|█████████▌| 9571/10000 [17:02<00:58,  7.28it/s]]\n",
      "batch=14:  11%|█▏        | 1134/10000 [01:37<10:14, 14.42it/s]\n",
      "batch=16:   5%|▍         | 477/10000 [00:46<15:19, 10.35it/s]]]\n",
      "batch=20:   1%|          | 111/10000 [00:11<34:47,  4.74it/s]] \n",
      "batch=21:   2%|▏         | 193/10000 [00:20<14:45, 11.08it/s]] \n",
      "batch=22:   2%|▏         | 175/10000 [00:19<22:52,  7.16it/s]]\n",
      "batch=14:  15%|█▌        | 1545/10000 [02:17<11:35, 12.15it/s]  \n",
      "batch=19:   4%|▍         | 410/10000 [00:48<27:37,  5.79it/s]]]\n",
      "batch=18:  10%|▉         | 973/10000 [01:21<09:24, 15.99it/s]] \n",
      "batch=17:  85%|████████▍ | 8489/10000 [14:15<01:28, 17.01it/s]] \n",
      "batch=19:  98%|█████████▊| 9783/10000 [15:35<00:19, 11.32it/s]]\n",
      "batch=25:  87%|████████▋ | 8716/10000 [15:01<01:11, 17.99it/s]\n",
      "batch=22:  91%|█████████ | 9085/10000 [15:57<02:15,  6.77it/s]] \n",
      "batch=27:  89%|████████▉ | 8886/10000 [15:04<02:22,  7.80it/s]\n",
      "batch=26:  95%|█████████▌| 9520/10000 [15:34<01:48,  4.42it/s]\n",
      "batch=23: 100%|█████████▉| 9971/10000 [16:06<00:04,  6.68it/s]  \n",
      "batch=26:  99%|█████████▉| 9883/10000 [16:06<00:06, 18.53it/s] \n",
      "batch=31:   6%|▋         | 637/10000 [00:53<22:37,  6.90it/s]]]\n",
      "batch=33:   6%|▋         | 638/10000 [01:10<18:45,  8.32it/s]]]\n",
      "batch=28:  23%|██▎       | 2349/10000 [04:01<21:19,  5.98it/s]  \n",
      "batch=33:  10%|▉         | 971/10000 [01:41<07:59, 18.84it/s]]]\n",
      "batch=36:  10%|█         | 1025/10000 [01:24<13:51, 10.79it/s]  \n",
      "batch=29:  18%|█▊        | 1755/10000 [02:55<22:50,  6.02it/s]\n",
      "batch=40:   8%|▊         | 792/10000 [01:13<21:56,  6.99it/s]]  "
     ]
    }
   ],
   "source": [
    "jbl.Parallel(n_jobs=14)(jbl.delayed(to_sparse_batch)(i) for i in range(42))"
   ]
  },
  {
   "cell_type": "code",
   "execution_count": 5,
   "id": "291db140-7b03-4f1a-ac25-9e9359d50d3e",
   "metadata": {},
   "outputs": [
    {
     "name": "stderr",
     "output_type": "stream",
     "text": [
      "100%|███████████████████████████████████████████| 42/42 [01:18<00:00,  1.86s/it]\n"
     ]
    }
   ],
   "source": [
    "combinations_matrix = sp.vstack(\n",
    "    [\n",
    "        sp.load_npz(f\"../data/combinations/sparse/{i}/combinations.npz\")\n",
    "        for i in tqdm(range(42))\n",
    "    ]\n",
    ")"
   ]
  },
  {
   "cell_type": "code",
   "execution_count": 7,
   "id": "7b714da3-5c5f-446b-99a3-2460849effba",
   "metadata": {},
   "outputs": [
    {
     "name": "stdout",
     "output_type": "stream",
     "text": [
      "CPU times: user 33min 47s, sys: 11.7 s, total: 33min 59s\n",
      "Wall time: 34min 4s\n"
     ]
    }
   ],
   "source": [
    "%%time\n",
    "sp.save_npz(\"../data/combinations/matrix.npz\", combinations_matrix)"
   ]
  },
  {
   "cell_type": "code",
   "execution_count": 15,
   "id": "76d523c6-73b1-4cbe-8e8d-9514ac132c9b",
   "metadata": {},
   "outputs": [
    {
     "name": "stdout",
     "output_type": "stream",
     "text": [
      "CPU times: user 3min 12s, sys: 2.43 s, total: 3min 14s\n",
      "Wall time: 3min 15s\n"
     ]
    },
    {
     "data": {
      "text/plain": [
       "1"
      ]
     },
     "execution_count": 15,
     "metadata": {},
     "output_type": "execute_result"
    }
   ],
   "source": [
    "%%time\n",
    "combinations_matrix.max(axis=1).max()"
   ]
  },
  {
   "cell_type": "code",
   "execution_count": 16,
   "id": "f4c3f61f-42fb-46a3-b0a9-5264e8157e36",
   "metadata": {},
   "outputs": [
    {
     "name": "stdout",
     "output_type": "stream",
     "text": [
      "CPU times: user 9.56 s, sys: 8.42 s, total: 18 s\n",
      "Wall time: 18 s\n"
     ]
    }
   ],
   "source": [
    "%%time\n",
    "combinations_matrix = combinations_matrix.astype(np.uint8)"
   ]
  },
  {
   "cell_type": "code",
   "execution_count": 19,
   "id": "52281b3c-4109-4fbf-9158-8c04f2c615c7",
   "metadata": {},
   "outputs": [
    {
     "name": "stdout",
     "output_type": "stream",
     "text": [
      "CPU times: user 21min 24s, sys: 9.13 s, total: 21min 33s\n",
      "Wall time: 21min 37s\n"
     ]
    }
   ],
   "source": [
    "%%time\n",
    "sp.save_npz(\"../data/combinations/matrix-uint8.npz\", combinations_matrix)"
   ]
  },
  {
   "cell_type": "code",
   "execution_count": 20,
   "id": "5d585c0e-a105-487f-833a-ea8fb1862e95",
   "metadata": {},
   "outputs": [],
   "source": [
    "from sklearn.feature_extraction.text import TfidfTransformer"
   ]
  },
  {
   "cell_type": "code",
   "execution_count": 21,
   "id": "ce8b6de5-05fa-43ec-ae95-18b7ab4ef4fa",
   "metadata": {},
   "outputs": [],
   "source": [
    "tfidf = TfidfTransformer()"
   ]
  },
  {
   "cell_type": "code",
   "execution_count": 24,
   "id": "e6d3580c-d51e-48b2-831f-49f81557227f",
   "metadata": {},
   "outputs": [
    {
     "name": "stdout",
     "output_type": "stream",
     "text": [
      "CPU times: user 48min 52s, sys: 4min 44s, total: 53min 37s\n",
      "Wall time: 53min 44s\n"
     ]
    }
   ],
   "source": [
    "%%time\n",
    "combinations_tfidf = tfidf.fit_transform(combinations_matrix).astype(np.float32)"
   ]
  },
  {
   "cell_type": "code",
   "execution_count": 27,
   "id": "a15b6f70-331c-4321-821e-3d2e4db2a722",
   "metadata": {},
   "outputs": [
    {
     "name": "stdout",
     "output_type": "stream",
     "text": [
      "CPU times: user 28min 26s, sys: 27.5 s, total: 28min 53s\n",
      "Wall time: 28min 57s\n"
     ]
    }
   ],
   "source": [
    "%%time\n",
    "sp.save_npz(\"../data/combinations/matrix-tfidf.npz\", combinations_tfidf)"
   ]
  },
  {
   "cell_type": "code",
   "execution_count": 2,
   "id": "13f813cc-fdb6-4f1e-82a5-b67b7e9a4670",
   "metadata": {},
   "outputs": [
    {
     "name": "stdout",
     "output_type": "stream",
     "text": [
      "CPU times: user 2min 2s, sys: 14.9 s, total: 2min 17s\n",
      "Wall time: 2min 17s\n"
     ]
    }
   ],
   "source": [
    "%%time\n",
    "combinations_tfidf = sp.load_npz(\"../data/combinations/matrix-tfidf.npz\")"
   ]
  },
  {
   "cell_type": "code",
   "execution_count": 3,
   "id": "d4aea09e-a0c5-4f73-b452-c680c4df0513",
   "metadata": {},
   "outputs": [
    {
     "data": {
      "text/plain": [
       "<415317x163791898 sparse matrix of type '<class 'numpy.float32'>'\n",
       "\twith 2259411066 stored elements in Compressed Sparse Row format>"
      ]
     },
     "execution_count": 3,
     "metadata": {},
     "output_type": "execute_result"
    }
   ],
   "source": [
    "combinations_tfidf"
   ]
  },
  {
   "cell_type": "code",
   "execution_count": 4,
   "id": "afd1b4bd-9afb-4a40-a748-752a306ca488",
   "metadata": {},
   "outputs": [],
   "source": [
    "from sklearn.decomposition import TruncatedSVD"
   ]
  },
  {
   "cell_type": "code",
   "execution_count": 5,
   "id": "890dadab-6a27-4597-8399-4a4e4878ccbf",
   "metadata": {},
   "outputs": [],
   "source": [
    "svd = TruncatedSVD(n_components=32, random_state=777)"
   ]
  },
  {
   "cell_type": "code",
   "execution_count": 6,
   "id": "184c8119-dac7-44ff-a38f-1dcaca993e41",
   "metadata": {},
   "outputs": [
    {
     "name": "stdout",
     "output_type": "stream",
     "text": [
      "CPU times: user 3h 59min 57s, sys: 31min 34s, total: 4h 31min 32s\n",
      "Wall time: 3h 31min 17s\n"
     ]
    }
   ],
   "source": [
    "%%time\n",
    "combinations_svd_32 = svd.fit_transform(combinations_tfidf)"
   ]
  },
  {
   "cell_type": "code",
   "execution_count": 10,
   "id": "7b3e1227-00c7-402f-9f66-50a2bd1dea78",
   "metadata": {},
   "outputs": [],
   "source": [
    "np.save(\"../data/combinations/svd-32.npy\", combinations_svd_32)"
   ]
  },
  {
   "cell_type": "code",
   "execution_count": 12,
   "id": "af4c5318-f028-42a3-afef-78d1c24f6ddb",
   "metadata": {},
   "outputs": [
    {
     "data": {
      "text/plain": [
       "(415317, 32)"
      ]
     },
     "execution_count": 12,
     "metadata": {},
     "output_type": "execute_result"
    }
   ],
   "source": [
    "combinations_svd_32.shape"
   ]
  },
  {
   "cell_type": "code",
   "execution_count": 13,
   "id": "ee235ec6-0ef1-4854-8707-f1cf64c14335",
   "metadata": {},
   "outputs": [
    {
     "name": "stderr",
     "output_type": "stream",
     "text": [
      "100%|███████████████████████████████████████████| 42/42 [00:01<00:00, 22.06it/s]\n"
     ]
    }
   ],
   "source": [
    "users = [None] * 415317\n",
    "for i in tqdm(range(42)):\n",
    "    batch_users = jbl.load(f\"../data/combinations/sparse/{i}/users.jbl\")\n",
    "    for user_id, idx in batch_users.items():\n",
    "        users[i * 10_000 + idx] = user_id"
   ]
  },
  {
   "cell_type": "code",
   "execution_count": 20,
   "id": "b6b5174f-98d9-416a-96b1-d58279f58a7c",
   "metadata": {},
   "outputs": [],
   "source": [
    "embs = pd.DataFrame()\n",
    "embs[\"user_id\"] = users\n",
    "embs[\"url_combinations_svd_embeddings\"] = pd.DataFrame(combinations_svd_32).to_numpy(np.float32).tolist()"
   ]
  },
  {
   "cell_type": "code",
   "execution_count": 23,
   "id": "681e1940-d9f3-4890-8f90-04c5ce2854ae",
   "metadata": {},
   "outputs": [],
   "source": [
    "e =(\n",
    "    pl.from_pandas(embs)\n",
    "    .select(\n",
    "        [\n",
    "            pl.col(\"user_id\").cast(pl.UInt32),\n",
    "            pl.col(\"url_combinations_svd_embeddings\").cast(pl.List(pl.Float32))\n",
    "        ]\n",
    "    )\n",
    ")"
   ]
  },
  {
   "cell_type": "code",
   "execution_count": 25,
   "id": "7e9ea89c-6ae6-4e27-a9ed-78dfa9b14825",
   "metadata": {},
   "outputs": [],
   "source": [
    "e.write_parquet(\"../data/features/svd-32.pq\")"
   ]
  },
  {
   "cell_type": "code",
   "execution_count": null,
   "id": "58b25770-ee34-4227-b43b-9f0cc2e52ebb",
   "metadata": {},
   "outputs": [],
   "source": []
  }
 ],
 "metadata": {
  "kernelspec": {
   "display_name": "Python (mts-ml-cup)",
   "language": "python",
   "name": "mts-ml-cup"
  },
  "language_info": {
   "codemirror_mode": {
    "name": "ipython",
    "version": 3
   },
   "file_extension": ".py",
   "mimetype": "text/x-python",
   "name": "python",
   "nbconvert_exporter": "python",
   "pygments_lexer": "ipython3",
   "version": "3.8.10"
  }
 },
 "nbformat": 4,
 "nbformat_minor": 5
}
