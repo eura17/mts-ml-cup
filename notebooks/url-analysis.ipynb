{
 "cells": [
  {
   "cell_type": "code",
   "execution_count": 57,
   "id": "8d9dbd41-ae9d-4f7c-815b-452361f8cbe2",
   "metadata": {},
   "outputs": [],
   "source": [
    "from __future__ import annotations\n",
    "\n",
    "import functools as ft\n",
    "\n",
    "import pandas as pd"
   ]
  },
  {
   "cell_type": "code",
   "execution_count": 42,
   "id": "65e6fd6a-d835-49ca-b181-0c423cdc00cf",
   "metadata": {},
   "outputs": [],
   "source": [
    "urls = pd.read_csv(\"../data/processed/urls.csv\", index_col=0).dropna().reset_index(drop=True)"
   ]
  },
  {
   "cell_type": "code",
   "execution_count": 43,
   "id": "30944829-cc01-4d3d-843a-ded0345a7b0e",
   "metadata": {},
   "outputs": [],
   "source": [
    "def decode_url(url: str) -> str:\n",
    "    try:\n",
    "        return bytearray(url, \"utf-8\").decode(\"idna\")\n",
    "    except Exception:\n",
    "        return url\n",
    "    \n",
    "    \n",
    "urls[\"url\"] = urls[\"url_host\"].apply(decode_url)\n",
    "urls_ = urls[[\"url\"]].drop_duplicates().reset_index(drop=True)"
   ]
  },
  {
   "cell_type": "code",
   "execution_count": 44,
   "id": "d57e3ab6-6383-4c67-a4c2-49b758d1c268",
   "metadata": {},
   "outputs": [],
   "source": [
    "def split_domains(url: str) -> list[str]:\n",
    "    try:\n",
    "        return url.split(\".\")\n",
    "    except Exception:\n",
    "        return url\n",
    "\n",
    "\n",
    "urls_[\"domains\"] = urls_[\"url\"].apply(split_domains)"
   ]
  },
  {
   "cell_type": "code",
   "execution_count": 52,
   "id": "503a0370-e55d-4c41-835f-1c77f1b35644",
   "metadata": {},
   "outputs": [
    {
     "data": {
      "text/plain": [
       "2    122326\n",
       "3     74804\n",
       "4      1751\n",
       "1       490\n",
       "5       152\n",
       "6         2\n",
       "7         1\n",
       "Name: domains, dtype: int64"
      ]
     },
     "execution_count": 52,
     "metadata": {},
     "output_type": "execute_result"
    }
   ],
   "source": [
    "urls_[\"domains\"].apply(len).value_counts()"
   ]
  },
  {
   "cell_type": "code",
   "execution_count": 53,
   "id": "bc8383a4-0262-4a64-9091-3136b9e8941e",
   "metadata": {},
   "outputs": [
    {
     "data": {
      "text/html": [
       "<div>\n",
       "<style scoped>\n",
       "    .dataframe tbody tr th:only-of-type {\n",
       "        vertical-align: middle;\n",
       "    }\n",
       "\n",
       "    .dataframe tbody tr th {\n",
       "        vertical-align: top;\n",
       "    }\n",
       "\n",
       "    .dataframe thead th {\n",
       "        text-align: right;\n",
       "    }\n",
       "</style>\n",
       "<table border=\"1\" class=\"dataframe\">\n",
       "  <thead>\n",
       "    <tr style=\"text-align: right;\">\n",
       "      <th></th>\n",
       "      <th>url</th>\n",
       "      <th>domains</th>\n",
       "    </tr>\n",
       "  </thead>\n",
       "  <tbody>\n",
       "    <tr>\n",
       "      <th>4206</th>\n",
       "      <td>wp1.pachka89.13296.spectrum.myjino.ru</td>\n",
       "      <td>[wp1, pachka89, 13296, spectrum, myjino, ru]</td>\n",
       "    </tr>\n",
       "    <tr>\n",
       "      <th>92171</th>\n",
       "      <td>static.familyguy.tinyco.com.s3.amazonaws.com</td>\n",
       "      <td>[static, familyguy, tinyco, com, s3, amazonaws...</td>\n",
       "    </tr>\n",
       "    <tr>\n",
       "      <th>134349</th>\n",
       "      <td>wp1.lexiqq.mzdxp.spectrum.myjino.ru</td>\n",
       "      <td>[wp1, lexiqq, mzdxp, spectrum, myjino, ru]</td>\n",
       "    </tr>\n",
       "  </tbody>\n",
       "</table>\n",
       "</div>"
      ],
      "text/plain": [
       "                                                 url  \\\n",
       "4206           wp1.pachka89.13296.spectrum.myjino.ru   \n",
       "92171   static.familyguy.tinyco.com.s3.amazonaws.com   \n",
       "134349           wp1.lexiqq.mzdxp.spectrum.myjino.ru   \n",
       "\n",
       "                                                  domains  \n",
       "4206         [wp1, pachka89, 13296, spectrum, myjino, ru]  \n",
       "92171   [static, familyguy, tinyco, com, s3, amazonaws...  \n",
       "134349         [wp1, lexiqq, mzdxp, spectrum, myjino, ru]  "
      ]
     },
     "execution_count": 53,
     "metadata": {},
     "output_type": "execute_result"
    }
   ],
   "source": [
    "urls_[urls_[\"domains\"].apply(len) >= 6]"
   ]
  },
  {
   "cell_type": "code",
   "execution_count": 54,
   "id": "8dd7993e-b2a8-4028-8327-66163a66afd1",
   "metadata": {},
   "outputs": [
    {
     "data": {
      "text/plain": [
       "1    0.002456\n",
       "2    0.615539\n",
       "3    0.990447\n",
       "4    0.999223\n",
       "5    0.999985\n",
       "6    0.999995\n",
       "7    1.000000\n",
       "Name: domains, dtype: float64"
      ]
     },
     "execution_count": 54,
     "metadata": {},
     "output_type": "execute_result"
    }
   ],
   "source": [
    "urls_[\"domains\"].apply(len).value_counts(normalize=True).sort_index().cumsum()"
   ]
  },
  {
   "cell_type": "code",
   "execution_count": 71,
   "id": "368dfb37-5020-4acd-86fd-9776d498d585",
   "metadata": {},
   "outputs": [
    {
     "data": {
      "text/plain": [
       "171335"
      ]
     },
     "execution_count": 71,
     "metadata": {},
     "output_type": "execute_result"
    }
   ],
   "source": [
    "urls_[\"domains\"].explode().nunique()"
   ]
  },
  {
   "cell_type": "code",
   "execution_count": 72,
   "id": "fc3ec331-9a93-44db-a3a4-921581e004af",
   "metadata": {},
   "outputs": [
    {
     "data": {
      "text/plain": [
       "171198"
      ]
     },
     "execution_count": 72,
     "metadata": {},
     "output_type": "execute_result"
    }
   ],
   "source": [
    "urls_[\"domains\"].apply(lambda d: d[-4:] if len(d) > 4 else d).explode().nunique()"
   ]
  },
  {
   "cell_type": "code",
   "execution_count": 73,
   "id": "1b0968aa-af0c-4973-9559-5c76d36d9ea2",
   "metadata": {},
   "outputs": [],
   "source": [
    "urls_[\"domain1\"] = urls_[\"domains\"].apply(lambda d: d[-1])\n",
    "urls_[\"domain2\"] = urls_[\"domains\"].apply(lambda d: d[-2] if len(d) > 2 else None)\n",
    "urls_[\"domain3\"] = urls_[\"domains\"].apply(lambda d: d[-3] if len(d) > 3 else None)"
   ]
  },
  {
   "cell_type": "code",
   "execution_count": null,
   "id": "61b2617e-4ee0-4ccf-a08f-641aa28c4acb",
   "metadata": {},
   "outputs": [],
   "source": []
  }
 ],
 "metadata": {
  "kernelspec": {
   "display_name": "Python (mts-ml-cup)",
   "language": "python",
   "name": "mts-ml-cup"
  },
  "language_info": {
   "codemirror_mode": {
    "name": "ipython",
    "version": 3
   },
   "file_extension": ".py",
   "mimetype": "text/x-python",
   "name": "python",
   "nbconvert_exporter": "python",
   "pygments_lexer": "ipython3",
   "version": "3.8.10"
  }
 },
 "nbformat": 4,
 "nbformat_minor": 5
}
