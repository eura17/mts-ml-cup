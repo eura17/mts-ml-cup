{
 "cells": [
  {
   "cell_type": "code",
   "execution_count": 2,
   "id": "d14caed7-743d-4c29-9664-a25329d8ef51",
   "metadata": {},
   "outputs": [],
   "source": [
    "import os\n",
    "import pandas as pd\n",
    "import catboost as cb"
   ]
  },
  {
   "cell_type": "code",
   "execution_count": 4,
   "id": "948c02d1-b59d-4f1f-ae7d-126e8d417e59",
   "metadata": {},
   "outputs": [],
   "source": [
    "train = pd.read_parquet(\"../data/processed/train-users.pq\")\n",
    "test = pd.read_parquet(\"../data/processed/test-users.pq\")"
   ]
  },
  {
   "cell_type": "code",
   "execution_count": 21,
   "id": "d548f850-faf0-44d2-bf77-1cc8992e8baa",
   "metadata": {},
   "outputs": [],
   "source": [
    "def join_features(dataset: pd.DataFrame) -> pd.DataFrame:\n",
    "    for feat_type in os.listdir(\"../data/features\"):\n",
    "        for features_file in os.listdir(f\"../data/features/{feat_type}\"):\n",
    "            if not features_file.endswith(\".pq\"):\n",
    "                continue\n",
    "            \n",
    "            features = pd.read_parquet(f\"../data/features/{feat_type}/{features_file}\")\n",
    "            dataset = dataset.merge(features, how=\"left\", on=\"user_id\")\n",
    "    return dataset"
   ]
  },
  {
   "cell_type": "code",
   "execution_count": 31,
   "id": "cd5b7836-da48-4452-8853-291ff09ebce3",
   "metadata": {},
   "outputs": [],
   "source": [
    "train_sex = join_features(train.loc[train[\"is_male\"].notnull(), [\"user_id\", \"is_male\"]])"
   ]
  },
  {
   "cell_type": "code",
   "execution_count": 32,
   "id": "44a41011-2b82-4909-9d5e-fbc69156d124",
   "metadata": {},
   "outputs": [],
   "source": [
    "train_age = join_features(train.loc[train[\"age_bucket\"] > 0, [\"user_id\", \"age_bucket\"]])"
   ]
  },
  {
   "cell_type": "code",
   "execution_count": 30,
   "id": "bc20c560-33f9-483b-9c0c-c83aae7e062c",
   "metadata": {},
   "outputs": [],
   "source": [
    "from sklearn.model_selection import train_test_split, KFold"
   ]
  },
  {
   "cell_type": "code",
   "execution_count": 35,
   "id": "20d55acc-4206-45e2-99d0-7441614c0ff4",
   "metadata": {},
   "outputs": [],
   "source": [
    "COLS_TO_DROP_SEX = [\"user_id\", \"is_male\"]\n",
    "COLS_TO_DROP_AGE = [\"user_id\", \"age_bucket\"]\n",
    "\n",
    "CAT_FEATURES = [\n",
    "    \"top_city\",\n",
    "    \"top_region\",\n",
    "    \"device_manufacturer\",\n",
    "    \"device_model\",\n",
    "    \"top_part_of_day\",\n",
    "]"
   ]
  },
  {
   "cell_type": "code",
   "execution_count": 37,
   "id": "a47ae639-1fe0-48ef-ab26-9fdf222fa8d4",
   "metadata": {},
   "outputs": [],
   "source": [
    "train_sex_pool = cb.Pool(\n",
    "    train_sex.drop(columns=COLS_TO_DROP_SEX),\n",
    "    label=train_sex[\"is_male\"],\n",
    "    cat_features=CAT_FEATURES,\n",
    ")\n",
    "train_age_pool = cb.Pool(\n",
    "    train_age.drop(columns=COLS_TO_DROP_AGE),\n",
    "    label=train_age[\"age_bucket\"],\n",
    "    cat_features=CAT_FEATURES,\n",
    ")"
   ]
  },
  {
   "cell_type": "code",
   "execution_count": 40,
   "id": "a9deea70-b606-4dce-9f6a-84f846829296",
   "metadata": {},
   "outputs": [
    {
     "name": "stdout",
     "output_type": "stream",
     "text": [
      "Training on fold [0/5]\n",
      "0:\tlearn: 0.6922338\ttest: 0.6922108\tbest: 0.6922108 (0)\ttotal: 79.8ms\tremaining: 6m 38s\n",
      "50:\tlearn: 0.6727733\ttest: 0.6725706\tbest: 0.6725706 (50)\ttotal: 3.04s\tremaining: 4m 55s\n",
      "100:\tlearn: 0.6674852\ttest: 0.6677005\tbest: 0.6677005 (100)\ttotal: 6.75s\tremaining: 5m 27s\n",
      "150:\tlearn: 0.6645223\ttest: 0.6652338\tbest: 0.6652338 (150)\ttotal: 9.98s\tremaining: 5m 20s\n",
      "200:\tlearn: 0.6626337\ttest: 0.6638376\tbest: 0.6638376 (200)\ttotal: 13.1s\tremaining: 5m 13s\n",
      "250:\tlearn: 0.6610202\ttest: 0.6627709\tbest: 0.6627709 (250)\ttotal: 16.2s\tremaining: 5m 7s\n",
      "300:\tlearn: 0.6597841\ttest: 0.6619984\tbest: 0.6619984 (300)\ttotal: 19.4s\tremaining: 5m 3s\n",
      "350:\tlearn: 0.6586928\ttest: 0.6613511\tbest: 0.6613511 (350)\ttotal: 22.5s\tremaining: 4m 58s\n",
      "400:\tlearn: 0.6575671\ttest: 0.6606992\tbest: 0.6606992 (400)\ttotal: 25.7s\tremaining: 4m 54s\n",
      "450:\tlearn: 0.6564233\ttest: 0.6601690\tbest: 0.6601690 (450)\ttotal: 28.8s\tremaining: 4m 50s\n",
      "500:\tlearn: 0.6552016\ttest: 0.6595876\tbest: 0.6595876 (500)\ttotal: 31.8s\tremaining: 4m 45s\n",
      "550:\tlearn: 0.6540377\ttest: 0.6590969\tbest: 0.6590969 (550)\ttotal: 34.9s\tremaining: 4m 41s\n",
      "600:\tlearn: 0.6529871\ttest: 0.6587131\tbest: 0.6587131 (600)\ttotal: 37.8s\tremaining: 4m 37s\n",
      "650:\tlearn: 0.6519885\ttest: 0.6583922\tbest: 0.6583922 (650)\ttotal: 41s\tremaining: 4m 33s\n",
      "700:\tlearn: 0.6510033\ttest: 0.6580512\tbest: 0.6580505 (699)\ttotal: 44.2s\tremaining: 4m 31s\n",
      "750:\tlearn: 0.6500956\ttest: 0.6577484\tbest: 0.6577484 (750)\ttotal: 47.3s\tremaining: 4m 27s\n",
      "800:\tlearn: 0.6492936\ttest: 0.6575167\tbest: 0.6575167 (800)\ttotal: 50.5s\tremaining: 4m 24s\n",
      "850:\tlearn: 0.6484824\ttest: 0.6572407\tbest: 0.6572407 (850)\ttotal: 53.6s\tremaining: 4m 21s\n",
      "900:\tlearn: 0.6476873\ttest: 0.6570323\tbest: 0.6570323 (900)\ttotal: 56.7s\tremaining: 4m 17s\n",
      "950:\tlearn: 0.6469104\ttest: 0.6568767\tbest: 0.6568767 (950)\ttotal: 59.8s\tremaining: 4m 14s\n",
      "1000:\tlearn: 0.6462265\ttest: 0.6567452\tbest: 0.6567452 (1000)\ttotal: 1m 2s\tremaining: 4m 11s\n",
      "1050:\tlearn: 0.6455161\ttest: 0.6566237\tbest: 0.6566237 (1050)\ttotal: 1m 6s\tremaining: 4m 8s\n",
      "1100:\tlearn: 0.6447924\ttest: 0.6564990\tbest: 0.6564990 (1100)\ttotal: 1m 9s\tremaining: 4m 4s\n",
      "1150:\tlearn: 0.6440907\ttest: 0.6563491\tbest: 0.6563491 (1150)\ttotal: 1m 12s\tremaining: 4m 1s\n",
      "1200:\tlearn: 0.6434421\ttest: 0.6562308\tbest: 0.6562308 (1200)\ttotal: 1m 15s\tremaining: 3m 58s\n",
      "1250:\tlearn: 0.6427902\ttest: 0.6561175\tbest: 0.6561175 (1250)\ttotal: 1m 18s\tremaining: 3m 55s\n",
      "1300:\tlearn: 0.6421247\ttest: 0.6560209\tbest: 0.6560209 (1300)\ttotal: 1m 21s\tremaining: 3m 52s\n",
      "1350:\tlearn: 0.6415008\ttest: 0.6559191\tbest: 0.6559191 (1350)\ttotal: 1m 25s\tremaining: 3m 49s\n",
      "1400:\tlearn: 0.6409154\ttest: 0.6558283\tbest: 0.6558283 (1400)\ttotal: 1m 28s\tremaining: 3m 46s\n",
      "1450:\tlearn: 0.6402914\ttest: 0.6557230\tbest: 0.6557196 (1448)\ttotal: 1m 31s\tremaining: 3m 43s\n",
      "1500:\tlearn: 0.6396822\ttest: 0.6556490\tbest: 0.6556414 (1496)\ttotal: 1m 34s\tremaining: 3m 41s\n",
      "1550:\tlearn: 0.6390757\ttest: 0.6555705\tbest: 0.6555679 (1548)\ttotal: 1m 38s\tremaining: 3m 38s\n",
      "1600:\tlearn: 0.6385549\ttest: 0.6555055\tbest: 0.6555031 (1594)\ttotal: 1m 41s\tremaining: 3m 35s\n",
      "1650:\tlearn: 0.6379385\ttest: 0.6554512\tbest: 0.6554499 (1649)\ttotal: 1m 44s\tremaining: 3m 32s\n",
      "1700:\tlearn: 0.6373218\ttest: 0.6553489\tbest: 0.6553489 (1700)\ttotal: 1m 47s\tremaining: 3m 28s\n",
      "1750:\tlearn: 0.6367555\ttest: 0.6552823\tbest: 0.6552823 (1750)\ttotal: 1m 50s\tremaining: 3m 25s\n",
      "1800:\tlearn: 0.6361718\ttest: 0.6552094\tbest: 0.6552094 (1800)\ttotal: 1m 54s\tremaining: 3m 22s\n",
      "\n",
      "bestTest = 0.6551844449\n",
      "bestIteration = 1804\n",
      "\n",
      "Training on fold [1/5]\n",
      "0:\tlearn: 0.6922100\ttest: 0.6921616\tbest: 0.6921616 (0)\ttotal: 84.6ms\tremaining: 7m 2s\n",
      "50:\tlearn: 0.6729052\ttest: 0.6721593\tbest: 0.6721593 (50)\ttotal: 3.11s\tremaining: 5m 2s\n",
      "100:\tlearn: 0.6676922\ttest: 0.6670185\tbest: 0.6670185 (100)\ttotal: 6.33s\tremaining: 5m 6s\n",
      "150:\tlearn: 0.6647850\ttest: 0.6643833\tbest: 0.6643833 (150)\ttotal: 9.55s\tremaining: 5m 6s\n",
      "200:\tlearn: 0.6628695\ttest: 0.6628128\tbest: 0.6628128 (200)\ttotal: 12.7s\tremaining: 5m 3s\n",
      "250:\tlearn: 0.6613586\ttest: 0.6616804\tbest: 0.6616804 (250)\ttotal: 16s\tremaining: 5m 2s\n",
      "300:\tlearn: 0.6601253\ttest: 0.6608238\tbest: 0.6608238 (300)\ttotal: 19.2s\tremaining: 5m\n",
      "350:\tlearn: 0.6589947\ttest: 0.6600798\tbest: 0.6600798 (350)\ttotal: 22.4s\tremaining: 4m 56s\n",
      "400:\tlearn: 0.6578937\ttest: 0.6594432\tbest: 0.6594432 (400)\ttotal: 25.5s\tremaining: 4m 52s\n",
      "450:\tlearn: 0.6567528\ttest: 0.6588165\tbest: 0.6588165 (450)\ttotal: 28.5s\tremaining: 4m 47s\n",
      "500:\tlearn: 0.6555080\ttest: 0.6582145\tbest: 0.6582145 (500)\ttotal: 31.6s\tremaining: 4m 43s\n",
      "550:\tlearn: 0.6544314\ttest: 0.6577253\tbest: 0.6577253 (550)\ttotal: 34.8s\tremaining: 4m 40s\n",
      "600:\tlearn: 0.6533441\ttest: 0.6572618\tbest: 0.6572618 (600)\ttotal: 37.9s\tremaining: 4m 37s\n",
      "650:\tlearn: 0.6523596\ttest: 0.6569448\tbest: 0.6569448 (650)\ttotal: 41.1s\tremaining: 4m 34s\n",
      "700:\tlearn: 0.6514513\ttest: 0.6566397\tbest: 0.6566397 (700)\ttotal: 44.3s\tremaining: 4m 31s\n",
      "750:\tlearn: 0.6505588\ttest: 0.6563508\tbest: 0.6563508 (750)\ttotal: 47.5s\tremaining: 4m 29s\n",
      "800:\tlearn: 0.6497628\ttest: 0.6561003\tbest: 0.6561003 (800)\ttotal: 50.9s\tremaining: 4m 27s\n",
      "850:\tlearn: 0.6489264\ttest: 0.6558778\tbest: 0.6558778 (850)\ttotal: 54.2s\tremaining: 4m 24s\n",
      "900:\tlearn: 0.6481463\ttest: 0.6556827\tbest: 0.6556819 (899)\ttotal: 57.4s\tremaining: 4m 21s\n",
      "950:\tlearn: 0.6474355\ttest: 0.6555116\tbest: 0.6555116 (950)\ttotal: 1m\tremaining: 4m 18s\n",
      "1000:\tlearn: 0.6466885\ttest: 0.6553401\tbest: 0.6553401 (1000)\ttotal: 1m 3s\tremaining: 4m 15s\n",
      "1050:\tlearn: 0.6459177\ttest: 0.6551738\tbest: 0.6551738 (1050)\ttotal: 1m 7s\tremaining: 4m 11s\n",
      "1100:\tlearn: 0.6452386\ttest: 0.6550652\tbest: 0.6550652 (1100)\ttotal: 1m 10s\tremaining: 4m 8s\n",
      "1150:\tlearn: 0.6445662\ttest: 0.6549337\tbest: 0.6549337 (1150)\ttotal: 1m 13s\tremaining: 4m 6s\n",
      "1200:\tlearn: 0.6438669\ttest: 0.6547627\tbest: 0.6547608 (1199)\ttotal: 1m 16s\tremaining: 4m 3s\n",
      "1250:\tlearn: 0.6431620\ttest: 0.6546536\tbest: 0.6546536 (1250)\ttotal: 1m 20s\tremaining: 4m\n",
      "1300:\tlearn: 0.6425908\ttest: 0.6545612\tbest: 0.6545588 (1298)\ttotal: 1m 23s\tremaining: 3m 57s\n",
      "1350:\tlearn: 0.6419590\ttest: 0.6544557\tbest: 0.6544548 (1349)\ttotal: 1m 26s\tremaining: 3m 54s\n",
      "1400:\tlearn: 0.6412885\ttest: 0.6543272\tbest: 0.6543242 (1399)\ttotal: 1m 30s\tremaining: 3m 51s\n",
      "1450:\tlearn: 0.6407236\ttest: 0.6542564\tbest: 0.6542564 (1450)\ttotal: 1m 33s\tremaining: 3m 47s\n",
      "1500:\tlearn: 0.6401177\ttest: 0.6541440\tbest: 0.6541428 (1498)\ttotal: 1m 36s\tremaining: 3m 44s\n",
      "1550:\tlearn: 0.6395147\ttest: 0.6540500\tbest: 0.6540500 (1550)\ttotal: 1m 39s\tremaining: 3m 41s\n",
      "1600:\tlearn: 0.6389619\ttest: 0.6539624\tbest: 0.6539622 (1599)\ttotal: 1m 42s\tremaining: 3m 38s\n",
      "1650:\tlearn: 0.6384236\ttest: 0.6538773\tbest: 0.6538773 (1650)\ttotal: 1m 46s\tremaining: 3m 35s\n",
      "1700:\tlearn: 0.6378379\ttest: 0.6538110\tbest: 0.6538110 (1700)\ttotal: 1m 49s\tremaining: 3m 32s\n",
      "1750:\tlearn: 0.6372647\ttest: 0.6537584\tbest: 0.6537576 (1749)\ttotal: 1m 52s\tremaining: 3m 29s\n",
      "1800:\tlearn: 0.6367007\ttest: 0.6536662\tbest: 0.6536662 (1800)\ttotal: 1m 55s\tremaining: 3m 26s\n",
      "\n",
      "bestTest = 0.6536591658\n",
      "bestIteration = 1807\n",
      "\n",
      "Training on fold [2/5]\n",
      "0:\tlearn: 0.6922221\ttest: 0.6922165\tbest: 0.6922165 (0)\ttotal: 84.1ms\tremaining: 7m\n",
      "50:\tlearn: 0.6726541\ttest: 0.6730424\tbest: 0.6730424 (50)\ttotal: 3.15s\tremaining: 5m 5s\n",
      "100:\tlearn: 0.6673917\ttest: 0.6683197\tbest: 0.6683197 (100)\ttotal: 6.38s\tremaining: 5m 9s\n",
      "150:\tlearn: 0.6644211\ttest: 0.6659422\tbest: 0.6659422 (150)\ttotal: 9.47s\tremaining: 5m 4s\n",
      "200:\tlearn: 0.6623894\ttest: 0.6644411\tbest: 0.6644411 (200)\ttotal: 12.5s\tremaining: 4m 59s\n",
      "250:\tlearn: 0.6608571\ttest: 0.6633794\tbest: 0.6633794 (250)\ttotal: 15.5s\tremaining: 4m 53s\n",
      "300:\tlearn: 0.6595758\ttest: 0.6625821\tbest: 0.6625821 (300)\ttotal: 18.6s\tremaining: 4m 51s\n",
      "350:\tlearn: 0.6584465\ttest: 0.6618678\tbest: 0.6618678 (350)\ttotal: 21.8s\tremaining: 4m 48s\n",
      "400:\tlearn: 0.6573738\ttest: 0.6612968\tbest: 0.6612968 (400)\ttotal: 24.9s\tremaining: 4m 46s\n",
      "450:\tlearn: 0.6561418\ttest: 0.6606727\tbest: 0.6606727 (450)\ttotal: 28.1s\tremaining: 4m 43s\n",
      "500:\tlearn: 0.6549232\ttest: 0.6601220\tbest: 0.6601201 (499)\ttotal: 31.2s\tremaining: 4m 40s\n",
      "550:\tlearn: 0.6537395\ttest: 0.6597031\tbest: 0.6597031 (550)\ttotal: 34.4s\tremaining: 4m 37s\n",
      "600:\tlearn: 0.6526270\ttest: 0.6593182\tbest: 0.6593182 (600)\ttotal: 37.4s\tremaining: 4m 33s\n",
      "650:\tlearn: 0.6516711\ttest: 0.6589833\tbest: 0.6589833 (650)\ttotal: 40.7s\tremaining: 4m 31s\n",
      "700:\tlearn: 0.6507388\ttest: 0.6587290\tbest: 0.6587290 (700)\ttotal: 43.8s\tremaining: 4m 28s\n",
      "750:\tlearn: 0.6498268\ttest: 0.6585003\tbest: 0.6585003 (750)\ttotal: 47.1s\tremaining: 4m 26s\n",
      "800:\tlearn: 0.6490688\ttest: 0.6582909\tbest: 0.6582905 (799)\ttotal: 50.4s\tremaining: 4m 24s\n",
      "850:\tlearn: 0.6482844\ttest: 0.6580608\tbest: 0.6580608 (850)\ttotal: 53.7s\tremaining: 4m 21s\n",
      "900:\tlearn: 0.6475401\ttest: 0.6578598\tbest: 0.6578598 (900)\ttotal: 56.8s\tremaining: 4m 18s\n",
      "950:\tlearn: 0.6467457\ttest: 0.6577006\tbest: 0.6577006 (950)\ttotal: 59.9s\tremaining: 4m 15s\n",
      "1000:\tlearn: 0.6460191\ttest: 0.6575443\tbest: 0.6575443 (1000)\ttotal: 1m 3s\tremaining: 4m 12s\n",
      "1050:\tlearn: 0.6453585\ttest: 0.6573994\tbest: 0.6573994 (1050)\ttotal: 1m 6s\tremaining: 4m 9s\n",
      "1100:\tlearn: 0.6447261\ttest: 0.6572562\tbest: 0.6572562 (1100)\ttotal: 1m 9s\tremaining: 4m 7s\n",
      "1150:\tlearn: 0.6440254\ttest: 0.6571114\tbest: 0.6571114 (1150)\ttotal: 1m 13s\tremaining: 4m 4s\n",
      "1200:\tlearn: 0.6433942\ttest: 0.6569976\tbest: 0.6569976 (1198)\ttotal: 1m 16s\tremaining: 4m 1s\n",
      "1250:\tlearn: 0.6428255\ttest: 0.6568786\tbest: 0.6568786 (1250)\ttotal: 1m 19s\tremaining: 3m 58s\n",
      "1300:\tlearn: 0.6421726\ttest: 0.6567441\tbest: 0.6567441 (1300)\ttotal: 1m 22s\tremaining: 3m 55s\n",
      "1350:\tlearn: 0.6415503\ttest: 0.6566281\tbest: 0.6566281 (1350)\ttotal: 1m 26s\tremaining: 3m 53s\n",
      "1400:\tlearn: 0.6408395\ttest: 0.6564961\tbest: 0.6564961 (1400)\ttotal: 1m 29s\tremaining: 3m 50s\n",
      "1450:\tlearn: 0.6402135\ttest: 0.6564115\tbest: 0.6564115 (1450)\ttotal: 1m 32s\tremaining: 3m 47s\n",
      "1500:\tlearn: 0.6396173\ttest: 0.6563427\tbest: 0.6563427 (1500)\ttotal: 1m 36s\tremaining: 3m 44s\n",
      "1550:\tlearn: 0.6390515\ttest: 0.6562432\tbest: 0.6562432 (1550)\ttotal: 1m 39s\tremaining: 3m 41s\n",
      "1600:\tlearn: 0.6384953\ttest: 0.6561737\tbest: 0.6561737 (1600)\ttotal: 1m 42s\tremaining: 3m 38s\n",
      "1650:\tlearn: 0.6378938\ttest: 0.6560899\tbest: 0.6560888 (1647)\ttotal: 1m 46s\tremaining: 3m 35s\n",
      "1700:\tlearn: 0.6373357\ttest: 0.6560103\tbest: 0.6560103 (1700)\ttotal: 1m 49s\tremaining: 3m 32s\n",
      "1750:\tlearn: 0.6367722\ttest: 0.6559670\tbest: 0.6559624 (1745)\ttotal: 1m 52s\tremaining: 3m 29s\n",
      "1800:\tlearn: 0.6362133\ttest: 0.6559032\tbest: 0.6558984 (1799)\ttotal: 1m 56s\tremaining: 3m 26s\n",
      "1850:\tlearn: 0.6356579\ttest: 0.6558611\tbest: 0.6558611 (1850)\ttotal: 1m 59s\tremaining: 3m 22s\n",
      "1900:\tlearn: 0.6351545\ttest: 0.6558047\tbest: 0.6558030 (1898)\ttotal: 2m 2s\tremaining: 3m 19s\n",
      "1950:\tlearn: 0.6346052\ttest: 0.6557300\tbest: 0.6557267 (1949)\ttotal: 2m 5s\tremaining: 3m 16s\n",
      "2000:\tlearn: 0.6340149\ttest: 0.6556629\tbest: 0.6556609 (1997)\ttotal: 2m 9s\tremaining: 3m 13s\n",
      "2050:\tlearn: 0.6334656\ttest: 0.6556269\tbest: 0.6556266 (2046)\ttotal: 2m 12s\tremaining: 3m 10s\n",
      "2100:\tlearn: 0.6329061\ttest: 0.6555766\tbest: 0.6555766 (2100)\ttotal: 2m 15s\tremaining: 3m 7s\n",
      "2150:\tlearn: 0.6323882\ttest: 0.6555177\tbest: 0.6555177 (2150)\ttotal: 2m 18s\tremaining: 3m 4s\n",
      "2200:\tlearn: 0.6318680\ttest: 0.6554870\tbest: 0.6554848 (2194)\ttotal: 2m 22s\tremaining: 3m\n",
      "2250:\tlearn: 0.6313972\ttest: 0.6554230\tbest: 0.6554230 (2250)\ttotal: 2m 25s\tremaining: 2m 57s\n",
      "2300:\tlearn: 0.6308694\ttest: 0.6553814\tbest: 0.6553814 (2300)\ttotal: 2m 28s\tremaining: 2m 54s\n",
      "2350:\tlearn: 0.6304085\ttest: 0.6553776\tbest: 0.6553672 (2332)\ttotal: 2m 31s\tremaining: 2m 51s\n",
      "\n",
      "bestTest = 0.6553672062\n",
      "bestIteration = 2332\n",
      "\n",
      "Training on fold [3/5]\n",
      "0:\tlearn: 0.6921629\ttest: 0.6922068\tbest: 0.6922068 (0)\ttotal: 76.6ms\tremaining: 6m 22s\n",
      "50:\tlearn: 0.6724406\ttest: 0.6728599\tbest: 0.6728599 (50)\ttotal: 2.94s\tremaining: 4m 45s\n",
      "100:\tlearn: 0.6672011\ttest: 0.6680311\tbest: 0.6680311 (100)\ttotal: 6.13s\tremaining: 4m 57s\n",
      "150:\tlearn: 0.6644388\ttest: 0.6657744\tbest: 0.6657744 (150)\ttotal: 9.43s\tremaining: 5m 2s\n",
      "200:\tlearn: 0.6624833\ttest: 0.6643087\tbest: 0.6643087 (200)\ttotal: 12.7s\tremaining: 5m 3s\n",
      "250:\tlearn: 0.6609149\ttest: 0.6632330\tbest: 0.6632330 (250)\ttotal: 15.8s\tremaining: 4m 58s\n",
      "300:\tlearn: 0.6596118\ttest: 0.6624232\tbest: 0.6624232 (300)\ttotal: 18.9s\tremaining: 4m 55s\n",
      "350:\tlearn: 0.6584678\ttest: 0.6617627\tbest: 0.6617627 (350)\ttotal: 22.1s\tremaining: 4m 53s\n",
      "400:\tlearn: 0.6572878\ttest: 0.6611086\tbest: 0.6611086 (400)\ttotal: 26.5s\tremaining: 5m 4s\n",
      "450:\tlearn: 0.6560782\ttest: 0.6604732\tbest: 0.6604732 (450)\ttotal: 29.6s\tremaining: 4m 58s\n",
      "500:\tlearn: 0.6548625\ttest: 0.6599990\tbest: 0.6599990 (500)\ttotal: 32.7s\tremaining: 4m 53s\n",
      "550:\tlearn: 0.6537133\ttest: 0.6595196\tbest: 0.6595196 (550)\ttotal: 35.8s\tremaining: 4m 48s\n",
      "600:\tlearn: 0.6526745\ttest: 0.6591594\tbest: 0.6591594 (600)\ttotal: 38.9s\tremaining: 4m 45s\n",
      "650:\tlearn: 0.6517203\ttest: 0.6588272\tbest: 0.6588272 (650)\ttotal: 42.1s\tremaining: 4m 41s\n",
      "700:\tlearn: 0.6508811\ttest: 0.6585613\tbest: 0.6585613 (700)\ttotal: 45.4s\tremaining: 4m 38s\n",
      "750:\tlearn: 0.6499547\ttest: 0.6582398\tbest: 0.6582398 (750)\ttotal: 48.5s\tremaining: 4m 34s\n",
      "800:\tlearn: 0.6491470\ttest: 0.6580084\tbest: 0.6580084 (800)\ttotal: 51.8s\tremaining: 4m 31s\n",
      "850:\tlearn: 0.6483196\ttest: 0.6577547\tbest: 0.6577547 (850)\ttotal: 55s\tremaining: 4m 28s\n",
      "900:\tlearn: 0.6475617\ttest: 0.6575909\tbest: 0.6575909 (900)\ttotal: 58.3s\tremaining: 4m 25s\n",
      "950:\tlearn: 0.6468093\ttest: 0.6574503\tbest: 0.6574503 (950)\ttotal: 1m 1s\tremaining: 4m 22s\n",
      "1000:\tlearn: 0.6460686\ttest: 0.6572690\tbest: 0.6572690 (1000)\ttotal: 1m 4s\tremaining: 4m 18s\n",
      "1050:\tlearn: 0.6453424\ttest: 0.6571185\tbest: 0.6571185 (1050)\ttotal: 1m 8s\tremaining: 4m 15s\n",
      "1100:\tlearn: 0.6446398\ttest: 0.6569838\tbest: 0.6569838 (1100)\ttotal: 1m 11s\tremaining: 4m 12s\n",
      "1150:\tlearn: 0.6439360\ttest: 0.6569113\tbest: 0.6569113 (1150)\ttotal: 1m 14s\tremaining: 4m 8s\n",
      "1200:\tlearn: 0.6432596\ttest: 0.6567859\tbest: 0.6567859 (1200)\ttotal: 1m 17s\tremaining: 4m 5s\n",
      "1250:\tlearn: 0.6425912\ttest: 0.6566682\tbest: 0.6566637 (1249)\ttotal: 1m 20s\tremaining: 4m 2s\n",
      "1300:\tlearn: 0.6419223\ttest: 0.6565619\tbest: 0.6565619 (1300)\ttotal: 1m 24s\tremaining: 3m 59s\n",
      "1350:\tlearn: 0.6412716\ttest: 0.6564545\tbest: 0.6564545 (1350)\ttotal: 1m 27s\tremaining: 3m 55s\n",
      "1400:\tlearn: 0.6406331\ttest: 0.6563517\tbest: 0.6563443 (1396)\ttotal: 1m 30s\tremaining: 3m 52s\n",
      "1450:\tlearn: 0.6400334\ttest: 0.6562461\tbest: 0.6562457 (1446)\ttotal: 1m 33s\tremaining: 3m 48s\n",
      "1500:\tlearn: 0.6394272\ttest: 0.6561586\tbest: 0.6561576 (1499)\ttotal: 1m 36s\tremaining: 3m 45s\n",
      "1550:\tlearn: 0.6388434\ttest: 0.6560719\tbest: 0.6560719 (1550)\ttotal: 1m 40s\tremaining: 3m 42s\n",
      "1600:\tlearn: 0.6382608\ttest: 0.6559819\tbest: 0.6559819 (1600)\ttotal: 1m 43s\tremaining: 3m 39s\n",
      "1650:\tlearn: 0.6377047\ttest: 0.6559250\tbest: 0.6559221 (1649)\ttotal: 1m 46s\tremaining: 3m 35s\n",
      "1700:\tlearn: 0.6371278\ttest: 0.6558408\tbest: 0.6558408 (1700)\ttotal: 1m 49s\tremaining: 3m 32s\n",
      "1750:\tlearn: 0.6365639\ttest: 0.6557868\tbest: 0.6557856 (1741)\ttotal: 1m 53s\tremaining: 3m 31s\n",
      "1800:\tlearn: 0.6359664\ttest: 0.6557093\tbest: 0.6557093 (1800)\ttotal: 1m 56s\tremaining: 3m 27s\n",
      "1850:\tlearn: 0.6353856\ttest: 0.6556445\tbest: 0.6556445 (1850)\ttotal: 2m\tremaining: 3m 24s\n",
      "\n",
      "bestTest = 0.6555907396\n",
      "bestIteration = 1874\n",
      "\n",
      "Training on fold [4/5]\n",
      "0:\tlearn: 0.6922275\ttest: 0.6922547\tbest: 0.6922547 (0)\ttotal: 81.7ms\tremaining: 6m 48s\n",
      "50:\tlearn: 0.6727724\ttest: 0.6730666\tbest: 0.6730666 (50)\ttotal: 3.18s\tremaining: 5m 8s\n",
      "100:\tlearn: 0.6674355\ttest: 0.6679031\tbest: 0.6679031 (100)\ttotal: 6.38s\tremaining: 5m 9s\n",
      "150:\tlearn: 0.6645450\ttest: 0.6653949\tbest: 0.6653949 (150)\ttotal: 9.65s\tremaining: 5m 9s\n",
      "200:\tlearn: 0.6625096\ttest: 0.6638054\tbest: 0.6638054 (200)\ttotal: 12.9s\tremaining: 5m 9s\n",
      "250:\tlearn: 0.6609382\ttest: 0.6627297\tbest: 0.6627297 (250)\ttotal: 16.2s\tremaining: 5m 5s\n",
      "300:\tlearn: 0.6596732\ttest: 0.6619458\tbest: 0.6619458 (300)\ttotal: 19.5s\tremaining: 5m 4s\n",
      "350:\tlearn: 0.6584629\ttest: 0.6612459\tbest: 0.6612459 (350)\ttotal: 22.8s\tremaining: 5m 1s\n",
      "400:\tlearn: 0.6573289\ttest: 0.6607069\tbest: 0.6607069 (400)\ttotal: 25.8s\tremaining: 4m 56s\n",
      "450:\tlearn: 0.6561475\ttest: 0.6601415\tbest: 0.6601415 (450)\ttotal: 29s\tremaining: 4m 52s\n",
      "500:\tlearn: 0.6549342\ttest: 0.6596477\tbest: 0.6596477 (500)\ttotal: 32.1s\tremaining: 4m 47s\n",
      "550:\tlearn: 0.6538326\ttest: 0.6592185\tbest: 0.6592185 (550)\ttotal: 35.2s\tremaining: 4m 44s\n",
      "600:\tlearn: 0.6527935\ttest: 0.6588760\tbest: 0.6588760 (600)\ttotal: 38.4s\tremaining: 4m 40s\n",
      "650:\tlearn: 0.6517656\ttest: 0.6585289\tbest: 0.6585289 (650)\ttotal: 41.4s\tremaining: 4m 36s\n",
      "700:\tlearn: 0.6508802\ttest: 0.6583246\tbest: 0.6583190 (698)\ttotal: 44.6s\tremaining: 4m 33s\n",
      "750:\tlearn: 0.6499953\ttest: 0.6580196\tbest: 0.6580196 (750)\ttotal: 47.9s\tremaining: 4m 31s\n",
      "800:\tlearn: 0.6491335\ttest: 0.6577894\tbest: 0.6577894 (800)\ttotal: 51.2s\tremaining: 4m 28s\n",
      "850:\tlearn: 0.6482949\ttest: 0.6575861\tbest: 0.6575842 (848)\ttotal: 54.4s\tremaining: 4m 25s\n",
      "900:\tlearn: 0.6474907\ttest: 0.6573725\tbest: 0.6573715 (898)\ttotal: 57.8s\tremaining: 4m 22s\n",
      "950:\tlearn: 0.6466866\ttest: 0.6571827\tbest: 0.6571789 (949)\ttotal: 1m\tremaining: 4m 19s\n",
      "1000:\tlearn: 0.6459464\ttest: 0.6570133\tbest: 0.6570127 (999)\ttotal: 1m 4s\tremaining: 4m 16s\n",
      "1050:\tlearn: 0.6452389\ttest: 0.6568653\tbest: 0.6568653 (1050)\ttotal: 1m 7s\tremaining: 4m 13s\n",
      "1100:\tlearn: 0.6445956\ttest: 0.6567559\tbest: 0.6567535 (1095)\ttotal: 1m 10s\tremaining: 4m 10s\n",
      "1150:\tlearn: 0.6439336\ttest: 0.6566206\tbest: 0.6566206 (1150)\ttotal: 1m 13s\tremaining: 4m 7s\n",
      "1200:\tlearn: 0.6432565\ttest: 0.6565208\tbest: 0.6565199 (1199)\ttotal: 1m 17s\tremaining: 4m 4s\n",
      "1250:\tlearn: 0.6425742\ttest: 0.6563623\tbest: 0.6563623 (1250)\ttotal: 1m 20s\tremaining: 4m 1s\n",
      "1300:\tlearn: 0.6419760\ttest: 0.6562356\tbest: 0.6562351 (1299)\ttotal: 1m 23s\tremaining: 3m 57s\n",
      "1350:\tlearn: 0.6413661\ttest: 0.6561497\tbest: 0.6561488 (1349)\ttotal: 1m 26s\tremaining: 3m 54s\n",
      "1400:\tlearn: 0.6407643\ttest: 0.6560542\tbest: 0.6560542 (1400)\ttotal: 1m 30s\tremaining: 3m 51s\n",
      "1450:\tlearn: 0.6401615\ttest: 0.6559179\tbest: 0.6559179 (1450)\ttotal: 1m 33s\tremaining: 3m 48s\n",
      "1500:\tlearn: 0.6395252\ttest: 0.6558275\tbest: 0.6558275 (1500)\ttotal: 1m 36s\tremaining: 3m 45s\n",
      "1550:\tlearn: 0.6389461\ttest: 0.6557379\tbest: 0.6557335 (1546)\ttotal: 1m 39s\tremaining: 3m 42s\n",
      "1600:\tlearn: 0.6383693\ttest: 0.6556576\tbest: 0.6556570 (1599)\ttotal: 1m 43s\tremaining: 3m 39s\n",
      "1650:\tlearn: 0.6378066\ttest: 0.6555700\tbest: 0.6555700 (1650)\ttotal: 1m 46s\tremaining: 3m 36s\n",
      "1700:\tlearn: 0.6372476\ttest: 0.6555074\tbest: 0.6555074 (1700)\ttotal: 1m 49s\tremaining: 3m 33s\n",
      "1750:\tlearn: 0.6366918\ttest: 0.6554651\tbest: 0.6554586 (1744)\ttotal: 1m 53s\tremaining: 3m 29s\n",
      "1800:\tlearn: 0.6361647\ttest: 0.6554007\tbest: 0.6554007 (1800)\ttotal: 1m 56s\tremaining: 3m 26s\n",
      "1850:\tlearn: 0.6356107\ttest: 0.6553390\tbest: 0.6553390 (1850)\ttotal: 1m 59s\tremaining: 3m 23s\n",
      "\n",
      "bestTest = 0.6553390129\n",
      "bestIteration = 1850\n",
      "\n",
      "CPU times: user 4h 52min 6s, sys: 11min 40s, total: 5h 3min 47s\n",
      "Wall time: 10min 32s\n"
     ]
    }
   ],
   "source": [
    "%%time\n",
    "cv_res_sex, cv_models_sex = cb.cv(\n",
    "    pool=train_sex_pool,\n",
    "    params={\n",
    "        \"eval_metric\": \"Logloss\",\n",
    "        \"loss_function\": \"Logloss\",\n",
    "        \"iterations\": 5000,\n",
    "        \"early_stopping_rounds\": 20,\n",
    "        \"random_seed\": 777,\n",
    "        \"allow_writing_files\": False,\n",
    "    },\n",
    "    folds=KFold(5, shuffle=True, random_state=777),\n",
    "    verbose=50,\n",
    "    return_models=True,\n",
    ")"
   ]
  },
  {
   "cell_type": "code",
   "execution_count": 43,
   "id": "65d55b6a-7cf5-4487-bef6-dc6eb200ebd7",
   "metadata": {},
   "outputs": [],
   "source": [
    "model_sex = cb.sum_models(cv_models_sex)"
   ]
  },
  {
   "cell_type": "code",
   "execution_count": 44,
   "id": "62f0557d-1478-4bf7-ba74-434acb4d943b",
   "metadata": {},
   "outputs": [
    {
     "name": "stdout",
     "output_type": "stream",
     "text": [
      "Training on fold [0/5]\n",
      "0:\tlearn: 1.7757709\ttest: 1.7760077\tbest: 1.7760077 (0)\ttotal: 320ms\tremaining: 26m 38s\n",
      "50:\tlearn: 1.5035642\ttest: 1.5081441\tbest: 1.5081441 (50)\ttotal: 13.3s\tremaining: 21m 26s\n",
      "100:\tlearn: 1.4649234\ttest: 1.4708974\tbest: 1.4708974 (100)\ttotal: 25.9s\tremaining: 20m 58s\n",
      "150:\tlearn: 1.4519311\ttest: 1.4589383\tbest: 1.4589383 (150)\ttotal: 38.7s\tremaining: 20m 42s\n",
      "200:\tlearn: 1.4444519\ttest: 1.4526160\tbest: 1.4526160 (200)\ttotal: 51.8s\tremaining: 20m 36s\n",
      "250:\tlearn: 1.4394278\ttest: 1.4486627\tbest: 1.4486627 (250)\ttotal: 1m 4s\tremaining: 20m 25s\n",
      "300:\tlearn: 1.4356010\ttest: 1.4459998\tbest: 1.4459998 (300)\ttotal: 1m 17s\tremaining: 20m 10s\n",
      "350:\tlearn: 1.4322689\ttest: 1.4438287\tbest: 1.4438287 (350)\ttotal: 1m 30s\tremaining: 20m\n",
      "400:\tlearn: 1.4292293\ttest: 1.4419790\tbest: 1.4419790 (400)\ttotal: 1m 43s\tremaining: 19m 47s\n",
      "450:\tlearn: 1.4257021\ttest: 1.4397745\tbest: 1.4397745 (450)\ttotal: 1m 56s\tremaining: 19m 34s\n",
      "500:\tlearn: 1.4222013\ttest: 1.4378871\tbest: 1.4378871 (500)\ttotal: 2m 9s\tremaining: 19m 19s\n",
      "550:\tlearn: 1.4190524\ttest: 1.4361874\tbest: 1.4361874 (550)\ttotal: 2m 21s\tremaining: 19m 5s\n",
      "600:\tlearn: 1.4164382\ttest: 1.4350228\tbest: 1.4350228 (600)\ttotal: 2m 34s\tremaining: 18m 54s\n",
      "650:\tlearn: 1.4140476\ttest: 1.4340199\tbest: 1.4340199 (650)\ttotal: 2m 48s\tremaining: 18m 44s\n",
      "700:\tlearn: 1.4117520\ttest: 1.4331322\tbest: 1.4331322 (700)\ttotal: 3m 1s\tremaining: 18m 33s\n",
      "750:\tlearn: 1.4097744\ttest: 1.4324102\tbest: 1.4324102 (750)\ttotal: 3m 14s\tremaining: 18m 21s\n",
      "800:\tlearn: 1.4079776\ttest: 1.4317367\tbest: 1.4317367 (800)\ttotal: 3m 27s\tremaining: 18m 7s\n",
      "850:\tlearn: 1.4062767\ttest: 1.4311938\tbest: 1.4311938 (850)\ttotal: 3m 40s\tremaining: 17m 54s\n",
      "900:\tlearn: 1.4046148\ttest: 1.4307244\tbest: 1.4307244 (900)\ttotal: 3m 53s\tremaining: 17m 41s\n",
      "950:\tlearn: 1.4029049\ttest: 1.4302878\tbest: 1.4302878 (950)\ttotal: 4m 6s\tremaining: 17m 28s\n",
      "1000:\tlearn: 1.4014382\ttest: 1.4299482\tbest: 1.4299475 (999)\ttotal: 4m 19s\tremaining: 17m 15s\n",
      "1050:\tlearn: 1.3999484\ttest: 1.4296263\tbest: 1.4296263 (1050)\ttotal: 4m 32s\tremaining: 17m 3s\n",
      "1100:\tlearn: 1.3984040\ttest: 1.4292692\tbest: 1.4292690 (1099)\ttotal: 4m 45s\tremaining: 16m 50s\n",
      "1150:\tlearn: 1.3970631\ttest: 1.4289031\tbest: 1.4289031 (1150)\ttotal: 4m 58s\tremaining: 16m 38s\n",
      "1200:\tlearn: 1.3956067\ttest: 1.4285734\tbest: 1.4285709 (1199)\ttotal: 5m 11s\tremaining: 16m 25s\n",
      "1250:\tlearn: 1.3941617\ttest: 1.4282516\tbest: 1.4282516 (1250)\ttotal: 5m 24s\tremaining: 16m 12s\n",
      "1300:\tlearn: 1.3928628\ttest: 1.4280001\tbest: 1.4280001 (1300)\ttotal: 5m 37s\tremaining: 16m\n",
      "1350:\tlearn: 1.3915931\ttest: 1.4277601\tbest: 1.4277601 (1350)\ttotal: 5m 50s\tremaining: 15m 47s\n",
      "1400:\tlearn: 1.3902973\ttest: 1.4275128\tbest: 1.4275128 (1400)\ttotal: 6m 3s\tremaining: 15m 34s\n",
      "1450:\tlearn: 1.3889490\ttest: 1.4272352\tbest: 1.4272347 (1449)\ttotal: 6m 16s\tremaining: 15m 21s\n",
      "1500:\tlearn: 1.3877261\ttest: 1.4270201\tbest: 1.4270201 (1500)\ttotal: 6m 29s\tremaining: 15m 7s\n",
      "1550:\tlearn: 1.3864487\ttest: 1.4268941\tbest: 1.4268941 (1550)\ttotal: 6m 42s\tremaining: 14m 55s\n",
      "1600:\tlearn: 1.3851215\ttest: 1.4266660\tbest: 1.4266660 (1600)\ttotal: 6m 55s\tremaining: 14m 42s\n",
      "1650:\tlearn: 1.3838693\ttest: 1.4265349\tbest: 1.4265349 (1650)\ttotal: 7m 8s\tremaining: 14m 28s\n",
      "1700:\tlearn: 1.3826806\ttest: 1.4263677\tbest: 1.4263666 (1699)\ttotal: 7m 21s\tremaining: 14m 15s\n",
      "1750:\tlearn: 1.3814397\ttest: 1.4262004\tbest: 1.4262004 (1750)\ttotal: 7m 34s\tremaining: 14m 2s\n",
      "1800:\tlearn: 1.3801961\ttest: 1.4260420\tbest: 1.4260420 (1800)\ttotal: 7m 47s\tremaining: 13m 49s\n",
      "1850:\tlearn: 1.3791317\ttest: 1.4259043\tbest: 1.4259043 (1850)\ttotal: 8m\tremaining: 13m 37s\n",
      "1900:\tlearn: 1.3779534\ttest: 1.4256969\tbest: 1.4256938 (1899)\ttotal: 8m 13s\tremaining: 13m 23s\n",
      "1950:\tlearn: 1.3767705\ttest: 1.4255814\tbest: 1.4255814 (1950)\ttotal: 8m 26s\tremaining: 13m 11s\n",
      "2000:\tlearn: 1.3756555\ttest: 1.4254114\tbest: 1.4254114 (2000)\ttotal: 8m 39s\tremaining: 12m 58s\n",
      "2050:\tlearn: 1.3744501\ttest: 1.4252805\tbest: 1.4252805 (2050)\ttotal: 8m 52s\tremaining: 12m 45s\n",
      "2100:\tlearn: 1.3733756\ttest: 1.4252122\tbest: 1.4252122 (2100)\ttotal: 9m 5s\tremaining: 12m 33s\n",
      "2150:\tlearn: 1.3721926\ttest: 1.4250886\tbest: 1.4250862 (2149)\ttotal: 9m 18s\tremaining: 12m 20s\n",
      "2200:\tlearn: 1.3711193\ttest: 1.4250043\tbest: 1.4250043 (2200)\ttotal: 9m 31s\tremaining: 12m 7s\n",
      "2250:\tlearn: 1.3699575\ttest: 1.4248752\tbest: 1.4248715 (2248)\ttotal: 9m 44s\tremaining: 11m 54s\n",
      "2300:\tlearn: 1.3688296\ttest: 1.4247883\tbest: 1.4247883 (2300)\ttotal: 9m 57s\tremaining: 11m 41s\n",
      "2350:\tlearn: 1.3676976\ttest: 1.4247412\tbest: 1.4247412 (2350)\ttotal: 10m 10s\tremaining: 11m 28s\n",
      "2400:\tlearn: 1.3666103\ttest: 1.4246952\tbest: 1.4246952 (2400)\ttotal: 10m 23s\tremaining: 11m 14s\n",
      "2450:\tlearn: 1.3655601\ttest: 1.4246013\tbest: 1.4246013 (2450)\ttotal: 10m 36s\tremaining: 11m 1s\n",
      "2500:\tlearn: 1.3645206\ttest: 1.4245287\tbest: 1.4245287 (2500)\ttotal: 10m 49s\tremaining: 10m 49s\n",
      "2550:\tlearn: 1.3634798\ttest: 1.4244630\tbest: 1.4244626 (2549)\ttotal: 11m 2s\tremaining: 10m 36s\n",
      "2600:\tlearn: 1.3624084\ttest: 1.4243378\tbest: 1.4243307 (2597)\ttotal: 11m 15s\tremaining: 10m 23s\n",
      "2650:\tlearn: 1.3614042\ttest: 1.4242905\tbest: 1.4242905 (2650)\ttotal: 11m 28s\tremaining: 10m 9s\n",
      "2700:\tlearn: 1.3602508\ttest: 1.4242325\tbest: 1.4242271 (2691)\ttotal: 11m 41s\tremaining: 9m 57s\n",
      "2750:\tlearn: 1.3591793\ttest: 1.4241727\tbest: 1.4241714 (2749)\ttotal: 11m 54s\tremaining: 9m 44s\n",
      "2800:\tlearn: 1.3581627\ttest: 1.4241223\tbest: 1.4241216 (2799)\ttotal: 12m 7s\tremaining: 9m 31s\n",
      "\n",
      "bestTest = 1.424073397\n",
      "bestIteration = 2827\n",
      "\n",
      "Training on fold [1/5]\n",
      "0:\tlearn: 1.7758456\ttest: 1.7758629\tbest: 1.7758629 (0)\ttotal: 282ms\tremaining: 23m 30s\n",
      "50:\tlearn: 1.5057583\ttest: 1.5059283\tbest: 1.5059283 (50)\ttotal: 12.4s\tremaining: 19m 59s\n",
      "100:\tlearn: 1.4661249\ttest: 1.4671299\tbest: 1.4671299 (100)\ttotal: 24.9s\tremaining: 20m 8s\n",
      "150:\tlearn: 1.4534283\ttest: 1.4559395\tbest: 1.4559395 (150)\ttotal: 37.7s\tremaining: 20m 11s\n",
      "200:\tlearn: 1.4457872\ttest: 1.4495539\tbest: 1.4495539 (200)\ttotal: 50.6s\tremaining: 20m 7s\n",
      "250:\tlearn: 1.4408064\ttest: 1.4457657\tbest: 1.4457657 (250)\ttotal: 1m 3s\tremaining: 19m 59s\n",
      "300:\tlearn: 1.4365540\ttest: 1.4426967\tbest: 1.4426967 (300)\ttotal: 1m 16s\tremaining: 19m 53s\n",
      "350:\tlearn: 1.4333007\ttest: 1.4405556\tbest: 1.4405556 (350)\ttotal: 1m 29s\tremaining: 19m 43s\n",
      "400:\tlearn: 1.4303688\ttest: 1.4389135\tbest: 1.4389135 (400)\ttotal: 1m 42s\tremaining: 19m 35s\n",
      "450:\tlearn: 1.4269803\ttest: 1.4367891\tbest: 1.4367891 (450)\ttotal: 1m 55s\tremaining: 19m 26s\n",
      "500:\tlearn: 1.4234790\ttest: 1.4347251\tbest: 1.4347251 (500)\ttotal: 2m 8s\tremaining: 19m 14s\n",
      "550:\tlearn: 1.4202687\ttest: 1.4330500\tbest: 1.4330500 (550)\ttotal: 2m 21s\tremaining: 19m 3s\n",
      "600:\tlearn: 1.4175628\ttest: 1.4317440\tbest: 1.4317440 (600)\ttotal: 2m 34s\tremaining: 18m 52s\n",
      "650:\tlearn: 1.4151865\ttest: 1.4307551\tbest: 1.4307551 (650)\ttotal: 2m 47s\tremaining: 18m 40s\n",
      "700:\tlearn: 1.4129816\ttest: 1.4299106\tbest: 1.4299106 (700)\ttotal: 3m\tremaining: 18m 27s\n",
      "750:\tlearn: 1.4109651\ttest: 1.4291870\tbest: 1.4291870 (750)\ttotal: 3m 14s\tremaining: 18m 17s\n",
      "800:\tlearn: 1.4089016\ttest: 1.4284628\tbest: 1.4284628 (800)\ttotal: 3m 27s\tremaining: 18m 6s\n",
      "850:\tlearn: 1.4072514\ttest: 1.4279567\tbest: 1.4279567 (850)\ttotal: 3m 40s\tremaining: 17m 54s\n",
      "900:\tlearn: 1.4055899\ttest: 1.4274924\tbest: 1.4274924 (900)\ttotal: 3m 53s\tremaining: 17m 40s\n",
      "950:\tlearn: 1.4039965\ttest: 1.4270073\tbest: 1.4270073 (950)\ttotal: 4m 5s\tremaining: 17m 27s\n",
      "1000:\tlearn: 1.4025892\ttest: 1.4266026\tbest: 1.4266026 (1000)\ttotal: 4m 19s\tremaining: 17m 14s\n",
      "1050:\tlearn: 1.4010853\ttest: 1.4261913\tbest: 1.4261913 (1050)\ttotal: 4m 31s\tremaining: 17m 1s\n",
      "1100:\tlearn: 1.3995968\ttest: 1.4258054\tbest: 1.4258054 (1100)\ttotal: 4m 44s\tremaining: 16m 48s\n",
      "1150:\tlearn: 1.3981576\ttest: 1.4255210\tbest: 1.4255210 (1150)\ttotal: 4m 57s\tremaining: 16m 34s\n",
      "1200:\tlearn: 1.3968588\ttest: 1.4252388\tbest: 1.4252388 (1200)\ttotal: 5m 10s\tremaining: 16m 21s\n",
      "1250:\tlearn: 1.3955700\ttest: 1.4249684\tbest: 1.4249684 (1250)\ttotal: 5m 23s\tremaining: 16m 8s\n",
      "1300:\tlearn: 1.3942550\ttest: 1.4247049\tbest: 1.4247049 (1300)\ttotal: 5m 36s\tremaining: 15m 55s\n",
      "1350:\tlearn: 1.3927706\ttest: 1.4243321\tbest: 1.4243321 (1350)\ttotal: 5m 49s\tremaining: 15m 43s\n",
      "1400:\tlearn: 1.3914393\ttest: 1.4240761\tbest: 1.4240761 (1400)\ttotal: 6m 2s\tremaining: 15m 30s\n",
      "1450:\tlearn: 1.3901895\ttest: 1.4238181\tbest: 1.4238181 (1450)\ttotal: 6m 14s\tremaining: 15m 16s\n",
      "1500:\tlearn: 1.3888685\ttest: 1.4235840\tbest: 1.4235840 (1500)\ttotal: 6m 27s\tremaining: 15m 4s\n",
      "1550:\tlearn: 1.3875320\ttest: 1.4233683\tbest: 1.4233683 (1550)\ttotal: 6m 40s\tremaining: 14m 51s\n",
      "1600:\tlearn: 1.3862424\ttest: 1.4231164\tbest: 1.4231164 (1600)\ttotal: 6m 53s\tremaining: 14m 38s\n",
      "1650:\tlearn: 1.3851342\ttest: 1.4229317\tbest: 1.4229317 (1650)\ttotal: 7m 6s\tremaining: 14m 25s\n",
      "1700:\tlearn: 1.3839289\ttest: 1.4227895\tbest: 1.4227895 (1700)\ttotal: 7m 19s\tremaining: 14m 12s\n",
      "1750:\tlearn: 1.3827595\ttest: 1.4226818\tbest: 1.4226818 (1750)\ttotal: 7m 32s\tremaining: 13m 59s\n",
      "1800:\tlearn: 1.3816370\ttest: 1.4224320\tbest: 1.4224320 (1800)\ttotal: 7m 45s\tremaining: 13m 46s\n",
      "1850:\tlearn: 1.3804725\ttest: 1.4222829\tbest: 1.4222829 (1850)\ttotal: 7m 58s\tremaining: 13m 33s\n",
      "1900:\tlearn: 1.3792937\ttest: 1.4221529\tbest: 1.4221529 (1900)\ttotal: 8m 11s\tremaining: 13m 20s\n",
      "1950:\tlearn: 1.3782745\ttest: 1.4220515\tbest: 1.4220515 (1950)\ttotal: 8m 24s\tremaining: 13m 8s\n",
      "2000:\tlearn: 1.3771305\ttest: 1.4219016\tbest: 1.4218988 (1996)\ttotal: 8m 37s\tremaining: 12m 55s\n",
      "2050:\tlearn: 1.3760641\ttest: 1.4217764\tbest: 1.4217743 (2049)\ttotal: 8m 50s\tremaining: 12m 42s\n",
      "2100:\tlearn: 1.3749615\ttest: 1.4216407\tbest: 1.4216402 (2098)\ttotal: 9m 3s\tremaining: 12m 29s\n",
      "2150:\tlearn: 1.3738071\ttest: 1.4215330\tbest: 1.4215330 (2150)\ttotal: 9m 16s\tremaining: 12m 16s\n",
      "2200:\tlearn: 1.3726890\ttest: 1.4214330\tbest: 1.4214330 (2200)\ttotal: 9m 29s\tremaining: 12m 3s\n",
      "2250:\tlearn: 1.3715677\ttest: 1.4213624\tbest: 1.4213619 (2249)\ttotal: 9m 42s\tremaining: 11m 50s\n",
      "2300:\tlearn: 1.3704797\ttest: 1.4212632\tbest: 1.4212632 (2300)\ttotal: 9m 54s\tremaining: 11m 37s\n",
      "2350:\tlearn: 1.3693412\ttest: 1.4211733\tbest: 1.4211733 (2350)\ttotal: 10m 7s\tremaining: 11m 24s\n",
      "2400:\tlearn: 1.3682659\ttest: 1.4210591\tbest: 1.4210591 (2400)\ttotal: 10m 20s\tremaining: 11m 11s\n",
      "2450:\tlearn: 1.3671862\ttest: 1.4209737\tbest: 1.4209684 (2447)\ttotal: 10m 33s\tremaining: 10m 59s\n",
      "2500:\tlearn: 1.3660261\ttest: 1.4208602\tbest: 1.4208602 (2500)\ttotal: 10m 46s\tremaining: 10m 46s\n",
      "2550:\tlearn: 1.3649443\ttest: 1.4207945\tbest: 1.4207885 (2546)\ttotal: 10m 59s\tremaining: 10m 33s\n",
      "2600:\tlearn: 1.3638447\ttest: 1.4206955\tbest: 1.4206955 (2600)\ttotal: 11m 12s\tremaining: 10m 20s\n",
      "2650:\tlearn: 1.3627568\ttest: 1.4206586\tbest: 1.4206586 (2650)\ttotal: 11m 25s\tremaining: 10m 7s\n",
      "2700:\tlearn: 1.3615670\ttest: 1.4205786\tbest: 1.4205786 (2700)\ttotal: 11m 38s\tremaining: 9m 54s\n",
      "2750:\tlearn: 1.3605058\ttest: 1.4204828\tbest: 1.4204828 (2750)\ttotal: 11m 51s\tremaining: 9m 42s\n",
      "2800:\tlearn: 1.3593291\ttest: 1.4203734\tbest: 1.4203734 (2800)\ttotal: 12m 4s\tremaining: 9m 29s\n",
      "\n",
      "bestTest = 1.420371573\n",
      "bestIteration = 2804\n",
      "\n",
      "Training on fold [2/5]\n",
      "0:\tlearn: 1.7758818\ttest: 1.7758088\tbest: 1.7758088 (0)\ttotal: 296ms\tremaining: 24m 40s\n",
      "50:\tlearn: 1.5046204\ttest: 1.5042901\tbest: 1.5042901 (50)\ttotal: 12.6s\tremaining: 20m 18s\n",
      "100:\tlearn: 1.4654967\ttest: 1.4668430\tbest: 1.4668430 (100)\ttotal: 25.1s\tremaining: 20m 16s\n",
      "150:\tlearn: 1.4524496\ttest: 1.4558321\tbest: 1.4558321 (150)\ttotal: 37.8s\tremaining: 20m 14s\n",
      "200:\tlearn: 1.4451574\ttest: 1.4500930\tbest: 1.4500930 (200)\ttotal: 50.8s\tremaining: 20m 12s\n",
      "250:\tlearn: 1.4398381\ttest: 1.4461585\tbest: 1.4461585 (250)\ttotal: 1m 4s\tremaining: 20m 17s\n",
      "300:\tlearn: 1.4360913\ttest: 1.4437079\tbest: 1.4437079 (300)\ttotal: 1m 17s\tremaining: 20m 9s\n",
      "350:\tlearn: 1.4325906\ttest: 1.4415409\tbest: 1.4415409 (350)\ttotal: 1m 30s\tremaining: 20m 3s\n",
      "400:\tlearn: 1.4293343\ttest: 1.4395917\tbest: 1.4395917 (400)\ttotal: 1m 43s\tremaining: 19m 50s\n",
      "450:\tlearn: 1.4256800\ttest: 1.4374527\tbest: 1.4374527 (450)\ttotal: 1m 56s\tremaining: 19m 38s\n",
      "500:\tlearn: 1.4221257\ttest: 1.4355043\tbest: 1.4355043 (500)\ttotal: 2m 9s\tremaining: 19m 25s\n",
      "550:\tlearn: 1.4189896\ttest: 1.4339900\tbest: 1.4339900 (550)\ttotal: 2m 23s\tremaining: 19m 15s\n",
      "600:\tlearn: 1.4163117\ttest: 1.4327481\tbest: 1.4327481 (600)\ttotal: 2m 35s\tremaining: 19m 1s\n",
      "650:\tlearn: 1.4139775\ttest: 1.4318176\tbest: 1.4318176 (650)\ttotal: 2m 48s\tremaining: 18m 47s\n",
      "700:\tlearn: 1.4116202\ttest: 1.4308316\tbest: 1.4308316 (700)\ttotal: 3m 1s\tremaining: 18m 33s\n",
      "750:\tlearn: 1.4098207\ttest: 1.4302185\tbest: 1.4302185 (750)\ttotal: 3m 14s\tremaining: 18m 21s\n",
      "800:\tlearn: 1.4080678\ttest: 1.4296426\tbest: 1.4296426 (800)\ttotal: 3m 27s\tremaining: 18m 8s\n",
      "850:\tlearn: 1.4062558\ttest: 1.4291121\tbest: 1.4291121 (850)\ttotal: 3m 40s\tremaining: 17m 56s\n",
      "900:\tlearn: 1.4046036\ttest: 1.4286383\tbest: 1.4286383 (900)\ttotal: 3m 53s\tremaining: 17m 43s\n",
      "950:\tlearn: 1.4030112\ttest: 1.4282094\tbest: 1.4282094 (950)\ttotal: 4m 6s\tremaining: 17m 29s\n",
      "1000:\tlearn: 1.4015409\ttest: 1.4278236\tbest: 1.4278236 (1000)\ttotal: 4m 19s\tremaining: 17m 16s\n",
      "1050:\tlearn: 1.4000521\ttest: 1.4274851\tbest: 1.4274832 (1049)\ttotal: 4m 32s\tremaining: 17m 3s\n",
      "1100:\tlearn: 1.3985897\ttest: 1.4271195\tbest: 1.4271195 (1100)\ttotal: 4m 45s\tremaining: 16m 50s\n",
      "1150:\tlearn: 1.3971995\ttest: 1.4267365\tbest: 1.4267337 (1149)\ttotal: 4m 58s\tremaining: 16m 38s\n",
      "1200:\tlearn: 1.3957974\ttest: 1.4264531\tbest: 1.4264531 (1200)\ttotal: 5m 11s\tremaining: 16m 26s\n",
      "1250:\tlearn: 1.3945055\ttest: 1.4262455\tbest: 1.4262455 (1250)\ttotal: 5m 24s\tremaining: 16m 12s\n",
      "1300:\tlearn: 1.3932756\ttest: 1.4260385\tbest: 1.4260385 (1300)\ttotal: 5m 37s\tremaining: 15m 59s\n",
      "1350:\tlearn: 1.3918987\ttest: 1.4257768\tbest: 1.4257768 (1350)\ttotal: 5m 50s\tremaining: 15m 46s\n",
      "1400:\tlearn: 1.3906515\ttest: 1.4255768\tbest: 1.4255768 (1400)\ttotal: 6m 3s\tremaining: 15m 33s\n",
      "1450:\tlearn: 1.3894057\ttest: 1.4253834\tbest: 1.4253834 (1450)\ttotal: 6m 16s\tremaining: 15m 19s\n",
      "1500:\tlearn: 1.3880976\ttest: 1.4251726\tbest: 1.4251726 (1500)\ttotal: 6m 29s\tremaining: 15m 7s\n",
      "1550:\tlearn: 1.3868765\ttest: 1.4249905\tbest: 1.4249905 (1550)\ttotal: 6m 42s\tremaining: 14m 53s\n",
      "1600:\tlearn: 1.3857336\ttest: 1.4248156\tbest: 1.4248156 (1600)\ttotal: 6m 54s\tremaining: 14m 40s\n",
      "1650:\tlearn: 1.3845660\ttest: 1.4246752\tbest: 1.4246752 (1650)\ttotal: 7m 7s\tremaining: 14m 27s\n",
      "1700:\tlearn: 1.3833896\ttest: 1.4244813\tbest: 1.4244813 (1700)\ttotal: 7m 20s\tremaining: 14m 14s\n",
      "1750:\tlearn: 1.3821899\ttest: 1.4243704\tbest: 1.4243677 (1749)\ttotal: 7m 33s\tremaining: 14m 1s\n",
      "1800:\tlearn: 1.3809768\ttest: 1.4242078\tbest: 1.4242078 (1800)\ttotal: 7m 46s\tremaining: 13m 48s\n",
      "1850:\tlearn: 1.3797936\ttest: 1.4240419\tbest: 1.4240419 (1850)\ttotal: 7m 59s\tremaining: 13m 35s\n",
      "1900:\tlearn: 1.3785797\ttest: 1.4238752\tbest: 1.4238738 (1899)\ttotal: 8m 12s\tremaining: 13m 22s\n",
      "1950:\tlearn: 1.3774648\ttest: 1.4237969\tbest: 1.4237865 (1947)\ttotal: 8m 25s\tremaining: 13m 9s\n",
      "2000:\tlearn: 1.3764034\ttest: 1.4237179\tbest: 1.4237145 (1999)\ttotal: 8m 38s\tremaining: 12m 56s\n",
      "2050:\tlearn: 1.3752778\ttest: 1.4235927\tbest: 1.4235927 (2050)\ttotal: 8m 51s\tremaining: 12m 43s\n",
      "2100:\tlearn: 1.3742477\ttest: 1.4235189\tbest: 1.4235189 (2100)\ttotal: 9m 4s\tremaining: 12m 30s\n",
      "2150:\tlearn: 1.3731900\ttest: 1.4234290\tbest: 1.4234283 (2149)\ttotal: 9m 17s\tremaining: 12m 17s\n",
      "2200:\tlearn: 1.3721141\ttest: 1.4232967\tbest: 1.4232967 (2200)\ttotal: 9m 30s\tremaining: 12m 5s\n",
      "2250:\tlearn: 1.3710472\ttest: 1.4232190\tbest: 1.4232190 (2250)\ttotal: 9m 42s\tremaining: 11m 51s\n",
      "2300:\tlearn: 1.3699403\ttest: 1.4231654\tbest: 1.4231613 (2298)\ttotal: 9m 55s\tremaining: 11m 38s\n",
      "2350:\tlearn: 1.3688028\ttest: 1.4230982\tbest: 1.4230946 (2347)\ttotal: 10m 8s\tremaining: 11m 26s\n",
      "2400:\tlearn: 1.3676109\ttest: 1.4229840\tbest: 1.4229840 (2400)\ttotal: 10m 21s\tremaining: 11m 13s\n",
      "2450:\tlearn: 1.3665532\ttest: 1.4228971\tbest: 1.4228967 (2447)\ttotal: 10m 34s\tremaining: 11m\n",
      "2500:\tlearn: 1.3654517\ttest: 1.4228145\tbest: 1.4228102 (2496)\ttotal: 10m 47s\tremaining: 10m 47s\n",
      "\n",
      "bestTest = 1.422762402\n",
      "bestIteration = 2518\n",
      "\n",
      "Training on fold [3/5]\n",
      "0:\tlearn: 1.7758629\ttest: 1.7758359\tbest: 1.7758359 (0)\ttotal: 294ms\tremaining: 24m 30s\n",
      "50:\tlearn: 1.5051289\ttest: 1.5031377\tbest: 1.5031377 (50)\ttotal: 13.1s\tremaining: 21m 8s\n",
      "100:\tlearn: 1.4662392\ttest: 1.4649967\tbest: 1.4649967 (100)\ttotal: 26.1s\tremaining: 21m 7s\n",
      "150:\tlearn: 1.4534230\ttest: 1.4538170\tbest: 1.4538170 (150)\ttotal: 39.2s\tremaining: 20m 59s\n",
      "200:\tlearn: 1.4459217\ttest: 1.4480050\tbest: 1.4480050 (200)\ttotal: 52.4s\tremaining: 20m 51s\n",
      "250:\tlearn: 1.4410902\ttest: 1.4447202\tbest: 1.4447202 (250)\ttotal: 1m 5s\tremaining: 20m 38s\n",
      "300:\tlearn: 1.4372729\ttest: 1.4423759\tbest: 1.4423759 (300)\ttotal: 1m 18s\tremaining: 20m 17s\n",
      "350:\tlearn: 1.4337014\ttest: 1.4402002\tbest: 1.4402002 (350)\ttotal: 1m 30s\tremaining: 20m 3s\n",
      "400:\tlearn: 1.4302911\ttest: 1.4382082\tbest: 1.4382082 (400)\ttotal: 1m 43s\tremaining: 19m 50s\n",
      "450:\tlearn: 1.4268005\ttest: 1.4362466\tbest: 1.4362466 (450)\ttotal: 1m 56s\tremaining: 19m 38s\n",
      "500:\tlearn: 1.4232147\ttest: 1.4343814\tbest: 1.4343814 (500)\ttotal: 2m 9s\tremaining: 19m 26s\n",
      "550:\tlearn: 1.4199294\ttest: 1.4328520\tbest: 1.4328520 (550)\ttotal: 2m 22s\tremaining: 19m 13s\n",
      "600:\tlearn: 1.4173430\ttest: 1.4317046\tbest: 1.4317046 (600)\ttotal: 2m 35s\tremaining: 18m 59s\n",
      "650:\tlearn: 1.4148847\ttest: 1.4307203\tbest: 1.4307203 (650)\ttotal: 2m 48s\tremaining: 18m 44s\n",
      "700:\tlearn: 1.4126527\ttest: 1.4299375\tbest: 1.4299375 (700)\ttotal: 3m 1s\tremaining: 18m 31s\n",
      "750:\tlearn: 1.4104690\ttest: 1.4291883\tbest: 1.4291883 (750)\ttotal: 3m 14s\tremaining: 18m 19s\n",
      "800:\tlearn: 1.4085557\ttest: 1.4286337\tbest: 1.4286337 (800)\ttotal: 3m 27s\tremaining: 18m 8s\n",
      "850:\tlearn: 1.4067031\ttest: 1.4280395\tbest: 1.4280395 (850)\ttotal: 3m 40s\tremaining: 17m 57s\n",
      "900:\tlearn: 1.4050182\ttest: 1.4276334\tbest: 1.4276334 (900)\ttotal: 3m 53s\tremaining: 17m 43s\n",
      "950:\tlearn: 1.4033731\ttest: 1.4272368\tbest: 1.4272365 (949)\ttotal: 4m 6s\tremaining: 17m 29s\n",
      "1950:\tlearn: 1.3772358\ttest: 1.4224149\tbest: 1.4224139 (1948)\ttotal: 8m 25s\tremaining: 13m 10s\n",
      "2000:\tlearn: 1.3760687\ttest: 1.4222464\tbest: 1.4222464 (2000)\ttotal: 8m 38s\tremaining: 12m 57s\n",
      "2050:\tlearn: 1.3749880\ttest: 1.4221182\tbest: 1.4221182 (2050)\ttotal: 8m 52s\tremaining: 12m 45s\n",
      "2100:\tlearn: 1.3739561\ttest: 1.4219816\tbest: 1.4219816 (2100)\ttotal: 9m 4s\tremaining: 12m 31s\n",
      "2150:\tlearn: 1.3727867\ttest: 1.4218904\tbest: 1.4218904 (2150)\ttotal: 9m 17s\tremaining: 12m 18s\n",
      "2200:\tlearn: 1.3716467\ttest: 1.4217533\tbest: 1.4217533 (2200)\ttotal: 9m 30s\tremaining: 12m 5s\n",
      "2250:\tlearn: 1.3705268\ttest: 1.4216871\tbest: 1.4216775 (2243)\ttotal: 9m 43s\tremaining: 11m 52s\n",
      "2300:\tlearn: 1.3693935\ttest: 1.4215674\tbest: 1.4215672 (2299)\ttotal: 9m 56s\tremaining: 11m 39s\n",
      "2350:\tlearn: 1.3683022\ttest: 1.4214602\tbest: 1.4214602 (2350)\ttotal: 10m 9s\tremaining: 11m 26s\n",
      "2400:\tlearn: 1.3672284\ttest: 1.4213747\tbest: 1.4213742 (2399)\ttotal: 10m 22s\tremaining: 11m 13s\n",
      "2450:\tlearn: 1.3661605\ttest: 1.4212675\tbest: 1.4212660 (2449)\ttotal: 10m 35s\tremaining: 11m\n",
      "2500:\tlearn: 1.3650787\ttest: 1.4211870\tbest: 1.4211870 (2500)\ttotal: 10m 48s\tremaining: 10m 47s\n",
      "2550:\tlearn: 1.3639947\ttest: 1.4210603\tbest: 1.4210603 (2550)\ttotal: 11m 1s\tremaining: 10m 35s\n",
      "2600:\tlearn: 1.3628955\ttest: 1.4209922\tbest: 1.4209913 (2590)\ttotal: 11m 14s\tremaining: 10m 22s\n",
      "\n",
      "bestTest = 1.420957242\n",
      "bestIteration = 2609\n",
      "\n",
      "CPU times: user 22h 6min 43s, sys: 1h 18min 30s, total: 23h 25min 14s\n",
      "Wall time: 59min 30s\n"
     ]
    }
   ],
   "source": [
    "%%time\n",
    "cv_res_age, cv_models_age = cb.cv(\n",
    "    pool=train_age_pool,\n",
    "    params={\n",
    "        \"eval_metric\": \"MultiClass\",\n",
    "        \"loss_function\": \"MultiClass\",\n",
    "        \"iterations\": 5000,\n",
    "        \"early_stopping_rounds\": 20,\n",
    "        \"random_seed\": 777,\n",
    "        \"allow_writing_files\": False,\n",
    "    },\n",
    "    folds=KFold(5, shuffle=True, random_state=777),\n",
    "    verbose=50,\n",
    "    return_models=True,\n",
    ")"
   ]
  },
  {
   "cell_type": "code",
   "execution_count": 45,
   "id": "6256fca1-1538-4a9e-b8d2-62458b1e17eb",
   "metadata": {},
   "outputs": [],
   "source": [
    "model_age = cb.sum_models(cv_models_age)"
   ]
  },
  {
   "cell_type": "code",
   "execution_count": null,
   "id": "32e25196-7146-4fe6-9f70-283711e29383",
   "metadata": {},
   "outputs": [],
   "source": []
  },
  {
   "cell_type": "code",
   "execution_count": 56,
   "id": "c4d9e6e6-3a8c-450b-86a0-6c0c9a98a118",
   "metadata": {},
   "outputs": [],
   "source": [
    "test_features = join_features(test)\n",
    "test_pred = test_features[[\"user_id\"]].copy()\n",
    "x_test = test_features.drop(columns=\"user_id\")\n",
    "\n",
    "test_pred[\"age\"] = model_age.predict(x_test, prediction_type=\"Class\").flatten()\n",
    "test_pred[\"is_male\"] = model_sex.predict(x_test, prediction_type=\"Probability\")[:, 1]"
   ]
  },
  {
   "cell_type": "code",
   "execution_count": 58,
   "id": "8d667900-9e82-42d5-8da3-53ff68f9a160",
   "metadata": {},
   "outputs": [],
   "source": [
    "test_pred.to_csv(\"../submissions/baseline-catboost.csv\", index=False)"
   ]
  },
  {
   "cell_type": "code",
   "execution_count": 61,
   "id": "e2ad0afb-bbd5-41f7-8935-a15cd7a4abeb",
   "metadata": {},
   "outputs": [
    {
     "data": {
      "text/plain": [
       "2    71386\n",
       "3    56659\n",
       "4     8593\n",
       "1     5148\n",
       "5     2916\n",
       "6       22\n",
       "Name: age, dtype: int64"
      ]
     },
     "execution_count": 61,
     "metadata": {},
     "output_type": "execute_result"
    }
   ],
   "source": [
    "test_pred[\"age\"].value_counts()"
   ]
  },
  {
   "cell_type": "code",
   "execution_count": 53,
   "id": "0c13a0e2-4f04-4471-bbf2-5e154c8ffa75",
   "metadata": {},
   "outputs": [
    {
     "data": {
      "text/plain": [
       "array([[0.02721936, 0.97278064],\n",
       "       [0.87137567, 0.12862433],\n",
       "       [0.01131024, 0.98868976],\n",
       "       ...,\n",
       "       [0.64869191, 0.35130809],\n",
       "       [0.01035073, 0.98964927],\n",
       "       [0.74140033, 0.25859967]])"
      ]
     },
     "execution_count": 53,
     "metadata": {},
     "output_type": "execute_result"
    }
   ],
   "source": [
    "model_sex.predict(x_test, prediction_type=\"Probability\")"
   ]
  },
  {
   "cell_type": "code",
   "execution_count": 64,
   "id": "4d756a24-9c43-461a-9f89-c61e11779431",
   "metadata": {},
   "outputs": [
    {
     "name": "stdout",
     "output_type": "stream",
     "text": [
      "Learning rate set to 0.05904\n",
      "0:\tlearn: 0.6912279\ttotal: 100ms\tremaining: 3m 20s\n",
      "100:\tlearn: 0.6627226\ttotal: 6.67s\tremaining: 2m 5s\n",
      "200:\tlearn: 0.6581522\ttotal: 12.9s\tremaining: 1m 55s\n",
      "300:\tlearn: 0.6542142\ttotal: 18.9s\tremaining: 1m 46s\n",
      "400:\tlearn: 0.6511392\ttotal: 25.1s\tremaining: 1m 39s\n",
      "500:\tlearn: 0.6484993\ttotal: 31.2s\tremaining: 1m 33s\n",
      "600:\tlearn: 0.6461647\ttotal: 37.3s\tremaining: 1m 26s\n",
      "700:\tlearn: 0.6440335\ttotal: 43.4s\tremaining: 1m 20s\n",
      "800:\tlearn: 0.6419148\ttotal: 49.6s\tremaining: 1m 14s\n",
      "900:\tlearn: 0.6398773\ttotal: 55.7s\tremaining: 1m 7s\n",
      "1000:\tlearn: 0.6379718\ttotal: 1m 1s\tremaining: 1m 1s\n",
      "1100:\tlearn: 0.6361015\ttotal: 1m 8s\tremaining: 55.7s\n",
      "1200:\tlearn: 0.6343446\ttotal: 1m 14s\tremaining: 49.4s\n",
      "1300:\tlearn: 0.6327361\ttotal: 1m 20s\tremaining: 43.4s\n",
      "1400:\tlearn: 0.6310346\ttotal: 1m 26s\tremaining: 37.2s\n",
      "1500:\tlearn: 0.6293968\ttotal: 1m 33s\tremaining: 30.9s\n",
      "1600:\tlearn: 0.6278592\ttotal: 1m 39s\tremaining: 24.7s\n",
      "1700:\tlearn: 0.6263816\ttotal: 1m 45s\tremaining: 18.5s\n",
      "1800:\tlearn: 0.6249761\ttotal: 1m 51s\tremaining: 12.3s\n",
      "1900:\tlearn: 0.6236812\ttotal: 1m 57s\tremaining: 6.13s\n",
      "1999:\tlearn: 0.6222333\ttotal: 2m 3s\tremaining: 0us\n"
     ]
    },
    {
     "data": {
      "text/plain": [
       "<catboost.core.CatBoostClassifier at 0x7f4847514c70>"
      ]
     },
     "execution_count": 64,
     "metadata": {},
     "output_type": "execute_result"
    }
   ],
   "source": [
    "exp_sex = cb.CatBoostClassifier(\n",
    "    **{\n",
    "        \"loss_function\": \"Logloss\",\n",
    "        \"iterations\": 2000,\n",
    "        \"random_seed\": 777,\n",
    "        \"allow_writing_files\": False,\n",
    "    }\n",
    ")\n",
    "exp_sex.fit(train_sex_pool, verbose=100)"
   ]
  },
  {
   "cell_type": "code",
   "execution_count": 65,
   "id": "63f4eb4b-8a5e-4581-8f9a-25b388d92337",
   "metadata": {},
   "outputs": [
    {
     "name": "stdout",
     "output_type": "stream",
     "text": [
      "Learning rate set to 0.041597\n",
      "0:\tlearn: 1.7701072\ttotal: 321ms\tremaining: 16m 3s\n",
      "100:\tlearn: 1.4543767\ttotal: 27.8s\tremaining: 13m 17s\n",
      "200:\tlearn: 1.4381729\ttotal: 56.1s\tremaining: 13m 1s\n",
      "300:\tlearn: 1.4294010\ttotal: 1m 24s\tremaining: 12m 35s\n",
      "400:\tlearn: 1.4209619\ttotal: 1m 52s\tremaining: 12m 9s\n",
      "500:\tlearn: 1.4148884\ttotal: 2m 20s\tremaining: 11m 42s\n",
      "600:\tlearn: 1.4101193\ttotal: 2m 49s\tremaining: 11m 16s\n",
      "700:\tlearn: 1.4059848\ttotal: 3m 17s\tremaining: 10m 48s\n",
      "800:\tlearn: 1.4024470\ttotal: 3m 46s\tremaining: 10m 20s\n",
      "900:\tlearn: 1.3989747\ttotal: 4m 14s\tremaining: 9m 52s\n",
      "1000:\tlearn: 1.3959174\ttotal: 4m 42s\tremaining: 9m 24s\n",
      "1100:\tlearn: 1.3928101\ttotal: 5m 11s\tremaining: 8m 57s\n",
      "1200:\tlearn: 1.3897193\ttotal: 5m 39s\tremaining: 8m 28s\n",
      "1300:\tlearn: 1.3869942\ttotal: 6m 8s\tremaining: 8m\n",
      "1400:\tlearn: 1.3842616\ttotal: 6m 36s\tremaining: 7m 32s\n",
      "1500:\tlearn: 1.3816337\ttotal: 7m 4s\tremaining: 7m 3s\n",
      "1600:\tlearn: 1.3788601\ttotal: 7m 32s\tremaining: 6m 35s\n",
      "1700:\tlearn: 1.3763835\ttotal: 8m 1s\tremaining: 6m 7s\n",
      "1800:\tlearn: 1.3738154\ttotal: 8m 30s\tremaining: 5m 39s\n",
      "1900:\tlearn: 1.3711239\ttotal: 8m 58s\tremaining: 5m 11s\n",
      "2000:\tlearn: 1.3686910\ttotal: 9m 27s\tremaining: 4m 43s\n",
      "2100:\tlearn: 1.3662232\ttotal: 9m 55s\tremaining: 4m 14s\n",
      "2200:\tlearn: 1.3638168\ttotal: 10m 23s\tremaining: 3m 46s\n",
      "2300:\tlearn: 1.3614466\ttotal: 10m 51s\tremaining: 3m 18s\n",
      "2400:\tlearn: 1.3589631\ttotal: 11m 20s\tremaining: 2m 49s\n",
      "2500:\tlearn: 1.3565336\ttotal: 11m 48s\tremaining: 2m 21s\n",
      "2600:\tlearn: 1.3539740\ttotal: 12m 16s\tremaining: 1m 52s\n",
      "2700:\tlearn: 1.3515876\ttotal: 12m 44s\tremaining: 1m 24s\n",
      "2800:\tlearn: 1.3492441\ttotal: 13m 13s\tremaining: 56.4s\n",
      "2900:\tlearn: 1.3469632\ttotal: 13m 41s\tremaining: 28s\n",
      "2999:\tlearn: 1.3446723\ttotal: 14m 10s\tremaining: 0us\n"
     ]
    },
    {
     "data": {
      "text/plain": [
       "<catboost.core.CatBoostClassifier at 0x7f484751ac10>"
      ]
     },
     "execution_count": 65,
     "metadata": {},
     "output_type": "execute_result"
    }
   ],
   "source": [
    "exp_age = cb.CatBoostClassifier(\n",
    "    **{\n",
    "        \"loss_function\": \"MultiClass\",\n",
    "        \"iterations\": 3000,\n",
    "        \"random_seed\": 777,\n",
    "        \"allow_writing_files\": False,\n",
    "    }\n",
    ")\n",
    "exp_age.fit(train_age_pool, verbose=100)"
   ]
  },
  {
   "cell_type": "code",
   "execution_count": 70,
   "id": "e40d718a-86e2-4f5c-928b-8a2660220003",
   "metadata": {},
   "outputs": [
    {
     "data": {
      "text/plain": [
       "<Axes: >"
      ]
     },
     "execution_count": 70,
     "metadata": {},
     "output_type": "execute_result"
    },
    {
     "data": {
      "image/png": "[encoded data removed]",
      "text/plain": [
       "<Figure size 640x480 with 1 Axes>"
      ]
     },
     "metadata": {},
     "output_type": "display_data"
    }
   ],
   "source": [
    "(\n",
    "    pd.Series(exp_sex.feature_importances_, exp_sex.feature_names_)\n",
    "    .sort_values(ascending=False)\n",
    "    .plot.barh()\n",
    ")"
   ]
  },
  {
   "cell_type": "code",
   "execution_count": 71,
   "id": "07d2ddfa-c667-4859-8a89-55116728b22e",
   "metadata": {},
   "outputs": [
    {
     "data": {
      "text/plain": [
       "<Axes: >"
      ]
     },
     "execution_count": 71,
     "metadata": {},
     "output_type": "execute_result"
    },
    {
     "data": {
      "image/png": "[encoded data removed]",
      "text/plain": [
       "<Figure size 640x480 with 1 Axes>"
      ]
     },
     "metadata": {},
     "output_type": "display_data"
    }
   ],
   "source": [
    "(\n",
    "    pd.Series(exp_age.feature_importances_, exp_age.feature_names_)\n",
    "    .sort_values(ascending=False)\n",
    "    .plot.barh()\n",
    ")"
   ]
  },
  {
   "cell_type": "code",
   "execution_count": 72,
   "id": "9fb4cbd1-a987-4432-bc23-f6f1744e8068",
   "metadata": {},
   "outputs": [
    {
     "data": {
      "text/plain": [
       "array([0.47288739, 0.50685592, 0.27778299, ..., 0.57631922, 0.55165928,\n",
       "       0.67478737])"
      ]
     },
     "execution_count": 72,
     "metadata": {},
     "output_type": "execute_result"
    }
   ],
   "source": [
    "exp_sex.predict(train_sex_pool, prediction_type=\"Probability\")[:, 1]"
   ]
  },
  {
   "cell_type": "code",
   "execution_count": 74,
   "id": "87848f5f-9ac4-41c3-81bb-655dcf0334e7",
   "metadata": {},
   "outputs": [],
   "source": [
    "from sklearn import metrics as m"
   ]
  },
  {
   "cell_type": "code",
   "execution_count": 75,
   "id": "5d5550f6-53aa-4813-bbe4-9212e46f6ffe",
   "metadata": {},
   "outputs": [
    {
     "data": {
      "text/plain": [
       "0.7160191440090247"
      ]
     },
     "execution_count": 75,
     "metadata": {},
     "output_type": "execute_result"
    }
   ],
   "source": [
    "m.roc_auc_score(train_sex[\"is_male\"], exp_sex.predict(train_sex_pool, prediction_type=\"Probability\")[:, 1])"
   ]
  },
  {
   "cell_type": "code",
   "execution_count": 76,
   "id": "8cccec06-91fa-4ce3-a15e-f260155c6c7f",
   "metadata": {},
   "outputs": [
    {
     "data": {
      "text/plain": [
       "0.41999999999999993"
      ]
     },
     "execution_count": 76,
     "metadata": {},
     "output_type": "execute_result"
    }
   ],
   "source": [
    "2 * 0.71 - 1"
   ]
  },
  {
   "cell_type": "code",
   "execution_count": 91,
   "id": "3cbad108-9d87-41d0-a2e6-d32e681dbd14",
   "metadata": {},
   "outputs": [
    {
     "data": {
      "text/plain": [
       "array([2, 2, 3, ..., 2, 2, 6])"
      ]
     },
     "execution_count": 91,
     "metadata": {},
     "output_type": "execute_result"
    }
   ],
   "source": [
    "train_age[\"age_bucket\"].to_numpy().astype(int)"
   ]
  },
  {
   "cell_type": "code",
   "execution_count": 86,
   "id": "2533f21d-4eae-4c57-bd75-fe45ed62fcfd",
   "metadata": {},
   "outputs": [
    {
     "data": {
      "text/plain": [
       "array([3, 2, 2, ..., 2, 3, 3])"
      ]
     },
     "execution_count": 86,
     "metadata": {},
     "output_type": "execute_result"
    }
   ],
   "source": [
    "exp_age.predict(train_age_pool, prediction_type=\"Class\").flatten()"
   ]
  },
  {
   "cell_type": "code",
   "execution_count": 92,
   "id": "371236ed-fb80-4dd0-b5a7-2de1e09b78c5",
   "metadata": {},
   "outputs": [
    {
     "name": "stdout",
     "output_type": "stream",
     "text": [
      "              precision    recall  f1-score   support\n",
      "\n",
      "       18-25       0.53      0.17      0.26     32641\n",
      "       25-34       0.45      0.67      0.54     87270\n",
      "       35-44       0.39      0.52      0.44     77486\n",
      "       45-54       0.43      0.18      0.25     42442\n",
      "       55-65       0.47      0.13      0.20     23580\n",
      "         65+       0.84      0.02      0.04      5503\n",
      "\n",
      "    accuracy                           0.43    268922\n",
      "   macro avg       0.52      0.28      0.29    268922\n",
      "weighted avg       0.45      0.43      0.39    268922\n",
      "\n"
     ]
    }
   ],
   "source": [
    "print(\n",
    "    m.classification_report(\n",
    "        train_age[\"age_bucket\"].to_numpy().astype(int), \n",
    "        exp_age.predict(train_age_pool, prediction_type=\"Class\").flatten(),\n",
    "        target_names=['18-25','25-34', '35-44', '45-54', '55-65', '65+']\n",
    "    )\n",
    ")"
   ]
  },
  {
   "cell_type": "code",
   "execution_count": 22,
   "id": "c13cac71-a3ca-4348-9d44-3172548b977a",
   "metadata": {},
   "outputs": [],
   "source": [
    "from __future__ import annotations\n",
    "import pandas as pd"
   ]
  },
  {
   "cell_type": "code",
   "execution_count": 23,
   "id": "376dd5ff-e839-4920-855b-8233dd47f4cb",
   "metadata": {},
   "outputs": [],
   "source": [
    "df = pd.read_csv(\"../data/processed/urls.csv\", index_col=0).dropna().reset_index(drop=True)"
   ]
  },
  {
   "cell_type": "code",
   "execution_count": 25,
   "id": "e36159a7-7a62-4610-a024-51b2493dcba2",
   "metadata": {},
   "outputs": [],
   "source": [
    "def split_url(url: str) -> list[str]:\n",
    "    parts = url.split(\".\")\n",
    "    if parts[0] == \"m\":\n",
    "        parts = parts[1:]\n",
    "    return parts"
   ]
  },
  {
   "cell_type": "code",
   "execution_count": 26,
   "id": "79cdbf26-82bb-4d88-9831-dca3b7061d15",
   "metadata": {},
   "outputs": [],
   "source": [
    "df[\"url_parts\"] = df[\"url_host\"].apply(split_url)"
   ]
  },
  {
   "cell_type": "code",
   "execution_count": 27,
   "id": "447dd405-9801-4747-8e74-a339d0e8ec99",
   "metadata": {},
   "outputs": [
    {
     "data": {
      "text/plain": [
       "2    0.617567\n",
       "3    0.988892\n",
       "4    0.996765\n",
       "1    0.999224\n",
       "5    0.999985\n",
       "6    0.999995\n",
       "7    1.000000\n",
       "Name: url_parts, dtype: float64"
      ]
     },
     "execution_count": 27,
     "metadata": {},
     "output_type": "execute_result"
    }
   ],
   "source": [
    "df[\"url_parts\"].apply(len).value_counts(normalize=True).cumsum()"
   ]
  },
  {
   "cell_type": "code",
   "execution_count": 29,
   "id": "10048e77-b2f7-4b3e-ab75-9993ec86afa9",
   "metadata": {},
   "outputs": [
    {
     "data": {
      "text/html": [
       "<div>\n",
       "<style scoped>\n",
       "    .dataframe tbody tr th:only-of-type {\n",
       "        vertical-align: middle;\n",
       "    }\n",
       "\n",
       "    .dataframe tbody tr th {\n",
       "        vertical-align: top;\n",
       "    }\n",
       "\n",
       "    .dataframe thead th {\n",
       "        text-align: right;\n",
       "    }\n",
       "</style>\n",
       "<table border=\"1\" class=\"dataframe\">\n",
       "  <thead>\n",
       "    <tr style=\"text-align: right;\">\n",
       "      <th></th>\n",
       "      <th>url_host</th>\n",
       "      <th>url_parts</th>\n",
       "    </tr>\n",
       "  </thead>\n",
       "  <tbody>\n",
       "    <tr>\n",
       "      <th>0</th>\n",
       "      <td>yalta.ukrgo.com</td>\n",
       "      <td>[yalta, ukrgo, com]</td>\n",
       "    </tr>\n",
       "    <tr>\n",
       "      <th>1</th>\n",
       "      <td>mitrofanievskoe.ru</td>\n",
       "      <td>[mitrofanievskoe, ru]</td>\n",
       "    </tr>\n",
       "    <tr>\n",
       "      <th>2</th>\n",
       "      <td>zis18.ru</td>\n",
       "      <td>[zis18, ru]</td>\n",
       "    </tr>\n",
       "    <tr>\n",
       "      <th>3</th>\n",
       "      <td>170</td>\n",
       "      <td>[170]</td>\n",
       "    </tr>\n",
       "    <tr>\n",
       "      <th>4</th>\n",
       "      <td>xn--80abkduyveanm.xn--p1ai</td>\n",
       "      <td>[xn--80abkduyveanm, xn--p1ai]</td>\n",
       "    </tr>\n",
       "    <tr>\n",
       "      <th>...</th>\n",
       "      <td>...</td>\n",
       "      <td>...</td>\n",
       "    </tr>\n",
       "    <tr>\n",
       "      <th>199677</th>\n",
       "      <td>veronikahlebova.livejournal.com</td>\n",
       "      <td>[veronikahlebova, livejournal, com]</td>\n",
       "    </tr>\n",
       "    <tr>\n",
       "      <th>199678</th>\n",
       "      <td>electrotown.ru</td>\n",
       "      <td>[electrotown, ru]</td>\n",
       "    </tr>\n",
       "    <tr>\n",
       "      <th>199679</th>\n",
       "      <td>xn--g1ajus.xn--p1ai</td>\n",
       "      <td>[xn--g1ajus, xn--p1ai]</td>\n",
       "    </tr>\n",
       "    <tr>\n",
       "      <th>199680</th>\n",
       "      <td>business-and-banks.ru</td>\n",
       "      <td>[business-and-banks, ru]</td>\n",
       "    </tr>\n",
       "    <tr>\n",
       "      <th>199681</th>\n",
       "      <td>masterlandshaft.ru</td>\n",
       "      <td>[masterlandshaft, ru]</td>\n",
       "    </tr>\n",
       "  </tbody>\n",
       "</table>\n",
       "<p>199682 rows × 2 columns</p>\n",
       "</div>"
      ],
      "text/plain": [
       "                               url_host                            url_parts\n",
       "0                       yalta.ukrgo.com                  [yalta, ukrgo, com]\n",
       "1                    mitrofanievskoe.ru                [mitrofanievskoe, ru]\n",
       "2                              zis18.ru                          [zis18, ru]\n",
       "3                                   170                                [170]\n",
       "4            xn--80abkduyveanm.xn--p1ai        [xn--80abkduyveanm, xn--p1ai]\n",
       "...                                 ...                                  ...\n",
       "199677  veronikahlebova.livejournal.com  [veronikahlebova, livejournal, com]\n",
       "199678                   electrotown.ru                    [electrotown, ru]\n",
       "199679              xn--g1ajus.xn--p1ai               [xn--g1ajus, xn--p1ai]\n",
       "199680            business-and-banks.ru             [business-and-banks, ru]\n",
       "199681               masterlandshaft.ru                [masterlandshaft, ru]\n",
       "\n",
       "[199682 rows x 2 columns]"
      ]
     },
     "execution_count": 29,
     "metadata": {},
     "output_type": "execute_result"
    }
   ],
   "source": [
    "df"
   ]
  },
  {
   "cell_type": "code",
   "execution_count": null,
   "id": "445a3f18-6ef4-4f91-ae1a-2bb3c40c706a",
   "metadata": {},
   "outputs": [],
   "source": []
  }
 ],
 "metadata": {
  "kernelspec": {
   "display_name": "Python (mts-ml-cup)",
   "language": "python",
   "name": "mts-ml-cup"
  },
  "language_info": {
   "codemirror_mode": {
    "name": "ipython",
    "version": 3
   },
   "file_extension": ".py",
   "mimetype": "text/x-python",
   "name": "python",
   "nbconvert_exporter": "python",
   "pygments_lexer": "ipython3",
   "version": "3.8.10"
  }
 },
 "nbformat": 4,
 "nbformat_minor": 5
}
