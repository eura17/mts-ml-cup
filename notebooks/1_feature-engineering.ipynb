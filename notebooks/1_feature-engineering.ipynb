{
 "cells": [
  {
   "cell_type": "code",
   "execution_count": 1,
   "id": "79364e91-a05a-4393-886e-75ab288a45f9",
   "metadata": {},
   "outputs": [],
   "source": [
    "%load_ext autoreload\n",
    "%autoreload 2"
   ]
  },
  {
   "cell_type": "code",
   "execution_count": 2,
   "id": "7a933afb-81ac-403b-b232-b64f82eda4f3",
   "metadata": {},
   "outputs": [],
   "source": [
    "from functools import partial\n",
    "\n",
    "import joblib as jbl\n",
    "import polars as pl\n",
    "\n",
    "from mts_ml_cup import feature_engineering as fe\n",
    "from mts_ml_cup.preprocessing import urls as u\n",
    "from mts_ml_cup import utils"
   ]
  },
  {
   "cell_type": "code",
   "execution_count": 3,
   "id": "cbfdff3e-7bb1-4b19-948b-7341d6c90beb",
   "metadata": {},
   "outputs": [
    {
     "name": "stdout",
     "output_type": "stream",
     "text": [
      "CPU times: user 2min 9s, sys: 44.2 s, total: 2min 53s\n",
      "Wall time: 1min 45s\n"
     ]
    }
   ],
   "source": [
    "%%time\n",
    "url_cleaner = partial(\n",
    "    u.clean_url,\n",
    "    preprocessors=[\n",
    "        u.decode_from_punycode,\n",
    "        u.lower,\n",
    "        u.replace_hyphens_with_dots,\n",
    "    ],\n",
    ")\n",
    "\n",
    "sessions = pl.read_parquet(\"../data/processed/sessions.pq\")\n",
    "sessions = (\n",
    "    sessions\n",
    "    .join(\n",
    "        other=sessions\n",
    "            .select(\"url_host\")\n",
    "            .unique()\n",
    "            .with_columns(pl.col(\"url_host\").apply(url_cleaner).alias(\"url_cleaned\")),\n",
    "        on=\"url_host\",\n",
    "        how=\"left\",\n",
    "    )\n",
    "    .select(pl.exclude(\"url_host\"))\n",
    "    .with_columns(pl.col(\"url_cleaned\").alias(\"url_host\"))\n",
    ")"
   ]
  },
  {
   "cell_type": "markdown",
   "id": "b1f73945-f1d3-401c-8b6f-1c7ff3e276a2",
   "metadata": {
    "jp-MarkdownHeadingCollapsed": true,
    "tags": []
   },
   "source": [
    "# device"
   ]
  },
  {
   "cell_type": "code",
   "execution_count": 4,
   "id": "c54a9881-2d29-4644-b16d-03f11ef863f9",
   "metadata": {},
   "outputs": [
    {
     "name": "stdout",
     "output_type": "stream",
     "text": [
      "CPU times: user 18.2 s, sys: 6.44 s, total: 24.6 s\n",
      "Wall time: 3.34 s\n"
     ]
    }
   ],
   "source": [
    "%%time\n",
    "fe.device.manufacturer_by_user(sessions).write_parquet(\"../data/feat/device/manufacturer.pq\")"
   ]
  },
  {
   "cell_type": "code",
   "execution_count": 5,
   "id": "52cb1737-4322-4d5a-ba7a-b568bfa83be8",
   "metadata": {},
   "outputs": [
    {
     "name": "stdout",
     "output_type": "stream",
     "text": [
      "CPU times: user 18.1 s, sys: 6.18 s, total: 24.3 s\n",
      "Wall time: 3.22 s\n"
     ]
    }
   ],
   "source": [
    "%%time\n",
    "fe.device.os_by_user(sessions).write_parquet(\"../data/feat/device/os.pq\")"
   ]
  },
  {
   "cell_type": "code",
   "execution_count": 6,
   "id": "dcb13569-5bab-423d-b1b2-07f01ebaea88",
   "metadata": {},
   "outputs": [
    {
     "name": "stdout",
     "output_type": "stream",
     "text": [
      "CPU times: user 18.3 s, sys: 6.02 s, total: 24.3 s\n",
      "Wall time: 3.24 s\n"
     ]
    }
   ],
   "source": [
    "%%time\n",
    "fe.device.model_by_user(sessions).write_parquet(\"../data/feat/device/model.pq\")"
   ]
  },
  {
   "cell_type": "code",
   "execution_count": 7,
   "id": "2ed22a12-77b3-4b6b-800f-71793f539521",
   "metadata": {},
   "outputs": [
    {
     "name": "stdout",
     "output_type": "stream",
     "text": [
      "CPU times: user 39.3 s, sys: 10.8 s, total: 50.1 s\n",
      "Wall time: 9.61 s\n"
     ]
    }
   ],
   "source": [
    "%%time\n",
    "(\n",
    "    fe.device.model_by_user(sessions)\n",
    "    .join(fe.device.price_by_model(sessions), how=\"left\", on=\"device_model_id\")\n",
    "    .select(pl.exclude(\"device_model_id\"))\n",
    ").write_parquet(\"../data/feat/device/price.pq\")"
   ]
  },
  {
   "cell_type": "code",
   "execution_count": 8,
   "id": "14a4b71f-9e10-4507-a8fc-d25cd0436577",
   "metadata": {},
   "outputs": [
    {
     "name": "stdout",
     "output_type": "stream",
     "text": [
      "CPU times: user 18 s, sys: 5.91 s, total: 23.9 s\n",
      "Wall time: 3.17 s\n"
     ]
    }
   ],
   "source": [
    "%%time\n",
    "fe.device.type_by_user(sessions).write_parquet(\"../data/feat/device/type.pq\")"
   ]
  },
  {
   "cell_type": "markdown",
   "id": "d5f8505e-48a2-4223-b766-5d593119f12a",
   "metadata": {
    "jp-MarkdownHeadingCollapsed": true,
    "tags": []
   },
   "source": [
    "# geo"
   ]
  },
  {
   "cell_type": "code",
   "execution_count": 9,
   "id": "4119e311-6330-4d6c-bf9c-0e486d64c899",
   "metadata": {},
   "outputs": [
    {
     "name": "stdout",
     "output_type": "stream",
     "text": [
      "CPU times: user 20.1 s, sys: 6.51 s, total: 26.6 s\n",
      "Wall time: 3.62 s\n"
     ]
    }
   ],
   "source": [
    "%%time\n",
    "fe.geo.region_stats_by_user(sessions).write_parquet(\"../data/feat/geo/region-stats.pq\")"
   ]
  },
  {
   "cell_type": "code",
   "execution_count": 10,
   "id": "69c76578-b3ef-43b2-b547-531de9a6b51d",
   "metadata": {},
   "outputs": [
    {
     "name": "stdout",
     "output_type": "stream",
     "text": [
      "CPU times: user 21.9 s, sys: 6.14 s, total: 28.1 s\n",
      "Wall time: 3.96 s\n"
     ]
    }
   ],
   "source": [
    "%%time\n",
    "fe.geo.city_stats_by_user(sessions).write_parquet(\"../data/feat/geo/city-stats.pq\")"
   ]
  },
  {
   "cell_type": "markdown",
   "id": "492c85ee-dd12-4964-a586-c38dbd38c627",
   "metadata": {
    "jp-MarkdownHeadingCollapsed": true,
    "tags": []
   },
   "source": [
    "# rosstat"
   ]
  },
  {
   "cell_type": "code",
   "execution_count": 11,
   "id": "8c61a5de-36f5-4ef3-a2d7-6eff6e339405",
   "metadata": {},
   "outputs": [],
   "source": [
    "stats = (\n",
    "    pl.read_csv(\"../data/processed/rosstat-mts.csv\")\n",
    "    .join(\n",
    "        other=utils.polars_map(\n",
    "            jbl.load(\"../data/mappings/regions.jbl\"), \n",
    "            key_name=\"region_mts\", \n",
    "            id_name=\"region_id\", \n",
    "            id_dtype=pl.UInt8,\n",
    "        ),\n",
    "        how=\"left\",\n",
    "        on=\"region_mts\",\n",
    "    )\n",
    ")\n",
    "user_regions = fe.geo.region_stats_by_user(sessions).select([\"user_id\", \"geo_top_region_id\"])"
   ]
  },
  {
   "cell_type": "code",
   "execution_count": 12,
   "id": "89cf5c1c-5009-4453-8f75-8c0884b915ed",
   "metadata": {},
   "outputs": [
    {
     "name": "stdout",
     "output_type": "stream",
     "text": [
      "CPU times: user 58.1 ms, sys: 20.7 ms, total: 78.9 ms\n",
      "Wall time: 52.7 ms\n"
     ]
    }
   ],
   "source": [
    "%%time\n",
    "(\n",
    "    user_regions\n",
    "    .join(\n",
    "        other=fe.rosstat.region_stats(stats),\n",
    "        how=\"left\",\n",
    "        left_on=\"geo_top_region_id\",\n",
    "        right_on=\"region_id\",\n",
    "    )\n",
    "    .select(pl.exclude(\"geo_top_region_id\"))\n",
    ").write_parquet(\"../data/feat/rosstat/region-stats.pq\")"
   ]
  },
  {
   "cell_type": "code",
   "execution_count": 13,
   "id": "c7f95821-207e-4ee0-a1a0-49cda08b919a",
   "metadata": {},
   "outputs": [
    {
     "name": "stdout",
     "output_type": "stream",
     "text": [
      "CPU times: user 49.2 ms, sys: 0 ns, total: 49.2 ms\n",
      "Wall time: 29.7 ms\n"
     ]
    }
   ],
   "source": [
    "%%time\n",
    "(\n",
    "    user_regions\n",
    "    .join(\n",
    "        other=fe.rosstat.sex_share_by_region(stats),\n",
    "        how=\"left\",\n",
    "        left_on=\"geo_top_region_id\",\n",
    "        right_on=\"region_id\",\n",
    "    )\n",
    "    .select(pl.exclude(\"geo_top_region_id\"))\n",
    ").write_parquet(\"../data/feat/rosstat/sex-share.pq\")"
   ]
  },
  {
   "cell_type": "code",
   "execution_count": 14,
   "id": "e975f317-ada9-4852-a3fd-2d0a83779ffc",
   "metadata": {},
   "outputs": [
    {
     "name": "stdout",
     "output_type": "stream",
     "text": [
      "CPU times: user 133 ms, sys: 55.6 ms, total: 189 ms\n",
      "Wall time: 166 ms\n"
     ]
    }
   ],
   "source": [
    "%%time\n",
    "(\n",
    "    user_regions\n",
    "    .join(\n",
    "        other=fe.rosstat.age_share_by_region(stats),\n",
    "        how=\"left\",\n",
    "        left_on=\"geo_top_region_id\",\n",
    "        right_on=\"region_id\",\n",
    "    )\n",
    "    .select(pl.exclude(\"geo_top_region_id\"))\n",
    ").write_parquet(\"../data/feat/rosstat/age-share.pq\")"
   ]
  },
  {
   "cell_type": "code",
   "execution_count": 15,
   "id": "58b092d3-6e2d-4919-bf19-832a4152f82d",
   "metadata": {},
   "outputs": [
    {
     "name": "stdout",
     "output_type": "stream",
     "text": [
      "CPU times: user 226 ms, sys: 36.5 ms, total: 262 ms\n",
      "Wall time: 230 ms\n"
     ]
    }
   ],
   "source": [
    "%%time\n",
    "(\n",
    "    user_regions\n",
    "    .join(\n",
    "        other=fe.rosstat.sex_age_share_by_region(stats),\n",
    "        how=\"left\",\n",
    "        left_on=\"geo_top_region_id\",\n",
    "        right_on=\"region_id\",\n",
    "    )\n",
    "    .select(pl.exclude(\"geo_top_region_id\"))\n",
    ").write_parquet(\"../data/feat/rosstat/sex-age-share.pq\")"
   ]
  },
  {
   "cell_type": "markdown",
   "id": "a36e02e2-868c-4685-9b56-f5f761fa4a09",
   "metadata": {
    "tags": []
   },
   "source": [
    "# url"
   ]
  },
  {
   "cell_type": "code",
   "execution_count": 16,
   "id": "8906a205-39bf-40ff-8c5a-d14953b772ed",
   "metadata": {},
   "outputs": [
    {
     "name": "stdout",
     "output_type": "stream",
     "text": [
      "CPU times: user 2min, sys: 18.9 s, total: 2min 19s\n",
      "Wall time: 1min 10s\n"
     ]
    }
   ],
   "source": [
    "%%time\n",
    "(\n",
    "    fe.url.urls_stats_by_user(sessions)\n",
    "    .write_parquet(\"../data/feat/url/stats.pq\")\n",
    ")"
   ]
  },
  {
   "cell_type": "code",
   "execution_count": 17,
   "id": "9ffd7fb1-4d51-4af6-8107-947fbdceb61b",
   "metadata": {},
   "outputs": [
    {
     "name": "stdout",
     "output_type": "stream",
     "text": [
      "CPU times: user 3min 8s, sys: 22.2 s, total: 3min 30s\n",
      "Wall time: 50.1 s\n"
     ]
    }
   ],
   "source": [
    "%%time\n",
    "(\n",
    "    fe.url.top_n_urls_by_user(sessions, top_n=120)\n",
    "    .write_parquet(\"../data/feat/url/top-120.pq\")\n",
    ")"
   ]
  },
  {
   "cell_type": "code",
   "execution_count": 19,
   "id": "252d0bb3-142c-4cb3-ad49-05c1ac5da06e",
   "metadata": {},
   "outputs": [
    {
     "name": "stdout",
     "output_type": "stream",
     "text": [
      "CPU times: user 3min 30s, sys: 16 s, total: 3min 46s\n",
      "Wall time: 1min 37s\n"
     ]
    }
   ],
   "source": [
    "%%time\n",
    "(\n",
    "    fe.url.all_urls_by_user_as_text(sessions)\n",
    "    .write_parquet(\"../data/feat/url/all.pq\")\n",
    ")"
   ]
  },
  {
   "cell_type": "code",
   "execution_count": null,
   "id": "b3cd743f-1ba9-470c-8c29-865acc17d0ba",
   "metadata": {},
   "outputs": [],
   "source": [
    "%%time\n",
    "url_cleaner = partial(\n",
    "    u.clean_url,\n",
    "    preprocessors=[\n",
    "        u.decode_from_punycode,\n",
    "        u.lower,\n",
    "        u.replace_hyphens_with_dots,\n",
    "    ],\n",
    ")\n",
    "\n",
    "sessions = pl.read_parquet(\"../data/processed/sessions.pq\", columns=[\"user_id\", \"url_host\"])\n",
    "sessions = (\n",
    "    sessions\n",
    "    .join(\n",
    "        other=sessions\n",
    "            .select(\"url_host\")\n",
    "            .unique()\n",
    "            .with_columns(pl.col(\"url_host\").apply(url_cleaner).alias(\"url_cleaned\")),\n",
    "        on=\"url_host\",\n",
    "        how=\"left\",\n",
    "    )\n",
    "    .select(pl.exclude(\"url_host\"))\n",
    "    .with_columns(pl.col(\"url_cleaned\").alias(\"url_host\"))\n",
    ")\n",
    "\n",
    "(\n",
    "    fe.url.all_urls_combinations_as_text(sessions, k=2)\n",
    "    .write_parquet(\"../data/feat/url/combinations-k2.pq\")\n",
    ")"
   ]
  },
  {
   "cell_type": "markdown",
   "id": "d673602f-5851-4638-a63d-33c8031dd30f",
   "metadata": {
    "tags": []
   },
   "source": [
    "# time"
   ]
  },
  {
   "cell_type": "code",
   "execution_count": 4,
   "id": "16262eb4-4842-455a-a7bd-93f15551323f",
   "metadata": {},
   "outputs": [
    {
     "name": "stdout",
     "output_type": "stream",
     "text": [
      "CPU times: user 1min 20s, sys: 3.97 s, total: 1min 24s\n",
      "Wall time: 19 s\n"
     ]
    }
   ],
   "source": [
    "%%time\n",
    "fe.time.time_period_by_user(sessions).write_parquet(\"../data/feat/time/period.pq\")"
   ]
  },
  {
   "cell_type": "code",
   "execution_count": 21,
   "id": "f32caa84-6bf5-4d48-81e6-39b463edd70a",
   "metadata": {},
   "outputs": [
    {
     "name": "stdout",
     "output_type": "stream",
     "text": [
      "CPU times: user 26.2 s, sys: 5.78 s, total: 32 s\n",
      "Wall time: 4.32 s\n"
     ]
    }
   ],
   "source": [
    "%%time\n",
    "fe.time.top_part_of_day_by_user(sessions).write_parquet(\"../data/feat/time/top-part-of-day.pq\")"
   ]
  },
  {
   "cell_type": "code",
   "execution_count": 22,
   "id": "bcd6272b-635b-4c9c-a04f-f8cfed840543",
   "metadata": {},
   "outputs": [
    {
     "name": "stdout",
     "output_type": "stream",
     "text": [
      "CPU times: user 38.3 s, sys: 7.77 s, total: 46.1 s\n",
      "Wall time: 9.63 s\n"
     ]
    }
   ],
   "source": [
    "%%time\n",
    "fe.time.part_of_day_distribution_by_user(sessions).write_parquet(\"../data/feat/time/part-of-day-dist.pq\")"
   ]
  },
  {
   "cell_type": "markdown",
   "id": "cf8006bf-de19-4f66-bba4-b83f6e1cf1ba",
   "metadata": {},
   "source": [
    "# usage"
   ]
  },
  {
   "cell_type": "code",
   "execution_count": 23,
   "id": "fe1f6b39-d65c-4be7-88a1-ab00cc82abdf",
   "metadata": {},
   "outputs": [
    {
     "name": "stdout",
     "output_type": "stream",
     "text": [
      "CPU times: user 4min 58s, sys: 4.12 s, total: 5min 2s\n",
      "Wall time: 38.2 s\n"
     ]
    }
   ],
   "source": [
    "%%time\n",
    "fe.usage.total_usage_stats_by_user(sessions).write_parquet(\"../data/feat/usage/total.pq\")"
   ]
  },
  {
   "cell_type": "code",
   "execution_count": 24,
   "id": "410dc0e1-ed87-4ed8-b73d-332e43ac067f",
   "metadata": {},
   "outputs": [
    {
     "name": "stdout",
     "output_type": "stream",
     "text": [
      "CPU times: user 10min 44s, sys: 9.45 s, total: 10min 54s\n",
      "Wall time: 1min 23s\n"
     ]
    }
   ],
   "source": [
    "%%time\n",
    "fe.usage.usage_stats_per_date(sessions).write_parquet(\"../data/feat/usage/per-date.pq\")"
   ]
  },
  {
   "cell_type": "code",
   "execution_count": 25,
   "id": "cf740e71-cac6-4ef0-a796-0150228a5aa1",
   "metadata": {},
   "outputs": [
    {
     "name": "stdout",
     "output_type": "stream",
     "text": [
      "CPU times: user 3min 12s, sys: 20.9 s, total: 3min 32s\n",
      "Wall time: 29.7 s\n"
     ]
    }
   ],
   "source": [
    "%%time\n",
    "fe.usage.usage_stats_per_part_of_day(sessions).write_parquet(\"../data/feat/usage/per-part-of-day.pq\")"
   ]
  },
  {
   "cell_type": "code",
   "execution_count": 26,
   "id": "13c49f8f-8ac8-4f4e-abf6-1fa721d3c608",
   "metadata": {},
   "outputs": [
    {
     "name": "stdout",
     "output_type": "stream",
     "text": [
      "CPU times: user 18min 17s, sys: 16.1 s, total: 18min 33s\n",
      "Wall time: 2min 22s\n"
     ]
    }
   ],
   "source": [
    "%%time\n",
    "fe.usage.usage_stats_per_url(sessions).write_parquet(\"../data/feat/usage/per-url.pq\")"
   ]
  },
  {
   "cell_type": "code",
   "execution_count": 27,
   "id": "ba357ed7-268e-4c9d-9420-686c19f3cd92",
   "metadata": {},
   "outputs": [
    {
     "name": "stdout",
     "output_type": "stream",
     "text": [
      "CPU times: user 4min 5s, sys: 13.7 s, total: 4min 18s\n",
      "Wall time: 35.3 s\n"
     ]
    }
   ],
   "source": [
    "%%time\n",
    "fe.usage.usage_stats_per_session(sessions).write_parquet(\"../data/feat/usage/per-session.pq\")"
   ]
  },
  {
   "cell_type": "code",
   "execution_count": 28,
   "id": "2d72e016-e790-4f02-978a-3996eac1e513",
   "metadata": {},
   "outputs": [
    {
     "name": "stdout",
     "output_type": "stream",
     "text": [
      "CPU times: user 8min 44s, sys: 47.9 s, total: 9min 32s\n",
      "Wall time: 1min 44s\n"
     ]
    }
   ],
   "source": [
    "%%time\n",
    "fe.usage.usage_stats_per_daily_visit(sessions).write_parquet(\"../data/feat/usage/per-daily-visit.pq\")"
   ]
  },
  {
   "cell_type": "code",
   "execution_count": 29,
   "id": "4548d7f7-182c-43a4-8133-e9c244189451",
   "metadata": {},
   "outputs": [
    {
     "name": "stdout",
     "output_type": "stream",
     "text": [
      "CPU times: user 4min 27s, sys: 23.1 s, total: 4min 51s\n",
      "Wall time: 46.1 s\n"
     ]
    }
   ],
   "source": [
    "%%time\n",
    "fe.usage.usage_stats_per_partly_visit(sessions).write_parquet(\"../data/feat/usage/per-partly-visit.pq\")"
   ]
  },
  {
   "cell_type": "code",
   "execution_count": null,
   "id": "6e0ab22a-3b95-490e-8b8d-a91d50bf8c3e",
   "metadata": {},
   "outputs": [],
   "source": [
    "%%time\n",
    "fe.usage.usage_stats_per_visit(sessions).write_parquet(\"../data/feat/usage/per-visit.pq\")"
   ]
  },
  {
   "cell_type": "code",
   "execution_count": null,
   "id": "dd621cb5-062e-4263-867f-8daeb41a2123",
   "metadata": {},
   "outputs": [],
   "source": []
  }
 ],
 "metadata": {
  "kernelspec": {
   "display_name": "Python (mts-ml-cup)",
   "language": "python",
   "name": "mts-ml-cup"
  },
  "language_info": {
   "codemirror_mode": {
    "name": "ipython",
    "version": 3
   },
   "file_extension": ".py",
   "mimetype": "text/x-python",
   "name": "python",
   "nbconvert_exporter": "python",
   "pygments_lexer": "ipython3",
   "version": "3.8.10"
  }
 },
 "nbformat": 4,
 "nbformat_minor": 5
}
