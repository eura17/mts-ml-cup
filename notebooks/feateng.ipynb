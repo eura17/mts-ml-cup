{
 "cells": [
  {
   "cell_type": "code",
   "execution_count": 1,
   "id": "79364e91-a05a-4393-886e-75ab288a45f9",
   "metadata": {},
   "outputs": [],
   "source": [
    "%load_ext autoreload\n",
    "%autoreload 2"
   ]
  },
  {
   "cell_type": "code",
   "execution_count": 2,
   "id": "7a933afb-81ac-403b-b232-b64f82eda4f3",
   "metadata": {},
   "outputs": [],
   "source": [
    "from functools import partial\n",
    "\n",
    "import joblib as jbl\n",
    "import polars as pl\n",
    "\n",
    "from mts_ml_cup import feature_engineering as fe\n",
    "from mts_ml_cup import urls as u"
   ]
  },
  {
   "cell_type": "code",
   "execution_count": 3,
   "id": "cbfdff3e-7bb1-4b19-948b-7341d6c90beb",
   "metadata": {},
   "outputs": [
    {
     "name": "stdout",
     "output_type": "stream",
     "text": [
      "CPU times: user 35.4 s, sys: 11 s, total: 46.4 s\n",
      "Wall time: 22 s\n"
     ]
    }
   ],
   "source": [
    "%%time\n",
    "sessions = pl.read_parquet(\"../data/processed/sessions.pq\")"
   ]
  },
  {
   "cell_type": "code",
   "execution_count": 32,
   "id": "c60389cb-3f27-447a-8bcb-9fcd9de26cf2",
   "metadata": {},
   "outputs": [
    {
     "name": "stdout",
     "output_type": "stream",
     "text": [
      "CPU times: user 57 s, sys: 13.2 s, total: 1min 10s\n",
      "Wall time: 15.3 s\n"
     ]
    }
   ],
   "source": [
    "%%time\n",
    "(\n",
    "    fe.device.main(sessions)\n",
    "    .write_parquet(\"../data/feat/device.pq\")\n",
    ")"
   ]
  },
  {
   "cell_type": "code",
   "execution_count": 57,
   "id": "1b6bc52f-8703-4050-bc2d-b76c0b913b70",
   "metadata": {},
   "outputs": [
    {
     "name": "stdout",
     "output_type": "stream",
     "text": [
      "CPU times: user 47.3 s, sys: 12.7 s, total: 1min\n",
      "Wall time: 8.54 s\n"
     ]
    }
   ],
   "source": [
    "%%time\n",
    "(\n",
    "    fe.geo.main(\n",
    "        sessions=sessions, \n",
    "        rosstat_stats=pl.read_csv(\"../data/processed/rosstat-mts.csv\"), \n",
    "        regions_mapping=jbl.load(\"../data/mappings/regions.jbl\"),\n",
    "    )\n",
    "    .write_parquet(\"../data/feat/geo.pq\")\n",
    ")"
   ]
  },
  {
   "cell_type": "code",
   "execution_count": 6,
   "id": "a5bab101-45e3-4021-a12f-0cab99248830",
   "metadata": {},
   "outputs": [
    {
     "name": "stdout",
     "output_type": "stream",
     "text": [
      "CPU times: user 1h 46min 18s, sys: 7min 17s, total: 1h 53min 36s\n",
      "Wall time: 11min 26s\n"
     ]
    }
   ],
   "source": [
    "%%time\n",
    "(\n",
    "    fe.history.main(\n",
    "        sessions=sessions,\n",
    "        url_cleaner=partial(\n",
    "            u.clean_url,\n",
    "            preprocessors=[\n",
    "                u.decode_from_punycode,\n",
    "                u.lower,\n",
    "                u.replace_hyphens_with_points,\n",
    "            ],\n",
    "        )\n",
    "    )\n",
    "    .write_parquet(\"../data/feat/history.pq\")\n",
    ")"
   ]
  },
  {
   "cell_type": "code",
   "execution_count": null,
   "id": "735c9d3f-9262-45fd-9a72-9b99a7683d24",
   "metadata": {},
   "outputs": [],
   "source": [
    "pl.read_parquet(\"../data/feat/history.pq\")"
   ]
  },
  {
   "cell_type": "markdown",
   "id": "5a64dc44-7c63-4d68-b236-9bdc355c16d5",
   "metadata": {},
   "source": [
    "# агрегаты по пользователю\n",
    "\n",
    "## паттерны серфинга\n",
    "* кол-во запросов (+ отношения в разрезе по временам суток + среднее за 1 день/часть дня)\n",
    "* кол-во уникальных урлов (+ отношения в разрезе по временам суток + среднее за 1 день/часть дня)\n",
    "* средняя длина урла в символах (+ отношения в разрезе по временам суток + среднее за 1 день/часть дня)\n",
    "* средняя длина урла в доменных именах (+ отношения в разрезе по временам суток + среднее за 1 день/часть дня)\n",
    "* кол-во строк/дней/частей дней\n",
    "\n",
    "* подумать про совпадения множеств\n",
    "\n",
    "## гео-инфа\n",
    "* топ-регион и топ-город\n",
    "* кол-во уникальных регионов и городов"
   ]
  },
  {
   "cell_type": "markdown",
   "id": "d441b912-7d05-4dfa-a26f-1d90c22a39b1",
   "metadata": {
    "tags": []
   },
   "source": [
    "# geo\n",
    "\n",
    "1. топ-регион/топ-город для каждого пользователя – считаем, что это его родные регион и город\n",
    "\n",
    "2. расчет статистик по **топ-региону/топ-городу**\n",
    "    * кол-во пользователей в топ-регионе/топ-городе (+отношение к общему)\n",
    "    * кол-во запросов в топ-регионе/топ-городе (+отношение к общему)\n",
    "    * кол-во уникальных урлов в топ-регионе/топ-городе (+отношение к общему)\n",
    "    \n",
    "    * средняя длина урла в символах в топ-регионе/топ-городе (+отношение к среднему)\n",
    "    * среднее кол-во доменных имен в топ-регионе/топ-городе (+отношение к среднему)\n",
    "    \n",
    "    * среднее кол-во запросов в топ-регионе/топ-городе на 1 пользователя (+отношение к среднему)\n",
    "    * среднее кол-во уникальных урлов в топ-регионе/топ-городе на 1 пользователя (+отношение к среднему)\n",
    "    * среднее кол-во запросов в топ-регионе/топ-городе на 1 пользователя во время суток (+отношение к общему)\n",
    "    * среднее кол-во уникальных урлов в топ-регионе/топ-городе на 1 пользователя во время суток (+отношение к общему)\n",
    "    \n",
    "    * кол-во уникальных брендов/моделей в топ-регионе/топ-городе (+отношение к общему)\n",
    "    * средняя цена устройства в топ-регионе/топ-городе (+отношение к общему)\n",
    "    * наиболее популярное время суток в регионе\n",
    "    \n",
    "\n",
    "3. внешние данные с росстата по региону\n",
    "    * кол-во мужчин и женщин (+отношение к общему)\n",
    "    * кол-во жителей каждого бакета возраста (+отношение к общему)\n",
    "    * кол-во городских/сельских жителей (+отношение к общему)\n",
    "    * доля мужчин/женщин (+отношение к среднему)\n",
    "    * доля жителей каждого бакета возраста (+отношение к среднему)\n",
    "    * доля городских/сельских жителей (+отношение к среднему)"
   ]
  },
  {
   "cell_type": "code",
   "execution_count": 13,
   "id": "4be29ec1-26fd-4adc-b9a7-567ad57ac905",
   "metadata": {},
   "outputs": [
    {
     "name": "stdout",
     "output_type": "stream",
     "text": [
      "CPU times: user 1min 11s, sys: 1min 29s, total: 2min 41s\n",
      "Wall time: 32.3 s\n"
     ]
    }
   ],
   "source": [
    "%%time\n",
    "res = fe.geo.unique_regions(df)"
   ]
  },
  {
   "cell_type": "code",
   "execution_count": 24,
   "id": "71ce2725-b5d1-4eca-90b4-46c13aef4c70",
   "metadata": {},
   "outputs": [],
   "source": [
    "res.to_pandas().to_parquet(\"../data/features/geo/n_regions.pq\")"
   ]
  },
  {
   "cell_type": "code",
   "execution_count": 57,
   "id": "5704c9ee-c9e4-4aa6-9cae-9c85173fd32e",
   "metadata": {},
   "outputs": [
    {
     "name": "stdout",
     "output_type": "stream",
     "text": [
      "CPU times: user 56.6 s, sys: 23 s, total: 1min 19s\n",
      "Wall time: 3.32 s\n"
     ]
    }
   ],
   "source": [
    "%%time\n",
    "res = fe.geo.the_most_popular_region(df)"
   ]
  },
  {
   "cell_type": "code",
   "execution_count": 59,
   "id": "8cb380cd-ffa0-43ce-aa22-1a5519f5fd6b",
   "metadata": {},
   "outputs": [],
   "source": [
    "res.to_pandas().to_parquet(\"../data/features/geo/top_region.pq\")"
   ]
  },
  {
   "cell_type": "code",
   "execution_count": 48,
   "id": "64b6b8ad-8f8b-45a3-91bd-cd0cf9501253",
   "metadata": {},
   "outputs": [
    {
     "name": "stdout",
     "output_type": "stream",
     "text": [
      "CPU times: user 1min 15s, sys: 1min 51s, total: 3min 7s\n",
      "Wall time: 11.1 s\n"
     ]
    }
   ],
   "source": [
    "%%time\n",
    "res = fe.geo.unique_cities(df)"
   ]
  },
  {
   "cell_type": "code",
   "execution_count": 50,
   "id": "a2c34548-24ad-4b90-820a-a26666a1b571",
   "metadata": {},
   "outputs": [],
   "source": [
    "res.to_pandas().to_parquet(\"../data/features/geo/n_cities.pq\")"
   ]
  },
  {
   "cell_type": "code",
   "execution_count": 66,
   "id": "dcfda152-5c18-4df0-8bb1-cf1b8795ac69",
   "metadata": {},
   "outputs": [
    {
     "name": "stdout",
     "output_type": "stream",
     "text": [
      "CPU times: user 2min 15s, sys: 2min 52s, total: 5min 7s\n",
      "Wall time: 42.9 s\n"
     ]
    }
   ],
   "source": [
    "%%time\n",
    "res = fe.geo.the_most_popular_city(df)"
   ]
  },
  {
   "cell_type": "code",
   "execution_count": 68,
   "id": "3d5220e6-8a78-4234-a32a-6d125ade668f",
   "metadata": {},
   "outputs": [],
   "source": [
    "res.to_pandas().to_parquet(\"../data/features/geo/top_city.pq\")"
   ]
  },
  {
   "cell_type": "markdown",
   "id": "06e6a1b4-abaf-4f2a-ac9d-48c6a8f9c3d3",
   "metadata": {
    "jp-MarkdownHeadingCollapsed": true,
    "tags": []
   },
   "source": [
    "# device"
   ]
  },
  {
   "cell_type": "code",
   "execution_count": 74,
   "id": "cf880bfb-07a8-4bce-b2de-52b1de7bbc6a",
   "metadata": {},
   "outputs": [],
   "source": [
    "manufacturers = df[\"cpe_manufacturer_name\"].unique().to_list()"
   ]
  },
  {
   "cell_type": "code",
   "execution_count": 127,
   "id": "d84bff4d-c02c-4f1c-b9d4-90811c4fbd65",
   "metadata": {},
   "outputs": [
    {
     "name": "stdout",
     "output_type": "stream",
     "text": [
      "CPU times: user 1min 9s, sys: 44.5 s, total: 1min 54s\n",
      "Wall time: 20 s\n"
     ]
    }
   ],
   "source": [
    "%%time\n",
    "res = fe.device.device_manufacturer(df)"
   ]
  },
  {
   "cell_type": "code",
   "execution_count": 128,
   "id": "33227747-1801-4c24-a0a8-76d6c2b68e0c",
   "metadata": {},
   "outputs": [],
   "source": [
    "res.to_pandas().to_parquet(\"../data/features/device/manufacturer.pq\")"
   ]
  },
  {
   "cell_type": "code",
   "execution_count": 129,
   "id": "dddff9e1-65c4-4519-8977-3e0e9d91f834",
   "metadata": {},
   "outputs": [
    {
     "name": "stdout",
     "output_type": "stream",
     "text": [
      "CPU times: user 1min 39s, sys: 53.1 s, total: 2min 32s\n",
      "Wall time: 29.5 s\n"
     ]
    }
   ],
   "source": [
    "%%time\n",
    "res = fe.device.device_model(df)"
   ]
  },
  {
   "cell_type": "code",
   "execution_count": 130,
   "id": "171e4bc1-7cf8-46e4-ad33-3857de15f8b9",
   "metadata": {},
   "outputs": [],
   "source": [
    "res.to_pandas().to_parquet(\"../data/features/device/model.pq\")"
   ]
  },
  {
   "cell_type": "code",
   "execution_count": 157,
   "id": "97560adf-be4f-4bd3-96e5-345ac92d7161",
   "metadata": {},
   "outputs": [
    {
     "name": "stdout",
     "output_type": "stream",
     "text": [
      "CPU times: user 7.34 s, sys: 3.49 s, total: 10.8 s\n",
      "Wall time: 776 ms\n"
     ]
    }
   ],
   "source": [
    "%%time\n",
    "res = fe.device.device_mean_price(df)"
   ]
  },
  {
   "cell_type": "code",
   "execution_count": 161,
   "id": "6a7272b7-688d-4709-b092-40f4d7ec779f",
   "metadata": {},
   "outputs": [],
   "source": [
    "res.to_pandas().to_parquet(\"../data/features/device/mean_price.pq\")"
   ]
  },
  {
   "cell_type": "markdown",
   "id": "d10f763c-05fa-4286-a0ec-d5f1baa34708",
   "metadata": {
    "jp-MarkdownHeadingCollapsed": true,
    "tags": []
   },
   "source": [
    "# url"
   ]
  },
  {
   "cell_type": "code",
   "execution_count": 169,
   "id": "98e7a433-7771-4ad1-b0c7-79c76066ee59",
   "metadata": {},
   "outputs": [
    {
     "name": "stdout",
     "output_type": "stream",
     "text": [
      "CPU times: user 2min 2s, sys: 37.4 s, total: 2min 40s\n",
      "Wall time: 17 s\n"
     ]
    }
   ],
   "source": [
    "%%time\n",
    "res = fe.url.unique_urls(df)"
   ]
  },
  {
   "cell_type": "code",
   "execution_count": 170,
   "id": "614cf7f0-dee4-4312-9451-8e734062fe93",
   "metadata": {},
   "outputs": [],
   "source": [
    "res.to_pandas().to_parquet(\"../data/features/url/n_urls.pq\")"
   ]
  },
  {
   "cell_type": "code",
   "execution_count": 174,
   "id": "1dee02f4-8310-48ee-9e22-37a8db41ce81",
   "metadata": {},
   "outputs": [
    {
     "name": "stdout",
     "output_type": "stream",
     "text": [
      "CPU times: user 2min 4s, sys: 26.7 s, total: 2min 30s\n",
      "Wall time: 16.8 s\n"
     ]
    }
   ],
   "source": [
    "%%time\n",
    "res = fe.url.avg_url_length(df)"
   ]
  },
  {
   "cell_type": "code",
   "execution_count": 175,
   "id": "aeaf41bf-f90a-4329-9243-6e563ad5ce28",
   "metadata": {},
   "outputs": [],
   "source": [
    "res.to_pandas().to_parquet(\"../data/features/url/avg_url_length.pq\")"
   ]
  },
  {
   "cell_type": "markdown",
   "id": "affbda09-fab0-42de-aa0f-ddd63988a505",
   "metadata": {
    "tags": []
   },
   "source": [
    "# session"
   ]
  },
  {
   "cell_type": "code",
   "execution_count": 197,
   "id": "acf30515-c63b-45c8-98ba-e254c8effbed",
   "metadata": {},
   "outputs": [
    {
     "name": "stdout",
     "output_type": "stream",
     "text": [
      "CPU times: user 6.52 s, sys: 3.48 s, total: 10 s\n",
      "Wall time: 783 ms\n"
     ]
    }
   ],
   "source": [
    "%%time\n",
    "res = fe.session.total_requests(df)\n",
    "res.to_pandas().to_parquet(\"../data/features/session/total_requests.pq\")"
   ]
  },
  {
   "cell_type": "markdown",
   "id": "28fa0bc3-3990-4b99-959d-bdae31d70f99",
   "metadata": {},
   "source": [
    "## daily"
   ]
  },
  {
   "cell_type": "code",
   "execution_count": 188,
   "id": "92d93d84-84c5-41d8-9498-482c17e79150",
   "metadata": {},
   "outputs": [
    {
     "name": "stdout",
     "output_type": "stream",
     "text": [
      "CPU times: user 2min 22s, sys: 8.26 s, total: 2min 31s\n",
      "Wall time: 9.29 s\n"
     ]
    }
   ],
   "source": [
    "%%time\n",
    "res = fe.session.n_sessions(df, group=[\"date\"], name=\"n_days\")\n",
    "res.to_pandas().to_parquet(\"../data/features/session/n_days.pq\")"
   ]
  },
  {
   "cell_type": "code",
   "execution_count": 190,
   "id": "c0378e57-725f-4a12-ad5b-d15ddf9870ba",
   "metadata": {},
   "outputs": [
    {
     "name": "stdout",
     "output_type": "stream",
     "text": [
      "CPU times: user 4min 42s, sys: 1min 18s, total: 6min 1s\n",
      "Wall time: 36.5 s\n"
     ]
    }
   ],
   "source": [
    "%%time\n",
    "res = fe.session.avg_unique_urls_by_session(df, group=[\"date\"], name=\"avg_urls_by_day\")\n",
    "res.to_pandas().to_parquet(\"../data/features/session/avg_urls_by_day.pq\")"
   ]
  },
  {
   "cell_type": "code",
   "execution_count": 194,
   "id": "c46f2db3-50f3-4e2b-8748-cff37d0dbb2d",
   "metadata": {},
   "outputs": [
    {
     "name": "stdout",
     "output_type": "stream",
     "text": [
      "CPU times: user 3min 27s, sys: 1min 39s, total: 5min 6s\n",
      "Wall time: 46.7 s\n"
     ]
    }
   ],
   "source": [
    "%%time\n",
    "res = fe.session.avg_requests_by_session(df, group=[\"date\"], name=\"avg_requests_by_day\")\n",
    "res.to_pandas().to_parquet(\"../data/features/session/avg_requests_by_day.pq\")"
   ]
  },
  {
   "cell_type": "code",
   "execution_count": 215,
   "id": "2d62bae6-b14a-4a43-aace-5046edde305f",
   "metadata": {},
   "outputs": [
    {
     "name": "stdout",
     "output_type": "stream",
     "text": [
      "CPU times: user 3min 44s, sys: 24.3 s, total: 4min 8s\n",
      "Wall time: 21.4 s\n"
     ]
    }
   ],
   "source": [
    "%%time\n",
    "res = fe.session.avg_day_parts_by_day(df)\n",
    "res.to_pandas().to_parquet(\"../data/features/session/avg_day_parts_by_day.pq\")"
   ]
  },
  {
   "cell_type": "markdown",
   "id": "ffd05950-8d5b-4369-acdb-a05449f3e43e",
   "metadata": {},
   "source": [
    "## semi-daily (date + part_of_day)"
   ]
  },
  {
   "cell_type": "code",
   "execution_count": 198,
   "id": "93948b48-03fb-4dbe-92b2-b1070d1edd29",
   "metadata": {},
   "outputs": [
    {
     "name": "stdout",
     "output_type": "stream",
     "text": [
      "CPU times: user 2min 30s, sys: 19.3 s, total: 2min 49s\n",
      "Wall time: 16.9 s\n"
     ]
    }
   ],
   "source": [
    "%%time\n",
    "res = fe.session.n_sessions(df, group=[\"date\", \"part_of_day\"], name=\"n_day_parts\")\n",
    "res.to_pandas().to_parquet(\"../data/features/session/n_day_parts.pq\")"
   ]
  },
  {
   "cell_type": "code",
   "execution_count": 200,
   "id": "d28db580-f72b-451a-bd8c-7acff2cda892",
   "metadata": {},
   "outputs": [
    {
     "name": "stdout",
     "output_type": "stream",
     "text": [
      "CPU times: user 6min 38s, sys: 2min 7s, total: 8min 45s\n",
      "Wall time: 1min 6s\n"
     ]
    }
   ],
   "source": [
    "%%time\n",
    "res = fe.session.avg_unique_urls_by_session(df, group=[\"date\", \"part_of_day\"], name=\"avg_urls_by_day_part\")\n",
    "res.to_pandas().to_parquet(\"../data/features/session/avg_urls_by_day_part.pq\")"
   ]
  },
  {
   "cell_type": "code",
   "execution_count": 203,
   "id": "4aa19a73-7400-4b80-b119-bf7dc6a98a83",
   "metadata": {},
   "outputs": [
    {
     "name": "stdout",
     "output_type": "stream",
     "text": [
      "CPU times: user 4min 1s, sys: 1min 37s, total: 5min 38s\n",
      "Wall time: 1min 1s\n"
     ]
    }
   ],
   "source": [
    "%%time\n",
    "res = fe.session.avg_requests_by_session(df, group=[\"date\", \"part_of_day\"], name=\"avg_requests_by_day_part\")\n",
    "res.to_pandas().to_parquet(\"../data/features/session/avg_requests_by_day_part.pq\")"
   ]
  },
  {
   "cell_type": "markdown",
   "id": "a8b39b9c-d366-4c93-9c9c-6e6ee81327b4",
   "metadata": {},
   "source": [
    "## site-wise"
   ]
  },
  {
   "cell_type": "code",
   "execution_count": 205,
   "id": "61a05281-a978-43db-bf1d-b3342dd104ae",
   "metadata": {},
   "outputs": [
    {
     "name": "stdout",
     "output_type": "stream",
     "text": [
      "CPU times: user 6min 23s, sys: 2min 5s, total: 8min 28s\n",
      "Wall time: 1min 43s\n"
     ]
    }
   ],
   "source": [
    "%%time\n",
    "res = fe.session.n_sessions(df, group=[\"date\", \"part_of_day\", \"url_host\"], name=\"n_sessions\")\n",
    "res.to_pandas().to_parquet(\"../data/features/session/n_sessions.pq\")"
   ]
  },
  {
   "cell_type": "code",
   "execution_count": 207,
   "id": "332ab1d9-b7d9-438d-8484-32cd29539b91",
   "metadata": {},
   "outputs": [
    {
     "name": "stdout",
     "output_type": "stream",
     "text": [
      "CPU times: user 14min 36s, sys: 4min 21s, total: 18min 57s\n",
      "Wall time: 4min 53s\n"
     ]
    }
   ],
   "source": [
    "%%time\n",
    "res = fe.session.avg_requests_by_session(df, group=[\"date\", \"part_of_day\", \"url_host\"], name=\"avg_requests_by_session\")\n",
    "res.to_pandas().to_parquet(\"../data/features/session/avg_requests_by_session.pq\")"
   ]
  },
  {
   "cell_type": "markdown",
   "id": "1c79ed53-fb75-4c64-bb29-403f57f8c702",
   "metadata": {
    "tags": []
   },
   "source": [
    "# part_of_day stats"
   ]
  },
  {
   "cell_type": "code",
   "execution_count": 219,
   "id": "b7a1929c-6f47-46aa-a28a-f2eae31f8faa",
   "metadata": {},
   "outputs": [
    {
     "name": "stdout",
     "output_type": "stream",
     "text": [
      "CPU times: user 1min 3s, sys: 6.4 s, total: 1min 10s\n",
      "Wall time: 3.2 s\n"
     ]
    }
   ],
   "source": [
    "%%time\n",
    "res = fe.session.the_most_popular_part_of_day(df)\n",
    "res.to_pandas().to_parquet(\"../data/features/session/top_part_of_day.pq\")"
   ]
  },
  {
   "cell_type": "code",
   "execution_count": 236,
   "id": "521b1377-4d8b-4445-9286-3f4ff9eac4df",
   "metadata": {},
   "outputs": [
    {
     "name": "stdout",
     "output_type": "stream",
     "text": [
      "CPU times: user 2min 32s, sys: 2min 32s, total: 5min 5s\n",
      "Wall time: 1min 1s\n"
     ]
    }
   ],
   "source": [
    "%%time\n",
    "res = fe.part_of_day.days_share_by_part_of_day(df)\n",
    "res.to_pandas().to_parquet(\"../data/features/part_of_day/days_share.pq\")"
   ]
  },
  {
   "cell_type": "code",
   "execution_count": 240,
   "id": "01f8f3e2-0bb7-4dd1-95e9-737ab24f7a07",
   "metadata": {},
   "outputs": [
    {
     "name": "stdout",
     "output_type": "stream",
     "text": [
      "CPU times: user 3min 15s, sys: 2min 34s, total: 5min 49s\n",
      "Wall time: 1min 3s\n"
     ]
    }
   ],
   "source": [
    "%%time\n",
    "res = fe.part_of_day.urls_share_by_part_of_day(df)\n",
    "res.to_pandas().to_parquet(\"../data/features/part_of_day/urls_share.pq\")"
   ]
  },
  {
   "cell_type": "code",
   "execution_count": 245,
   "id": "83daf0aa-cbda-4c92-8f28-c4b82d25fd41",
   "metadata": {},
   "outputs": [
    {
     "name": "stdout",
     "output_type": "stream",
     "text": [
      "CPU times: user 1min 4s, sys: 9.87 s, total: 1min 14s\n",
      "Wall time: 4.05 s\n"
     ]
    }
   ],
   "source": [
    "%%time\n",
    "res = fe.part_of_day.requests_share_by_part_of_day(df)\n",
    "res.to_pandas().to_parquet(\"../data/features/part_of_day/requests_share.pq\")"
   ]
  },
  {
   "cell_type": "code",
   "execution_count": 249,
   "id": "192312f3-a89e-42db-9b92-cb01bacecfdf",
   "metadata": {},
   "outputs": [],
   "source": [
    "urls = df[\"url_host\"].unique()"
   ]
  },
  {
   "cell_type": "code",
   "execution_count": 251,
   "id": "d8d7f572-90a7-4040-a612-1ad1e58faf3f",
   "metadata": {},
   "outputs": [],
   "source": [
    "urls.to_pandas().to_csv(\"../data/processed/urls.csv\")"
   ]
  },
  {
   "cell_type": "code",
   "execution_count": 253,
   "id": "9ae0ada7-7216-4f2f-aee7-b337cbbbb16a",
   "metadata": {},
   "outputs": [],
   "source": [
    "r = pd.read_parquet(\"../data/features/url/n_urls.pq\")"
   ]
  },
  {
   "cell_type": "code",
   "execution_count": 256,
   "id": "f13ae1ee-a602-44ee-9ba0-51cb8710520f",
   "metadata": {},
   "outputs": [
    {
     "data": {
      "text/plain": [
       "<Axes: ylabel='Frequency'>"
      ]
     },
     "execution_count": 256,
     "metadata": {},
     "output_type": "execute_result"
    },
    {
     "data": {
      "image/png": "[encoded data removed]",
      "text/plain": [
       "<Figure size 640x480 with 1 Axes>"
      ]
     },
     "metadata": {},
     "output_type": "display_data"
    }
   ],
   "source": [
    "r[\"n_urls\"].plot.hist(bins=90)"
   ]
  },
  {
   "cell_type": "code",
   "execution_count": 257,
   "id": "0d1fe8b8-e39c-4d34-8dce-2177af16cc7f",
   "metadata": {},
   "outputs": [
    {
     "data": {
      "text/plain": [
       "count    415317.000000\n",
       "mean         77.718150\n",
       "std          70.130401\n",
       "min           1.000000\n",
       "25%          28.000000\n",
       "50%          60.000000\n",
       "75%         107.000000\n",
       "max        1642.000000\n",
       "Name: n_urls, dtype: float64"
      ]
     },
     "execution_count": 257,
     "metadata": {},
     "output_type": "execute_result"
    }
   ],
   "source": [
    "r[\"n_urls\"].describe()"
   ]
  },
  {
   "cell_type": "code",
   "execution_count": 263,
   "id": "f3211d51-f057-4358-b9aa-bcf9475068e6",
   "metadata": {},
   "outputs": [
    {
     "data": {
      "text/plain": [
       "121.0"
      ]
     },
     "execution_count": 263,
     "metadata": {},
     "output_type": "execute_result"
    }
   ],
   "source": [
    "r[\"n_urls\"].quantile(0.8)"
   ]
  },
  {
   "cell_type": "markdown",
   "id": "d4577f07-0912-4506-8d97-9267527c4f55",
   "metadata": {},
   "source": [
    "# urls"
   ]
  },
  {
   "cell_type": "code",
   "execution_count": 267,
   "id": "afe9a315-44ef-4ab0-bfdc-00247f916578",
   "metadata": {},
   "outputs": [],
   "source": [
    "user_urls = (\n",
    "    df\n",
    "    .groupby([\"user_id\", \"url_host\"])\n",
    "    .agg(pl.col(\"request_cnt\").sum())\n",
    "    .sort([\"user_id\", \"request_cnt\", \"url_host\"], reverse=[False, True, False])\n",
    ")"
   ]
  },
  {
   "cell_type": "code",
   "execution_count": 271,
   "id": "84290c71-a4a4-49fd-962f-9fa5ff1736c1",
   "metadata": {},
   "outputs": [],
   "source": [
    "user_total_request = user_urls.groupby(\"user_id\").agg(pl.col(\"request_cnt\").sum().alias(\"total_request_cnt\"))"
   ]
  },
  {
   "cell_type": "code",
   "execution_count": 273,
   "id": "307e8850-a803-48af-b493-672782d5307f",
   "metadata": {},
   "outputs": [],
   "source": [
    "uu = user_urls.join(user_total_request, on=\"user_id\")"
   ]
  },
  {
   "cell_type": "code",
   "execution_count": 275,
   "id": "1d0841fd-bd23-4a73-9c53-e55d9240b42b",
   "metadata": {},
   "outputs": [],
   "source": [
    "uu = uu.with_columns((pl.col(\"request_cnt\") / pl.col(\"total_request_cnt\")).alias(\"url_request_share\"))"
   ]
  },
  {
   "cell_type": "code",
   "execution_count": 279,
   "id": "0039d4ce-3f6a-41fd-8bb2-f04d44a61865",
   "metadata": {},
   "outputs": [],
   "source": [
    "user_url_usage = uu.groupby(\"user_id\").agg(pl.col(\"url_request_share\").cumsum())"
   ]
  },
  {
   "cell_type": "code",
   "execution_count": 302,
   "id": "303020ad-047a-4476-b0ea-16a8ba9edf26",
   "metadata": {},
   "outputs": [
    {
     "name": "stdout",
     "output_type": "stream",
     "text": [
      "CPU times: user 3min 59s, sys: 5.62 s, total: 4min 4s\n",
      "Wall time: 4min\n"
     ]
    }
   ],
   "source": [
    "%%time\n",
    "user_url_usage_ = user_url_usage.with_columns(\n",
    "    [\n",
    "        pl.col(\"url_request_share\")\n",
    "        .apply(lambda cs: max(len(list(filter(lambda x: x < 0.5, cs))), 1))\n",
    "        .alias(\"q50\"),\n",
    "        pl.col(\"url_request_share\")\n",
    "        .apply(lambda cs: max(len(list(filter(lambda x: x < 0.6, cs))), 1))\n",
    "        .alias(\"q60\"),\n",
    "        pl.col(\"url_request_share\")\n",
    "        .apply(lambda cs: max(len(list(filter(lambda x: x < 0.7, cs))), 1))\n",
    "        .alias(\"q70\"),\n",
    "        pl.col(\"url_request_share\")\n",
    "        .apply(lambda cs: max(len(list(filter(lambda x: x < 0.8, cs))), 1))\n",
    "        .alias(\"q80\"),\n",
    "        pl.col(\"url_request_share\")\n",
    "        .apply(lambda cs: max(len(list(filter(lambda x: x < 0.9, cs))), 1))\n",
    "        .alias(\"q90\"),\n",
    "        pl.col(\"url_request_share\").apply(len).alias(\"q100\"),\n",
    "    ]\n",
    ")"
   ]
  },
  {
   "cell_type": "code",
   "execution_count": 307,
   "id": "74b931fa-8964-43b7-b2be-b41746de7ae8",
   "metadata": {},
   "outputs": [],
   "source": [
    "f = (\n",
    "    user_url_usage_\n",
    "    .with_columns(pl.col([\"q50\", \"q60\", \"q70\", \"q80\", \"q90\"]) / pl.col(\"q100\"))\n",
    ")"
   ]
  },
  {
   "cell_type": "code",
   "execution_count": 312,
   "id": "cb2e86b5-5264-4e01-8f51-0f73a713aeb2",
   "metadata": {},
   "outputs": [
    {
     "data": {
      "text/plain": [
       "<Axes: ylabel='Frequency'>"
      ]
     },
     "execution_count": 312,
     "metadata": {},
     "output_type": "execute_result"
    },
    {
     "data": {
      "image/png": "[encoded data removed]",
      "text/plain": [
       "<Figure size 640x480 with 1 Axes>"
      ]
     },
     "metadata": {},
     "output_type": "display_data"
    }
   ],
   "source": [
    "f[\"q50\"].to_pandas().plot.hist(bins=100)"
   ]
  },
  {
   "cell_type": "code",
   "execution_count": 313,
   "id": "5aa840c1-0153-4ad5-ac1a-1cef518c9333",
   "metadata": {},
   "outputs": [
    {
     "data": {
      "text/plain": [
       "<Axes: ylabel='Frequency'>"
      ]
     },
     "execution_count": 313,
     "metadata": {},
     "output_type": "execute_result"
    },
    {
     "data": {
      "image/png": "[encoded data removed]",
      "text/plain": [
       "<Figure size 640x480 with 1 Axes>"
      ]
     },
     "metadata": {},
     "output_type": "display_data"
    }
   ],
   "source": [
    "f[\"q60\"].to_pandas().plot.hist(bins=100)"
   ]
  },
  {
   "cell_type": "code",
   "execution_count": 311,
   "id": "13974e54-2de4-43e6-8a20-cc3159b7f815",
   "metadata": {},
   "outputs": [
    {
     "data": {
      "text/plain": [
       "<Axes: ylabel='Frequency'>"
      ]
     },
     "execution_count": 311,
     "metadata": {},
     "output_type": "execute_result"
    },
    {
     "data": {
      "image/png": "[encoded data removed]",
      "text/plain": [
       "<Figure size 640x480 with 1 Axes>"
      ]
     },
     "metadata": {},
     "output_type": "display_data"
    }
   ],
   "source": [
    "f[\"q90\"].to_pandas().plot.hist(bins=100)"
   ]
  },
  {
   "cell_type": "markdown",
   "id": "007fc089-6a96-48de-9e81-73a4c556ae50",
   "metadata": {},
   "source": [
    "# regions"
   ]
  },
  {
   "cell_type": "code",
   "execution_count": 7,
   "id": "9a421772-6c96-4512-9047-48afc36d572b",
   "metadata": {},
   "outputs": [
    {
     "name": "stdout",
     "output_type": "stream",
     "text": [
      "CPU times: user 52.9 s, sys: 1min 20s, total: 2min 13s\n",
      "Wall time: 5.05 s\n"
     ]
    }
   ],
   "source": [
    "%%time\n",
    "user_regions = (\n",
    "    df\n",
    "    .groupby([\"user_id\", \"region_name\"])\n",
    "    .agg(pl.col(\"request_cnt\").sum())\n",
    "    .sort([\"user_id\", \"request_cnt\", \"region_name\"], reverse=[False, True, False])\n",
    ")"
   ]
  },
  {
   "cell_type": "code",
   "execution_count": 10,
   "id": "5300ce8b-bcfa-41ce-8f92-632da7685f8c",
   "metadata": {},
   "outputs": [],
   "source": [
    "user_total_request = user_regions.groupby(\"user_id\").agg(pl.col(\"request_cnt\").sum().alias(\"total_request_cnt\"))"
   ]
  },
  {
   "cell_type": "code",
   "execution_count": 13,
   "id": "441fe403-9ec9-4b9b-9628-86b4ac2ebb62",
   "metadata": {},
   "outputs": [],
   "source": [
    "uu = user_regions.join(user_total_request, on=\"user_id\")"
   ]
  },
  {
   "cell_type": "code",
   "execution_count": 15,
   "id": "a9f945fc-fe7d-4e55-b9e8-5082f17e7767",
   "metadata": {},
   "outputs": [],
   "source": [
    "uu = uu.with_columns((pl.col(\"request_cnt\") / pl.col(\"total_request_cnt\")).alias(\"region_request_share\"))"
   ]
  },
  {
   "cell_type": "code",
   "execution_count": 18,
   "id": "0791ff66-b0cb-4d35-aec1-c9b2f8495d01",
   "metadata": {},
   "outputs": [],
   "source": [
    "user_region_usage = uu.groupby(\"user_id\").agg(pl.col(\"region_request_share\").cumsum())"
   ]
  },
  {
   "cell_type": "code",
   "execution_count": 21,
   "id": "c84e2210-15c6-45ea-99b8-d1d2becc38ca",
   "metadata": {},
   "outputs": [],
   "source": [
    "r = user_region_usage.with_columns(pl.col(\"region_request_share\").apply(lambda x: x[0]))"
   ]
  },
  {
   "cell_type": "code",
   "execution_count": 23,
   "id": "8914a4dd-0337-4138-8864-ca9a8f9cb9dd",
   "metadata": {},
   "outputs": [
    {
     "data": {
      "text/html": [
       "<div>\n",
       "<style>\n",
       ".pl-dataframe > thead > tr > th {\n",
       "  text-align: right;\n",
       "}\n",
       "</style>\n",
       "\n",
       "<table border=\"1\" class=\"dataframe pl-dataframe\">\n",
       "<small>shape: (6, 2)</small>\n",
       "<thead>\n",
       "<tr>\n",
       "<th>\n",
       "statistic\n",
       "</th>\n",
       "<th>\n",
       "value\n",
       "</th>\n",
       "</tr>\n",
       "<tr>\n",
       "<td>\n",
       "str\n",
       "</td>\n",
       "<td>\n",
       "f64\n",
       "</td>\n",
       "</tr>\n",
       "</thead>\n",
       "<tbody>\n",
       "<tr>\n",
       "<td>\n",
       "&quot;min&quot;\n",
       "</td>\n",
       "<td>\n",
       "0.140221\n",
       "</td>\n",
       "</tr>\n",
       "<tr>\n",
       "<td>\n",
       "&quot;max&quot;\n",
       "</td>\n",
       "<td>\n",
       "1.0\n",
       "</td>\n",
       "</tr>\n",
       "<tr>\n",
       "<td>\n",
       "&quot;null_count&quot;\n",
       "</td>\n",
       "<td>\n",
       "0.0\n",
       "</td>\n",
       "</tr>\n",
       "<tr>\n",
       "<td>\n",
       "&quot;mean&quot;\n",
       "</td>\n",
       "<td>\n",
       "0.944976\n",
       "</td>\n",
       "</tr>\n",
       "<tr>\n",
       "<td>\n",
       "&quot;std&quot;\n",
       "</td>\n",
       "<td>\n",
       "0.124158\n",
       "</td>\n",
       "</tr>\n",
       "<tr>\n",
       "<td>\n",
       "&quot;count&quot;\n",
       "</td>\n",
       "<td>\n",
       "415317.0\n",
       "</td>\n",
       "</tr>\n",
       "</tbody>\n",
       "</table>\n",
       "</div>"
      ],
      "text/plain": [
       "shape: (6, 2)\n",
       "┌────────────┬──────────┐\n",
       "│ statistic  ┆ value    │\n",
       "│ ---        ┆ ---      │\n",
       "│ str        ┆ f64      │\n",
       "╞════════════╪══════════╡\n",
       "│ min        ┆ 0.140221 │\n",
       "│ max        ┆ 1.0      │\n",
       "│ null_count ┆ 0.0      │\n",
       "│ mean       ┆ 0.944976 │\n",
       "│ std        ┆ 0.124158 │\n",
       "│ count      ┆ 415317.0 │\n",
       "└────────────┴──────────┘"
      ]
     },
     "execution_count": 23,
     "metadata": {},
     "output_type": "execute_result"
    }
   ],
   "source": [
    "r[\"region_request_share\"].describe()"
   ]
  },
  {
   "cell_type": "markdown",
   "id": "fdfe0104-b606-4cd7-be53-8ac36cf26bc3",
   "metadata": {},
   "source": [
    "# cities"
   ]
  },
  {
   "cell_type": "code",
   "execution_count": 24,
   "id": "6264f307-b7e8-4bcc-a6f1-47df07ecb6e8",
   "metadata": {},
   "outputs": [
    {
     "name": "stdout",
     "output_type": "stream",
     "text": [
      "CPU times: user 2min 10s, sys: 3min 5s, total: 5min 16s\n",
      "Wall time: 51.7 s\n"
     ]
    }
   ],
   "source": [
    "%%time\n",
    "user_cities = (\n",
    "    df\n",
    "    .groupby([\"user_id\", \"region_name\", \"city_name\"])\n",
    "    .agg(pl.col(\"request_cnt\").sum())\n",
    "    .sort([\"user_id\", \"request_cnt\", \"region_name\", \"city_name\"], reverse=[False, True, False, False])\n",
    ")"
   ]
  },
  {
   "cell_type": "code",
   "execution_count": 27,
   "id": "b42dd54f-a36b-4af7-ba8e-edb6449fd2a9",
   "metadata": {},
   "outputs": [],
   "source": [
    "uu = user_cities.join(user_total_request, on=\"user_id\")"
   ]
  },
  {
   "cell_type": "code",
   "execution_count": 29,
   "id": "5a053f5a-c3ee-4514-9a71-b042f820c9bf",
   "metadata": {},
   "outputs": [],
   "source": [
    "uu = uu.with_columns((pl.col(\"request_cnt\") / pl.col(\"total_request_cnt\")).alias(\"city_request_share\"))"
   ]
  },
  {
   "cell_type": "code",
   "execution_count": 31,
   "id": "809703c4-2dc8-4e55-b278-b0f22cb176e2",
   "metadata": {},
   "outputs": [],
   "source": [
    "user_cities_usage = uu.groupby(\"user_id\").agg(pl.col(\"city_request_share\").cumsum())"
   ]
  },
  {
   "cell_type": "code",
   "execution_count": 33,
   "id": "2e304d79-a83a-4d2d-8c32-371762f8a5b3",
   "metadata": {},
   "outputs": [],
   "source": [
    "r = user_cities_usage.with_columns(pl.col(\"city_request_share\").apply(lambda x: x[0]))"
   ]
  },
  {
   "cell_type": "code",
   "execution_count": 35,
   "id": "d1d9ce4e-385d-4bb8-9944-38c252ebb3d1",
   "metadata": {},
   "outputs": [
    {
     "data": {
      "text/html": [
       "<div>\n",
       "<style>\n",
       ".pl-dataframe > thead > tr > th {\n",
       "  text-align: right;\n",
       "}\n",
       "</style>\n",
       "\n",
       "<table border=\"1\" class=\"dataframe pl-dataframe\">\n",
       "<small>shape: (6, 2)</small>\n",
       "<thead>\n",
       "<tr>\n",
       "<th>\n",
       "statistic\n",
       "</th>\n",
       "<th>\n",
       "value\n",
       "</th>\n",
       "</tr>\n",
       "<tr>\n",
       "<td>\n",
       "str\n",
       "</td>\n",
       "<td>\n",
       "f64\n",
       "</td>\n",
       "</tr>\n",
       "</thead>\n",
       "<tbody>\n",
       "<tr>\n",
       "<td>\n",
       "&quot;min&quot;\n",
       "</td>\n",
       "<td>\n",
       "0.077209\n",
       "</td>\n",
       "</tr>\n",
       "<tr>\n",
       "<td>\n",
       "&quot;max&quot;\n",
       "</td>\n",
       "<td>\n",
       "1.0\n",
       "</td>\n",
       "</tr>\n",
       "<tr>\n",
       "<td>\n",
       "&quot;null_count&quot;\n",
       "</td>\n",
       "<td>\n",
       "0.0\n",
       "</td>\n",
       "</tr>\n",
       "<tr>\n",
       "<td>\n",
       "&quot;mean&quot;\n",
       "</td>\n",
       "<td>\n",
       "0.914858\n",
       "</td>\n",
       "</tr>\n",
       "<tr>\n",
       "<td>\n",
       "&quot;std&quot;\n",
       "</td>\n",
       "<td>\n",
       "0.150585\n",
       "</td>\n",
       "</tr>\n",
       "<tr>\n",
       "<td>\n",
       "&quot;count&quot;\n",
       "</td>\n",
       "<td>\n",
       "415317.0\n",
       "</td>\n",
       "</tr>\n",
       "</tbody>\n",
       "</table>\n",
       "</div>"
      ],
      "text/plain": [
       "shape: (6, 2)\n",
       "┌────────────┬──────────┐\n",
       "│ statistic  ┆ value    │\n",
       "│ ---        ┆ ---      │\n",
       "│ str        ┆ f64      │\n",
       "╞════════════╪══════════╡\n",
       "│ min        ┆ 0.077209 │\n",
       "│ max        ┆ 1.0      │\n",
       "│ null_count ┆ 0.0      │\n",
       "│ mean       ┆ 0.914858 │\n",
       "│ std        ┆ 0.150585 │\n",
       "│ count      ┆ 415317.0 │\n",
       "└────────────┴──────────┘"
      ]
     },
     "execution_count": 35,
     "metadata": {},
     "output_type": "execute_result"
    }
   ],
   "source": [
    "r[\"city_request_share\"].describe()"
   ]
  },
  {
   "cell_type": "code",
   "execution_count": null,
   "id": "b71785b2-8ab0-41fe-a9a9-b2bd12b09748",
   "metadata": {},
   "outputs": [],
   "source": []
  }
 ],
 "metadata": {
  "kernelspec": {
   "display_name": "Python (mts-ml-cup)",
   "language": "python",
   "name": "mts-ml-cup"
  },
  "language_info": {
   "codemirror_mode": {
    "name": "ipython",
    "version": 3
   },
   "file_extension": ".py",
   "mimetype": "text/x-python",
   "name": "python",
   "nbconvert_exporter": "python",
   "pygments_lexer": "ipython3",
   "version": "3.8.10"
  }
 },
 "nbformat": 4,
 "nbformat_minor": 5
}
