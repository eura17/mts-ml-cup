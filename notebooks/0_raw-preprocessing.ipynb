{
 "cells": [
  {
   "cell_type": "code",
   "execution_count": 1,
   "id": "280d4e8b-8e7d-4ac8-829d-61c61858f479",
   "metadata": {},
   "outputs": [],
   "source": [
    "%load_ext autoreload\n",
    "%autoreload 2"
   ]
  },
  {
   "cell_type": "code",
   "execution_count": 2,
   "id": "07bc4c0b-babf-407f-9a60-658f16ece620",
   "metadata": {},
   "outputs": [],
   "source": [
    "import functools as ft\n",
    "import os\n",
    "\n",
    "import joblib as jbl\n",
    "import pandas as pd\n",
    "import polars as pl\n",
    "from tqdm import tqdm\n",
    "\n",
    "from mts_ml_cup import preprocessing as prep"
   ]
  },
  {
   "cell_type": "markdown",
   "id": "ea1f37ee-2111-42ae-b717-e1d6688725cf",
   "metadata": {},
   "source": [
    "# Подготовка маппингов"
   ]
  },
  {
   "cell_type": "code",
   "execution_count": 3,
   "id": "e54f9dd4-1331-4a3e-b1b6-4403261640fd",
   "metadata": {},
   "outputs": [
    {
     "name": "stderr",
     "output_type": "stream",
     "text": [
      "100%|███████████████████████████████████████████| 11/11 [02:22<00:00, 12.97s/it]\n"
     ]
    }
   ],
   "source": [
    "regions, cities, manufacturers, models, types, oss, parts_of_day = (\n",
    "    prep.raw.find_unique_cat_variables(\"../data/raw/competition_data_final_pqt/\")\n",
    ")"
   ]
  },
  {
   "cell_type": "code",
   "execution_count": 5,
   "id": "a11edad6-81c4-4a74-8c5e-f4228a5cc603",
   "metadata": {},
   "outputs": [
    {
     "data": {
      "text/plain": [
       "['../data/mappings/regions.jbl']"
      ]
     },
     "execution_count": 5,
     "metadata": {},
     "output_type": "execute_result"
    }
   ],
   "source": [
    "jbl.dump(dict(zip(sorted(regions), range(1, len(regions) + 1))), \"../data/mappings/regions.jbl\")"
   ]
  },
  {
   "cell_type": "code",
   "execution_count": 6,
   "id": "36d4972e-f7d4-4cd7-88c8-a2c25497a057",
   "metadata": {},
   "outputs": [
    {
     "data": {
      "text/plain": [
       "['../data/mappings/cities.jbl']"
      ]
     },
     "execution_count": 6,
     "metadata": {},
     "output_type": "execute_result"
    }
   ],
   "source": [
    "jbl.dump(dict(zip(sorted(cities), range(1, len(cities) + 1))), \"../data/mappings/cities.jbl\")"
   ]
  },
  {
   "cell_type": "code",
   "execution_count": 7,
   "id": "2c0f5f04-2d92-498d-842a-453f5e11a786",
   "metadata": {},
   "outputs": [
    {
     "data": {
      "text/plain": [
       "['../data/mappings/manufacturers.jbl']"
      ]
     },
     "execution_count": 7,
     "metadata": {},
     "output_type": "execute_result"
    }
   ],
   "source": [
    "manufacturers_map = {\n",
    "    \"Alcatel\": 1,\n",
    "    \"Apple\": 2,\n",
    "    \"Asus\": 3,\n",
    "    \"Atlas LLC\": 4,\n",
    "    \"BQ Devices Limited\": 5,\n",
    "    \"Blackview\": 6,\n",
    "    \"Doke Communication (HK) Limited\": 6,\n",
    "    \"Doogee\": 7,\n",
    "    \"Google Inc\": 8,\n",
    "    \"HTC\": 9,\n",
    "    \"Highscreen\": 10,\n",
    "    \"Highscreen Limited\": 10,\n",
    "    \"Honor Device Company Limited\": 11,\n",
    "    \"Huawei\": 12,\n",
    "    \"Huawei Device Company Limited\": 12,\n",
    "    \"Itel Technology Limited\": 13,\n",
    "    \"LG\": 14,\n",
    "    \"LeEco\": 15,\n",
    "    \"Lenovo\": 16,\n",
    "    \"Meizu\": 17,\n",
    "    \"Motorola\": 18,\n",
    "    \"Motorola Mobility LLC, a Lenovo Company\": 18,\n",
    "    \"Nokia\": 19,\n",
    "    \"OnePlus\": 20,\n",
    "    \"Oppo\": 21,\n",
    "    \"Realme Chongqing Mobile Telecommunications Corp Ltd\": 22,\n",
    "    \"Realme Mobile Telecommunications (Shenzhen) Co Ltd\": 22,\n",
    "    \"Samsung\": 23,\n",
    "    \"Sony\": 24,\n",
    "    \"Sony Mobile Communications Inc.\": 24,\n",
    "    \"Tecno\": 25,\n",
    "    \"Umi Network Technology Co Limited\": 26,\n",
    "    \"Vingroup Joint Stock Company\": 27,\n",
    "    \"Vivo\": 28,\n",
    "    \"Xiaomi\": 29,\n",
    "    \"Yandex LLC\": 30,\n",
    "    \"ZTE\": 31,\n",
    "}\n",
    "jbl.dump(manufacturers_map, \"../data/mappings/manufacturers.jbl\")"
   ]
  },
  {
   "cell_type": "code",
   "execution_count": 8,
   "id": "7204ad6b-5292-42df-a98d-624d6dbe9c77",
   "metadata": {},
   "outputs": [],
   "source": [
    "mm = pd.Series(manufacturers_map, name=\"manufacturer_id\").reset_index().rename(columns={\"index\": \"manufacturer\"})\n",
    "mmm = pd.DataFrame(list(map(lambda m: m.split(\"_+_\"), sorted(models))), columns=[\"manufacturer\", \"model\"])\n",
    "models_map = mmm.merge(mm)"
   ]
  },
  {
   "cell_type": "code",
   "execution_count": 9,
   "id": "636777ec-e4b0-4389-8ea3-1842e94134db",
   "metadata": {},
   "outputs": [],
   "source": [
    "models_map[\"manufacturer_model\"] = models_map[\"manufacturer\"] + \"_+_\" + models_map[\"model\"]\n",
    "models_map[\"manufacturer_id_model\"] = models_map[\"manufacturer_id\"].astype(str) + \"_+_\" + models_map[\"model\"]"
   ]
  },
  {
   "cell_type": "code",
   "execution_count": 10,
   "id": "a64287bc-9a56-4dfa-b9ce-e25e230934fe",
   "metadata": {},
   "outputs": [
    {
     "data": {
      "text/plain": [
       "(603, 603)"
      ]
     },
     "execution_count": 10,
     "metadata": {},
     "output_type": "execute_result"
    }
   ],
   "source": [
    "models_map[\"manufacturer_model\"].nunique(), models_map[\"manufacturer_id_model\"].nunique()"
   ]
  },
  {
   "cell_type": "code",
   "execution_count": 11,
   "id": "a0106cc6-5a5f-43ae-ad32-3ffd81f722ee",
   "metadata": {},
   "outputs": [
    {
     "data": {
      "text/plain": [
       "['../data/mappings/models.jbl']"
      ]
     },
     "execution_count": 11,
     "metadata": {},
     "output_type": "execute_result"
    }
   ],
   "source": [
    "jbl.dump(dict(zip(sorted(models), range(1, len(models) + 1))), \"../data/mappings/models.jbl\")"
   ]
  },
  {
   "cell_type": "code",
   "execution_count": 13,
   "id": "6d107ae4-0412-405d-afba-d12618496408",
   "metadata": {},
   "outputs": [
    {
     "data": {
      "text/plain": [
       "['../data/mappings/types.jbl']"
      ]
     },
     "execution_count": 13,
     "metadata": {},
     "output_type": "execute_result"
    }
   ],
   "source": [
    "jbl.dump(dict(zip(sorted(types), range(1, len(types) + 1))), \"../data/mappings/types.jbl\")"
   ]
  },
  {
   "cell_type": "code",
   "execution_count": 5,
   "id": "9e180bfa-dd55-4aa9-ae2b-0fc664e2ac76",
   "metadata": {},
   "outputs": [
    {
     "data": {
      "text/plain": [
       "['../data/mappings/os.jbl']"
      ]
     },
     "execution_count": 5,
     "metadata": {},
     "output_type": "execute_result"
    }
   ],
   "source": [
    "os_map = {\n",
    "    \"Android\": 1,\n",
    "    \"Apple iOS\": 2,\n",
    "    \"iOS\": 2,\n",
    "}\n",
    "jbl.dump(os_map, \"../data/mappings/os.jbl\")"
   ]
  },
  {
   "cell_type": "code",
   "execution_count": 16,
   "id": "23b4fd20-32e2-4384-9637-5d86afd339be",
   "metadata": {},
   "outputs": [
    {
     "data": {
      "text/plain": [
       "['../data/mappings/parts_of_day.jbl']"
      ]
     },
     "execution_count": 16,
     "metadata": {},
     "output_type": "execute_result"
    }
   ],
   "source": [
    "parts_of_day_map = {\n",
    "    \"morning\": 1,\n",
    "    \"day\": 2,\n",
    "    \"evening\": 3,\n",
    "    \"night\": 4,\n",
    "}\n",
    "jbl.dump(parts_of_day_map, \"../data/mappings/parts_of_day.jbl\")"
   ]
  },
  {
   "cell_type": "markdown",
   "id": "3058c9a8-bb99-4cf9-808e-771a2b36e815",
   "metadata": {},
   "source": [
    "# Подготовка облегченных партиций"
   ]
  },
  {
   "cell_type": "code",
   "execution_count": 3,
   "id": "a72782bd-86e1-4896-bbc4-2092fa72bebb",
   "metadata": {},
   "outputs": [
    {
     "name": "stderr",
     "output_type": "stream",
     "text": [
      "100%|███████████████████████████████████████████| 11/11 [03:51<00:00, 21.08s/it]\n"
     ]
    }
   ],
   "source": [
    "convert_sessions_ = ft.partial(\n",
    "    prep.raw.convert_sessions,\n",
    "    regions_mapping=jbl.load(\"../data/mappings/regions.jbl\"),\n",
    "    cities_mapping=jbl.load(\"../data/mappings/cities.jbl\"),\n",
    "    manufacturers_mapping=jbl.load(\"../data/mappings/manufacturers.jbl\"),\n",
    "    models_mapping=jbl.load(\"../data/mappings/models.jbl\"),\n",
    "    types_mapping=jbl.load(\"../data/mappings/types.jbl\"),\n",
    "    os_mapping=jbl.load(\"../data/mappings/os.jbl\"),\n",
    "    parts_of_day_mapping=jbl.load(\"../data/mappings/parts_of_day.jbl\"),\n",
    ")\n",
    "\n",
    "parts_path = \"../data/raw/competition_data_final_pqt/\"\n",
    "for p in tqdm(os.listdir(parts_path)):\n",
    "    if not p.endswith(\".parquet\"):\n",
    "        continue\n",
    "    i = int(p.split(\"-\")[1])\n",
    "    (\n",
    "        convert_sessions_(\n",
    "            pl.read_parquet(os.path.join(parts_path, p))\n",
    "        )\n",
    "        .write_parquet(f\"../data/processed/sessions/part-{i}.parquet\")\n",
    "    )"
   ]
  },
  {
   "cell_type": "code",
   "execution_count": 4,
   "id": "9cac43d9-3e3a-45b5-88f5-47bb213e8ea5",
   "metadata": {},
   "outputs": [
    {
     "name": "stdout",
     "output_type": "stream",
     "text": [
      "CPU times: user 1min 15s, sys: 22.6 s, total: 1min 38s\n",
      "Wall time: 23.1 s\n"
     ]
    },
    {
     "data": {
      "text/plain": [
       "13.44269884750247"
      ]
     },
     "execution_count": 4,
     "metadata": {},
     "output_type": "execute_result"
    }
   ],
   "source": [
    "%%time\n",
    "df = pl.read_parquet(\"../data/processed/sessions/*\")\n",
    "df.estimated_size(\"gb\")"
   ]
  },
  {
   "cell_type": "code",
   "execution_count": 7,
   "id": "23dc97f9-1d12-4908-8276-2a6baf80e099",
   "metadata": {},
   "outputs": [],
   "source": [
    "df.write_parquet(\"../data/processed/sessions.pq\")"
   ]
  },
  {
   "cell_type": "markdown",
   "id": "26b801d3-b822-44a4-9979-538d96cc784c",
   "metadata": {},
   "source": [
    "# Подготовка трейна и теста"
   ]
  },
  {
   "cell_type": "code",
   "execution_count": 8,
   "id": "e3abd44a-18c1-42d6-a472-59b9e3166325",
   "metadata": {},
   "outputs": [],
   "source": [
    "(\n",
    "    prep.raw.convert_train(\n",
    "        pl.read_parquet(\"../data/raw/public_train.pqt\")\n",
    "    )\n",
    "    .write_parquet(\"../data/processed/train.pq\")\n",
    ")"
   ]
  },
  {
   "cell_type": "code",
   "execution_count": 9,
   "id": "96b291b6-2ace-4d91-9d53-fbda12073f13",
   "metadata": {},
   "outputs": [],
   "source": [
    "(\n",
    "    prep.raw.convert_test(\n",
    "        pl.read_parquet(\"../data/raw/submit_2.pqt\")\n",
    "    )\n",
    "    .write_parquet(\"../data/processed/test.pq\")\n",
    ")"
   ]
  },
  {
   "cell_type": "code",
   "execution_count": null,
   "id": "b2d5d2e8-e3b9-416f-8947-9c67f3648ead",
   "metadata": {},
   "outputs": [],
   "source": []
  }
 ],
 "metadata": {
  "kernelspec": {
   "display_name": "Python (mts-ml-cup)",
   "language": "python",
   "name": "mts-ml-cup"
  },
  "language_info": {
   "codemirror_mode": {
    "name": "ipython",
    "version": 3
   },
   "file_extension": ".py",
   "mimetype": "text/x-python",
   "name": "python",
   "nbconvert_exporter": "python",
   "pygments_lexer": "ipython3",
   "version": "3.8.10"
  }
 },
 "nbformat": 4,
 "nbformat_minor": 5
}
