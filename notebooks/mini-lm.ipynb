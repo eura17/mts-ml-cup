{
 "cells": [
  {
   "cell_type": "code",
   "execution_count": 23,
   "id": "d8d984ca-6073-44f1-8a5d-24867d807bad",
   "metadata": {},
   "outputs": [
    {
     "name": "stdout",
     "output_type": "stream",
     "text": [
      "The autoreload extension is already loaded. To reload it, use:\n",
      "  %reload_ext autoreload\n"
     ]
    }
   ],
   "source": [
    "%load_ext autoreload\n",
    "%autoreload 2\n",
    "\n",
    "import re\n",
    "from functools import partial\n",
    "\n",
    "import numpy as np\n",
    "import polars as pl\n",
    "import torch\n",
    "from transformers import AutoTokenizer, AutoModel\n",
    "from tqdm import tqdm\n",
    "\n",
    "from mts_ml_cup import urls as u"
   ]
  },
  {
   "cell_type": "code",
   "execution_count": 2,
   "id": "c1b113fd-03bc-4b0e-993d-5a083f8c88a1",
   "metadata": {},
   "outputs": [],
   "source": [
    "url_cleaner = partial(\n",
    "    u.clean_url,\n",
    "    preprocessors=[\n",
    "        u.decode_from_punycode,\n",
    "        u.lower,\n",
    "        u.replace_hyphens_with_points,\n",
    "    ],\n",
    ")"
   ]
  },
  {
   "cell_type": "code",
   "execution_count": 3,
   "id": "64cd978c-98b7-4589-89e0-17b37340847e",
   "metadata": {},
   "outputs": [
    {
     "name": "stdout",
     "output_type": "stream",
     "text": [
      "CPU times: user 1min 23s, sys: 23.8 s, total: 1min 46s\n",
      "Wall time: 40.6 s\n"
     ]
    }
   ],
   "source": [
    "%%time\n",
    "urls_popularity = (\n",
    "    pl.read_parquet(\"../data/processed/sessions.pq\", columns=[\"user_id\", \"url_host\", \"request_cnt\"])\n",
    "    .groupby(\"url_host\")\n",
    "    .agg(\n",
    "        [\n",
    "            pl.col(\"user_id\").n_unique().alias(\"n_users\"),\n",
    "            pl.col(\"request_cnt\").sum().alias(\"n_requests\"),\n",
    "            pl.col(\"url_host\").count().alias(\"n_rows\"),\n",
    "        ]\n",
    "    )\n",
    "    .sort([\"n_users\", \"n_rows\", \"n_requests\", \"url_host\"], reverse=[True, True, True, False])\n",
    "    .with_columns(pl.col(\"url_host\").apply(url_cleaner).alias(\"url_cleaned\"))\n",
    ")"
   ]
  },
  {
   "cell_type": "code",
   "execution_count": 11,
   "id": "9bbdb4a6-7769-4c8f-b49c-cbcbbda375d3",
   "metadata": {},
   "outputs": [],
   "source": [
    "def mean_pooling(model_output, attention_mask):\n",
    "    token_embeddings = model_output[0]\n",
    "    input_mask_expanded = attention_mask.unsqueeze(-1).expand(token_embeddings.size()).float()\n",
    "    return (\n",
    "        torch.sum(token_embeddings * input_mask_expanded, 1) \n",
    "        / torch.clamp(input_mask_expanded.sum(1), min=1e-9)\n",
    "    )\n",
    "\n",
    "\n",
    "def url_to_emb(url: str, tokenizer, model) -> torch.Tensor:\n",
    "    url_parts = url.split(\".\")\n",
    "    encoded_input = tokenizer(url_parts, padding=True, truncation=True, return_tensors=\"pt\")\n",
    "    with torch.no_grad():\n",
    "        model_output = model(**encoded_input)\n",
    "    return mean_pooling(model_output, encoded_input[\"attention_mask\"])"
   ]
  },
  {
   "cell_type": "code",
   "execution_count": 5,
   "id": "443ddd7f-a116-4e5c-a2c1-17804924b726",
   "metadata": {},
   "outputs": [
    {
     "name": "stderr",
     "output_type": "stream",
     "text": [
      "Downloading (…)okenizer_config.json: 100%|█████| 480/480 [00:00<00:00, 56.6kB/s]\n",
      "Downloading (…)lve/main/config.json: 100%|█████| 645/645 [00:00<00:00, 81.8kB/s]\n",
      "Downloading (…)\"tokenizer.json\";: 100%|████| 9.08M/9.08M [00:00<00:00, 36.8MB/s]\n",
      "Downloading (…)cial_tokens_map.json: 100%|█████| 239/239 [00:00<00:00, 82.0kB/s]\n",
      "Downloading (…)\"pytorch_model.bin\";: 100%|███| 471M/471M [00:16<00:00, 28.4MB/s]\n"
     ]
    },
    {
     "name": "stdout",
     "output_type": "stream",
     "text": [
      "CPU times: user 3.02 s, sys: 2.01 s, total: 5.02 s\n",
      "Wall time: 29.1 s\n"
     ]
    }
   ],
   "source": [
    "%%time\n",
    "tokenizer = AutoTokenizer.from_pretrained(\"sentence-transformers/paraphrase-multilingual-MiniLM-L12-v2\")\n",
    "model = AutoModel.from_pretrained(\"sentence-transformers/paraphrase-multilingual-MiniLM-L12-v2\")"
   ]
  },
  {
   "cell_type": "code",
   "execution_count": 14,
   "id": "d6dfbe3b-bf08-4b2a-a6fc-b7e588670669",
   "metadata": {},
   "outputs": [
    {
     "name": "stderr",
     "output_type": "stream",
     "text": [
      "100%|█████████████████████████████████| 199508/199508 [1:04:07<00:00, 51.85it/s]\n"
     ]
    }
   ],
   "source": [
    "url_embs = {}\n",
    "for url in tqdm(urls_popularity[\"url_cleaned\"].unique()):\n",
    "    url_embs[url] = url_to_emb(url, tokenizer, model).numpy()[0]"
   ]
  },
  {
   "cell_type": "code",
   "execution_count": 21,
   "id": "5b764e5f-04f1-44d4-bd0f-9614d9f881bb",
   "metadata": {},
   "outputs": [],
   "source": [
    "url_embs = {url: emb[0] for url, emb in url_embs.items()}"
   ]
  },
  {
   "cell_type": "code",
   "execution_count": null,
   "id": "d60f63f2-bd0a-4982-ba80-a173247745f0",
   "metadata": {},
   "outputs": [],
   "source": [
    "np.save(\"../data/mini-lm/url-embs.npy\", url_embs)"
   ]
  },
  {
   "cell_type": "code",
   "execution_count": 36,
   "id": "60cc5efa-d16d-474c-b247-a72d481bca99",
   "metadata": {},
   "outputs": [
    {
     "name": "stdout",
     "output_type": "stream",
     "text": [
      "CPU times: user 5min 32s, sys: 33.3 s, total: 6min 5s\n",
      "Wall time: 3min 26s\n"
     ]
    }
   ],
   "source": [
    "%%time\n",
    "users_urls = (\n",
    "    pl.read_parquet(\"../data/processed/sessions.pq\", columns=[\"user_id\", \"url_host\", \"request_cnt\"])\n",
    "    .groupby([\"user_id\", \"url_host\"])\n",
    "    .agg(pl.col(\"request_cnt\").sum())\n",
    "    .with_columns(pl.col(\"url_host\").apply(url_cleaner))\n",
    "    .groupby([\"user_id\", \"url_host\"])\n",
    "    .agg(pl.col(\"request_cnt\").sum())\n",
    "    .sort([\"user_id\", \"request_cnt\", \"url_host\"], reverse=[False, True, False])\n",
    ")"
   ]
  },
  {
   "cell_type": "code",
   "execution_count": 32,
   "id": "bfc4784d-1c14-4d40-b022-44848f798a04",
   "metadata": {},
   "outputs": [],
   "source": [
    "users_urls = users_urls.sort([\"user_id\", \"request_cnt\", \"url_host\"])"
   ]
  },
  {
   "cell_type": "code",
   "execution_count": 42,
   "id": "467d3f71-e1a7-43e9-b53c-a57bd40206b7",
   "metadata": {},
   "outputs": [
    {
     "name": "stderr",
     "output_type": "stream",
     "text": [
      "100%|█████████████████████████████████| 415317/415317 [04:36<00:00, 1500.51it/s]\n"
     ]
    }
   ],
   "source": [
    "user_embs = {}\n",
    "for user_id, urls in tqdm(users_urls.groupby(\"user_id\"), total=users_urls[\"user_id\"].n_unique()):\n",
    "    total_requests = urls[\"request_cnt\"].sum()\n",
    "    user_emb = 0\n",
    "    for _, url, requests in urls.iter_rows():\n",
    "        user_emb += requests / total_requests * url_embs[url]\n",
    "    user_embs[user_id] = user_emb"
   ]
  },
  {
   "cell_type": "code",
   "execution_count": 44,
   "id": "57c757a8-719b-48da-a4dc-d2cb536e7868",
   "metadata": {},
   "outputs": [],
   "source": [
    "np.save(\"../data/mini-lm/weighted-user-embs.npy\", user_embs)"
   ]
  },
  {
   "cell_type": "code",
   "execution_count": 47,
   "id": "4220c652-cabe-490a-84d1-68c42839c538",
   "metadata": {},
   "outputs": [],
   "source": [
    "import pandas as pd"
   ]
  },
  {
   "cell_type": "code",
   "execution_count": 54,
   "id": "f2b61a7f-98b5-4a22-a731-540fac695d9a",
   "metadata": {},
   "outputs": [],
   "source": [
    "embs = pl.from_pandas(\n",
    "    pd.Series(user_embs, name=\"mini_lm_embeddings\")\n",
    "    .reset_index(drop=False)\n",
    "    .rename(columns={\"index\": \"user_id\"})\n",
    ")"
   ]
  },
  {
   "cell_type": "code",
   "execution_count": 56,
   "id": "5dd71092-ff55-4651-a4a5-8ea4a6256454",
   "metadata": {},
   "outputs": [],
   "source": [
    "embs.write_parquet(\"../data/features/mini-lm/weighted_ems.pq\")"
   ]
  },
  {
   "cell_type": "code",
   "execution_count": null,
   "id": "6a4ba22c-bcf9-4381-afb4-ddd88c7862c0",
   "metadata": {},
   "outputs": [],
   "source": []
  }
 ],
 "metadata": {
  "kernelspec": {
   "display_name": "Python (mts-ml-cup)",
   "language": "python",
   "name": "mts-ml-cup"
  },
  "language_info": {
   "codemirror_mode": {
    "name": "ipython",
    "version": 3
   },
   "file_extension": ".py",
   "mimetype": "text/x-python",
   "name": "python",
   "nbconvert_exporter": "python",
   "pygments_lexer": "ipython3",
   "version": "3.8.10"
  }
 },
 "nbformat": 4,
 "nbformat_minor": 5
}
