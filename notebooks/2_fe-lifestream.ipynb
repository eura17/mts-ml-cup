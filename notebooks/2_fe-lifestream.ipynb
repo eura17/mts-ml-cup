{
 "cells": [
  {
   "cell_type": "code",
   "execution_count": 1,
   "id": "4fdfc771-6739-41dc-a79c-81f3ea0e8473",
   "metadata": {},
   "outputs": [
    {
     "name": "stderr",
     "output_type": "stream",
     "text": [
      "/home/ababkin/.cache/pypoetry/virtualenvs/mts-ml-cup-qFoUb2su-py3.8/lib/python3.8/site-packages/tqdm/auto.py:22: TqdmWarning: IProgress not found. Please update jupyter and ipywidgets. See https://ipywidgets.readthedocs.io/en/stable/user_install.html\n",
      "  from .autonotebook import tqdm as notebook_tqdm\n"
     ]
    }
   ],
   "source": [
    "from __future__ import annotations\n",
    "\n",
    "from functools import partial\n",
    "\n",
    "import polars\n",
    "import torch\n",
    "import pytorch_lightning as pl\n",
    "from tqdm import tqdm\n",
    "\n",
    "from mts_ml_cup.utils import polars_map\n",
    "from mts_ml_cup.preprocessing import urls as u"
   ]
  },
  {
   "cell_type": "code",
   "execution_count": 2,
   "id": "916c07f3-f5e6-437c-b8be-eca23536ebd3",
   "metadata": {},
   "outputs": [
    {
     "name": "stdout",
     "output_type": "stream",
     "text": [
      "CPU times: user 59.1 s, sys: 15.3 s, total: 1min 14s\n",
      "Wall time: 28.2 s\n"
     ]
    }
   ],
   "source": [
    "%%time\n",
    "df = polars.read_parquet(\"../data/processed/sessions.pq\")"
   ]
  },
  {
   "cell_type": "markdown",
   "id": "25643c79-ad9c-478d-aed8-50c3643d41fe",
   "metadata": {
    "jp-MarkdownHeadingCollapsed": true,
    "tags": []
   },
   "source": [
    "# Data preparation"
   ]
  },
  {
   "cell_type": "code",
   "execution_count": 3,
   "id": "4380d0a8-4b11-4f0d-81a0-86f16a489b7e",
   "metadata": {},
   "outputs": [
    {
     "name": "stdout",
     "output_type": "stream",
     "text": [
      "CPU times: user 1min 39s, sys: 26.2 s, total: 2min 5s\n",
      "Wall time: 32.6 s\n"
     ]
    }
   ],
   "source": [
    "%%time\n",
    "url_cleaner = partial(\n",
    "    u.clean_url,\n",
    "    preprocessors=[\n",
    "        u.decode_from_punycode,\n",
    "        u.lower,\n",
    "        u.replace_hyphens_with_dots,\n",
    "    ],\n",
    ")\n",
    "urls_mapping = (\n",
    "    df\n",
    "    .select(\"url_host\")\n",
    "    .unique()\n",
    "    .with_columns(polars.col(\"url_host\").apply(url_cleaner).alias(\"url_cleaned\"))\n",
    "    .with_columns(polars.col(\"url_cleaned\").rank(method=\"dense\").alias(\"url_id\"))\n",
    "    .select([\"url_host\", \"url_id\"])\n",
    "    .to_pandas()\n",
    "    .set_index(\"url_host\")[\"url_id\"]\n",
    "    .to_dict()\n",
    ")\n",
    "\n",
    "dates = df[\"date\"].unique()\n",
    "dates_mapping = dict(zip(sorted(dates), range(1, len(dates) + 1)))\n",
    "\n",
    "df = (\n",
    "    df\n",
    "    .join(\n",
    "        other=polars_map(\n",
    "            mapping=urls_mapping,\n",
    "            key_name=\"url_host\",\n",
    "            id_name=\"url_id\",\n",
    "            id_dtype=polars.UInt32,\n",
    "        ),\n",
    "        how=\"left\",\n",
    "        on=\"url_host\",\n",
    "    )\n",
    "    .join(\n",
    "        other=polars_map(\n",
    "            mapping=dates_mapping,\n",
    "            key_name=\"date\",\n",
    "            id_name=\"date_id\",\n",
    "            id_dtype=polars.UInt16,\n",
    "        ),\n",
    "        how=\"left\",\n",
    "        on=\"date\",\n",
    "    )\n",
    ")"
   ]
  },
  {
   "cell_type": "code",
   "execution_count": 18,
   "id": "00099d77-a9e3-4eff-8a6d-355da47eecaf",
   "metadata": {},
   "outputs": [
    {
     "data": {
      "text/plain": [
       "tensor([0, 1, 2, 3, 4, 5, 6, 7, 8, 9], dtype=torch.int32)"
      ]
     },
     "execution_count": 18,
     "metadata": {},
     "output_type": "execute_result"
    }
   ],
   "source": [
    "torch.tensor(range(10), dtype=torch.int32)"
   ]
  },
  {
   "cell_type": "code",
   "execution_count": 6,
   "id": "f113d4a9-4ebe-45ab-9ffd-17d09eaf17ea",
   "metadata": {},
   "outputs": [],
   "source": [
    "seqlen = df[\"user_id\"].value_counts()[\"counts\"]"
   ]
  },
  {
   "cell_type": "code",
   "execution_count": 9,
   "id": "bce66ae4-09ff-4845-8bb6-d67e8352dbea",
   "metadata": {},
   "outputs": [
    {
     "data": {
      "text/html": [
       "<div><style>\n",
       ".dataframe > thead > tr > th,\n",
       ".dataframe > tbody > tr > td {\n",
       "  text-align: right;\n",
       "}\n",
       "</style>\n",
       "<small>shape: (6, 2)</small><table border=\"1\" class=\"dataframe\"><thead><tr><th>statistic</th><th>value</th></tr><tr><td>str</td><td>f64</td></tr></thead><tbody><tr><td>&quot;min&quot;</td><td>1.0</td></tr><tr><td>&quot;max&quot;</td><td>29596.0</td></tr><tr><td>&quot;null_count&quot;</td><td>0.0</td></tr><tr><td>&quot;mean&quot;</td><td>777.477048</td></tr><tr><td>&quot;std&quot;</td><td>1034.880997</td></tr><tr><td>&quot;count&quot;</td><td>415317.0</td></tr></tbody></table></div>"
      ],
      "text/plain": [
       "shape: (6, 2)\n",
       "┌────────────┬─────────────┐\n",
       "│ statistic  ┆ value       │\n",
       "│ ---        ┆ ---         │\n",
       "│ str        ┆ f64         │\n",
       "╞════════════╪═════════════╡\n",
       "│ min        ┆ 1.0         │\n",
       "│ max        ┆ 29596.0     │\n",
       "│ null_count ┆ 0.0         │\n",
       "│ mean       ┆ 777.477048  │\n",
       "│ std        ┆ 1034.880997 │\n",
       "│ count      ┆ 415317.0    │\n",
       "└────────────┴─────────────┘"
      ]
     },
     "execution_count": 9,
     "metadata": {},
     "output_type": "execute_result"
    }
   ],
   "source": [
    "seqlen.describe()"
   ]
  },
  {
   "cell_type": "code",
   "execution_count": 12,
   "id": "d2c7652e-73b1-4186-857c-404ad572ec45",
   "metadata": {},
   "outputs": [
    {
     "data": {
      "text/plain": [
       "<Axes: ylabel='Frequency'>"
      ]
     },
     "execution_count": 12,
     "metadata": {},
     "output_type": "execute_result"
    },
    {
     "data": {
      "image/png": "[encoded data removed]",
      "text/plain": [
       "<Figure size 640x480 with 1 Axes>"
      ]
     },
     "metadata": {},
     "output_type": "display_data"
    }
   ],
   "source": [
    "seqlen.to_pandas().plot.hist(bins=100)"
   ]
  },
  {
   "cell_type": "code",
   "execution_count": 13,
   "id": "edf0db0c-e2a4-4d61-9f7b-f126f294f5d3",
   "metadata": {},
   "outputs": [
    {
     "name": "stdout",
     "output_type": "stream",
     "text": [
      "0.1 21.0\n",
      "0.2 68.0\n",
      "0.3 151.0\n",
      "0.4 268.0\n",
      "0.5 421.0\n",
      "0.6 617.0\n",
      "0.7 883.0\n",
      "0.8 1269.0\n",
      "0.9 1962.0\n"
     ]
    }
   ],
   "source": [
    "for q in [0.1, 0.2, 0.3, 0.4, 0.5, 0.6, 0.7, 0.8, 0.9]:\n",
    "    print(q, seqlen.quantile(q))"
   ]
  },
  {
   "cell_type": "code",
   "execution_count": 19,
   "id": "cd24ed91-34a8-48b0-9aaf-0c6a1ca569b2",
   "metadata": {},
   "outputs": [
    {
     "name": "stdout",
     "output_type": "stream",
     "text": [
      "df['region_id'].n_unique() = 81\n",
      "df['city_id'].n_unique() = 1000\n",
      "df['manufacturer_id'].n_unique() = 31\n",
      "df['model_id'].n_unique() = 603\n",
      "df['type_id'].n_unique() = 4\n",
      "df['os_id'].n_unique() = 2\n",
      "df['date_id'].n_unique() = 396\n",
      "df['part_of_day_id'].n_unique() = 4\n",
      "df['url_id'].n_unique() = 199508\n"
     ]
    }
   ],
   "source": [
    "print(\n",
    "    f\"{df['region_id'].n_unique() = }\\n\"\n",
    "    f\"{df['city_id'].n_unique() = }\\n\"\n",
    "    \n",
    "    f\"{df['manufacturer_id'].n_unique() = }\\n\"\n",
    "    f\"{df['model_id'].n_unique() = }\\n\"\n",
    "    f\"{df['type_id'].n_unique() = }\\n\"\n",
    "    f\"{df['os_id'].n_unique() = }\\n\"\n",
    "    \n",
    "    f\"{df['date_id'].n_unique() = }\\n\"\n",
    "    f\"{df['part_of_day_id'].n_unique() = }\\n\"\n",
    "    f\"{df['url_id'].n_unique() = }\"\n",
    ")"
   ]
  },
  {
   "cell_type": "code",
   "execution_count": 20,
   "id": "c9b2f5ab-390b-451b-9673-d1d1509215d7",
   "metadata": {},
   "outputs": [],
   "source": [
    "def dataset_for_ptls(df: polars.DataFrame) -> dict[str, torch.Tensor]:\n",
    "    dataset = []\n",
    "    for user_id, user_df in tqdm(df.groupby(\"user_id\"), total=df[\"user_id\"].n_unique()):\n",
    "        user_df = user_df.sort([\"date\", \"part_of_day_id\"])\n",
    "        user_encoded = {\n",
    "            \"user_id\": user_id,\n",
    "            \"region_id\": torch.from_numpy(user_df[\"region_id\"].to_numpy()),\n",
    "            \n",
    "            \"city_id\": torch.from_numpy(user_df[\"city_id\"].to_numpy().astype(\"int16\")),\n",
    "            \"manufacturer_id\": torch.from_numpy(user_df[\"manufacturer_id\"].to_numpy()),\n",
    "            \"model_id\": torch.from_numpy(user_df[\"model_id\"].to_numpy().astype(\"int16\")),\n",
    "            \"type_id\": torch.from_numpy(user_df[\"type_id\"].to_numpy()),\n",
    "            \"os_id\": torch.from_numpy(user_df[\"os_id\"].to_numpy()),\n",
    "            \n",
    "            \"event_time\": torch.tensor(range(1, len(user_df) + 1)),\n",
    "            \"date_id\": torch.from_numpy(user_df[\"date_id\"].to_numpy().astype(\"int16\")),\n",
    "            \"part_of_day_id\": torch.from_numpy(user_df[\"part_of_day_id\"].to_numpy()),\n",
    "            \"url_id\": torch.from_numpy(user_df[\"url_id\"].to_numpy().astype(\"int32\")),\n",
    "            \"request_cnt\": torch.from_numpy(user_df[\"request_cnt\"].to_numpy()),\n",
    "        }\n",
    "        dataset.append(user_encoded)\n",
    "    return dataset"
   ]
  },
  {
   "cell_type": "code",
   "execution_count": 21,
   "id": "336c993c-4520-49a1-af12-d6e814727c69",
   "metadata": {},
   "outputs": [
    {
     "name": "stderr",
     "output_type": "stream",
     "text": [
      "  0%|                                                | 0/415317 [00:00<?, ?it/s]/tmp/ipykernel_956018/824887297.py:7: UserWarning: The given NumPy array is not writable, and PyTorch does not support non-writable tensors. This means writing to this tensor will result in undefined behavior. You may want to copy the array to protect its data or make it writable before converting it to a tensor. This type of warning will be suppressed for the rest of this program. (Triggered internally at ../torch/csrc/utils/tensor_numpy.cpp:199.)\n",
      "  \"region_id\": torch.from_numpy(user_df[\"region_id\"].to_numpy()),\n",
      "100%|██████████████████████████████████| 415317/415317 [08:08<00:00, 851.01it/s]\n"
     ]
    }
   ],
   "source": [
    "dataset = dataset_for_ptls(df)"
   ]
  },
  {
   "cell_type": "code",
   "execution_count": 22,
   "id": "afd11df7-70f7-4cd2-8075-ea73a0b8ce25",
   "metadata": {},
   "outputs": [
    {
     "name": "stdout",
     "output_type": "stream",
     "text": [
      "CPU times: user 3min 15s, sys: 13.9 s, total: 3min 29s\n",
      "Wall time: 3min 34s\n"
     ]
    }
   ],
   "source": [
    "%%time\n",
    "torch.save(dataset, \"../data/ptls-v3/dataset.pt\")"
   ]
  },
  {
   "cell_type": "code",
   "execution_count": 25,
   "id": "5d4e13c3-57e8-4df7-82e6-894b80a0876b",
   "metadata": {},
   "outputs": [
    {
     "name": "stdout",
     "output_type": "stream",
     "text": [
      "CPU times: user 3.88 s, sys: 305 ms, total: 4.19 s\n",
      "Wall time: 5.03 s\n"
     ]
    }
   ],
   "source": [
    "%%time\n",
    "torch.save(dataset[:10_000], \"../data/ptls-v3/dataset-sample.pt\")"
   ]
  },
  {
   "cell_type": "code",
   "execution_count": 26,
   "id": "633192ca-4649-48ad-8ede-e36ceb6b00c4",
   "metadata": {},
   "outputs": [
    {
     "name": "stdout",
     "output_type": "stream",
     "text": [
      "total 8.6G\n",
      "-rw-rw-r-- 1 ababkin ababkin 8.4G Mar 22 16:34 dataset.pt\n",
      "-rw-rw-r-- 1 ababkin ababkin 200M Mar 22 17:10 dataset-sample.pt\n"
     ]
    }
   ],
   "source": [
    "! ls -lh ../data/ptls-v3/"
   ]
  },
  {
   "cell_type": "markdown",
   "id": "b37857b3-4361-480d-9243-5206cc9e1e55",
   "metadata": {},
   "source": [
    "# Fit self-supervised"
   ]
  },
  {
   "cell_type": "code",
   "execution_count": 2,
   "id": "eb7e20db-6b03-4be6-a8c0-13332ffb8135",
   "metadata": {},
   "outputs": [
    {
     "name": "stdout",
     "output_type": "stream",
     "text": [
      "CPU times: user 2min 45s, sys: 15.6 s, total: 3min 1s\n",
      "Wall time: 3min 1s\n"
     ]
    }
   ],
   "source": [
    "%%time\n",
    "dataset = torch.load(\"../data/ptls-v3/dataset.pt\")"
   ]
  },
  {
   "cell_type": "code",
   "execution_count": 3,
   "id": "d4383946-05dd-4321-ad5b-c85646c14bf2",
   "metadata": {},
   "outputs": [],
   "source": [
    "from functools import partial\n",
    "from ptls.nn import TrxEncoder, RnnSeqEncoder\n",
    "from ptls.frames.coles import CoLESModule"
   ]
  },
  {
   "cell_type": "code",
   "execution_count": 4,
   "id": "5e4a145f-ae31-4d96-b8d8-d9df3cc7a6e2",
   "metadata": {},
   "outputs": [],
   "source": [
    "seq_encoder = RnnSeqEncoder(\n",
    "    trx_encoder=TrxEncoder(\n",
    "        embeddings={\n",
    "            \"region_id\": {\"in\": 81, \"out\": 4},\n",
    "            \"city_id\": {\"in\": 1_000, \"out\": 8},\n",
    "            \n",
    "            \"manufacturer_id\": {\"in\": 31, \"out\": 4},\n",
    "            \"model_id\": {\"in\": 603, \"out\": 8},\n",
    "            \"type_id\": {\"in\": 4, \"out\": 1},\n",
    "            \"os_id\": {\"in\": 2, \"out\": 1},\n",
    "            \n",
    "            \"date_id\": {\"in\": 396, \"out\": 8},\n",
    "            \"part_of_day_id\": {\"in\": 4, \"out\": 2},\n",
    "            \"url_id\": {\"in\": 199508, \"out\": 128},\n",
    "        },\n",
    "        embeddings_noise=0.003,\n",
    "        numeric_values={\n",
    "            \"request_cnt\": \"log\",\n",
    "        },\n",
    "        use_batch_norm_with_lens=True,\n",
    "        orthogonal_init=True,\n",
    "    ),\n",
    "    hidden_size=256,\n",
    "    type=\"gru\",\n",
    ")\n",
    "\n",
    "model = CoLESModule(\n",
    "    seq_encoder=seq_encoder,\n",
    "    optimizer_partial=partial(torch.optim.Adam, lr=0.001),\n",
    "    lr_scheduler_partial=partial(\n",
    "        torch.optim.lr_scheduler.OneCycleLR,\n",
    "        max_lr=1e-3,\n",
    "        total_steps=146_800, epochs=100, steps_per_epoch=1468,\n",
    "        pct_start=0.3, anneal_strategy=\"cos\",\n",
    "        cycle_momentum=True, base_momentum=0.85, max_momentum=0.95,\n",
    "        div_factor=25.0, final_div_factor=10_000.0, three_phase=False,\n",
    "        last_epoch=-1, verbose=False,\n",
    "    ),\n",
    ")"
   ]
  },
  {
   "cell_type": "code",
   "execution_count": 5,
   "id": "f6a0dca2-cc26-4958-8783-72447d22084d",
   "metadata": {},
   "outputs": [
    {
     "data": {
      "text/plain": [
       "25878600"
      ]
     },
     "execution_count": 5,
     "metadata": {},
     "output_type": "execute_result"
    }
   ],
   "source": [
    "sum(p.numel() for p in seq_encoder.parameters())"
   ]
  },
  {
   "cell_type": "code",
   "execution_count": 6,
   "id": "4f28c1c3-9d5b-464d-a94a-82b826ea49bc",
   "metadata": {},
   "outputs": [],
   "source": [
    "from ptls.data_load.datasets import MemoryMapDataset\n",
    "from ptls.data_load.iterable_processing import SeqLenFilter\n",
    "from ptls.frames.coles import ColesDataset\n",
    "from ptls.frames.coles.split_strategy import SampleSlices, SampleRandom\n",
    "from ptls.frames import PtlsDataModule\n",
    "\n",
    "train_dl = PtlsDataModule(\n",
    "    train_data=ColesDataset(\n",
    "        MemoryMapDataset(\n",
    "            data=dataset,\n",
    "            i_filters=[\n",
    "                SeqLenFilter(min_seq_len=20)\n",
    "            ]\n",
    "        ),\n",
    "        splitter=SampleRandom(\n",
    "            split_count=5,\n",
    "            cnt_min=100,\n",
    "            cnt_max=300,\n",
    "        ),\n",
    "    ),\n",
    "    train_num_workers=0,\n",
    "    train_batch_size=256,\n",
    ")"
   ]
  },
  {
   "cell_type": "code",
   "execution_count": 7,
   "id": "f7208abf-e116-401a-93b0-57f09f1fdf94",
   "metadata": {},
   "outputs": [
    {
     "name": "stderr",
     "output_type": "stream",
     "text": [
      "GPU available: True, used: True\n",
      "TPU available: False, using: 0 TPU cores\n",
      "IPU available: False, using: 0 IPUs\n",
      "HPU available: False, using: 0 HPUs\n"
     ]
    }
   ],
   "source": [
    "trainer = pl.Trainer(\n",
    "    max_epochs=100,\n",
    "    gpus=1 if torch.cuda.is_available() else 0,\n",
    "    enable_progress_bar=True,\n",
    ")"
   ]
  },
  {
   "cell_type": "code",
   "execution_count": 8,
   "id": "f0071727-a309-4e3d-9484-bd6a4f8067d1",
   "metadata": {},
   "outputs": [
    {
     "name": "stderr",
     "output_type": "stream",
     "text": [
      "/home/ababkin/.cache/pypoetry/virtualenvs/mts-ml-cup-qFoUb2su-py3.8/lib/python3.8/site-packages/pytorch_lightning/trainer/configuration_validator.py:133: UserWarning: You defined a `validation_step` but have no `val_dataloader`. Skipping val loop.\n",
      "  rank_zero_warn(\"You defined a `validation_step` but have no `val_dataloader`. Skipping val loop.\")\n",
      "LOCAL_RANK: 0 - CUDA_VISIBLE_DEVICES: [0]\n",
      "\n",
      "  | Name               | Type            | Params\n",
      "-------------------------------------------------------\n",
      "0 | _loss              | ContrastiveLoss | 0     \n",
      "1 | _seq_encoder       | RnnSeqEncoder   | 25.9 M\n",
      "2 | _validation_metric | BatchRecallTopK | 0     \n",
      "3 | _head              | Head            | 0     \n",
      "-------------------------------------------------------\n",
      "25.9 M    Trainable params\n",
      "0         Non-trainable params\n",
      "25.9 M    Total params\n",
      "103.514   Total estimated model params size (MB)\n",
      "/home/ababkin/.cache/pypoetry/virtualenvs/mts-ml-cup-qFoUb2su-py3.8/lib/python3.8/site-packages/pytorch_lightning/trainer/connectors/data_connector.py:240: PossibleUserWarning: The dataloader, train_dataloader, does not have many workers which may be a bottleneck. Consider increasing the value of the `num_workers` argument` (try 8 which is the number of cpus on this machine) in the `DataLoader` init to improve performance.\n",
      "  rank_zero_warn(\n"
     ]
    },
    {
     "name": "stdout",
     "output_type": "stream",
     "text": [
      "Epoch 15:  88%|▉| 1296/1468 [10:14<01:21,  2.11it/s, loss=10, v_num=27, seq_len="
     ]
    },
    {
     "name": "stderr",
     "output_type": "stream",
     "text": [
      "IOPub message rate exceeded.\n",
      "The Jupyter server will temporarily stop sending output\n",
      "to the client in order to avoid crashing it.\n",
      "To change this limit, set the config variable\n",
      "`--ServerApp.iopub_msg_rate_limit`.\n",
      "\n",
      "Current values:\n",
      "ServerApp.iopub_msg_rate_limit=1000.0 (msgs/sec)\n",
      "ServerApp.rate_limit_window=3.0 (secs)\n",
      "\n"
     ]
    },
    {
     "name": "stdout",
     "output_type": "stream",
     "text": [
      "Epoch 18:  38%|▍| 560/1468 [04:27<07:13,  2.09it/s, loss=8.76, v_num=27, seq_len"
     ]
    },
    {
     "name": "stderr",
     "output_type": "stream",
     "text": [
      "IOPub message rate exceeded.\n",
      "The Jupyter server will temporarily stop sending output\n",
      "to the client in order to avoid crashing it.\n",
      "To change this limit, set the config variable\n",
      "`--ServerApp.iopub_msg_rate_limit`.\n",
      "\n",
      "Current values:\n",
      "ServerApp.iopub_msg_rate_limit=1000.0 (msgs/sec)\n",
      "ServerApp.rate_limit_window=3.0 (secs)\n",
      "\n"
     ]
    },
    {
     "name": "stdout",
     "output_type": "stream",
     "text": [
      "Epoch 20:  77%|▊| 1133/1468 [08:55<02:38,  2.12it/s, loss=8.19, v_num=27, seq_le"
     ]
    },
    {
     "name": "stderr",
     "output_type": "stream",
     "text": [
      "IOPub message rate exceeded.\n",
      "The Jupyter server will temporarily stop sending output\n",
      "to the client in order to avoid crashing it.\n",
      "To change this limit, set the config variable\n",
      "`--ServerApp.iopub_msg_rate_limit`.\n",
      "\n",
      "Current values:\n",
      "ServerApp.iopub_msg_rate_limit=1000.0 (msgs/sec)\n",
      "ServerApp.rate_limit_window=3.0 (secs)\n",
      "\n"
     ]
    },
    {
     "name": "stdout",
     "output_type": "stream",
     "text": [
      "Epoch 23:  28%|▎| 407/1468 [03:13<08:24,  2.11it/s, loss=8.52, v_num=27, seq_len"
     ]
    },
    {
     "name": "stderr",
     "output_type": "stream",
     "text": [
      "IOPub message rate exceeded.\n",
      "The Jupyter server will temporarily stop sending output\n",
      "to the client in order to avoid crashing it.\n",
      "To change this limit, set the config variable\n",
      "`--ServerApp.iopub_msg_rate_limit`.\n",
      "\n",
      "Current values:\n",
      "ServerApp.iopub_msg_rate_limit=1000.0 (msgs/sec)\n",
      "ServerApp.rate_limit_window=3.0 (secs)\n",
      "\n"
     ]
    },
    {
     "name": "stdout",
     "output_type": "stream",
     "text": [
      "Epoch 25:  79%|▊| 1166/1468 [09:11<02:22,  2.12it/s, loss=9.67, v_num=27, seq_le"
     ]
    },
    {
     "name": "stderr",
     "output_type": "stream",
     "text": [
      "IOPub message rate exceeded.\n",
      "The Jupyter server will temporarily stop sending output\n",
      "to the client in order to avoid crashing it.\n",
      "To change this limit, set the config variable\n",
      "`--ServerApp.iopub_msg_rate_limit`.\n",
      "\n",
      "Current values:\n",
      "ServerApp.iopub_msg_rate_limit=1000.0 (msgs/sec)\n",
      "ServerApp.rate_limit_window=3.0 (secs)\n",
      "\n"
     ]
    },
    {
     "name": "stdout",
     "output_type": "stream",
     "text": [
      "Epoch 28:  15%|▏| 218/1468 [01:43<09:52,  2.11it/s, loss=6.92, v_num=27, seq_len"
     ]
    },
    {
     "name": "stderr",
     "output_type": "stream",
     "text": [
      "IOPub message rate exceeded.\n",
      "The Jupyter server will temporarily stop sending output\n",
      "to the client in order to avoid crashing it.\n",
      "To change this limit, set the config variable\n",
      "`--ServerApp.iopub_msg_rate_limit`.\n",
      "\n",
      "Current values:\n",
      "ServerApp.iopub_msg_rate_limit=1000.0 (msgs/sec)\n",
      "ServerApp.rate_limit_window=3.0 (secs)\n",
      "\n"
     ]
    },
    {
     "name": "stdout",
     "output_type": "stream",
     "text": [
      "Epoch 30:  62%|▌| 909/1468 [07:09<04:23,  2.12it/s, loss=9.32, v_num=27, seq_len"
     ]
    },
    {
     "name": "stderr",
     "output_type": "stream",
     "text": [
      "IOPub message rate exceeded.\n",
      "The Jupyter server will temporarily stop sending output\n",
      "to the client in order to avoid crashing it.\n",
      "To change this limit, set the config variable\n",
      "`--ServerApp.iopub_msg_rate_limit`.\n",
      "\n",
      "Current values:\n",
      "ServerApp.iopub_msg_rate_limit=1000.0 (msgs/sec)\n",
      "ServerApp.rate_limit_window=3.0 (secs)\n",
      "\n"
     ]
    },
    {
     "name": "stdout",
     "output_type": "stream",
     "text": [
      "Epoch 33:   7%| | 102/1468 [00:50<11:20,  2.01it/s, loss=6.29, v_num=27, seq_len"
     ]
    },
    {
     "name": "stderr",
     "output_type": "stream",
     "text": [
      "IOPub message rate exceeded.\n",
      "The Jupyter server will temporarily stop sending output\n",
      "to the client in order to avoid crashing it.\n",
      "To change this limit, set the config variable\n",
      "`--ServerApp.iopub_msg_rate_limit`.\n",
      "\n",
      "Current values:\n",
      "ServerApp.iopub_msg_rate_limit=1000.0 (msgs/sec)\n",
      "ServerApp.rate_limit_window=3.0 (secs)\n",
      "\n"
     ]
    },
    {
     "name": "stdout",
     "output_type": "stream",
     "text": [
      "Epoch 35:  49%|▍| 724/1468 [05:41<05:50,  2.12it/s, loss=7.47, v_num=27, seq_len"
     ]
    },
    {
     "name": "stderr",
     "output_type": "stream",
     "text": [
      "IOPub message rate exceeded.\n",
      "The Jupyter server will temporarily stop sending output\n",
      "to the client in order to avoid crashing it.\n",
      "To change this limit, set the config variable\n",
      "`--ServerApp.iopub_msg_rate_limit`.\n",
      "\n",
      "Current values:\n",
      "ServerApp.iopub_msg_rate_limit=1000.0 (msgs/sec)\n",
      "ServerApp.rate_limit_window=3.0 (secs)\n",
      "\n"
     ]
    },
    {
     "name": "stdout",
     "output_type": "stream",
     "text": [
      "Epoch 37:  80%|▊| 1179/1468 [09:20<02:17,  2.10it/s, loss=6.7, v_num=27, seq_len"
     ]
    },
    {
     "name": "stderr",
     "output_type": "stream",
     "text": [
      "IOPub message rate exceeded.\n",
      "The Jupyter server will temporarily stop sending output\n",
      "to the client in order to avoid crashing it.\n",
      "To change this limit, set the config variable\n",
      "`--ServerApp.iopub_msg_rate_limit`.\n",
      "\n",
      "Current values:\n",
      "ServerApp.iopub_msg_rate_limit=1000.0 (msgs/sec)\n",
      "ServerApp.rate_limit_window=3.0 (secs)\n",
      "\n"
     ]
    },
    {
     "name": "stdout",
     "output_type": "stream",
     "text": [
      "Epoch 40:  20%|▏| 299/1468 [02:20<09:08,  2.13it/s, loss=7.3, v_num=27, seq_len="
     ]
    },
    {
     "name": "stderr",
     "output_type": "stream",
     "text": [
      "IOPub message rate exceeded.\n",
      "The Jupyter server will temporarily stop sending output\n",
      "to the client in order to avoid crashing it.\n",
      "To change this limit, set the config variable\n",
      "`--ServerApp.iopub_msg_rate_limit`.\n",
      "\n",
      "Current values:\n",
      "ServerApp.iopub_msg_rate_limit=1000.0 (msgs/sec)\n",
      "ServerApp.rate_limit_window=3.0 (secs)\n",
      "\n"
     ]
    },
    {
     "name": "stdout",
     "output_type": "stream",
     "text": [
      "Epoch 42:  65%|▋| 957/1468 [07:36<04:03,  2.10it/s, loss=7.06, v_num=27, seq_len"
     ]
    },
    {
     "name": "stderr",
     "output_type": "stream",
     "text": [
      "IOPub message rate exceeded.\n",
      "The Jupyter server will temporarily stop sending output\n",
      "to the client in order to avoid crashing it.\n",
      "To change this limit, set the config variable\n",
      "`--ServerApp.iopub_msg_rate_limit`.\n",
      "\n",
      "Current values:\n",
      "ServerApp.iopub_msg_rate_limit=1000.0 (msgs/sec)\n",
      "ServerApp.rate_limit_window=3.0 (secs)\n",
      "\n"
     ]
    },
    {
     "name": "stdout",
     "output_type": "stream",
     "text": [
      "Epoch 45:  10%| | 150/1468 [01:08<09:58,  2.20it/s, loss=6.51, v_num=27, seq_len"
     ]
    },
    {
     "name": "stderr",
     "output_type": "stream",
     "text": [
      "IOPub message rate exceeded.\n",
      "The Jupyter server will temporarily stop sending output\n",
      "to the client in order to avoid crashing it.\n",
      "To change this limit, set the config variable\n",
      "`--ServerApp.iopub_msg_rate_limit`.\n",
      "\n",
      "Current values:\n",
      "ServerApp.iopub_msg_rate_limit=1000.0 (msgs/sec)\n",
      "ServerApp.rate_limit_window=3.0 (secs)\n",
      "\n"
     ]
    },
    {
     "name": "stdout",
     "output_type": "stream",
     "text": [
      "Epoch 47:  18%|▏| 271/1468 [02:07<09:23,  2.13it/s, loss=5.94, v_num=27, seq_len"
     ]
    },
    {
     "name": "stderr",
     "output_type": "stream",
     "text": [
      "IOPub message rate exceeded.\n",
      "The Jupyter server will temporarily stop sending output\n",
      "to the client in order to avoid crashing it.\n",
      "To change this limit, set the config variable\n",
      "`--ServerApp.iopub_msg_rate_limit`.\n",
      "\n",
      "Current values:\n",
      "ServerApp.iopub_msg_rate_limit=1000.0 (msgs/sec)\n",
      "ServerApp.rate_limit_window=3.0 (secs)\n",
      "\n"
     ]
    },
    {
     "name": "stdout",
     "output_type": "stream",
     "text": [
      "Epoch 47:  54%|▌| 800/1468 [06:20<05:17,  2.10it/s, loss=6.15, v_num=27, seq_len"
     ]
    },
    {
     "name": "stderr",
     "output_type": "stream",
     "text": [
      "IOPub message rate exceeded.\n",
      "The Jupyter server will temporarily stop sending output\n",
      "to the client in order to avoid crashing it.\n",
      "To change this limit, set the config variable\n",
      "`--ServerApp.iopub_msg_rate_limit`.\n",
      "\n",
      "Current values:\n",
      "ServerApp.iopub_msg_rate_limit=1000.0 (msgs/sec)\n",
      "ServerApp.rate_limit_window=3.0 (secs)\n",
      "\n"
     ]
    },
    {
     "name": "stdout",
     "output_type": "stream",
     "text": [
      "Epoch 55:  80%|▊| 1168/1468 [09:11<02:21,  2.12it/s, loss=6.72, v_num=27, seq_le"
     ]
    },
    {
     "name": "stderr",
     "output_type": "stream",
     "text": [
      "IOPub message rate exceeded.\n",
      "The Jupyter server will temporarily stop sending output\n",
      "to the client in order to avoid crashing it.\n",
      "To change this limit, set the config variable\n",
      "`--ServerApp.iopub_msg_rate_limit`.\n",
      "\n",
      "Current values:\n",
      "ServerApp.iopub_msg_rate_limit=1000.0 (msgs/sec)\n",
      "ServerApp.rate_limit_window=3.0 (secs)\n",
      "\n"
     ]
    },
    {
     "name": "stdout",
     "output_type": "stream",
     "text": [
      "Epoch 58:  30%|▎| 446/1468 [03:34<08:10,  2.08it/s, loss=7.21, v_num=27, seq_len"
     ]
    },
    {
     "name": "stderr",
     "output_type": "stream",
     "text": [
      "IOPub message rate exceeded.\n",
      "The Jupyter server will temporarily stop sending output\n",
      "to the client in order to avoid crashing it.\n",
      "To change this limit, set the config variable\n",
      "`--ServerApp.iopub_msg_rate_limit`.\n",
      "\n",
      "Current values:\n",
      "ServerApp.iopub_msg_rate_limit=1000.0 (msgs/sec)\n",
      "ServerApp.rate_limit_window=3.0 (secs)\n",
      "\n"
     ]
    },
    {
     "name": "stdout",
     "output_type": "stream",
     "text": [
      "Epoch 60:  74%|▋| 1091/1468 [08:36<02:58,  2.11it/s, loss=6.33, v_num=27, seq_le"
     ]
    },
    {
     "name": "stderr",
     "output_type": "stream",
     "text": [
      "IOPub message rate exceeded.\n",
      "The Jupyter server will temporarily stop sending output\n",
      "to the client in order to avoid crashing it.\n",
      "To change this limit, set the config variable\n",
      "`--ServerApp.iopub_msg_rate_limit`.\n",
      "\n",
      "Current values:\n",
      "ServerApp.iopub_msg_rate_limit=1000.0 (msgs/sec)\n",
      "ServerApp.rate_limit_window=3.0 (secs)\n",
      "\n"
     ]
    },
    {
     "name": "stdout",
     "output_type": "stream",
     "text": [
      "Epoch 63:  22%|▏| 319/1468 [02:33<09:13,  2.08it/s, loss=6.52, v_num=27, seq_len"
     ]
    },
    {
     "name": "stderr",
     "output_type": "stream",
     "text": [
      "IOPub message rate exceeded.\n",
      "The Jupyter server will temporarily stop sending output\n",
      "to the client in order to avoid crashing it.\n",
      "To change this limit, set the config variable\n",
      "`--ServerApp.iopub_msg_rate_limit`.\n",
      "\n",
      "Current values:\n",
      "ServerApp.iopub_msg_rate_limit=1000.0 (msgs/sec)\n",
      "ServerApp.rate_limit_window=3.0 (secs)\n",
      "\n"
     ]
    },
    {
     "name": "stdout",
     "output_type": "stream",
     "text": [
      "Epoch 82:  80%|▊| 1175/1468 [09:18<02:19,  2.10it/s, loss=4.94, v_num=27, seq_le"
     ]
    },
    {
     "name": "stderr",
     "output_type": "stream",
     "text": [
      "IOPub message rate exceeded.\n",
      "The Jupyter server will temporarily stop sending output\n",
      "to the client in order to avoid crashing it.\n",
      "To change this limit, set the config variable\n",
      "`--ServerApp.iopub_msg_rate_limit`.\n",
      "\n",
      "Current values:\n",
      "ServerApp.iopub_msg_rate_limit=1000.0 (msgs/sec)\n",
      "ServerApp.rate_limit_window=3.0 (secs)\n",
      "\n"
     ]
    },
    {
     "name": "stdout",
     "output_type": "stream",
     "text": [
      "Epoch 85:  26%|▎| 387/1468 [03:04<08:34,  2.10it/s, loss=6.82, v_num=27, seq_len"
     ]
    },
    {
     "name": "stderr",
     "output_type": "stream",
     "text": [
      "IOPub message rate exceeded.\n",
      "The Jupyter server will temporarily stop sending output\n",
      "to the client in order to avoid crashing it.\n",
      "To change this limit, set the config variable\n",
      "`--ServerApp.iopub_msg_rate_limit`.\n",
      "\n",
      "Current values:\n",
      "ServerApp.iopub_msg_rate_limit=1000.0 (msgs/sec)\n",
      "ServerApp.rate_limit_window=3.0 (secs)\n",
      "\n"
     ]
    },
    {
     "name": "stdout",
     "output_type": "stream",
     "text": [
      "Epoch 87:  38%|▍| 559/1468 [04:27<07:14,  2.09it/s, loss=6.18, v_num=27, seq_len"
     ]
    },
    {
     "name": "stderr",
     "output_type": "stream",
     "text": [
      "IOPub message rate exceeded.\n",
      "The Jupyter server will temporarily stop sending output\n",
      "to the client in order to avoid crashing it.\n",
      "To change this limit, set the config variable\n",
      "`--ServerApp.iopub_msg_rate_limit`.\n",
      "\n",
      "Current values:\n",
      "ServerApp.iopub_msg_rate_limit=1000.0 (msgs/sec)\n",
      "ServerApp.rate_limit_window=3.0 (secs)\n",
      "\n"
     ]
    },
    {
     "name": "stdout",
     "output_type": "stream",
     "text": [
      "Epoch 89:  90%|▉| 1326/1468 [10:32<01:07,  2.09it/s, loss=5.91, v_num=27, seq_le"
     ]
    },
    {
     "name": "stderr",
     "output_type": "stream",
     "text": [
      "IOPub message rate exceeded.\n",
      "The Jupyter server will temporarily stop sending output\n",
      "to the client in order to avoid crashing it.\n",
      "To change this limit, set the config variable\n",
      "`--ServerApp.iopub_msg_rate_limit`.\n",
      "\n",
      "Current values:\n",
      "ServerApp.iopub_msg_rate_limit=1000.0 (msgs/sec)\n",
      "ServerApp.rate_limit_window=3.0 (secs)\n",
      "\n"
     ]
    },
    {
     "name": "stdout",
     "output_type": "stream",
     "text": [
      "Epoch 91:  92%|▉| 1346/1468 [10:37<00:57,  2.11it/s, loss=6.03, v_num=27, seq_le"
     ]
    },
    {
     "name": "stderr",
     "output_type": "stream",
     "text": [
      "IOPub message rate exceeded.\n",
      "The Jupyter server will temporarily stop sending output\n",
      "to the client in order to avoid crashing it.\n",
      "To change this limit, set the config variable\n",
      "`--ServerApp.iopub_msg_rate_limit`.\n",
      "\n",
      "Current values:\n",
      "ServerApp.iopub_msg_rate_limit=1000.0 (msgs/sec)\n",
      "ServerApp.rate_limit_window=3.0 (secs)\n",
      "\n"
     ]
    },
    {
     "name": "stdout",
     "output_type": "stream",
     "text": [
      "Epoch 94:  37%|▎| 544/1468 [04:21<07:23,  2.08it/s, loss=6.72, v_num=27, seq_len"
     ]
    },
    {
     "name": "stderr",
     "output_type": "stream",
     "text": [
      "IOPub message rate exceeded.\n",
      "The Jupyter server will temporarily stop sending output\n",
      "to the client in order to avoid crashing it.\n",
      "To change this limit, set the config variable\n",
      "`--ServerApp.iopub_msg_rate_limit`.\n",
      "\n",
      "Current values:\n",
      "ServerApp.iopub_msg_rate_limit=1000.0 (msgs/sec)\n",
      "ServerApp.rate_limit_window=3.0 (secs)\n",
      "\n"
     ]
    },
    {
     "name": "stdout",
     "output_type": "stream",
     "text": [
      "Epoch 96:  86%|▊| 1267/1468 [10:02<01:35,  2.10it/s, loss=5.82, v_num=27, seq_le"
     ]
    },
    {
     "name": "stderr",
     "output_type": "stream",
     "text": [
      "IOPub message rate exceeded.\n",
      "The Jupyter server will temporarily stop sending output\n",
      "to the client in order to avoid crashing it.\n",
      "To change this limit, set the config variable\n",
      "`--ServerApp.iopub_msg_rate_limit`.\n",
      "\n",
      "Current values:\n",
      "ServerApp.iopub_msg_rate_limit=1000.0 (msgs/sec)\n",
      "ServerApp.rate_limit_window=3.0 (secs)\n",
      "\n"
     ]
    },
    {
     "name": "stdout",
     "output_type": "stream",
     "text": [
      "Epoch 99: 100%|█| 1468/1468 [11:39<00:00,  2.10it/s, loss=5.3, v_num=27, seq_len\n",
      "{'loss': tensor(0.3499), 'seq_len': tensor(164.6765)}\n"
     ]
    }
   ],
   "source": [
    "trainer.fit(model, train_dl)\n",
    "print(trainer.logged_metrics)"
   ]
  },
  {
   "cell_type": "code",
   "execution_count": 9,
   "id": "56fe905f-283b-4d3e-9868-2ce6407f86b6",
   "metadata": {},
   "outputs": [
    {
     "name": "stdout",
     "output_type": "stream",
     "text": [
      "{'loss': tensor(0.3499), 'seq_len': tensor(164.6765)}\n"
     ]
    }
   ],
   "source": [
    "print(trainer.logged_metrics)"
   ]
  },
  {
   "cell_type": "code",
   "execution_count": null,
   "id": "4edb24ce-088a-43d6-b43c-0f52000eb1a8",
   "metadata": {},
   "outputs": [],
   "source": []
  },
  {
   "cell_type": "code",
   "execution_count": null,
   "id": "d748d0ec-4dae-49e6-900f-0b652eea89a2",
   "metadata": {},
   "outputs": [],
   "source": []
  },
  {
   "cell_type": "code",
   "execution_count": null,
   "id": "7f47ad27-ff17-42b8-94d7-7b285db1929e",
   "metadata": {},
   "outputs": [],
   "source": []
  },
  {
   "cell_type": "code",
   "execution_count": null,
   "id": "52d3b54d-8055-4f60-8e71-0ec9f6bb995f",
   "metadata": {},
   "outputs": [],
   "source": []
  },
  {
   "cell_type": "code",
   "execution_count": 10,
   "id": "35f29f3e-f7e1-4c8f-9cd1-357e1e61f21d",
   "metadata": {},
   "outputs": [
    {
     "name": "stdout",
     "output_type": "stream",
     "text": [
      "CPU times: user 41.3 ms, sys: 80.2 ms, total: 121 ms\n",
      "Wall time: 120 ms\n"
     ]
    }
   ],
   "source": [
    "%%time\n",
    "torch.save(seq_encoder, \"../data/ptls-v3/seq-encoder.pt\")"
   ]
  },
  {
   "cell_type": "code",
   "execution_count": 11,
   "id": "f3f013c9-d917-4609-8fc9-e07b3d6c4e91",
   "metadata": {},
   "outputs": [
    {
     "name": "stdout",
     "output_type": "stream",
     "text": [
      "CPU times: user 3min 7s, sys: 15.8 s, total: 3min 23s\n",
      "Wall time: 3min 28s\n"
     ]
    }
   ],
   "source": [
    "%%time\n",
    "torch.save(model, \"../data/ptls-v3/model.pt\")"
   ]
  },
  {
   "cell_type": "code",
   "execution_count": 12,
   "id": "93947c87-b4fd-4afa-a006-28e3e1bd49a5",
   "metadata": {},
   "outputs": [],
   "source": [
    "from ptls.data_load.datasets import inference_data_loader"
   ]
  },
  {
   "cell_type": "code",
   "execution_count": 13,
   "id": "3834e654-4afe-4982-8524-862e118fd583",
   "metadata": {},
   "outputs": [],
   "source": [
    "inference_dl = inference_data_loader(dataset, num_workers=0, batch_size=256)"
   ]
  },
  {
   "cell_type": "code",
   "execution_count": 14,
   "id": "bb4dcd07-94fd-43ed-83f4-222c800de74b",
   "metadata": {},
   "outputs": [],
   "source": [
    "model.eval();"
   ]
  },
  {
   "cell_type": "code",
   "execution_count": 15,
   "id": "d0dfb733-bef6-46ff-b87f-8e1c2a5e3b37",
   "metadata": {},
   "outputs": [
    {
     "name": "stderr",
     "output_type": "stream",
     "text": [
      "LOCAL_RANK: 0 - CUDA_VISIBLE_DEVICES: [0]\n",
      "/home/ababkin/.cache/pypoetry/virtualenvs/mts-ml-cup-qFoUb2su-py3.8/lib/python3.8/site-packages/pytorch_lightning/trainer/connectors/data_connector.py:240: PossibleUserWarning: The dataloader, predict_dataloader 0, does not have many workers which may be a bottleneck. Consider increasing the value of the `num_workers` argument` (try 8 which is the number of cpus on this machine) in the `DataLoader` init to improve performance.\n",
      "  rank_zero_warn(\n"
     ]
    },
    {
     "name": "stdout",
     "output_type": "stream",
     "text": [
      "Predicting DataLoader 0: : 0it [00:00, -1501765.43it/s]"
     ]
    },
    {
     "name": "stderr",
     "output_type": "stream",
     "text": [
      "/home/ababkin/.cache/pypoetry/virtualenvs/mts-ml-cup-qFoUb2su-py3.8/lib/python3.8/site-packages/pytorch_lightning/loops/epoch/prediction_epoch_loop.py:175: UserWarning: Lightning couldn't infer the indices fetched for your dataloader.\n",
      "  warning_cache.warn(\"Lightning couldn't infer the indices fetched for your dataloader.\")\n"
     ]
    },
    {
     "name": "stdout",
     "output_type": "stream",
     "text": [
      "Predicting DataLoader 0: : 1623it [07:51,  3.04s/it]   \n",
      "CPU times: user 7min 59s, sys: 1min 16s, total: 9min 16s\n",
      "Wall time: 7min 52s\n"
     ]
    },
    {
     "data": {
      "text/plain": [
       "torch.Size([415317, 256])"
      ]
     },
     "execution_count": 15,
     "metadata": {},
     "output_type": "execute_result"
    }
   ],
   "source": [
    "%%time\n",
    "coles_embs = torch.vstack(trainer.predict(model, inference_dl))\n",
    "coles_embs.shape"
   ]
  },
  {
   "cell_type": "code",
   "execution_count": 16,
   "id": "2975bd02-22d7-4e54-82e4-d3df0806404a",
   "metadata": {},
   "outputs": [],
   "source": [
    "torch.save(coles_embs, \"../data/ptls-v3/embeddings.pt\")"
   ]
  },
  {
   "cell_type": "code",
   "execution_count": 17,
   "id": "0ec44208-67ff-4eca-96db-2539b997ae83",
   "metadata": {},
   "outputs": [],
   "source": [
    "user_ids = [d[\"user_id\"] for d in dataset]"
   ]
  },
  {
   "cell_type": "code",
   "execution_count": 18,
   "id": "0858ce21-2040-4573-a764-a7e57c0654e1",
   "metadata": {},
   "outputs": [
    {
     "data": {
      "text/plain": [
       "['../data/ptls-v3/user_ids-long.jbl']"
      ]
     },
     "execution_count": 18,
     "metadata": {},
     "output_type": "execute_result"
    }
   ],
   "source": [
    "import joblib as jbl\n",
    "jbl.dump(user_ids, \"../data/ptls-v3/user_ids-long.jbl\")"
   ]
  },
  {
   "cell_type": "code",
   "execution_count": 19,
   "id": "2ebf0375-b521-4a46-9cf0-2113f626f68b",
   "metadata": {},
   "outputs": [
    {
     "name": "stdout",
     "output_type": "stream",
     "text": [
      "CPU times: user 11.3 s, sys: 2.15 s, total: 13.5 s\n",
      "Wall time: 13.5 s\n"
     ]
    }
   ],
   "source": [
    "%%time\n",
    "import pandas as pd\n",
    "embs = pd.DataFrame()\n",
    "embs[\"user_id\"] = user_ids\n",
    "embs[\"ptls_embeddings\"] = pd.DataFrame(coles_embs.numpy()).apply(lambda x: x.tolist(), axis=1)\n",
    "embs = (\n",
    "    polars.from_pandas(embs)\n",
    "    .with_columns(polars.col(\"ptls_embeddings\").cast(polars.List(polars.Float32)))\n",
    ")"
   ]
  },
  {
   "cell_type": "code",
   "execution_count": 20,
   "id": "5a2952fa-fd2d-449a-b39c-e86e6483e950",
   "metadata": {},
   "outputs": [],
   "source": [
    "embs.write_parquet(\"../data/features/ptls/embs-long.pq\")"
   ]
  },
  {
   "cell_type": "code",
   "execution_count": null,
   "id": "8adb371a-58da-4f10-a06e-0ecbe74a324a",
   "metadata": {},
   "outputs": [],
   "source": []
  }
 ],
 "metadata": {
  "kernelspec": {
   "display_name": "Python (mts-ml-cup)",
   "language": "python",
   "name": "mts-ml-cup"
  },
  "language_info": {
   "codemirror_mode": {
    "name": "ipython",
    "version": 3
   },
   "file_extension": ".py",
   "mimetype": "text/x-python",
   "name": "python",
   "nbconvert_exporter": "python",
   "pygments_lexer": "ipython3",
   "version": "3.8.10"
  }
 },
 "nbformat": 4,
 "nbformat_minor": 5
}
