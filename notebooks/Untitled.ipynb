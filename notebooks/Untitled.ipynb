{
 "cells": [
  {
   "cell_type": "code",
   "execution_count": 12,
   "id": "91e4b56f-f9af-431c-8de9-202536b13e87",
   "metadata": {},
   "outputs": [],
   "source": [
    "import polars as pl\n",
    "import itertools as it"
   ]
  },
  {
   "cell_type": "code",
   "execution_count": 3,
   "id": "a8f72722-5713-4165-a734-3e71cc6e0f96",
   "metadata": {},
   "outputs": [],
   "source": [
    "u = pl.read_parquet(\"../data/feat/url/all.pq\")"
   ]
  },
  {
   "cell_type": "code",
   "execution_count": 8,
   "id": "a92e2f8f-8e9c-4161-ae46-c925f3a232da",
   "metadata": {},
   "outputs": [],
   "source": [
    "s = u[:10][\"url_all_visited_urls\"][0]"
   ]
  },
  {
   "cell_type": "code",
   "execution_count": null,
   "id": "d76fafd6-4c10-46d7-bc31-34f448f19ac6",
   "metadata": {},
   "outputs": [],
   "source": []
  },
  {
   "cell_type": "code",
   "execution_count": 11,
   "id": "33ffe8b0-2a98-4626-b944-f9116f677a90",
   "metadata": {},
   "outputs": [
    {
     "data": {
      "text/plain": [
       "52"
      ]
     },
     "execution_count": 11,
     "metadata": {},
     "output_type": "execute_result"
    }
   ],
   "source": [
    "len(s.split())"
   ]
  },
  {
   "cell_type": "code",
   "execution_count": null,
   "id": "25a072e9-fb0b-4edb-8a77-d8781df5ff2b",
   "metadata": {},
   "outputs": [],
   "source": []
  }
 ],
 "metadata": {
  "kernelspec": {
   "display_name": "Python (mts-ml-cup)",
   "language": "python",
   "name": "mts-ml-cup"
  },
  "language_info": {
   "codemirror_mode": {
    "name": "ipython",
    "version": 3
   },
   "file_extension": ".py",
   "mimetype": "text/x-python",
   "name": "python",
   "nbconvert_exporter": "python",
   "pygments_lexer": "ipython3",
   "version": "3.8.10"
  }
 },
 "nbformat": 4,
 "nbformat_minor": 5
}
