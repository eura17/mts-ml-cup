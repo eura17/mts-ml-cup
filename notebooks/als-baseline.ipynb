{
 "cells": [
  {
   "cell_type": "code",
   "execution_count": 11,
   "id": "4c199880-66dc-4faf-a1e1-bff01665f9ba",
   "metadata": {},
   "outputs": [],
   "source": [
    "from functools import partial\n",
    "\n",
    "import implicit\n",
    "import polars as pl\n",
    "import pandas as pd\n",
    "import numpy as np\n",
    "import scipy.sparse\n",
    "\n",
    "from mts_ml_cup.preprocessing import urls as u"
   ]
  },
  {
   "cell_type": "code",
   "execution_count": 4,
   "id": "85c2771f-2ee4-4579-b292-86f2ed65d776",
   "metadata": {},
   "outputs": [
    {
     "name": "stdout",
     "output_type": "stream",
     "text": [
      "CPU times: user 3min 42s, sys: 1min 21s, total: 5min 3s\n",
      "Wall time: 1min 8s\n"
     ]
    }
   ],
   "source": [
    "%%time\n",
    "url_cleaner = partial(\n",
    "    u.clean_url,\n",
    "    preprocessors=[\n",
    "        u.decode_from_punycode,\n",
    "        u.lower,\n",
    "        u.replace_hyphens_with_dots,\n",
    "    ],\n",
    ")\n",
    "\n",
    "sessions = pl.read_parquet(\"../data/processed/sessions.pq\", columns=[\"user_id\", \"url_host\", \"request_cnt\"])\n",
    "sessions = (\n",
    "    sessions\n",
    "    .join(\n",
    "        other=sessions\n",
    "            .select(\"url_host\")\n",
    "            .unique()\n",
    "            .with_columns(pl.col(\"url_host\").apply(url_cleaner).alias(\"url_cleaned\")),\n",
    "        on=\"url_host\",\n",
    "        how=\"left\",\n",
    "    )\n",
    "    .select(pl.exclude(\"url_host\"))\n",
    "    .with_columns(pl.col(\"url_cleaned\").alias(\"url_host\"))\n",
    ")"
   ]
  },
  {
   "cell_type": "code",
   "execution_count": 6,
   "id": "6dfb650a-6246-4ec0-842d-6e7452a66771",
   "metadata": {},
   "outputs": [
    {
     "name": "stdout",
     "output_type": "stream",
     "text": [
      "CPU times: user 2min 57s, sys: 42.4 s, total: 3min 40s\n",
      "Wall time: 34.9 s\n"
     ]
    }
   ],
   "source": [
    "%%time\n",
    "data_agg = (\n",
    "    sessions\n",
    "    .groupby([\"user_id\", \"url_host\"])\n",
    "    .agg(pl.col(\"request_cnt\").sum())\n",
    ")"
   ]
  },
  {
   "cell_type": "code",
   "execution_count": 10,
   "id": "116b3c46-0d5b-495a-8b83-e035b0bc5767",
   "metadata": {},
   "outputs": [],
   "source": [
    "data_agg.write_parquet(\"../data/processed/data-agg.pq\")"
   ]
  },
  {
   "cell_type": "code",
   "execution_count": 2,
   "id": "0124e4be-a526-4e01-8cd1-2a446bd21261",
   "metadata": {},
   "outputs": [],
   "source": [
    "data_agg = pl.read_parquet(\"../data/processed/data-agg.pq\")"
   ]
  },
  {
   "cell_type": "code",
   "execution_count": 3,
   "id": "427ff828-de0d-41a3-8438-c3ea589ddd83",
   "metadata": {},
   "outputs": [
    {
     "name": "stdout",
     "output_type": "stream",
     "text": [
      "199508 urls\n",
      "415317 users\n"
     ]
    }
   ],
   "source": [
    "url_set = set(data_agg[\"url_host\"].unique())\n",
    "print(f\"{len(url_set)} urls\")\n",
    "url_dict = {url: idurl for url, idurl in zip(url_set, range(len(url_set)))}\n",
    "usr_set = set(data_agg[\"user_id\"].unique())\n",
    "print(f\"{len(usr_set)} users\")\n",
    "usr_dict = {usr: user_id for usr, user_id in zip(usr_set, range(len(usr_set)))}"
   ]
  },
  {
   "cell_type": "code",
   "execution_count": 4,
   "id": "ce5fe395-8890-4bf8-a1cd-6f923276f2d2",
   "metadata": {},
   "outputs": [
    {
     "name": "stdout",
     "output_type": "stream",
     "text": [
      "CPU times: user 23.6 s, sys: 3.59 s, total: 27.2 s\n",
      "Wall time: 27.1 s\n"
     ]
    }
   ],
   "source": [
    "%%time\n",
    "values = np.array(data_agg[\"request_cnt\"].to_pandas())\n",
    "rows = np.array(data_agg[\"user_id\"].to_pandas().map(usr_dict))\n",
    "cols = np.array(data_agg[\"url_host\"].to_pandas().map(url_dict))\n",
    "mat = scipy.sparse.coo_matrix((values, (rows, cols)), shape=(rows.max() + 1, cols.max() + 1)).tocsr()"
   ]
  },
  {
   "cell_type": "code",
   "execution_count": 5,
   "id": "e54f8881-1067-4984-b357-c62f34a86298",
   "metadata": {},
   "outputs": [
    {
     "name": "stderr",
     "output_type": "stream",
     "text": [
      "100%|███████████████████████████████████████████| 30/30 [05:57<00:00, 11.92s/it]\n"
     ]
    },
    {
     "name": "stdout",
     "output_type": "stream",
     "text": [
      "CPU times: user 1h 31min 53s, sys: 1h 15min 4s, total: 2h 46min 57s\n",
      "Wall time: 6min 3s\n"
     ]
    }
   ],
   "source": [
    "%%time\n",
    "als = implicit.approximate_als.FaissAlternatingLeastSquares(\n",
    "    factors=50, \n",
    "    iterations=30, \n",
    "    use_gpu=False,\n",
    "    calculate_training_loss=False, \n",
    "    regularization=0.1,\n",
    ")\n",
    "als.fit(mat)"
   ]
  },
  {
   "cell_type": "code",
   "execution_count": 6,
   "id": "dc63b073-6162-44ea-b4c8-ca193b9479f6",
   "metadata": {},
   "outputs": [],
   "source": [
    "u_factors = als.model.user_factors \n",
    "d_factors = als.model.item_factors"
   ]
  },
  {
   "cell_type": "code",
   "execution_count": 14,
   "id": "22cd7cc4-9f1b-49f9-b55e-3fea7b64a264",
   "metadata": {},
   "outputs": [
    {
     "name": "stdout",
     "output_type": "stream",
     "text": [
      "CPU times: user 2.94 s, sys: 647 ms, total: 3.58 s\n",
      "Wall time: 3.6 s\n"
     ]
    }
   ],
   "source": [
    "%%time\n",
    "users = [None] * len(usr_dict)\n",
    "for user_id, user_idx in usr_dict.items():\n",
    "    users[user_idx] = user_id\n",
    "\n",
    "user_embs = pd.DataFrame()\n",
    "user_embs[\"user_id\"] = users\n",
    "user_embs[\"als_embeddings\"] = pd.DataFrame(u_factors).to_numpy(np.float32).tolist()\n",
    "user_embs = (\n",
    "    pl.from_pandas(user_embs)\n",
    "    .select(\n",
    "        [\n",
    "            pl.col(\"user_id\").cast(pl.UInt32),\n",
    "            pl.col(\"als_embeddings\").cast(pl.List(pl.Float32)),\n",
    "        ]\n",
    "    )\n",
    ")"
   ]
  },
  {
   "cell_type": "code",
   "execution_count": 17,
   "id": "56c9a970-f888-42aa-a59d-c631fa921fee",
   "metadata": {},
   "outputs": [
    {
     "name": "stdout",
     "output_type": "stream",
     "text": [
      "CPU times: user 2.73 s, sys: 406 ms, total: 3.13 s\n",
      "Wall time: 3.34 s\n"
     ]
    }
   ],
   "source": [
    "%%time\n",
    "urls = [None] * len(url_dict)\n",
    "for url_id, url_idx in url_dict.items():\n",
    "    urls[url_idx] = url_id\n",
    "\n",
    "url_embs = pd.DataFrame()\n",
    "url_embs[\"url_host\"] = urls\n",
    "url_embs[\"als_embeddings\"] = pd.DataFrame(d_factors).to_numpy(np.float32).tolist()\n",
    "url_embs = (\n",
    "    pl.from_pandas(url_embs)\n",
    "    .select(\n",
    "        [\n",
    "            pl.col(\"url_host\").cast(pl.Utf8),\n",
    "            pl.col(\"als_embeddings\").cast(pl.List(pl.Float32)),\n",
    "        ]\n",
    "    )\n",
    ")"
   ]
  },
  {
   "cell_type": "code",
   "execution_count": 19,
   "id": "b1ff2977-6946-4b61-ad2e-32f2fa30f7cc",
   "metadata": {},
   "outputs": [],
   "source": [
    "user_embs.write_parquet(\"../data/features/als-user-embeddings.pq\")"
   ]
  },
  {
   "cell_type": "code",
   "execution_count": 20,
   "id": "524f4c72-2ff0-443a-a4cd-f44d62372472",
   "metadata": {},
   "outputs": [],
   "source": [
    "url_embs.write_parquet(\"../data/features/als-urls-embeddings.pq\")"
   ]
  },
  {
   "cell_type": "code",
   "execution_count": null,
   "id": "73a01249-00cf-4654-b1b2-9682bf17badb",
   "metadata": {},
   "outputs": [],
   "source": []
  }
 ],
 "metadata": {
  "kernelspec": {
   "display_name": "Python (mts-ml-cup)",
   "language": "python",
   "name": "mts-ml-cup"
  },
  "language_info": {
   "codemirror_mode": {
    "name": "ipython",
    "version": 3
   },
   "file_extension": ".py",
   "mimetype": "text/x-python",
   "name": "python",
   "nbconvert_exporter": "python",
   "pygments_lexer": "ipython3",
   "version": "3.8.10"
  }
 },
 "nbformat": 4,
 "nbformat_minor": 5
}
