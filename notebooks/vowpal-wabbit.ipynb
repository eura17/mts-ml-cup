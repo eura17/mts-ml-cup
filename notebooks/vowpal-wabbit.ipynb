{
 "cells": [
  {
   "cell_type": "code",
   "execution_count": 1,
   "id": "cd23952c-a0b7-42b1-a2e7-af717538d37b",
   "metadata": {},
   "outputs": [],
   "source": [
    "import polars as pl\n",
    "from tqdm import tqdm"
   ]
  },
  {
   "cell_type": "markdown",
   "id": "535a4c13-29d9-473e-b79f-6ba93f3c663e",
   "metadata": {},
   "source": [
    "# Features"
   ]
  },
  {
   "cell_type": "code",
   "execution_count": 2,
   "id": "9f40e692-ba6c-4c93-86a1-c231b6147a7c",
   "metadata": {},
   "outputs": [],
   "source": [
    "df = pl.read_parquet(\"../data/processed/sessions-noncat.pq\")"
   ]
  },
  {
   "cell_type": "code",
   "execution_count": 3,
   "id": "1263f681-df04-4c9b-92c8-97bfb936ecd7",
   "metadata": {},
   "outputs": [
    {
     "name": "stdout",
     "output_type": "stream",
     "text": [
      "CPU times: user 4min 51s, sys: 2min 15s, total: 7min 6s\n",
      "Wall time: 1min 13s\n"
     ]
    }
   ],
   "source": [
    "%%time\n",
    "urls = (\n",
    "    df\n",
    "    .groupby([\"user_id\", \"url_host\"])\n",
    "    .agg(pl.col(\"request_cnt\").sum())\n",
    "    .sort([\"user_id\", \"request_cnt\", \"url_host\"], reverse=[False, True, False])\n",
    "    .groupby(\"user_id\").agg(pl.col(\"url_host\"))\n",
    ")"
   ]
  },
  {
   "cell_type": "code",
   "execution_count": 68,
   "id": "b51879cb-bdbd-4bbc-a834-20e1dece9872",
   "metadata": {},
   "outputs": [],
   "source": [
    "def only_2nd_level_domain(url: str) -> str:\n",
    "    domain_levels = url.split(\".\")\n",
    "    if len(domain_levels) < 2:\n",
    "        return \"\"\n",
    "    return domain_levels[-2]"
   ]
  },
  {
   "cell_type": "code",
   "execution_count": 60,
   "id": "b496cf17-04b3-4baa-ab5b-4f54c002a2e0",
   "metadata": {},
   "outputs": [
    {
     "name": "stdout",
     "output_type": "stream",
     "text": [
      "CPU times: user 6min 30s, sys: 4min 20s, total: 10min 50s\n",
      "Wall time: 5min 21s\n"
     ]
    }
   ],
   "source": [
    "%%time\n",
    "domains = (\n",
    "    df\n",
    "    .with_columns(pl.col(\"url_host\").apply(only_2nd_level_domain).alias(\"second_level_domain\"))\n",
    "    .groupby([\"user_id\", \"second_level_domain\"])\n",
    "    .agg(pl.col(\"request_cnt\").sum())\n",
    "    .sort([\"user_id\", \"request_cnt\", \"second_level_domain\"], reverse=[False, True, False])\n",
    "    .groupby(\"user_id\").agg(pl.col(\"second_level_domain\").alias(\"urls\"))\n",
    ")"
   ]
  },
  {
   "cell_type": "code",
   "execution_count": 4,
   "id": "ec12546b-29a0-4478-8e3c-052723642bc8",
   "metadata": {},
   "outputs": [],
   "source": [
    "regions = (\n",
    "    pl.read_parquet(\"../data/features/geo/top_region.pq\")\n",
    "    .with_columns(pl.col(\"top_region\").apply(lambda x: \"_\".join(x.split())))\n",
    ")\n",
    "cities = (\n",
    "    pl.read_parquet(\"../data/features/geo/top_city.pq\")\n",
    "    .with_columns(pl.col(\"top_city\").apply(lambda x: \"_\".join(x.split())))\n",
    ")"
   ]
  },
  {
   "cell_type": "code",
   "execution_count": 5,
   "id": "82e3f3a6-fc51-4a3d-b3eb-bccc6108380d",
   "metadata": {},
   "outputs": [],
   "source": [
    "manufacturers = (\n",
    "    pl.read_parquet(\"../data/features/device/manufacturer.pq\")\n",
    "    .with_columns(pl.col(\"device_manufacturer\").apply(lambda x: \"_\".join(x.split())))\n",
    ")\n",
    "models = (\n",
    "    pl.read_parquet(\"../data/features/device/model.pq\")\n",
    "    .with_columns(pl.col(\"device_model\").apply(lambda x: \"_\".join(x.split())))\n",
    ")"
   ]
  },
  {
   "cell_type": "markdown",
   "id": "dd65e32b-3c35-4390-907d-1308c927b523",
   "metadata": {},
   "source": [
    "# Dataset"
   ]
  },
  {
   "cell_type": "code",
   "execution_count": 62,
   "id": "c94f16a8-a903-4bd1-8b7c-184cf6a1a78a",
   "metadata": {},
   "outputs": [],
   "source": [
    "train = (\n",
    "    pl.read_parquet(\"../data/processed/train-users.pq\")    \n",
    "    .join(regions, how=\"left\", on=\"user_id\")\n",
    "    .join(cities, how=\"left\", on=\"user_id\")\n",
    "    .join(manufacturers, how=\"left\", on=\"user_id\")\n",
    "    .join(models, how=\"left\", on=\"user_id\")\n",
    "    .join(domains, how=\"left\", on=\"user_id\")\n",
    "    # .join(urls, how=\"left\", on=\"user_id\")\n",
    ")"
   ]
  },
  {
   "cell_type": "code",
   "execution_count": 63,
   "id": "ef655d03-2a96-4cf6-bc76-c7646761d43e",
   "metadata": {},
   "outputs": [],
   "source": [
    "test = (\n",
    "    pl.read_parquet(\"../data/processed/test-users.pq\")\n",
    "    .join(regions, how=\"left\", on=\"user_id\")\n",
    "    .join(cities, how=\"left\", on=\"user_id\")\n",
    "    .join(manufacturers, how=\"left\", on=\"user_id\")\n",
    "    .join(models, how=\"left\", on=\"user_id\")\n",
    "    .join(domains, how=\"left\", on=\"user_id\")\n",
    "    # .join(urls, how=\"left\", on=\"user_id\")\n",
    ")"
   ]
  },
  {
   "cell_type": "code",
   "execution_count": 64,
   "id": "03319510-fb9b-493b-b838-f2577cf4d7e1",
   "metadata": {},
   "outputs": [],
   "source": [
    "train_sex = (\n",
    "    train\n",
    "    .filter(pl.col(\"is_male\").is_not_null())\n",
    "    .with_columns(pl.when(pl.col(\"is_male\") == 0).then(-1).otherwise(1).alias(\"is_male\"))\n",
    "    .select(pl.exclude([\"age\", \"age_bucket\"]))\n",
    ")"
   ]
  },
  {
   "cell_type": "code",
   "execution_count": 65,
   "id": "5e3cec8d-916d-486b-b09b-a7be5b282813",
   "metadata": {},
   "outputs": [],
   "source": [
    "train_age = (\n",
    "    train\n",
    "    .filter(pl.col(\"age_bucket\") > 0)\n",
    "    .select(pl.exclude([\"age\", \"is_male\"]))\n",
    ")"
   ]
  },
  {
   "cell_type": "code",
   "execution_count": 67,
   "id": "07bbdaf8-caa7-44f9-b90d-e895ab15c84c",
   "metadata": {},
   "outputs": [],
   "source": [
    "def to_vw_format(dataset: pl.DataFrame, path: str, target_col: str) -> None:\n",
    "    with open(path, \"w\") as f:\n",
    "        for row in tqdm(dataset.iter_rows(named=True), total=len(dataset)):\n",
    "            target = f\"{row[target_col]}\" if target_col in row else \" \"\n",
    "            \n",
    "            geo = f\"|g {row['top_region']} {row['top_city']}\"\n",
    "            device = f\"|d {row['device_manufacturer']} {row['device_model']}\"\n",
    "            urls = f\"|u {' '.join(row['urls'])}\"\n",
    "            # urls = f\"|u {' '.join(map(lambda url: ' '.join(url.split('.')), row['url_host']))}\"\n",
    "            \n",
    "            print(\" \".join([target, geo, device, urls]), file=f)"
   ]
  },
  {
   "cell_type": "code",
   "execution_count": 69,
   "id": "61247fcc-3262-4ff8-af33-bc3edf4e6ca8",
   "metadata": {},
   "outputs": [
    {
     "name": "stderr",
     "output_type": "stream",
     "text": [
      "100%|████████████████████████████████| 264326/264326 [00:13<00:00, 19670.51it/s]\n"
     ]
    }
   ],
   "source": [
    "to_vw_format(train_sex, path=\"../data/vw/2nd-level-domains/datasets/train-sex.vw\", target_col=\"is_male\")"
   ]
  },
  {
   "cell_type": "code",
   "execution_count": 70,
   "id": "d3ef5d04-cdf7-42fa-88b8-82eec94daa55",
   "metadata": {},
   "outputs": [
    {
     "name": "stderr",
     "output_type": "stream",
     "text": [
      "100%|████████████████████████████████| 268922/268922 [00:14<00:00, 19197.80it/s]\n"
     ]
    }
   ],
   "source": [
    "to_vw_format(train_age, path=\"../data/vw/2nd-level-domains/datasets/train-age.vw\", target_col=\"age_bucket\")"
   ]
  },
  {
   "cell_type": "code",
   "execution_count": 71,
   "id": "81d709b3-0bb1-4264-a3eb-88679aad067e",
   "metadata": {},
   "outputs": [
    {
     "name": "stderr",
     "output_type": "stream",
     "text": [
      "100%|████████████████████████████████| 144724/144724 [00:07<00:00, 19311.84it/s]\n"
     ]
    }
   ],
   "source": [
    "to_vw_format(test, path=\"../data/vw/2nd-level-domains/datasets/test.vw\", target_col=\"empty\")"
   ]
  },
  {
   "cell_type": "code",
   "execution_count": 76,
   "id": "96a347aa-bcc3-4782-8ecf-f6608c2a257a",
   "metadata": {},
   "outputs": [
    {
     "name": "stdout",
     "output_type": "stream",
     "text": [
      "Generating 2-grams for u namespaces.\n",
      "Generating 3-grams for u namespaces.\n",
      "creating features for following interactions: gd \n",
      "final_regressor = ../data/vw/2nd-level-domains/models/sex.bin\n",
      "Num weight bits = 24\n",
      "learning rate = 0.5\n",
      "initial_t = 0\n",
      "power_t = 0.5\n",
      "decay_learning_rate = 1\n",
      "creating cache_file = ../data/vw/2nd-level-domains/datasets/train-sex.vw.cache\n",
      "Reading datafile = ../data/vw/2nd-level-domains/datasets/train-sex.vw\n",
      "num sources = 1\n",
      "average  since         example        example  current  current  current\n",
      "loss     last          counter         weight    label  predict features\n",
      "0.693147 0.693147            1            1.0   1.0000   0.5000       78\n",
      "0.604189 0.515231            2            2.0   1.0000   0.5974       51\n",
      "0.801367 0.998545            4            4.0  -1.0000   0.5716       48\n",
      "0.768224 0.735081            8            8.0   1.0000   0.5221      114\n",
      "0.752186 0.736148           16           16.0   1.0000   0.4835      141\n",
      "0.688835 0.625484           32           32.0  -1.0000   0.3284      288\n",
      "0.690830 0.692826           64           64.0  -1.0000   0.6085      186\n",
      "0.691602 0.692374          128          128.0   1.0000   0.5849      165\n",
      "0.677174 0.662746          256          256.0   1.0000   0.4917       10\n",
      "0.661570 0.645965          512          512.0  -1.0000   0.4689      186\n",
      "0.635796 0.610023         1024         1024.0   1.0000   0.5893      153\n",
      "0.619398 0.603000         2048         2048.0  -1.0000   0.2583      399\n",
      "0.590841 0.562285         4096         4096.0  -1.0000   0.4856      237\n",
      "0.567900 0.544959         8192         8192.0  -1.0000   0.6242       78\n",
      "0.542918 0.517935        16384        16384.0  -1.0000   0.1546      210\n",
      "0.526092 0.509265        32768        32768.0   1.0000   0.5116      171\n",
      "0.513175 0.500258        65536        65536.0   1.0000   0.5989      141\n",
      "0.501570 0.489966       131072       131072.0   1.0000   0.4392       30\n",
      "0.497537 0.497537       262144       262144.0  -1.0000   0.1383       87 h\n",
      "0.493453 0.489368       524288       524288.0  -1.0000   0.0044      234 h\n",
      "0.492479 0.491505      1048576      1048576.0   1.0000   0.7590      117 h\n",
      "\n",
      "finished run\n",
      "number of examples per pass = 237894\n",
      "passes used = 5\n",
      "weighted example sum = 1189470.000000\n",
      "weighted label sum = 27430.000000\n",
      "average loss = 0.487972 h\n",
      "best constant = 0.046130\n",
      "best constant's loss = 0.692881\n",
      "total feature number = 196141345\n",
      "CPU times: user 419 ms, sys: 2.18 s, total: 2.6 s\n",
      "Wall time: 24.9 s\n"
     ]
    }
   ],
   "source": [
    "%%time\n",
    "! vw ../data/vw/2nd-level-domains/datasets/train-sex.vw \\\n",
    "    --final_regressor ../data/vw/2nd-level-domains/models/sex.bin \\\n",
    "    --random_seed 777 \\\n",
    "    --bit_precision 24 \\\n",
    "    --loss_function logistic \\\n",
    "    --link logistic \\\n",
    "    --passes 40 \\\n",
    "    --cache -k \\\n",
    "    --interactions gd \\\n",
    "    --ngram u2 \\\n",
    "    --ngram u3"
   ]
  },
  {
   "cell_type": "code",
   "execution_count": 77,
   "id": "a96dbcb8-424c-4a0c-be2e-b6f0e0040c9e",
   "metadata": {},
   "outputs": [
    {
     "name": "stdout",
     "output_type": "stream",
     "text": [
      "Generating 2-grams for u namespaces.\n",
      "Generating 3-grams for u namespaces.\n",
      "creating features for following interactions: gd \n",
      "only testing\n",
      "predictions = ../data/vw/2nd-level-domains/predictions/sex.vw\n",
      "Num weight bits = 24\n",
      "learning rate = 0.5\n",
      "initial_t = 0\n",
      "power_t = 0.5\n",
      "using no cache\n",
      "Reading datafile = ../data/vw/2nd-level-domains/datasets/test.vw\n",
      "num sources = 1\n",
      "average  since         example        example  current  current  current\n",
      "loss     last          counter         weight    label  predict features\n",
      "    n.a.     n.a.            1            1.0  unknown   0.9425       87\n",
      "    n.a.     n.a.            2            2.0  unknown   0.5945       12\n",
      "    n.a.     n.a.            4            4.0  unknown   0.4582       30\n",
      "    n.a.     n.a.            8            8.0  unknown   0.6644       66\n",
      "    n.a.     n.a.           16           16.0  unknown   0.2793       36\n",
      "    n.a.     n.a.           32           32.0  unknown   0.0021      402\n",
      "    n.a.     n.a.           64           64.0  unknown   0.9651      252\n",
      "    n.a.     n.a.          128          128.0  unknown   0.8828      201\n",
      "    n.a.     n.a.          256          256.0  unknown   0.5757       27\n",
      "    n.a.     n.a.          512          512.0  unknown   0.4109       30\n",
      "    n.a.     n.a.         1024         1024.0  unknown   0.4863      438\n",
      "    n.a.     n.a.         2048         2048.0  unknown   0.0595      189\n",
      "    n.a.     n.a.         4096         4096.0  unknown   0.0089      177\n",
      "    n.a.     n.a.         8192         8192.0  unknown   0.6052       18\n",
      "    n.a.     n.a.        16384        16384.0  unknown   0.2205      135\n",
      "    n.a.     n.a.        32768        32768.0  unknown   0.7957       33\n",
      "    n.a.     n.a.        65536        65536.0  unknown   0.8271       99\n",
      "    n.a.     n.a.       131072       131072.0  unknown   0.5268       12\n",
      "\n",
      "finished run\n",
      "number of examples = 144724\n",
      "weighted example sum = 144724.000000\n",
      "weighted label sum = 0.000000\n",
      "average loss = n.a.\n",
      "total feature number = 23770435\n",
      "CPU times: user 26.8 ms, sys: 2.52 s, total: 2.55 s\n",
      "Wall time: 4.81 s\n"
     ]
    }
   ],
   "source": [
    "%%time\n",
    "! vw ../data/vw/2nd-level-domains/datasets/test.vw \\\n",
    "    --testonly \\\n",
    "    --initial_regressor ../data/vw/2nd-level-domains/models/sex.bin \\\n",
    "    --predictions ../data/vw/2nd-level-domains/predictions/sex.vw"
   ]
  },
  {
   "cell_type": "code",
   "execution_count": 78,
   "id": "cdf3236f-72bb-44e7-96f5-ce8f5b26801e",
   "metadata": {},
   "outputs": [
    {
     "name": "stdout",
     "output_type": "stream",
     "text": [
      "Generating 2-grams for u namespaces.\n",
      "Generating 3-grams for u namespaces.\n",
      "creating features for following interactions: gd \n",
      "final_regressor = ../data/vw/2nd-level-domains/models/age.bin\n",
      "Num weight bits = 25\n",
      "learning rate = 0.5\n",
      "initial_t = 0\n",
      "power_t = 0.5\n",
      "decay_learning_rate = 1\n",
      "creating cache_file = ../data/vw/2nd-level-domains/datasets/train-age.vw.cache\n",
      "Reading datafile = ../data/vw/2nd-level-domains/datasets/train-age.vw\n",
      "num sources = 1\n",
      "average  since         example        example  current  current  current\n",
      "loss     last          counter         weight    label  predict features\n",
      "1.000000 1.000000            1            1.0        2        1       78\n",
      "0.500000 0.000000            2            2.0        2        2       51\n",
      "0.500000 0.500000            4            4.0        2        2       48\n",
      "0.625000 0.750000            8            8.0        3        2      114\n",
      "0.562500 0.500000           16           16.0        1        2      141\n",
      "0.593750 0.625000           32           32.0        2        2      252\n",
      "0.593750 0.593750           64           64.0        1        2      531\n",
      "0.671875 0.750000          128          128.0        6        2      102\n",
      "0.664062 0.656250          256          256.0        4        2       12\n",
      "0.640625 0.617188          512          512.0        2        3       63\n",
      "0.638672 0.636719         1024         1024.0        3        3      120\n",
      "0.627930 0.617188         2048         2048.0        1        3      138\n",
      "0.635742 0.643555         4096         4096.0        3        4      159\n",
      "0.627930 0.620117         8192         8192.0        1        1      147\n",
      "0.615479 0.603027        16384        16384.0        1        2       33\n",
      "0.606354 0.597229        32768        32768.0        2        3      117\n",
      "0.594528 0.582703        65536        65536.0        2        3       48\n",
      "0.585907 0.577286       131072       131072.0        4        3       96\n",
      "0.577937 0.577937       262144       262144.0        3        3       75 h\n",
      "0.576674 0.575411       524288       524288.0        4        4      363 h\n",
      "0.578661 0.580647      1048576      1048576.0        4        4      324 h\n",
      "\n",
      "finished run\n",
      "number of examples per pass = 242030\n",
      "passes used = 5\n",
      "weighted example sum = 1210150.000000\n",
      "weighted label sum = 0.000000\n",
      "average loss = 0.574632 h\n",
      "total feature number = 199530210\n",
      "CPU times: user 1.27 s, sys: 2.37 s, total: 3.65 s\n",
      "Wall time: 1min 11s\n"
     ]
    }
   ],
   "source": [
    "%%time\n",
    "! vw ../data/vw/2nd-level-domains/datasets/train-age.vw \\\n",
    "    --final_regressor ../data/vw/2nd-level-domains/models/age.bin \\\n",
    "    --random_seed 777 \\\n",
    "    --loss_function logistic \\\n",
    "    --oaa 6 \\\n",
    "    --bit_precision 25 \\\n",
    "    --passes 100 \\\n",
    "    --cache -k \\\n",
    "    --interactions gd \\\n",
    "    --ngram u2 \\\n",
    "    --ngram u3"
   ]
  },
  {
   "cell_type": "code",
   "execution_count": 79,
   "id": "f43f240a-f402-4ce8-931a-2f7253a78a3d",
   "metadata": {},
   "outputs": [
    {
     "name": "stdout",
     "output_type": "stream",
     "text": [
      "Generating 2-grams for u namespaces.\n",
      "Generating 3-grams for u namespaces.\n",
      "creating features for following interactions: gd \n",
      "only testing\n",
      "predictions = ../data/vw/2nd-level-domains/predictions/age.vw\n",
      "Num weight bits = 25\n",
      "learning rate = 0.5\n",
      "initial_t = 0\n",
      "power_t = 0.5\n",
      "using no cache\n",
      "Reading datafile = ../data/vw/2nd-level-domains/datasets/test.vw\n",
      "num sources = 1\n",
      "average  since         example        example  current  current  current\n",
      "loss     last          counter         weight    label  predict features\n",
      "    n.a.     n.a.            1            1.0  unknown        1       87\n",
      "    n.a.     n.a.            2            2.0  unknown        3       12\n",
      "    n.a.     n.a.            4            4.0  unknown        3       30\n",
      "    n.a.     n.a.            8            8.0  unknown        2       66\n",
      "    n.a.     n.a.           16           16.0  unknown        4       36\n",
      "    n.a.     n.a.           32           32.0  unknown        2      402\n",
      "    n.a.     n.a.           64           64.0  unknown        2      252\n",
      "    n.a.     n.a.          128          128.0  unknown        2      201\n",
      "    n.a.     n.a.          256          256.0  unknown        3       27\n",
      "    n.a.     n.a.          512          512.0  unknown        3       30\n",
      "    n.a.     n.a.         1024         1024.0  unknown        5      438\n",
      "    n.a.     n.a.         2048         2048.0  unknown        3      189\n",
      "    n.a.     n.a.         4096         4096.0  unknown        1      177\n",
      "    n.a.     n.a.         8192         8192.0  unknown        3       18\n",
      "    n.a.     n.a.        16384        16384.0  unknown        2      135\n",
      "    n.a.     n.a.        32768        32768.0  unknown        3       33\n",
      "    n.a.     n.a.        65536        65536.0  unknown        4       99\n",
      "    n.a.     n.a.       131072       131072.0  unknown        4       12\n",
      "\n",
      "finished run\n",
      "number of examples = 144724\n",
      "weighted example sum = 144724.000000\n",
      "weighted label sum = 0.000000\n",
      "average loss = n.a.\n",
      "total feature number = 23770435\n"
     ]
    }
   ],
   "source": [
    "! vw ../data/vw/2nd-level-domains/datasets/test.vw \\\n",
    "    --testonly \\\n",
    "    --initial_regressor ../data/vw/2nd-level-domains/models/age.bin \\\n",
    "    --predictions ../data/vw/2nd-level-domains/predictions/age.vw"
   ]
  },
  {
   "cell_type": "code",
   "execution_count": 80,
   "id": "aaf90d3e-a4e9-41a2-8ebe-b8b6431ebf1f",
   "metadata": {},
   "outputs": [],
   "source": [
    "import pandas as pd\n",
    "\n",
    "submission = pd.DataFrame()\n",
    "submission[\"user_id\"] = test[\"user_id\"].to_pandas()\n",
    "submission[\"age\"] = pd.read_csv(\"../data/vw/2nd-level-domains/predictions/age.vw\", header=None)[0]\n",
    "submission[\"is_male\"] = pd.read_csv(\"../data/vw/2nd-level-domains/predictions/sex.vw\", header=None)[0]"
   ]
  },
  {
   "cell_type": "code",
   "execution_count": 82,
   "id": "6ac36863-ed18-43ed-88e2-2910f61ed93c",
   "metadata": {},
   "outputs": [],
   "source": [
    "submission.to_csv(\"../submissions/vw-2lvl-domains-u23.csv\", index=False)"
   ]
  },
  {
   "cell_type": "code",
   "execution_count": null,
   "id": "00cec6b0-04b3-489d-8e63-e72879f4e1cf",
   "metadata": {},
   "outputs": [],
   "source": []
  }
 ],
 "metadata": {
  "kernelspec": {
   "display_name": "Python (mts-ml-cup)",
   "language": "python",
   "name": "mts-ml-cup"
  },
  "language_info": {
   "codemirror_mode": {
    "name": "ipython",
    "version": 3
   },
   "file_extension": ".py",
   "mimetype": "text/x-python",
   "name": "python",
   "nbconvert_exporter": "python",
   "pygments_lexer": "ipython3",
   "version": "3.8.10"
  }
 },
 "nbformat": 4,
 "nbformat_minor": 5
}
