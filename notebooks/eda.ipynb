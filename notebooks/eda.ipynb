{
 "cells": [
  {
   "cell_type": "code",
   "execution_count": 1,
   "id": "91dbef88-5580-49c4-9ae6-de038ebe45aa",
   "metadata": {},
   "outputs": [],
   "source": [
    "import pandas as pd"
   ]
  },
  {
   "cell_type": "code",
   "execution_count": 2,
   "id": "e337f2e9-6598-4f5f-a54a-327ea1fb61c3",
   "metadata": {},
   "outputs": [],
   "source": [
    "sessions = pd.read_parquet(\"../data/processed/sessions.pq\")\n",
    "train = pd.read_parquet(\"../data/processed/train-users.pq\")\n",
    "test = pd.read_parquet(\"../data/processed/test-users.pq\")"
   ]
  },
  {
   "cell_type": "code",
   "execution_count": 3,
   "id": "e06d59ac-854e-4c08-b377-94a7aa67d510",
   "metadata": {},
   "outputs": [
    {
     "name": "stdout",
     "output_type": "stream",
     "text": [
      "<class 'pandas.core.frame.DataFrame'>\n",
      "RangeIndex: 322899435 entries, 0 to 322899434\n",
      "Data columns (total 12 columns):\n",
      " #   Column                 Dtype         \n",
      "---  ------                 -----         \n",
      " 0   region_name            category      \n",
      " 1   city_name              category      \n",
      " 2   cpe_manufacturer_name  category      \n",
      " 3   cpe_model_name         category      \n",
      " 4   url_host               category      \n",
      " 5   cpe_type_cd            category      \n",
      " 6   cpe_model_os_type      category      \n",
      " 7   price                  float32       \n",
      " 8   date                   datetime64[ns]\n",
      " 9   part_of_day            category      \n",
      " 10  request_cnt            uint8         \n",
      " 11  user_id                int32         \n",
      "dtypes: category(8), datetime64[ns](1), float32(1), int32(1), uint8(1)\n",
      "memory usage: 9.0 GB\n"
     ]
    }
   ],
   "source": [
    "sessions.info()"
   ]
  },
  {
   "cell_type": "markdown",
   "id": "068f1a6f-b33e-4dbf-b5cb-d339071c777b",
   "metadata": {
    "tags": []
   },
   "source": [
    "# region_name\n",
    "топ-3 региона + кол-во уникальных регионов"
   ]
  },
  {
   "cell_type": "code",
   "execution_count": 4,
   "id": "a5f9e0e0-6a9d-4943-8ea2-87d636391a1b",
   "metadata": {},
   "outputs": [
    {
     "name": "stdout",
     "output_type": "stream",
     "text": [
      "CPU times: user 34.2 s, sys: 6.21 s, total: 40.4 s\n",
      "Wall time: 40.4 s\n"
     ]
    }
   ],
   "source": [
    "%%time\n",
    "regions = sessions.groupby(\"user_id\")[\"region_name\"].nunique()"
   ]
  },
  {
   "cell_type": "code",
   "execution_count": 8,
   "id": "40dff46a-7311-4d42-aaaa-9814b519b15d",
   "metadata": {},
   "outputs": [
    {
     "data": {
      "text/plain": [
       "1    0.647125\n",
       "2    0.834418\n",
       "3    0.904557\n",
       "4    0.940653\n",
       "5    0.962043\n",
       "Name: region_name, dtype: float64"
      ]
     },
     "execution_count": 8,
     "metadata": {},
     "output_type": "execute_result"
    }
   ],
   "source": [
    "regions.value_counts(normalize=True).cumsum().head()"
   ]
  },
  {
   "cell_type": "markdown",
   "id": "0d11ceaf-16f4-4b51-bbc4-874eb1a0579b",
   "metadata": {
    "tags": []
   },
   "source": [
    "# city_name\n",
    "топ-7 городов + кол-во уникальных"
   ]
  },
  {
   "cell_type": "code",
   "execution_count": 11,
   "id": "79117bc0-e2d0-455e-b4b4-0b5bddb143bf",
   "metadata": {},
   "outputs": [
    {
     "name": "stdout",
     "output_type": "stream",
     "text": [
      "CPU times: user 37.6 s, sys: 6.08 s, total: 43.7 s\n",
      "Wall time: 43.7 s\n"
     ]
    }
   ],
   "source": [
    "%%time\n",
    "cities = sessions.groupby(\"user_id\")[\"city_name\"].nunique()"
   ]
  },
  {
   "cell_type": "code",
   "execution_count": 13,
   "id": "b4e7dbb6-b117-494b-8a76-f8c8499b9d60",
   "metadata": {},
   "outputs": [
    {
     "data": {
      "text/plain": [
       "1     0.450519\n",
       "2     0.638551\n",
       "3     0.746394\n",
       "4     0.814125\n",
       "5     0.859700\n",
       "6     0.892330\n",
       "7     0.915457\n",
       "8     0.932288\n",
       "9     0.945114\n",
       "10    0.955176\n",
       "Name: city_name, dtype: float64"
      ]
     },
     "execution_count": 13,
     "metadata": {},
     "output_type": "execute_result"
    }
   ],
   "source": [
    "cities.value_counts(normalize=True).cumsum().head(10)"
   ]
  },
  {
   "cell_type": "code",
   "execution_count": 14,
   "id": "6efe28f0-5bf0-448c-a642-6fed45a0ab93",
   "metadata": {},
   "outputs": [
    {
     "name": "stdout",
     "output_type": "stream",
     "text": [
      "CPU times: user 31.5 s, sys: 5.23 s, total: 36.8 s\n",
      "Wall time: 36.8 s\n"
     ]
    }
   ],
   "source": [
    "%%time\n",
    "cities_regions = sessions.groupby(\"city_name\")[\"region_name\"].nunique()"
   ]
  },
  {
   "cell_type": "code",
   "execution_count": 16,
   "id": "077df911-3d43-4969-843b-ca8fc2a3ad1c",
   "metadata": {},
   "outputs": [
    {
     "data": {
      "text/plain": [
       "1    971\n",
       "2     13\n",
       "3      1\n",
       "Name: region_name, dtype: int64"
      ]
     },
     "execution_count": 16,
     "metadata": {},
     "output_type": "execute_result"
    }
   ],
   "source": [
    "cities_regions.value_counts()"
   ]
  },
  {
   "cell_type": "code",
   "execution_count": 17,
   "id": "3640d9e2-6199-4127-b6d5-0b310f537cda",
   "metadata": {},
   "outputs": [
    {
     "data": {
      "text/plain": [
       "city_name\n",
       "Берёзовский       2\n",
       "Благовещенск      2\n",
       "Гурьевск          2\n",
       "Железногорск      2\n",
       "Заречный          2\n",
       "Киров             2\n",
       "Кировск           2\n",
       "Красноармейск     2\n",
       "Краснослободск    2\n",
       "Мирный            2\n",
       "Михайловск        2\n",
       "Радужный          2\n",
       "Советск           3\n",
       "Фокино            2\n",
       "Name: region_name, dtype: int64"
      ]
     },
     "execution_count": 17,
     "metadata": {},
     "output_type": "execute_result"
    }
   ],
   "source": [
    "cities_regions[cities_regions > 1]"
   ]
  },
  {
   "cell_type": "markdown",
   "id": "2ab965f0-df7c-41c2-bad2-b895bb2c5bfe",
   "metadata": {
    "jp-MarkdownHeadingCollapsed": true,
    "tags": []
   },
   "source": [
    "# cpe_manufacturer_name\n",
    "top-1 cpe_manufacturer_name"
   ]
  },
  {
   "cell_type": "code",
   "execution_count": 24,
   "id": "80fddbdd-f990-4b4c-8d89-cd513fe57922",
   "metadata": {},
   "outputs": [
    {
     "data": {
      "text/plain": [
       "Apple                                                  125040250\n",
       "Samsung                                                 80626396\n",
       "Huawei                                                  61739753\n",
       "Xiaomi                                                  46956511\n",
       "Realme Chongqing Mobile Telecommunications Corp Ltd      1680524\n",
       "Oppo                                                     1627677\n",
       "Vivo                                                     1256861\n",
       "Huawei Device Company Limited                            1254439\n",
       "Asus                                                      552010\n",
       "Nokia                                                     414561\n",
       "ZTE                                                       344850\n",
       "OnePlus                                                   289288\n",
       "Sony                                                      260270\n",
       "Honor Device Company Limited                              202907\n",
       "Meizu                                                     161732\n",
       "LG                                                         89557\n",
       "Alcatel                                                    78385\n",
       "Sony Mobile Communications Inc.                            66230\n",
       "LeEco                                                      45787\n",
       "BQ Devices Limited                                         41032\n",
       "Tecno                                                      31138\n",
       "Google Inc                                                 30734\n",
       "Doke Communication (HK) Limited                            21737\n",
       "Motorola                                                   18819\n",
       "Blackview                                                  12292\n",
       "Itel Technology Limited                                     9624\n",
       "Umi Network Technology Co Limited                           7267\n",
       "HTC                                                         6465\n",
       "Yandex LLC                                                  5745\n",
       "Highscreen                                                  5638\n",
       "Doogee                                                      5150\n",
       "Vingroup Joint Stock Company                                4997\n",
       "Highscreen Limited                                          3488\n",
       "Motorola Mobility LLC, a Lenovo Company                     3236\n",
       "Lenovo                                                      2041\n",
       "Atlas LLC                                                   1445\n",
       "Realme Mobile Telecommunications (Shenzhen) Co Ltd           599\n",
       "Name: cpe_manufacturer_name, dtype: int64"
      ]
     },
     "execution_count": 24,
     "metadata": {},
     "output_type": "execute_result"
    }
   ],
   "source": [
    "sessions[\"cpe_manufacturer_name\"].value_counts()"
   ]
  },
  {
   "cell_type": "code",
   "execution_count": 25,
   "id": "44927815-1316-45b0-bb16-b9a913139ec0",
   "metadata": {},
   "outputs": [],
   "source": [
    "manufacturers = sessions.groupby(\"user_id\")[\"cpe_manufacturer_name\"].nunique()"
   ]
  },
  {
   "cell_type": "code",
   "execution_count": 27,
   "id": "d599710c-ddde-47ce-bae1-8d25e0f21411",
   "metadata": {},
   "outputs": [
    {
     "data": {
      "text/plain": [
       "1    1.0\n",
       "Name: cpe_manufacturer_name, dtype: float64"
      ]
     },
     "execution_count": 27,
     "metadata": {},
     "output_type": "execute_result"
    }
   ],
   "source": [
    "manufacturers.value_counts(normalize=True).cumsum()"
   ]
  },
  {
   "cell_type": "markdown",
   "id": "50e4265f-6472-4704-b2df-cb2bd3a9cd55",
   "metadata": {
    "jp-MarkdownHeadingCollapsed": true,
    "tags": []
   },
   "source": [
    "# cpe_model_name\n",
    "top-1 + проклеить с производителем"
   ]
  },
  {
   "cell_type": "code",
   "execution_count": 29,
   "id": "a91f06a7-fdda-4af6-9e84-6074acd01271",
   "metadata": {},
   "outputs": [
    {
     "data": {
      "text/plain": [
       "iPhone 11          29394262\n",
       "iPhone XR          15779252\n",
       "iPhone 7           12034839\n",
       "Honor 10 Lite      10361066\n",
       "Galaxy A51 Dual     8815810\n",
       "                     ...   \n",
       "L5002                   309\n",
       "L6006                   268\n",
       "16                      211\n",
       "Honor 8A Pro             91\n",
       "Mediapad T3 7.0          38\n",
       "Name: cpe_model_name, Length: 599, dtype: int64"
      ]
     },
     "execution_count": 29,
     "metadata": {},
     "output_type": "execute_result"
    }
   ],
   "source": [
    "sessions[\"cpe_model_name\"].value_counts()"
   ]
  },
  {
   "cell_type": "code",
   "execution_count": 30,
   "id": "0a5ad188-0f3c-480a-a61f-41dfdf347cf5",
   "metadata": {},
   "outputs": [],
   "source": [
    "models_manufacturers = sessions.groupby(\"cpe_model_name\")[\"cpe_manufacturer_name\"].nunique()"
   ]
  },
  {
   "cell_type": "code",
   "execution_count": 33,
   "id": "5f214449-6fcf-4d04-ac5e-1d53273a9657",
   "metadata": {},
   "outputs": [
    {
     "data": {
      "text/plain": [
       "cpe_model_name\n",
       "3 Dual    2\n",
       "5         2\n",
       "6         2\n",
       "7         2\n",
       "Name: cpe_manufacturer_name, dtype: int64"
      ]
     },
     "execution_count": 33,
     "metadata": {},
     "output_type": "execute_result"
    }
   ],
   "source": [
    "models_manufacturers[models_manufacturers > 1]"
   ]
  },
  {
   "cell_type": "code",
   "execution_count": 36,
   "id": "4d3e6355-5064-4e38-a944-f010ad7391b3",
   "metadata": {},
   "outputs": [
    {
     "data": {
      "text/plain": [
       "Nokia      72552\n",
       "OnePlus     6330\n",
       "Name: cpe_manufacturer_name, dtype: int64"
      ]
     },
     "execution_count": 36,
     "metadata": {},
     "output_type": "execute_result"
    }
   ],
   "source": [
    "sessions.loc[sessions[\"cpe_model_name\"] == \"3 Dual\", \"cpe_manufacturer_name\"].value_counts().nlargest(2)"
   ]
  },
  {
   "cell_type": "code",
   "execution_count": 37,
   "id": "5d028252-fdff-4f5f-a186-c2773b771026",
   "metadata": {},
   "outputs": [
    {
     "data": {
      "text/plain": [
       "Realme Chongqing Mobile Telecommunications Corp Ltd    24021\n",
       "OnePlus                                                14178\n",
       "Name: cpe_manufacturer_name, dtype: int64"
      ]
     },
     "execution_count": 37,
     "metadata": {},
     "output_type": "execute_result"
    }
   ],
   "source": [
    "sessions.loc[sessions[\"cpe_model_name\"] == \"5\", \"cpe_manufacturer_name\"].value_counts().nlargest(2)"
   ]
  },
  {
   "cell_type": "code",
   "execution_count": 38,
   "id": "c9607cc9-f820-4641-8e97-548e66c8b1e5",
   "metadata": {},
   "outputs": [
    {
     "data": {
      "text/plain": [
       "Realme Chongqing Mobile Telecommunications Corp Ltd    93490\n",
       "OnePlus                                                15911\n",
       "Name: cpe_manufacturer_name, dtype: int64"
      ]
     },
     "execution_count": 38,
     "metadata": {},
     "output_type": "execute_result"
    }
   ],
   "source": [
    "sessions.loc[sessions[\"cpe_model_name\"] == \"6\", \"cpe_manufacturer_name\"].value_counts().nlargest(2)"
   ]
  },
  {
   "cell_type": "code",
   "execution_count": 39,
   "id": "54eb1928-d450-4ac1-a23f-e2004e47330f",
   "metadata": {},
   "outputs": [
    {
     "data": {
      "text/plain": [
       "Realme Chongqing Mobile Telecommunications Corp Ltd    43785\n",
       "OnePlus                                                39931\n",
       "Name: cpe_manufacturer_name, dtype: int64"
      ]
     },
     "execution_count": 39,
     "metadata": {},
     "output_type": "execute_result"
    }
   ],
   "source": [
    "sessions.loc[sessions[\"cpe_model_name\"] == \"7\", \"cpe_manufacturer_name\"].value_counts().nlargest(2)"
   ]
  },
  {
   "cell_type": "code",
   "execution_count": 40,
   "id": "62eeb03e-4238-4274-8652-fc7662b1b266",
   "metadata": {},
   "outputs": [],
   "source": [
    "models = sessions.groupby(\"user_id\")[\"cpe_model_name\"].nunique()"
   ]
  },
  {
   "cell_type": "code",
   "execution_count": 41,
   "id": "f7c31d71-1187-4c2d-8e0c-36be5ae8f9e2",
   "metadata": {},
   "outputs": [
    {
     "data": {
      "text/plain": [
       "1    1.0\n",
       "Name: cpe_model_name, dtype: float64"
      ]
     },
     "execution_count": 41,
     "metadata": {},
     "output_type": "execute_result"
    }
   ],
   "source": [
    "models.value_counts(normalize=True).cumsum()"
   ]
  },
  {
   "cell_type": "markdown",
   "id": "af157c70-7c49-43a9-bb4a-20d67c562e9e",
   "metadata": {
    "jp-MarkdownHeadingCollapsed": true,
    "tags": []
   },
   "source": [
    "# cpe_type_cd\n",
    "не использую вообще – дичь"
   ]
  },
  {
   "cell_type": "code",
   "execution_count": 44,
   "id": "b3b6cc14-a296-4756-b8f0-2997a8df7869",
   "metadata": {},
   "outputs": [
    {
     "data": {
      "text/plain": [
       "smartphone    0.999635\n",
       "tablet        0.000167\n",
       "plain         0.000112\n",
       "phablet       0.000087\n",
       "Name: cpe_type_cd, dtype: float64"
      ]
     },
     "execution_count": 44,
     "metadata": {},
     "output_type": "execute_result"
    }
   ],
   "source": [
    "sessions[\"cpe_type_cd\"].value_counts(normalize=True)"
   ]
  },
  {
   "cell_type": "code",
   "execution_count": 47,
   "id": "448e8d91-90a4-413b-aec1-cfa1646379aa",
   "metadata": {},
   "outputs": [],
   "source": [
    "smart_types = sessions.groupby([\"cpe_manufacturer_name\", \"cpe_model_name\"])[\"cpe_type_cd\"].nunique()"
   ]
  },
  {
   "cell_type": "code",
   "execution_count": 51,
   "id": "5d7df3b6-f597-48ad-9158-55303148cf1d",
   "metadata": {},
   "outputs": [
    {
     "data": {
      "text/plain": [
       "cpe_manufacturer_name  cpe_model_name\n",
       "Nokia                  3 Dual            2\n",
       "Name: cpe_type_cd, dtype: int64"
      ]
     },
     "execution_count": 51,
     "metadata": {},
     "output_type": "execute_result"
    }
   ],
   "source": [
    "smart_types[smart_types > 1]"
   ]
  },
  {
   "cell_type": "markdown",
   "id": "fbadc55b-8aa8-40ba-b3b4-4b9274d3ac70",
   "metadata": {
    "jp-MarkdownHeadingCollapsed": true,
    "tags": []
   },
   "source": [
    "# cpe_model_os_type\n",
    "\n",
    "top-1 + склеить iOS и Apple iOS"
   ]
  },
  {
   "cell_type": "code",
   "execution_count": 52,
   "id": "79b70e4b-605d-4b86-9696-8fb35c404aa7",
   "metadata": {},
   "outputs": [
    {
     "data": {
      "text/plain": [
       "Android      197859185\n",
       "iOS          122764510\n",
       "Apple iOS      2275740\n",
       "Name: cpe_model_os_type, dtype: int64"
      ]
     },
     "execution_count": 52,
     "metadata": {},
     "output_type": "execute_result"
    }
   ],
   "source": [
    "sessions[\"cpe_model_os_type\"].value_counts()"
   ]
  },
  {
   "cell_type": "code",
   "execution_count": 53,
   "id": "4aa4a1db-d4ba-4e65-a01b-cea6b7ff8efd",
   "metadata": {},
   "outputs": [
    {
     "name": "stdout",
     "output_type": "stream",
     "text": [
      "CPU times: user 7.2 s, sys: 3.39 s, total: 10.6 s\n",
      "Wall time: 10.6 s\n"
     ]
    }
   ],
   "source": [
    "%%time\n",
    "smarts_by_os = sessions.groupby(\"cpe_model_os_type\")[\"cpe_model_name\"].unique()"
   ]
  },
  {
   "cell_type": "code",
   "execution_count": 58,
   "id": "0b8ae76d-a9fc-4d85-aba9-ac85ef21f987",
   "metadata": {},
   "outputs": [
    {
     "data": {
      "text/plain": [
       "['iPhone 7',\n",
       " 'iPhone 11 Pro',\n",
       " 'iPhone 6S',\n",
       " 'iPhone XR',\n",
       " 'iPhone X',\n",
       " 'iPhone 12 Pro Max',\n",
       " 'iPhone 11 Pro Max',\n",
       " 'iPhone 8 Plus',\n",
       " 'iPhone 7 Plus',\n",
       " 'iPhone 11',\n",
       " 'iPhone 12',\n",
       " 'iPhone 5S',\n",
       " 'iPhone 6 Plus',\n",
       " 'iPhone 6',\n",
       " 'iPhone Xs',\n",
       " 'iPhone 12 mini',\n",
       " 'iPhone SE',\n",
       " 'iPhone 5',\n",
       " 'iPhone 8',\n",
       " 'iPhone Xs Max',\n",
       " 'iPhone SE 2020',\n",
       " 'iPhone 12 Pro',\n",
       " 'iPhone 6S Plus',\n",
       " 'iPhone 12 (A2403) Global',\n",
       " 'iPad Air',\n",
       " 'iPhone 4S',\n",
       " 'iPhone 5C',\n",
       " 'iPad mini 4',\n",
       " 'iPhone 4']"
      ]
     },
     "execution_count": 58,
     "metadata": {},
     "output_type": "execute_result"
    }
   ],
   "source": [
    "list(smarts_by_os[\"iOS\"])"
   ]
  },
  {
   "cell_type": "code",
   "execution_count": 59,
   "id": "656759c9-cefe-42e2-bc65-c2135be1e0e5",
   "metadata": {},
   "outputs": [
    {
     "data": {
      "text/plain": [
       "['iPhone 11',\n",
       " 'iPhone 13',\n",
       " 'iPhone 13 Pro',\n",
       " 'iPhone 13 mini',\n",
       " 'iPhone 13 Pro Max']"
      ]
     },
     "execution_count": 59,
     "metadata": {},
     "output_type": "execute_result"
    }
   ],
   "source": [
    "list(smarts_by_os[\"Apple iOS\"])"
   ]
  },
  {
   "cell_type": "markdown",
   "id": "7ea39601-641b-4e5d-a97f-7e841846c031",
   "metadata": {},
   "source": [
    "# url_host\n",
    "\n",
    "тут кажется больше всего инфы, но ее и сложнее всего достать – для бейзлайна беру просто кол-во уникальных хостов, но вообще надо подумать, как урлы поклеить"
   ]
  },
  {
   "cell_type": "code",
   "execution_count": 61,
   "id": "00b7f3b1-3f61-4056-a99b-8ec8326e8c55",
   "metadata": {},
   "outputs": [],
   "source": [
    "urls = sessions.groupby(\"user_id\")[\"url_host\"].nunique()"
   ]
  },
  {
   "cell_type": "code",
   "execution_count": 66,
   "id": "c0e1e900-4a49-42ef-b972-d574f074a3fd",
   "metadata": {},
   "outputs": [
    {
     "data": {
      "text/plain": [
       "<Axes: >"
      ]
     },
     "execution_count": 66,
     "metadata": {},
     "output_type": "execute_result"
    },
    {
     "data": {
      "image/png": "[encoded data removed]",
      "text/plain": [
       "<Figure size 640x480 with 1 Axes>"
      ]
     },
     "metadata": {},
     "output_type": "display_data"
    }
   ],
   "source": [
    "urls.value_counts(normalize=True).sort_index().cumsum().plot()"
   ]
  },
  {
   "cell_type": "markdown",
   "id": "0c387454-ec7b-4d9d-b200-f727052a9285",
   "metadata": {},
   "source": [
    "# price"
   ]
  },
  {
   "cell_type": "code",
   "execution_count": 72,
   "id": "0e82f09b-00a6-40c2-995b-d525f022d109",
   "metadata": {},
   "outputs": [
    {
     "data": {
      "text/plain": [
       "7990.0     3267622\n",
       "15990.0    2801007\n",
       "14990.0    2759324\n",
       "10990.0    2677571\n",
       "9990.0     2458607\n",
       "            ...   \n",
       "71528.0          1\n",
       "33903.0          1\n",
       "77323.0          1\n",
       "32937.0          1\n",
       "41184.0          1\n",
       "Name: price, Length: 29322, dtype: int64"
      ]
     },
     "execution_count": 72,
     "metadata": {},
     "output_type": "execute_result"
    }
   ],
   "source": [
    "sessions[\"price\"].value_counts()"
   ]
  },
  {
   "cell_type": "code",
   "execution_count": 73,
   "id": "b8e8385d-a043-4c9d-8f4c-3bbf82bd39ca",
   "metadata": {},
   "outputs": [],
   "source": [
    "prices_by_smarts = sessions.groupby([\"cpe_manufacturer_name\", \"cpe_model_name\"])[\"price\"].nunique()"
   ]
  },
  {
   "cell_type": "code",
   "execution_count": 77,
   "id": "ebe3f275-cf5c-4593-86f0-8ed680494e32",
   "metadata": {},
   "outputs": [
    {
     "data": {
      "text/plain": [
       "cpe_manufacturer_name  cpe_model_name\n",
       "Alcatel                1                  84\n",
       "                       1S                  8\n",
       "                       1X                 16\n",
       "                       U5 3G Dual          4\n",
       "Apple                  iPhone 11         908\n",
       "                                        ... \n",
       "ZTE                    Blade A6            3\n",
       "                       Blade A6 Lite       1\n",
       "                       Blade L210RU        3\n",
       "                       Blade L8           19\n",
       "                       Blade V8            2\n",
       "Name: price, Length: 439, dtype: int64"
      ]
     },
     "execution_count": 77,
     "metadata": {},
     "output_type": "execute_result"
    }
   ],
   "source": [
    "prices_by_smarts[prices_by_smarts > 0]"
   ]
  },
  {
   "cell_type": "markdown",
   "id": "6846309c-43b0-438e-8ccb-82ac7fe659a3",
   "metadata": {},
   "source": [
    "# date\n",
    "кол-во уникальных дат"
   ]
  },
  {
   "cell_type": "code",
   "execution_count": 5,
   "id": "1061a39f-89e7-406c-94b7-b130d7d594b1",
   "metadata": {},
   "outputs": [
    {
     "data": {
      "text/plain": [
       "Timestamp('2021-06-16 00:00:00')"
      ]
     },
     "execution_count": 5,
     "metadata": {},
     "output_type": "execute_result"
    }
   ],
   "source": [
    "sessions[\"date\"].min()"
   ]
  },
  {
   "cell_type": "code",
   "execution_count": 6,
   "id": "b107aa21-6dd0-465f-91ea-9e356c990460",
   "metadata": {},
   "outputs": [
    {
     "data": {
      "text/plain": [
       "Timestamp('2022-11-01 00:00:00')"
      ]
     },
     "execution_count": 6,
     "metadata": {},
     "output_type": "execute_result"
    }
   ],
   "source": [
    "sessions[\"date\"].max()"
   ]
  },
  {
   "cell_type": "code",
   "execution_count": 8,
   "id": "4bfec74e-cd0b-4297-80f1-2869811cbb1f",
   "metadata": {},
   "outputs": [
    {
     "data": {
      "text/plain": [
       "<Axes: >"
      ]
     },
     "execution_count": 8,
     "metadata": {},
     "output_type": "execute_result"
    },
    {
     "data": {
      "image/png": "[encoded data removed]",
      "text/plain": [
       "<Figure size 640x480 with 1 Axes>"
      ]
     },
     "metadata": {},
     "output_type": "display_data"
    }
   ],
   "source": [
    "sessions[\"date\"].value_counts(normalize=True).sort_index().cumsum().plot()"
   ]
  },
  {
   "cell_type": "code",
   "execution_count": null,
   "id": "5ccc81ef-733b-476d-a910-ae172e0389d4",
   "metadata": {},
   "outputs": [],
   "source": []
  },
  {
   "cell_type": "code",
   "execution_count": 9,
   "id": "c86df2d9-f994-49bd-856c-9eb1faae25e3",
   "metadata": {},
   "outputs": [
    {
     "name": "stdout",
     "output_type": "stream",
     "text": [
      "CPU times: user 1min 44s, sys: 7.25 s, total: 1min 51s\n",
      "Wall time: 1min 51s\n"
     ]
    }
   ],
   "source": [
    "%%time\n",
    "dates = sessions.groupby(\"user_id\")[\"date\"].nunique()"
   ]
  },
  {
   "cell_type": "code",
   "execution_count": 15,
   "id": "8cc340c4-00a4-4081-98b1-1d17f90d74c2",
   "metadata": {},
   "outputs": [
    {
     "data": {
      "text/plain": [
       "<Axes: >"
      ]
     },
     "execution_count": 15,
     "metadata": {},
     "output_type": "execute_result"
    },
    {
     "data": {
      "image/png": "[encoded data removed]",
      "text/plain": [
       "<Figure size 640x480 with 1 Axes>"
      ]
     },
     "metadata": {},
     "output_type": "display_data"
    }
   ],
   "source": [
    "dates.value_counts(normalize=True).sort_index().cumsum().plot()"
   ]
  },
  {
   "cell_type": "markdown",
   "id": "b91322f2-b523-44b0-b5e6-d5d4c8a85fc1",
   "metadata": {},
   "source": [
    "# part_of_day"
   ]
  },
  {
   "cell_type": "code",
   "execution_count": 17,
   "id": "17d4fa4c-536b-4fd6-b79d-35a8e83d82a6",
   "metadata": {},
   "outputs": [
    {
     "data": {
      "text/plain": [
       "day        107328399\n",
       "evening     96239286\n",
       "morning     85236015\n",
       "night       34095735\n",
       "Name: part_of_day, dtype: int64"
      ]
     },
     "execution_count": 17,
     "metadata": {},
     "output_type": "execute_result"
    }
   ],
   "source": [
    "sessions[\"part_of_day\"].value_counts()"
   ]
  },
  {
   "cell_type": "code",
   "execution_count": 19,
   "id": "33bc32a3-ff91-46ed-8b5e-011998cc6f79",
   "metadata": {},
   "outputs": [],
   "source": [
    "daypt = sessions.groupby(\"user_id\")[\"part_of_day\"].nunique()"
   ]
  },
  {
   "cell_type": "code",
   "execution_count": 21,
   "id": "c76a2cef-a211-4c0a-9c4c-5393c5322e85",
   "metadata": {},
   "outputs": [
    {
     "data": {
      "text/plain": [
       "4    0.795607\n",
       "3    0.118379\n",
       "2    0.051411\n",
       "1    0.034602\n",
       "Name: part_of_day, dtype: float64"
      ]
     },
     "execution_count": 21,
     "metadata": {},
     "output_type": "execute_result"
    }
   ],
   "source": [
    "daypt.value_counts(normalize=True)"
   ]
  },
  {
   "cell_type": "code",
   "execution_count": 23,
   "id": "6385e2f3-b481-4f76-8815-406e2d10d613",
   "metadata": {},
   "outputs": [
    {
     "data": {
      "text/plain": [
       "1     201324004\n",
       "2      64345547\n",
       "3      26781698\n",
       "4      14887615\n",
       "5       8360497\n",
       "6       6665296\n",
       "8        266005\n",
       "10       156054\n",
       "12       111868\n",
       "7           788\n",
       "9            29\n",
       "11           17\n",
       "14           14\n",
       "16            2\n",
       "13            1\n",
       "Name: request_cnt, dtype: int64"
      ]
     },
     "execution_count": 23,
     "metadata": {},
     "output_type": "execute_result"
    }
   ],
   "source": [
    "sessions[\"request_cnt\"].value_counts()"
   ]
  },
  {
   "cell_type": "code",
   "execution_count": 34,
   "id": "c3a670ea-68bd-4e2f-a9ed-d401118b5079",
   "metadata": {},
   "outputs": [
    {
     "name": "stdout",
     "output_type": "stream",
     "text": [
      "CPU times: user 28.8 s, sys: 23.1 s, total: 52 s\n",
      "Wall time: 51.8 s\n"
     ]
    }
   ],
   "source": [
    "%%time\n",
    "sessions[\"part_of_day_str\"] = sessions[\"part_of_day\"].astype(str)"
   ]
  },
  {
   "cell_type": "code",
   "execution_count": 38,
   "id": "932c47dd-cb25-4fb1-b04d-93e9c5f7fa8f",
   "metadata": {},
   "outputs": [
    {
     "ename": "KeyboardInterrupt",
     "evalue": "",
     "output_type": "error",
     "traceback": [
      "\u001b[0;31m---------------------------------------------------------------------------\u001b[0m",
      "\u001b[0;31mKeyboardInterrupt\u001b[0m                         Traceback (most recent call last)",
      "Cell \u001b[0;32mIn[38], line 1\u001b[0m\n\u001b[0;32m----> 1\u001b[0m \u001b[43msessions\u001b[49m\u001b[38;5;241;43m.\u001b[39;49m\u001b[43miloc\u001b[49m\u001b[43m[\u001b[49m\u001b[43m:\u001b[49m\u001b[38;5;241;43m100000\u001b[39;49m\u001b[43m]\u001b[49m\u001b[38;5;241;43m.\u001b[39;49m\u001b[43mgroupby\u001b[49m\u001b[43m(\u001b[49m\u001b[43m[\u001b[49m\u001b[38;5;124;43m\"\u001b[39;49m\u001b[38;5;124;43muser_id\u001b[39;49m\u001b[38;5;124;43m\"\u001b[39;49m\u001b[43m,\u001b[49m\u001b[43m \u001b[49m\u001b[38;5;124;43m\"\u001b[39;49m\u001b[38;5;124;43mdate\u001b[39;49m\u001b[38;5;124;43m\"\u001b[39;49m\u001b[43m,\u001b[49m\u001b[43m \u001b[49m\u001b[38;5;124;43m\"\u001b[39;49m\u001b[38;5;124;43mpart_of_day_str\u001b[39;49m\u001b[38;5;124;43m\"\u001b[39;49m\u001b[43m,\u001b[49m\u001b[43m \u001b[49m\u001b[38;5;124;43m\"\u001b[39;49m\u001b[38;5;124;43murl_host\u001b[39;49m\u001b[38;5;124;43m\"\u001b[39;49m\u001b[43m]\u001b[49m\u001b[43m)\u001b[49m\u001b[43m[\u001b[49m\u001b[38;5;124;43m\"\u001b[39;49m\u001b[38;5;124;43mrequest_cnt\u001b[39;49m\u001b[38;5;124;43m\"\u001b[39;49m\u001b[43m]\u001b[49m\u001b[38;5;241;43m.\u001b[39;49m\u001b[43mnunique\u001b[49m\u001b[43m(\u001b[49m\u001b[43m)\u001b[49m\n",
      "File \u001b[0;32m~/.cache/pypoetry/virtualenvs/mts-ml-cup-qFoUb2su-py3.8/lib/python3.8/site-packages/pandas/core/groupby/generic.py:601\u001b[0m, in \u001b[0;36mSeriesGroupBy.nunique\u001b[0;34m(self, dropna)\u001b[0m\n\u001b[1;32m    598\u001b[0m     res[ids[idx]] \u001b[38;5;241m=\u001b[39m out\n\u001b[1;32m    600\u001b[0m result \u001b[38;5;241m=\u001b[39m \u001b[38;5;28mself\u001b[39m\u001b[38;5;241m.\u001b[39mobj\u001b[38;5;241m.\u001b[39m_constructor(res, index\u001b[38;5;241m=\u001b[39mri, name\u001b[38;5;241m=\u001b[39m\u001b[38;5;28mself\u001b[39m\u001b[38;5;241m.\u001b[39mobj\u001b[38;5;241m.\u001b[39mname)\n\u001b[0;32m--> 601\u001b[0m \u001b[38;5;28;01mreturn\u001b[39;00m \u001b[38;5;28;43mself\u001b[39;49m\u001b[38;5;241;43m.\u001b[39;49m\u001b[43m_reindex_output\u001b[49m\u001b[43m(\u001b[49m\u001b[43mresult\u001b[49m\u001b[43m,\u001b[49m\u001b[43m \u001b[49m\u001b[43mfill_value\u001b[49m\u001b[38;5;241;43m=\u001b[39;49m\u001b[38;5;241;43m0\u001b[39;49m\u001b[43m)\u001b[49m\n",
      "File \u001b[0;32m~/.cache/pypoetry/virtualenvs/mts-ml-cup-qFoUb2su-py3.8/lib/python3.8/site-packages/pandas/core/groupby/groupby.py:4171\u001b[0m, in \u001b[0;36mGroupBy._reindex_output\u001b[0;34m(self, output, fill_value, qs)\u001b[0m\n\u001b[1;32m   4169\u001b[0m     levels_list\u001b[38;5;241m.\u001b[39mappend(qs)  \u001b[38;5;66;03m# type: ignore[arg-type]\u001b[39;00m\n\u001b[1;32m   4170\u001b[0m     names \u001b[38;5;241m=\u001b[39m names \u001b[38;5;241m+\u001b[39m [\u001b[38;5;28;01mNone\u001b[39;00m]\n\u001b[0;32m-> 4171\u001b[0m index, _ \u001b[38;5;241m=\u001b[39m \u001b[43mMultiIndex\u001b[49m\u001b[38;5;241;43m.\u001b[39;49m\u001b[43mfrom_product\u001b[49m\u001b[43m(\u001b[49m\u001b[43mlevels_list\u001b[49m\u001b[43m,\u001b[49m\u001b[43m \u001b[49m\u001b[43mnames\u001b[49m\u001b[38;5;241;43m=\u001b[39;49m\u001b[43mnames\u001b[49m\u001b[43m)\u001b[49m\u001b[38;5;241m.\u001b[39msortlevel()\n\u001b[1;32m   4173\u001b[0m \u001b[38;5;28;01mif\u001b[39;00m \u001b[38;5;28mself\u001b[39m\u001b[38;5;241m.\u001b[39mas_index:\n\u001b[1;32m   4174\u001b[0m     \u001b[38;5;66;03m# Always holds for SeriesGroupBy unless GH#36507 is implemented\u001b[39;00m\n\u001b[1;32m   4175\u001b[0m     d \u001b[38;5;241m=\u001b[39m {\n\u001b[1;32m   4176\u001b[0m         \u001b[38;5;28mself\u001b[39m\u001b[38;5;241m.\u001b[39mobj\u001b[38;5;241m.\u001b[39m_get_axis_name(\u001b[38;5;28mself\u001b[39m\u001b[38;5;241m.\u001b[39maxis): index,\n\u001b[1;32m   4177\u001b[0m         \u001b[38;5;124m\"\u001b[39m\u001b[38;5;124mcopy\u001b[39m\u001b[38;5;124m\"\u001b[39m: \u001b[38;5;28;01mFalse\u001b[39;00m,\n\u001b[1;32m   4178\u001b[0m         \u001b[38;5;124m\"\u001b[39m\u001b[38;5;124mfill_value\u001b[39m\u001b[38;5;124m\"\u001b[39m: fill_value,\n\u001b[1;32m   4179\u001b[0m     }\n",
      "File \u001b[0;32m~/.cache/pypoetry/virtualenvs/mts-ml-cup-qFoUb2su-py3.8/lib/python3.8/site-packages/pandas/core/indexes/multi.py:643\u001b[0m, in \u001b[0;36mMultiIndex.from_product\u001b[0;34m(cls, iterables, sortorder, names)\u001b[0m\n\u001b[1;32m    640\u001b[0m     names \u001b[38;5;241m=\u001b[39m [\u001b[38;5;28mgetattr\u001b[39m(it, \u001b[38;5;124m\"\u001b[39m\u001b[38;5;124mname\u001b[39m\u001b[38;5;124m\"\u001b[39m, \u001b[38;5;28;01mNone\u001b[39;00m) \u001b[38;5;28;01mfor\u001b[39;00m it \u001b[38;5;129;01min\u001b[39;00m iterables]\n\u001b[1;32m    642\u001b[0m \u001b[38;5;66;03m# codes are all ndarrays, so cartesian_product is lossless\u001b[39;00m\n\u001b[0;32m--> 643\u001b[0m codes \u001b[38;5;241m=\u001b[39m \u001b[43mcartesian_product\u001b[49m\u001b[43m(\u001b[49m\u001b[43mcodes\u001b[49m\u001b[43m)\u001b[49m\n\u001b[1;32m    644\u001b[0m \u001b[38;5;28;01mreturn\u001b[39;00m \u001b[38;5;28mcls\u001b[39m(levels, codes, sortorder\u001b[38;5;241m=\u001b[39msortorder, names\u001b[38;5;241m=\u001b[39mnames)\n",
      "File \u001b[0;32m~/.cache/pypoetry/virtualenvs/mts-ml-cup-qFoUb2su-py3.8/lib/python3.8/site-packages/pandas/core/reshape/util.py:60\u001b[0m, in \u001b[0;36mcartesian_product\u001b[0;34m(X)\u001b[0m\n\u001b[1;32m     56\u001b[0m     b \u001b[38;5;241m=\u001b[39m np\u001b[38;5;241m.\u001b[39mzeros_like(cumprodX)\n\u001b[1;32m     58\u001b[0m \u001b[38;5;66;03m# error: Argument of type \"int_\" cannot be assigned to parameter \"num\" of\u001b[39;00m\n\u001b[1;32m     59\u001b[0m \u001b[38;5;66;03m# type \"int\" in function \"tile_compat\"\u001b[39;00m\n\u001b[0;32m---> 60\u001b[0m \u001b[38;5;28;01mreturn\u001b[39;00m [\n\u001b[1;32m     61\u001b[0m     tile_compat(\n\u001b[1;32m     62\u001b[0m         np\u001b[38;5;241m.\u001b[39mrepeat(x, b[i]),\n\u001b[1;32m     63\u001b[0m         np\u001b[38;5;241m.\u001b[39mproduct(a[i]),  \u001b[38;5;66;03m# pyright: ignore[reportGeneralTypeIssues]\u001b[39;00m\n\u001b[1;32m     64\u001b[0m     )\n\u001b[1;32m     65\u001b[0m     \u001b[38;5;28;01mfor\u001b[39;00m i, x \u001b[38;5;129;01min\u001b[39;00m \u001b[38;5;28menumerate\u001b[39m(X)\n\u001b[1;32m     66\u001b[0m ]\n",
      "File \u001b[0;32m~/.cache/pypoetry/virtualenvs/mts-ml-cup-qFoUb2su-py3.8/lib/python3.8/site-packages/pandas/core/reshape/util.py:61\u001b[0m, in \u001b[0;36m<listcomp>\u001b[0;34m(.0)\u001b[0m\n\u001b[1;32m     56\u001b[0m     b \u001b[38;5;241m=\u001b[39m np\u001b[38;5;241m.\u001b[39mzeros_like(cumprodX)\n\u001b[1;32m     58\u001b[0m \u001b[38;5;66;03m# error: Argument of type \"int_\" cannot be assigned to parameter \"num\" of\u001b[39;00m\n\u001b[1;32m     59\u001b[0m \u001b[38;5;66;03m# type \"int\" in function \"tile_compat\"\u001b[39;00m\n\u001b[1;32m     60\u001b[0m \u001b[38;5;28;01mreturn\u001b[39;00m [\n\u001b[0;32m---> 61\u001b[0m     \u001b[43mtile_compat\u001b[49m\u001b[43m(\u001b[49m\n\u001b[1;32m     62\u001b[0m \u001b[43m        \u001b[49m\u001b[43mnp\u001b[49m\u001b[38;5;241;43m.\u001b[39;49m\u001b[43mrepeat\u001b[49m\u001b[43m(\u001b[49m\u001b[43mx\u001b[49m\u001b[43m,\u001b[49m\u001b[43m \u001b[49m\u001b[43mb\u001b[49m\u001b[43m[\u001b[49m\u001b[43mi\u001b[49m\u001b[43m]\u001b[49m\u001b[43m)\u001b[49m\u001b[43m,\u001b[49m\n\u001b[1;32m     63\u001b[0m \u001b[43m        \u001b[49m\u001b[43mnp\u001b[49m\u001b[38;5;241;43m.\u001b[39;49m\u001b[43mproduct\u001b[49m\u001b[43m(\u001b[49m\u001b[43ma\u001b[49m\u001b[43m[\u001b[49m\u001b[43mi\u001b[49m\u001b[43m]\u001b[49m\u001b[43m)\u001b[49m\u001b[43m,\u001b[49m\u001b[43m  \u001b[49m\u001b[38;5;66;43;03m# pyright: ignore[reportGeneralTypeIssues]\u001b[39;49;00m\n\u001b[1;32m     64\u001b[0m \u001b[43m    \u001b[49m\u001b[43m)\u001b[49m\n\u001b[1;32m     65\u001b[0m     \u001b[38;5;28;01mfor\u001b[39;00m i, x \u001b[38;5;129;01min\u001b[39;00m \u001b[38;5;28menumerate\u001b[39m(X)\n\u001b[1;32m     66\u001b[0m ]\n",
      "File \u001b[0;32m~/.cache/pypoetry/virtualenvs/mts-ml-cup-qFoUb2su-py3.8/lib/python3.8/site-packages/pandas/core/reshape/util.py:78\u001b[0m, in \u001b[0;36mtile_compat\u001b[0;34m(arr, num)\u001b[0m\n\u001b[1;32m     70\u001b[0m \u001b[38;5;250m\u001b[39m\u001b[38;5;124;03m\"\"\"\u001b[39;00m\n\u001b[1;32m     71\u001b[0m \u001b[38;5;124;03mIndex compat for np.tile.\u001b[39;00m\n\u001b[1;32m     72\u001b[0m \n\u001b[0;32m   (...)\u001b[0m\n\u001b[1;32m     75\u001b[0m \u001b[38;5;124;03mDoes not support multi-dimensional `num`.\u001b[39;00m\n\u001b[1;32m     76\u001b[0m \u001b[38;5;124;03m\"\"\"\u001b[39;00m\n\u001b[1;32m     77\u001b[0m \u001b[38;5;28;01mif\u001b[39;00m \u001b[38;5;28misinstance\u001b[39m(arr, np\u001b[38;5;241m.\u001b[39mndarray):\n\u001b[0;32m---> 78\u001b[0m     \u001b[38;5;28;01mreturn\u001b[39;00m \u001b[43mnp\u001b[49m\u001b[38;5;241;43m.\u001b[39;49m\u001b[43mtile\u001b[49m\u001b[43m(\u001b[49m\u001b[43marr\u001b[49m\u001b[43m,\u001b[49m\u001b[43m \u001b[49m\u001b[43mnum\u001b[49m\u001b[43m)\u001b[49m\n\u001b[1;32m     80\u001b[0m \u001b[38;5;66;03m# Otherwise we have an Index\u001b[39;00m\n\u001b[1;32m     81\u001b[0m taker \u001b[38;5;241m=\u001b[39m np\u001b[38;5;241m.\u001b[39mtile(np\u001b[38;5;241m.\u001b[39marange(\u001b[38;5;28mlen\u001b[39m(arr)), num)\n",
      "File \u001b[0;32m<__array_function__ internals>:200\u001b[0m, in \u001b[0;36mtile\u001b[0;34m(*args, **kwargs)\u001b[0m\n",
      "File \u001b[0;32m~/.cache/pypoetry/virtualenvs/mts-ml-cup-qFoUb2su-py3.8/lib/python3.8/site-packages/numpy/lib/shape_base.py:1278\u001b[0m, in \u001b[0;36mtile\u001b[0;34m(A, reps)\u001b[0m\n\u001b[1;32m   1276\u001b[0m     \u001b[38;5;28;01mfor\u001b[39;00m dim_in, nrep \u001b[38;5;129;01min\u001b[39;00m \u001b[38;5;28mzip\u001b[39m(c\u001b[38;5;241m.\u001b[39mshape, tup):\n\u001b[1;32m   1277\u001b[0m         \u001b[38;5;28;01mif\u001b[39;00m nrep \u001b[38;5;241m!=\u001b[39m \u001b[38;5;241m1\u001b[39m:\n\u001b[0;32m-> 1278\u001b[0m             c \u001b[38;5;241m=\u001b[39m \u001b[43mc\u001b[49m\u001b[38;5;241;43m.\u001b[39;49m\u001b[43mreshape\u001b[49m\u001b[43m(\u001b[49m\u001b[38;5;241;43m-\u001b[39;49m\u001b[38;5;241;43m1\u001b[39;49m\u001b[43m,\u001b[49m\u001b[43m \u001b[49m\u001b[43mn\u001b[49m\u001b[43m)\u001b[49m\u001b[38;5;241;43m.\u001b[39;49m\u001b[43mrepeat\u001b[49m\u001b[43m(\u001b[49m\u001b[43mnrep\u001b[49m\u001b[43m,\u001b[49m\u001b[43m \u001b[49m\u001b[38;5;241;43m0\u001b[39;49m\u001b[43m)\u001b[49m\n\u001b[1;32m   1279\u001b[0m         n \u001b[38;5;241m/\u001b[39m\u001b[38;5;241m/\u001b[39m\u001b[38;5;241m=\u001b[39m dim_in\n\u001b[1;32m   1280\u001b[0m \u001b[38;5;28;01mreturn\u001b[39;00m c\u001b[38;5;241m.\u001b[39mreshape(shape_out)\n",
      "\u001b[0;31mKeyboardInterrupt\u001b[0m: "
     ]
    }
   ],
   "source": [
    "sessions.iloc[:100000].groupby([\"user_id\", \"date\", \"part_of_day_str\", \"url_host\"])[\"request_cnt\"].nunique()"
   ]
  },
  {
   "cell_type": "code",
   "execution_count": 37,
   "id": "ef8341b1-e402-4cb8-9598-4170a65f6f00",
   "metadata": {},
   "outputs": [
    {
     "data": {
      "text/html": [
       "<div>\n",
       "<style scoped>\n",
       "    .dataframe tbody tr th:only-of-type {\n",
       "        vertical-align: middle;\n",
       "    }\n",
       "\n",
       "    .dataframe tbody tr th {\n",
       "        vertical-align: top;\n",
       "    }\n",
       "\n",
       "    .dataframe thead th {\n",
       "        text-align: right;\n",
       "    }\n",
       "</style>\n",
       "<table border=\"1\" class=\"dataframe\">\n",
       "  <thead>\n",
       "    <tr style=\"text-align: right;\">\n",
       "      <th></th>\n",
       "      <th>region_name</th>\n",
       "      <th>city_name</th>\n",
       "      <th>cpe_manufacturer_name</th>\n",
       "      <th>cpe_model_name</th>\n",
       "      <th>url_host</th>\n",
       "      <th>cpe_type_cd</th>\n",
       "      <th>cpe_model_os_type</th>\n",
       "      <th>price</th>\n",
       "      <th>date</th>\n",
       "      <th>part_of_day</th>\n",
       "      <th>request_cnt</th>\n",
       "      <th>user_id</th>\n",
       "      <th>part_of_day_str</th>\n",
       "    </tr>\n",
       "  </thead>\n",
       "  <tbody>\n",
       "    <tr>\n",
       "      <th>52200</th>\n",
       "      <td>Московская область</td>\n",
       "      <td>Балашиха</td>\n",
       "      <td>Realme Chongqing Mobile Telecommunications Cor...</td>\n",
       "      <td>6i</td>\n",
       "      <td>lenta.com</td>\n",
       "      <td>smartphone</td>\n",
       "      <td>Android</td>\n",
       "      <td>19990.0</td>\n",
       "      <td>2021-06-16</td>\n",
       "      <td>day</td>\n",
       "      <td>1</td>\n",
       "      <td>1516</td>\n",
       "      <td>day</td>\n",
       "    </tr>\n",
       "    <tr>\n",
       "      <th>52208</th>\n",
       "      <td>Московская область</td>\n",
       "      <td>Балашиха</td>\n",
       "      <td>Realme Chongqing Mobile Telecommunications Cor...</td>\n",
       "      <td>6i</td>\n",
       "      <td>sun9-17.userapi.com</td>\n",
       "      <td>smartphone</td>\n",
       "      <td>Android</td>\n",
       "      <td>19990.0</td>\n",
       "      <td>2021-06-16</td>\n",
       "      <td>day</td>\n",
       "      <td>2</td>\n",
       "      <td>1516</td>\n",
       "      <td>day</td>\n",
       "    </tr>\n",
       "    <tr>\n",
       "      <th>52214</th>\n",
       "      <td>Московская область</td>\n",
       "      <td>Балашиха</td>\n",
       "      <td>Realme Chongqing Mobile Telecommunications Cor...</td>\n",
       "      <td>6i</td>\n",
       "      <td>i.ytimg.com</td>\n",
       "      <td>smartphone</td>\n",
       "      <td>Android</td>\n",
       "      <td>19990.0</td>\n",
       "      <td>2021-06-16</td>\n",
       "      <td>day</td>\n",
       "      <td>5</td>\n",
       "      <td>1516</td>\n",
       "      <td>day</td>\n",
       "    </tr>\n",
       "    <tr>\n",
       "      <th>52244</th>\n",
       "      <td>Московская область</td>\n",
       "      <td>Балашиха</td>\n",
       "      <td>Realme Chongqing Mobile Telecommunications Cor...</td>\n",
       "      <td>6i</td>\n",
       "      <td>avatars.mds.yandex.net</td>\n",
       "      <td>smartphone</td>\n",
       "      <td>Android</td>\n",
       "      <td>19990.0</td>\n",
       "      <td>2021-06-16</td>\n",
       "      <td>day</td>\n",
       "      <td>4</td>\n",
       "      <td>1516</td>\n",
       "      <td>day</td>\n",
       "    </tr>\n",
       "    <tr>\n",
       "      <th>52253</th>\n",
       "      <td>Московская область</td>\n",
       "      <td>Балашиха</td>\n",
       "      <td>Realme Chongqing Mobile Telecommunications Cor...</td>\n",
       "      <td>6i</td>\n",
       "      <td>ads.betweendigital.com</td>\n",
       "      <td>smartphone</td>\n",
       "      <td>Android</td>\n",
       "      <td>19990.0</td>\n",
       "      <td>2021-06-16</td>\n",
       "      <td>day</td>\n",
       "      <td>2</td>\n",
       "      <td>1516</td>\n",
       "      <td>day</td>\n",
       "    </tr>\n",
       "    <tr>\n",
       "      <th>52258</th>\n",
       "      <td>Московская область</td>\n",
       "      <td>Балашиха</td>\n",
       "      <td>Realme Chongqing Mobile Telecommunications Cor...</td>\n",
       "      <td>6i</td>\n",
       "      <td>yandex.ru</td>\n",
       "      <td>smartphone</td>\n",
       "      <td>Android</td>\n",
       "      <td>19990.0</td>\n",
       "      <td>2021-06-16</td>\n",
       "      <td>day</td>\n",
       "      <td>6</td>\n",
       "      <td>1516</td>\n",
       "      <td>day</td>\n",
       "    </tr>\n",
       "    <tr>\n",
       "      <th>52263</th>\n",
       "      <td>Московская область</td>\n",
       "      <td>Балашиха</td>\n",
       "      <td>Realme Chongqing Mobile Telecommunications Cor...</td>\n",
       "      <td>6i</td>\n",
       "      <td>vk.com</td>\n",
       "      <td>smartphone</td>\n",
       "      <td>Android</td>\n",
       "      <td>19990.0</td>\n",
       "      <td>2021-06-16</td>\n",
       "      <td>morning</td>\n",
       "      <td>3</td>\n",
       "      <td>1516</td>\n",
       "      <td>morning</td>\n",
       "    </tr>\n",
       "    <tr>\n",
       "      <th>52265</th>\n",
       "      <td>Московская область</td>\n",
       "      <td>Балашиха</td>\n",
       "      <td>Realme Chongqing Mobile Telecommunications Cor...</td>\n",
       "      <td>6i</td>\n",
       "      <td>i.ytimg.com</td>\n",
       "      <td>smartphone</td>\n",
       "      <td>Android</td>\n",
       "      <td>19990.0</td>\n",
       "      <td>2021-06-16</td>\n",
       "      <td>morning</td>\n",
       "      <td>3</td>\n",
       "      <td>1516</td>\n",
       "      <td>morning</td>\n",
       "    </tr>\n",
       "    <tr>\n",
       "      <th>52268</th>\n",
       "      <td>Московская область</td>\n",
       "      <td>Балашиха</td>\n",
       "      <td>Realme Chongqing Mobile Telecommunications Cor...</td>\n",
       "      <td>6i</td>\n",
       "      <td>sun9-5.userapi.com</td>\n",
       "      <td>smartphone</td>\n",
       "      <td>Android</td>\n",
       "      <td>19990.0</td>\n",
       "      <td>2021-06-16</td>\n",
       "      <td>morning</td>\n",
       "      <td>1</td>\n",
       "      <td>1516</td>\n",
       "      <td>morning</td>\n",
       "    </tr>\n",
       "    <tr>\n",
       "      <th>52292</th>\n",
       "      <td>Московская область</td>\n",
       "      <td>Балашиха</td>\n",
       "      <td>Realme Chongqing Mobile Telecommunications Cor...</td>\n",
       "      <td>6i</td>\n",
       "      <td>sun9-29.userapi.com</td>\n",
       "      <td>smartphone</td>\n",
       "      <td>Android</td>\n",
       "      <td>19990.0</td>\n",
       "      <td>2021-06-16</td>\n",
       "      <td>morning</td>\n",
       "      <td>2</td>\n",
       "      <td>1516</td>\n",
       "      <td>morning</td>\n",
       "    </tr>\n",
       "    <tr>\n",
       "      <th>52330</th>\n",
       "      <td>Московская область</td>\n",
       "      <td>Балашиха</td>\n",
       "      <td>Realme Chongqing Mobile Telecommunications Cor...</td>\n",
       "      <td>6i</td>\n",
       "      <td>sun9-61.userapi.com</td>\n",
       "      <td>smartphone</td>\n",
       "      <td>Android</td>\n",
       "      <td>19990.0</td>\n",
       "      <td>2021-06-16</td>\n",
       "      <td>morning</td>\n",
       "      <td>2</td>\n",
       "      <td>1516</td>\n",
       "      <td>morning</td>\n",
       "    </tr>\n",
       "    <tr>\n",
       "      <th>52355</th>\n",
       "      <td>Московская область</td>\n",
       "      <td>Балашиха</td>\n",
       "      <td>Realme Chongqing Mobile Telecommunications Cor...</td>\n",
       "      <td>6i</td>\n",
       "      <td>sun9-17.userapi.com</td>\n",
       "      <td>smartphone</td>\n",
       "      <td>Android</td>\n",
       "      <td>19990.0</td>\n",
       "      <td>2021-06-16</td>\n",
       "      <td>morning</td>\n",
       "      <td>1</td>\n",
       "      <td>1516</td>\n",
       "      <td>morning</td>\n",
       "    </tr>\n",
       "    <tr>\n",
       "      <th>52361</th>\n",
       "      <td>Московская область</td>\n",
       "      <td>Балашиха</td>\n",
       "      <td>Realme Chongqing Mobile Telecommunications Cor...</td>\n",
       "      <td>6i</td>\n",
       "      <td>avatars.mds.yandex.net</td>\n",
       "      <td>smartphone</td>\n",
       "      <td>Android</td>\n",
       "      <td>19990.0</td>\n",
       "      <td>2021-06-16</td>\n",
       "      <td>evening</td>\n",
       "      <td>2</td>\n",
       "      <td>1516</td>\n",
       "      <td>evening</td>\n",
       "    </tr>\n",
       "    <tr>\n",
       "      <th>52377</th>\n",
       "      <td>Московская область</td>\n",
       "      <td>Балашиха</td>\n",
       "      <td>Realme Chongqing Mobile Telecommunications Cor...</td>\n",
       "      <td>6i</td>\n",
       "      <td>sun9-77.userapi.com</td>\n",
       "      <td>smartphone</td>\n",
       "      <td>Android</td>\n",
       "      <td>19990.0</td>\n",
       "      <td>2021-06-16</td>\n",
       "      <td>day</td>\n",
       "      <td>1</td>\n",
       "      <td>1516</td>\n",
       "      <td>day</td>\n",
       "    </tr>\n",
       "    <tr>\n",
       "      <th>52382</th>\n",
       "      <td>Московская область</td>\n",
       "      <td>Балашиха</td>\n",
       "      <td>Realme Chongqing Mobile Telecommunications Cor...</td>\n",
       "      <td>6i</td>\n",
       "      <td>sun9-5.userapi.com</td>\n",
       "      <td>smartphone</td>\n",
       "      <td>Android</td>\n",
       "      <td>19990.0</td>\n",
       "      <td>2021-06-16</td>\n",
       "      <td>day</td>\n",
       "      <td>2</td>\n",
       "      <td>1516</td>\n",
       "      <td>day</td>\n",
       "    </tr>\n",
       "    <tr>\n",
       "      <th>52391</th>\n",
       "      <td>Московская область</td>\n",
       "      <td>Балашиха</td>\n",
       "      <td>Realme Chongqing Mobile Telecommunications Cor...</td>\n",
       "      <td>6i</td>\n",
       "      <td>securepayments.sberbank.ru</td>\n",
       "      <td>smartphone</td>\n",
       "      <td>Android</td>\n",
       "      <td>19990.0</td>\n",
       "      <td>2021-06-16</td>\n",
       "      <td>day</td>\n",
       "      <td>2</td>\n",
       "      <td>1516</td>\n",
       "      <td>day</td>\n",
       "    </tr>\n",
       "    <tr>\n",
       "      <th>52445</th>\n",
       "      <td>Московская область</td>\n",
       "      <td>Балашиха</td>\n",
       "      <td>Realme Chongqing Mobile Telecommunications Cor...</td>\n",
       "      <td>6i</td>\n",
       "      <td>sun9-29.userapi.com</td>\n",
       "      <td>smartphone</td>\n",
       "      <td>Android</td>\n",
       "      <td>19990.0</td>\n",
       "      <td>2021-06-16</td>\n",
       "      <td>day</td>\n",
       "      <td>2</td>\n",
       "      <td>1516</td>\n",
       "      <td>day</td>\n",
       "    </tr>\n",
       "    <tr>\n",
       "      <th>52449</th>\n",
       "      <td>Московская область</td>\n",
       "      <td>Балашиха</td>\n",
       "      <td>Realme Chongqing Mobile Telecommunications Cor...</td>\n",
       "      <td>6i</td>\n",
       "      <td>i.ytimg.com</td>\n",
       "      <td>smartphone</td>\n",
       "      <td>Android</td>\n",
       "      <td>19990.0</td>\n",
       "      <td>2021-06-16</td>\n",
       "      <td>evening</td>\n",
       "      <td>2</td>\n",
       "      <td>1516</td>\n",
       "      <td>evening</td>\n",
       "    </tr>\n",
       "    <tr>\n",
       "      <th>52470</th>\n",
       "      <td>Московская область</td>\n",
       "      <td>Балашиха</td>\n",
       "      <td>Realme Chongqing Mobile Telecommunications Cor...</td>\n",
       "      <td>6i</td>\n",
       "      <td>googleads.g.doubleclick.net</td>\n",
       "      <td>smartphone</td>\n",
       "      <td>Android</td>\n",
       "      <td>19990.0</td>\n",
       "      <td>2021-06-16</td>\n",
       "      <td>morning</td>\n",
       "      <td>2</td>\n",
       "      <td>1516</td>\n",
       "      <td>morning</td>\n",
       "    </tr>\n",
       "    <tr>\n",
       "      <th>52471</th>\n",
       "      <td>Московская область</td>\n",
       "      <td>Балашиха</td>\n",
       "      <td>Realme Chongqing Mobile Telecommunications Cor...</td>\n",
       "      <td>6i</td>\n",
       "      <td>sun9-27.userapi.com</td>\n",
       "      <td>smartphone</td>\n",
       "      <td>Android</td>\n",
       "      <td>19990.0</td>\n",
       "      <td>2021-06-16</td>\n",
       "      <td>morning</td>\n",
       "      <td>2</td>\n",
       "      <td>1516</td>\n",
       "      <td>morning</td>\n",
       "    </tr>\n",
       "    <tr>\n",
       "      <th>52474</th>\n",
       "      <td>Московская область</td>\n",
       "      <td>Балашиха</td>\n",
       "      <td>Realme Chongqing Mobile Telecommunications Cor...</td>\n",
       "      <td>6i</td>\n",
       "      <td>ad.mail.ru</td>\n",
       "      <td>smartphone</td>\n",
       "      <td>Android</td>\n",
       "      <td>19990.0</td>\n",
       "      <td>2021-06-16</td>\n",
       "      <td>day</td>\n",
       "      <td>4</td>\n",
       "      <td>1516</td>\n",
       "      <td>day</td>\n",
       "    </tr>\n",
       "    <tr>\n",
       "      <th>52483</th>\n",
       "      <td>Московская область</td>\n",
       "      <td>Балашиха</td>\n",
       "      <td>Realme Chongqing Mobile Telecommunications Cor...</td>\n",
       "      <td>6i</td>\n",
       "      <td>online.sberbank.ru</td>\n",
       "      <td>smartphone</td>\n",
       "      <td>Android</td>\n",
       "      <td>19990.0</td>\n",
       "      <td>2021-06-16</td>\n",
       "      <td>day</td>\n",
       "      <td>3</td>\n",
       "      <td>1516</td>\n",
       "      <td>day</td>\n",
       "    </tr>\n",
       "    <tr>\n",
       "      <th>52491</th>\n",
       "      <td>Московская область</td>\n",
       "      <td>Балашиха</td>\n",
       "      <td>Realme Chongqing Mobile Telecommunications Cor...</td>\n",
       "      <td>6i</td>\n",
       "      <td>yandex.ru</td>\n",
       "      <td>smartphone</td>\n",
       "      <td>Android</td>\n",
       "      <td>19990.0</td>\n",
       "      <td>2021-06-16</td>\n",
       "      <td>morning</td>\n",
       "      <td>5</td>\n",
       "      <td>1516</td>\n",
       "      <td>morning</td>\n",
       "    </tr>\n",
       "    <tr>\n",
       "      <th>52493</th>\n",
       "      <td>Московская область</td>\n",
       "      <td>Балашиха</td>\n",
       "      <td>Realme Chongqing Mobile Telecommunications Cor...</td>\n",
       "      <td>6i</td>\n",
       "      <td>ad.mail.ru</td>\n",
       "      <td>smartphone</td>\n",
       "      <td>Android</td>\n",
       "      <td>19990.0</td>\n",
       "      <td>2021-06-16</td>\n",
       "      <td>evening</td>\n",
       "      <td>2</td>\n",
       "      <td>1516</td>\n",
       "      <td>evening</td>\n",
       "    </tr>\n",
       "    <tr>\n",
       "      <th>52536</th>\n",
       "      <td>Московская область</td>\n",
       "      <td>Балашиха</td>\n",
       "      <td>Realme Chongqing Mobile Telecommunications Cor...</td>\n",
       "      <td>6i</td>\n",
       "      <td>googleads.g.doubleclick.net</td>\n",
       "      <td>smartphone</td>\n",
       "      <td>Android</td>\n",
       "      <td>19990.0</td>\n",
       "      <td>2021-06-16</td>\n",
       "      <td>evening</td>\n",
       "      <td>2</td>\n",
       "      <td>1516</td>\n",
       "      <td>evening</td>\n",
       "    </tr>\n",
       "    <tr>\n",
       "      <th>52540</th>\n",
       "      <td>Московская область</td>\n",
       "      <td>Балашиха</td>\n",
       "      <td>Realme Chongqing Mobile Telecommunications Cor...</td>\n",
       "      <td>6i</td>\n",
       "      <td>zen.yandex.ru</td>\n",
       "      <td>smartphone</td>\n",
       "      <td>Android</td>\n",
       "      <td>19990.0</td>\n",
       "      <td>2021-06-16</td>\n",
       "      <td>day</td>\n",
       "      <td>4</td>\n",
       "      <td>1516</td>\n",
       "      <td>day</td>\n",
       "    </tr>\n",
       "    <tr>\n",
       "      <th>52561</th>\n",
       "      <td>Московская область</td>\n",
       "      <td>Балашиха</td>\n",
       "      <td>Realme Chongqing Mobile Telecommunications Cor...</td>\n",
       "      <td>6i</td>\n",
       "      <td>yandex.ru</td>\n",
       "      <td>smartphone</td>\n",
       "      <td>Android</td>\n",
       "      <td>19990.0</td>\n",
       "      <td>2021-06-16</td>\n",
       "      <td>evening</td>\n",
       "      <td>3</td>\n",
       "      <td>1516</td>\n",
       "      <td>evening</td>\n",
       "    </tr>\n",
       "    <tr>\n",
       "      <th>52583</th>\n",
       "      <td>Московская область</td>\n",
       "      <td>Балашиха</td>\n",
       "      <td>Realme Chongqing Mobile Telecommunications Cor...</td>\n",
       "      <td>6i</td>\n",
       "      <td>google.com</td>\n",
       "      <td>smartphone</td>\n",
       "      <td>Android</td>\n",
       "      <td>19990.0</td>\n",
       "      <td>2021-06-16</td>\n",
       "      <td>day</td>\n",
       "      <td>1</td>\n",
       "      <td>1516</td>\n",
       "      <td>day</td>\n",
       "    </tr>\n",
       "    <tr>\n",
       "      <th>52602</th>\n",
       "      <td>Московская область</td>\n",
       "      <td>Балашиха</td>\n",
       "      <td>Realme Chongqing Mobile Telecommunications Cor...</td>\n",
       "      <td>6i</td>\n",
       "      <td>online.vtb.ru</td>\n",
       "      <td>smartphone</td>\n",
       "      <td>Android</td>\n",
       "      <td>19990.0</td>\n",
       "      <td>2021-06-16</td>\n",
       "      <td>morning</td>\n",
       "      <td>2</td>\n",
       "      <td>1516</td>\n",
       "      <td>morning</td>\n",
       "    </tr>\n",
       "    <tr>\n",
       "      <th>52650</th>\n",
       "      <td>Московская область</td>\n",
       "      <td>Балашиха</td>\n",
       "      <td>Realme Chongqing Mobile Telecommunications Cor...</td>\n",
       "      <td>6i</td>\n",
       "      <td>zen.yandex.ru</td>\n",
       "      <td>smartphone</td>\n",
       "      <td>Android</td>\n",
       "      <td>19990.0</td>\n",
       "      <td>2021-06-16</td>\n",
       "      <td>evening</td>\n",
       "      <td>2</td>\n",
       "      <td>1516</td>\n",
       "      <td>evening</td>\n",
       "    </tr>\n",
       "    <tr>\n",
       "      <th>52655</th>\n",
       "      <td>Московская область</td>\n",
       "      <td>Балашиха</td>\n",
       "      <td>Realme Chongqing Mobile Telecommunications Cor...</td>\n",
       "      <td>6i</td>\n",
       "      <td>sun9-27.userapi.com</td>\n",
       "      <td>smartphone</td>\n",
       "      <td>Android</td>\n",
       "      <td>19990.0</td>\n",
       "      <td>2021-06-16</td>\n",
       "      <td>day</td>\n",
       "      <td>2</td>\n",
       "      <td>1516</td>\n",
       "      <td>day</td>\n",
       "    </tr>\n",
       "    <tr>\n",
       "      <th>52681</th>\n",
       "      <td>Московская область</td>\n",
       "      <td>Балашиха</td>\n",
       "      <td>Realme Chongqing Mobile Telecommunications Cor...</td>\n",
       "      <td>6i</td>\n",
       "      <td>avatars.mds.yandex.net</td>\n",
       "      <td>smartphone</td>\n",
       "      <td>Android</td>\n",
       "      <td>19990.0</td>\n",
       "      <td>2021-06-16</td>\n",
       "      <td>morning</td>\n",
       "      <td>4</td>\n",
       "      <td>1516</td>\n",
       "      <td>morning</td>\n",
       "    </tr>\n",
       "    <tr>\n",
       "      <th>52683</th>\n",
       "      <td>Московская область</td>\n",
       "      <td>Балашиха</td>\n",
       "      <td>Realme Chongqing Mobile Telecommunications Cor...</td>\n",
       "      <td>6i</td>\n",
       "      <td>online.vtb.ru</td>\n",
       "      <td>smartphone</td>\n",
       "      <td>Android</td>\n",
       "      <td>19990.0</td>\n",
       "      <td>2021-06-16</td>\n",
       "      <td>day</td>\n",
       "      <td>4</td>\n",
       "      <td>1516</td>\n",
       "      <td>day</td>\n",
       "    </tr>\n",
       "    <tr>\n",
       "      <th>52701</th>\n",
       "      <td>Московская область</td>\n",
       "      <td>Балашиха</td>\n",
       "      <td>Realme Chongqing Mobile Telecommunications Cor...</td>\n",
       "      <td>6i</td>\n",
       "      <td>sun9-32.userapi.com</td>\n",
       "      <td>smartphone</td>\n",
       "      <td>Android</td>\n",
       "      <td>19990.0</td>\n",
       "      <td>2021-06-16</td>\n",
       "      <td>day</td>\n",
       "      <td>2</td>\n",
       "      <td>1516</td>\n",
       "      <td>day</td>\n",
       "    </tr>\n",
       "    <tr>\n",
       "      <th>52709</th>\n",
       "      <td>Московская область</td>\n",
       "      <td>Балашиха</td>\n",
       "      <td>Realme Chongqing Mobile Telecommunications Cor...</td>\n",
       "      <td>6i</td>\n",
       "      <td>o2.mail.ru</td>\n",
       "      <td>smartphone</td>\n",
       "      <td>Android</td>\n",
       "      <td>19990.0</td>\n",
       "      <td>2021-06-16</td>\n",
       "      <td>morning</td>\n",
       "      <td>1</td>\n",
       "      <td>1516</td>\n",
       "      <td>morning</td>\n",
       "    </tr>\n",
       "    <tr>\n",
       "      <th>52742</th>\n",
       "      <td>Московская область</td>\n",
       "      <td>Балашиха</td>\n",
       "      <td>Realme Chongqing Mobile Telecommunications Cor...</td>\n",
       "      <td>6i</td>\n",
       "      <td>tpc.googlesyndication.com</td>\n",
       "      <td>smartphone</td>\n",
       "      <td>Android</td>\n",
       "      <td>19990.0</td>\n",
       "      <td>2021-06-16</td>\n",
       "      <td>evening</td>\n",
       "      <td>2</td>\n",
       "      <td>1516</td>\n",
       "      <td>evening</td>\n",
       "    </tr>\n",
       "    <tr>\n",
       "      <th>52748</th>\n",
       "      <td>Московская область</td>\n",
       "      <td>Балашиха</td>\n",
       "      <td>Realme Chongqing Mobile Telecommunications Cor...</td>\n",
       "      <td>6i</td>\n",
       "      <td>node3.online.sberbank.ru</td>\n",
       "      <td>smartphone</td>\n",
       "      <td>Android</td>\n",
       "      <td>19990.0</td>\n",
       "      <td>2021-06-16</td>\n",
       "      <td>day</td>\n",
       "      <td>3</td>\n",
       "      <td>1516</td>\n",
       "      <td>day</td>\n",
       "    </tr>\n",
       "    <tr>\n",
       "      <th>52775</th>\n",
       "      <td>Московская область</td>\n",
       "      <td>Балашиха</td>\n",
       "      <td>Realme Chongqing Mobile Telecommunications Cor...</td>\n",
       "      <td>6i</td>\n",
       "      <td>zen.yandex.ru</td>\n",
       "      <td>smartphone</td>\n",
       "      <td>Android</td>\n",
       "      <td>19990.0</td>\n",
       "      <td>2021-06-16</td>\n",
       "      <td>morning</td>\n",
       "      <td>4</td>\n",
       "      <td>1516</td>\n",
       "      <td>morning</td>\n",
       "    </tr>\n",
       "    <tr>\n",
       "      <th>52804</th>\n",
       "      <td>Московская область</td>\n",
       "      <td>Балашиха</td>\n",
       "      <td>Realme Chongqing Mobile Telecommunications Cor...</td>\n",
       "      <td>6i</td>\n",
       "      <td>googleads.g.doubleclick.net</td>\n",
       "      <td>smartphone</td>\n",
       "      <td>Android</td>\n",
       "      <td>19990.0</td>\n",
       "      <td>2021-06-16</td>\n",
       "      <td>day</td>\n",
       "      <td>4</td>\n",
       "      <td>1516</td>\n",
       "      <td>day</td>\n",
       "    </tr>\n",
       "    <tr>\n",
       "      <th>52816</th>\n",
       "      <td>Московская область</td>\n",
       "      <td>Балашиха</td>\n",
       "      <td>Realme Chongqing Mobile Telecommunications Cor...</td>\n",
       "      <td>6i</td>\n",
       "      <td>ad.adriver.ru</td>\n",
       "      <td>smartphone</td>\n",
       "      <td>Android</td>\n",
       "      <td>19990.0</td>\n",
       "      <td>2021-06-16</td>\n",
       "      <td>morning</td>\n",
       "      <td>1</td>\n",
       "      <td>1516</td>\n",
       "      <td>morning</td>\n",
       "    </tr>\n",
       "    <tr>\n",
       "      <th>52817</th>\n",
       "      <td>Московская область</td>\n",
       "      <td>Балашиха</td>\n",
       "      <td>Realme Chongqing Mobile Telecommunications Cor...</td>\n",
       "      <td>6i</td>\n",
       "      <td>lenta.com</td>\n",
       "      <td>smartphone</td>\n",
       "      <td>Android</td>\n",
       "      <td>19990.0</td>\n",
       "      <td>2021-06-16</td>\n",
       "      <td>morning</td>\n",
       "      <td>1</td>\n",
       "      <td>1516</td>\n",
       "      <td>morning</td>\n",
       "    </tr>\n",
       "    <tr>\n",
       "      <th>52836</th>\n",
       "      <td>Московская область</td>\n",
       "      <td>Балашиха</td>\n",
       "      <td>Realme Chongqing Mobile Telecommunications Cor...</td>\n",
       "      <td>6i</td>\n",
       "      <td>vk.com</td>\n",
       "      <td>smartphone</td>\n",
       "      <td>Android</td>\n",
       "      <td>19990.0</td>\n",
       "      <td>2021-06-16</td>\n",
       "      <td>day</td>\n",
       "      <td>5</td>\n",
       "      <td>1516</td>\n",
       "      <td>day</td>\n",
       "    </tr>\n",
       "    <tr>\n",
       "      <th>52853</th>\n",
       "      <td>Московская область</td>\n",
       "      <td>Балашиха</td>\n",
       "      <td>Realme Chongqing Mobile Telecommunications Cor...</td>\n",
       "      <td>6i</td>\n",
       "      <td>sun9-61.userapi.com</td>\n",
       "      <td>smartphone</td>\n",
       "      <td>Android</td>\n",
       "      <td>19990.0</td>\n",
       "      <td>2021-06-16</td>\n",
       "      <td>day</td>\n",
       "      <td>1</td>\n",
       "      <td>1516</td>\n",
       "      <td>day</td>\n",
       "    </tr>\n",
       "    <tr>\n",
       "      <th>52870</th>\n",
       "      <td>Московская область</td>\n",
       "      <td>Балашиха</td>\n",
       "      <td>Realme Chongqing Mobile Telecommunications Cor...</td>\n",
       "      <td>6i</td>\n",
       "      <td>ad.mail.ru</td>\n",
       "      <td>smartphone</td>\n",
       "      <td>Android</td>\n",
       "      <td>19990.0</td>\n",
       "      <td>2021-06-16</td>\n",
       "      <td>morning</td>\n",
       "      <td>5</td>\n",
       "      <td>1516</td>\n",
       "      <td>morning</td>\n",
       "    </tr>\n",
       "    <tr>\n",
       "      <th>52915</th>\n",
       "      <td>Московская область</td>\n",
       "      <td>Балашиха</td>\n",
       "      <td>Realme Chongqing Mobile Telecommunications Cor...</td>\n",
       "      <td>6i</td>\n",
       "      <td>sberbank.ru</td>\n",
       "      <td>smartphone</td>\n",
       "      <td>Android</td>\n",
       "      <td>19990.0</td>\n",
       "      <td>2021-06-16</td>\n",
       "      <td>day</td>\n",
       "      <td>2</td>\n",
       "      <td>1516</td>\n",
       "      <td>day</td>\n",
       "    </tr>\n",
       "    <tr>\n",
       "      <th>52921</th>\n",
       "      <td>Московская область</td>\n",
       "      <td>Балашиха</td>\n",
       "      <td>Realme Chongqing Mobile Telecommunications Cor...</td>\n",
       "      <td>6i</td>\n",
       "      <td>sun9-32.userapi.com</td>\n",
       "      <td>smartphone</td>\n",
       "      <td>Android</td>\n",
       "      <td>19990.0</td>\n",
       "      <td>2021-06-16</td>\n",
       "      <td>morning</td>\n",
       "      <td>1</td>\n",
       "      <td>1516</td>\n",
       "      <td>morning</td>\n",
       "    </tr>\n",
       "    <tr>\n",
       "      <th>52927</th>\n",
       "      <td>Московская область</td>\n",
       "      <td>Балашиха</td>\n",
       "      <td>Realme Chongqing Mobile Telecommunications Cor...</td>\n",
       "      <td>6i</td>\n",
       "      <td>sbermarket.ru</td>\n",
       "      <td>smartphone</td>\n",
       "      <td>Android</td>\n",
       "      <td>19990.0</td>\n",
       "      <td>2021-06-16</td>\n",
       "      <td>morning</td>\n",
       "      <td>2</td>\n",
       "      <td>1516</td>\n",
       "      <td>morning</td>\n",
       "    </tr>\n",
       "  </tbody>\n",
       "</table>\n",
       "</div>"
      ],
      "text/plain": [
       "              region_name city_name  \\\n",
       "52200  Московская область  Балашиха   \n",
       "52208  Московская область  Балашиха   \n",
       "52214  Московская область  Балашиха   \n",
       "52244  Московская область  Балашиха   \n",
       "52253  Московская область  Балашиха   \n",
       "52258  Московская область  Балашиха   \n",
       "52263  Московская область  Балашиха   \n",
       "52265  Московская область  Балашиха   \n",
       "52268  Московская область  Балашиха   \n",
       "52292  Московская область  Балашиха   \n",
       "52330  Московская область  Балашиха   \n",
       "52355  Московская область  Балашиха   \n",
       "52361  Московская область  Балашиха   \n",
       "52377  Московская область  Балашиха   \n",
       "52382  Московская область  Балашиха   \n",
       "52391  Московская область  Балашиха   \n",
       "52445  Московская область  Балашиха   \n",
       "52449  Московская область  Балашиха   \n",
       "52470  Московская область  Балашиха   \n",
       "52471  Московская область  Балашиха   \n",
       "52474  Московская область  Балашиха   \n",
       "52483  Московская область  Балашиха   \n",
       "52491  Московская область  Балашиха   \n",
       "52493  Московская область  Балашиха   \n",
       "52536  Московская область  Балашиха   \n",
       "52540  Московская область  Балашиха   \n",
       "52561  Московская область  Балашиха   \n",
       "52583  Московская область  Балашиха   \n",
       "52602  Московская область  Балашиха   \n",
       "52650  Московская область  Балашиха   \n",
       "52655  Московская область  Балашиха   \n",
       "52681  Московская область  Балашиха   \n",
       "52683  Московская область  Балашиха   \n",
       "52701  Московская область  Балашиха   \n",
       "52709  Московская область  Балашиха   \n",
       "52742  Московская область  Балашиха   \n",
       "52748  Московская область  Балашиха   \n",
       "52775  Московская область  Балашиха   \n",
       "52804  Московская область  Балашиха   \n",
       "52816  Московская область  Балашиха   \n",
       "52817  Московская область  Балашиха   \n",
       "52836  Московская область  Балашиха   \n",
       "52853  Московская область  Балашиха   \n",
       "52870  Московская область  Балашиха   \n",
       "52915  Московская область  Балашиха   \n",
       "52921  Московская область  Балашиха   \n",
       "52927  Московская область  Балашиха   \n",
       "\n",
       "                                   cpe_manufacturer_name cpe_model_name  \\\n",
       "52200  Realme Chongqing Mobile Telecommunications Cor...             6i   \n",
       "52208  Realme Chongqing Mobile Telecommunications Cor...             6i   \n",
       "52214  Realme Chongqing Mobile Telecommunications Cor...             6i   \n",
       "52244  Realme Chongqing Mobile Telecommunications Cor...             6i   \n",
       "52253  Realme Chongqing Mobile Telecommunications Cor...             6i   \n",
       "52258  Realme Chongqing Mobile Telecommunications Cor...             6i   \n",
       "52263  Realme Chongqing Mobile Telecommunications Cor...             6i   \n",
       "52265  Realme Chongqing Mobile Telecommunications Cor...             6i   \n",
       "52268  Realme Chongqing Mobile Telecommunications Cor...             6i   \n",
       "52292  Realme Chongqing Mobile Telecommunications Cor...             6i   \n",
       "52330  Realme Chongqing Mobile Telecommunications Cor...             6i   \n",
       "52355  Realme Chongqing Mobile Telecommunications Cor...             6i   \n",
       "52361  Realme Chongqing Mobile Telecommunications Cor...             6i   \n",
       "52377  Realme Chongqing Mobile Telecommunications Cor...             6i   \n",
       "52382  Realme Chongqing Mobile Telecommunications Cor...             6i   \n",
       "52391  Realme Chongqing Mobile Telecommunications Cor...             6i   \n",
       "52445  Realme Chongqing Mobile Telecommunications Cor...             6i   \n",
       "52449  Realme Chongqing Mobile Telecommunications Cor...             6i   \n",
       "52470  Realme Chongqing Mobile Telecommunications Cor...             6i   \n",
       "52471  Realme Chongqing Mobile Telecommunications Cor...             6i   \n",
       "52474  Realme Chongqing Mobile Telecommunications Cor...             6i   \n",
       "52483  Realme Chongqing Mobile Telecommunications Cor...             6i   \n",
       "52491  Realme Chongqing Mobile Telecommunications Cor...             6i   \n",
       "52493  Realme Chongqing Mobile Telecommunications Cor...             6i   \n",
       "52536  Realme Chongqing Mobile Telecommunications Cor...             6i   \n",
       "52540  Realme Chongqing Mobile Telecommunications Cor...             6i   \n",
       "52561  Realme Chongqing Mobile Telecommunications Cor...             6i   \n",
       "52583  Realme Chongqing Mobile Telecommunications Cor...             6i   \n",
       "52602  Realme Chongqing Mobile Telecommunications Cor...             6i   \n",
       "52650  Realme Chongqing Mobile Telecommunications Cor...             6i   \n",
       "52655  Realme Chongqing Mobile Telecommunications Cor...             6i   \n",
       "52681  Realme Chongqing Mobile Telecommunications Cor...             6i   \n",
       "52683  Realme Chongqing Mobile Telecommunications Cor...             6i   \n",
       "52701  Realme Chongqing Mobile Telecommunications Cor...             6i   \n",
       "52709  Realme Chongqing Mobile Telecommunications Cor...             6i   \n",
       "52742  Realme Chongqing Mobile Telecommunications Cor...             6i   \n",
       "52748  Realme Chongqing Mobile Telecommunications Cor...             6i   \n",
       "52775  Realme Chongqing Mobile Telecommunications Cor...             6i   \n",
       "52804  Realme Chongqing Mobile Telecommunications Cor...             6i   \n",
       "52816  Realme Chongqing Mobile Telecommunications Cor...             6i   \n",
       "52817  Realme Chongqing Mobile Telecommunications Cor...             6i   \n",
       "52836  Realme Chongqing Mobile Telecommunications Cor...             6i   \n",
       "52853  Realme Chongqing Mobile Telecommunications Cor...             6i   \n",
       "52870  Realme Chongqing Mobile Telecommunications Cor...             6i   \n",
       "52915  Realme Chongqing Mobile Telecommunications Cor...             6i   \n",
       "52921  Realme Chongqing Mobile Telecommunications Cor...             6i   \n",
       "52927  Realme Chongqing Mobile Telecommunications Cor...             6i   \n",
       "\n",
       "                          url_host cpe_type_cd cpe_model_os_type    price  \\\n",
       "52200                    lenta.com  smartphone           Android  19990.0   \n",
       "52208          sun9-17.userapi.com  smartphone           Android  19990.0   \n",
       "52214                  i.ytimg.com  smartphone           Android  19990.0   \n",
       "52244       avatars.mds.yandex.net  smartphone           Android  19990.0   \n",
       "52253       ads.betweendigital.com  smartphone           Android  19990.0   \n",
       "52258                    yandex.ru  smartphone           Android  19990.0   \n",
       "52263                       vk.com  smartphone           Android  19990.0   \n",
       "52265                  i.ytimg.com  smartphone           Android  19990.0   \n",
       "52268           sun9-5.userapi.com  smartphone           Android  19990.0   \n",
       "52292          sun9-29.userapi.com  smartphone           Android  19990.0   \n",
       "52330          sun9-61.userapi.com  smartphone           Android  19990.0   \n",
       "52355          sun9-17.userapi.com  smartphone           Android  19990.0   \n",
       "52361       avatars.mds.yandex.net  smartphone           Android  19990.0   \n",
       "52377          sun9-77.userapi.com  smartphone           Android  19990.0   \n",
       "52382           sun9-5.userapi.com  smartphone           Android  19990.0   \n",
       "52391   securepayments.sberbank.ru  smartphone           Android  19990.0   \n",
       "52445          sun9-29.userapi.com  smartphone           Android  19990.0   \n",
       "52449                  i.ytimg.com  smartphone           Android  19990.0   \n",
       "52470  googleads.g.doubleclick.net  smartphone           Android  19990.0   \n",
       "52471          sun9-27.userapi.com  smartphone           Android  19990.0   \n",
       "52474                   ad.mail.ru  smartphone           Android  19990.0   \n",
       "52483           online.sberbank.ru  smartphone           Android  19990.0   \n",
       "52491                    yandex.ru  smartphone           Android  19990.0   \n",
       "52493                   ad.mail.ru  smartphone           Android  19990.0   \n",
       "52536  googleads.g.doubleclick.net  smartphone           Android  19990.0   \n",
       "52540                zen.yandex.ru  smartphone           Android  19990.0   \n",
       "52561                    yandex.ru  smartphone           Android  19990.0   \n",
       "52583                   google.com  smartphone           Android  19990.0   \n",
       "52602                online.vtb.ru  smartphone           Android  19990.0   \n",
       "52650                zen.yandex.ru  smartphone           Android  19990.0   \n",
       "52655          sun9-27.userapi.com  smartphone           Android  19990.0   \n",
       "52681       avatars.mds.yandex.net  smartphone           Android  19990.0   \n",
       "52683                online.vtb.ru  smartphone           Android  19990.0   \n",
       "52701          sun9-32.userapi.com  smartphone           Android  19990.0   \n",
       "52709                   o2.mail.ru  smartphone           Android  19990.0   \n",
       "52742    tpc.googlesyndication.com  smartphone           Android  19990.0   \n",
       "52748     node3.online.sberbank.ru  smartphone           Android  19990.0   \n",
       "52775                zen.yandex.ru  smartphone           Android  19990.0   \n",
       "52804  googleads.g.doubleclick.net  smartphone           Android  19990.0   \n",
       "52816                ad.adriver.ru  smartphone           Android  19990.0   \n",
       "52817                    lenta.com  smartphone           Android  19990.0   \n",
       "52836                       vk.com  smartphone           Android  19990.0   \n",
       "52853          sun9-61.userapi.com  smartphone           Android  19990.0   \n",
       "52870                   ad.mail.ru  smartphone           Android  19990.0   \n",
       "52915                  sberbank.ru  smartphone           Android  19990.0   \n",
       "52921          sun9-32.userapi.com  smartphone           Android  19990.0   \n",
       "52927                sbermarket.ru  smartphone           Android  19990.0   \n",
       "\n",
       "            date part_of_day  request_cnt  user_id part_of_day_str  \n",
       "52200 2021-06-16         day            1     1516             day  \n",
       "52208 2021-06-16         day            2     1516             day  \n",
       "52214 2021-06-16         day            5     1516             day  \n",
       "52244 2021-06-16         day            4     1516             day  \n",
       "52253 2021-06-16         day            2     1516             day  \n",
       "52258 2021-06-16         day            6     1516             day  \n",
       "52263 2021-06-16     morning            3     1516         morning  \n",
       "52265 2021-06-16     morning            3     1516         morning  \n",
       "52268 2021-06-16     morning            1     1516         morning  \n",
       "52292 2021-06-16     morning            2     1516         morning  \n",
       "52330 2021-06-16     morning            2     1516         morning  \n",
       "52355 2021-06-16     morning            1     1516         morning  \n",
       "52361 2021-06-16     evening            2     1516         evening  \n",
       "52377 2021-06-16         day            1     1516             day  \n",
       "52382 2021-06-16         day            2     1516             day  \n",
       "52391 2021-06-16         day            2     1516             day  \n",
       "52445 2021-06-16         day            2     1516             day  \n",
       "52449 2021-06-16     evening            2     1516         evening  \n",
       "52470 2021-06-16     morning            2     1516         morning  \n",
       "52471 2021-06-16     morning            2     1516         morning  \n",
       "52474 2021-06-16         day            4     1516             day  \n",
       "52483 2021-06-16         day            3     1516             day  \n",
       "52491 2021-06-16     morning            5     1516         morning  \n",
       "52493 2021-06-16     evening            2     1516         evening  \n",
       "52536 2021-06-16     evening            2     1516         evening  \n",
       "52540 2021-06-16         day            4     1516             day  \n",
       "52561 2021-06-16     evening            3     1516         evening  \n",
       "52583 2021-06-16         day            1     1516             day  \n",
       "52602 2021-06-16     morning            2     1516         morning  \n",
       "52650 2021-06-16     evening            2     1516         evening  \n",
       "52655 2021-06-16         day            2     1516             day  \n",
       "52681 2021-06-16     morning            4     1516         morning  \n",
       "52683 2021-06-16         day            4     1516             day  \n",
       "52701 2021-06-16         day            2     1516             day  \n",
       "52709 2021-06-16     morning            1     1516         morning  \n",
       "52742 2021-06-16     evening            2     1516         evening  \n",
       "52748 2021-06-16         day            3     1516             day  \n",
       "52775 2021-06-16     morning            4     1516         morning  \n",
       "52804 2021-06-16         day            4     1516             day  \n",
       "52816 2021-06-16     morning            1     1516         morning  \n",
       "52817 2021-06-16     morning            1     1516         morning  \n",
       "52836 2021-06-16         day            5     1516             day  \n",
       "52853 2021-06-16         day            1     1516             day  \n",
       "52870 2021-06-16     morning            5     1516         morning  \n",
       "52915 2021-06-16         day            2     1516             day  \n",
       "52921 2021-06-16     morning            1     1516         morning  \n",
       "52927 2021-06-16     morning            2     1516         morning  "
      ]
     },
     "execution_count": 37,
     "metadata": {},
     "output_type": "execute_result"
    }
   ],
   "source": [
    "sessions[(sessions[\"user_id\"] == 1516) & (sessions[\"date\"] == \"2021-06-16\")]"
   ]
  },
  {
   "cell_type": "code",
   "execution_count": 41,
   "id": "73bab6c4-84bf-4cc0-b182-b06fc24f8ecc",
   "metadata": {},
   "outputs": [],
   "source": [
    "sessions = sessions.drop(columns=\"part_of_day_str\")"
   ]
  },
  {
   "cell_type": "code",
   "execution_count": 42,
   "id": "8d1b5a3c-cd18-44c3-9ed1-68b6c291769f",
   "metadata": {},
   "outputs": [
    {
     "name": "stdout",
     "output_type": "stream",
     "text": [
      "<class 'pandas.core.frame.DataFrame'>\n",
      "RangeIndex: 322899435 entries, 0 to 322899434\n",
      "Data columns (total 12 columns):\n",
      " #   Column                 Dtype         \n",
      "---  ------                 -----         \n",
      " 0   region_name            category      \n",
      " 1   city_name              category      \n",
      " 2   cpe_manufacturer_name  category      \n",
      " 3   cpe_model_name         category      \n",
      " 4   url_host               category      \n",
      " 5   cpe_type_cd            category      \n",
      " 6   cpe_model_os_type      category      \n",
      " 7   price                  float32       \n",
      " 8   date                   datetime64[ns]\n",
      " 9   part_of_day            category      \n",
      " 10  request_cnt            uint8         \n",
      " 11  user_id                int32         \n",
      "dtypes: category(8), datetime64[ns](1), float32(1), int32(1), uint8(1)\n",
      "memory usage: 9.0 GB\n"
     ]
    }
   ],
   "source": [
    "sessions.info()"
   ]
  },
  {
   "cell_type": "code",
   "execution_count": null,
   "id": "644f42e5-9b0e-4064-aea2-dcebf7154b79",
   "metadata": {},
   "outputs": [],
   "source": [
    "%%time\n",
    "sessions = sessions.astype(\n",
    "    {\n",
    "        \"region_name\": \"str\",\n",
    "        \"city_name\": \"str\",\n",
    "        \"cpe_manufacturer_name\": \"str\",\n",
    "        \"cpe_model_name\": \"str\",\n",
    "        \"url_host\": \"str\",\n",
    "        \"cpe_type_cd\": \"str\",\n",
    "        \"cpe_model_os_type\": \"str\",\n",
    "        \"part_of_day\": \"str\",\n",
    "    }\n",
    ")"
   ]
  },
  {
   "cell_type": "code",
   "execution_count": null,
   "id": "7cb22024-8eba-4d6a-8bd7-010ad6b9516c",
   "metadata": {},
   "outputs": [],
   "source": []
  }
 ],
 "metadata": {
  "kernelspec": {
   "display_name": "Python (mts-ml-cup)",
   "language": "python",
   "name": "mts-ml-cup"
  },
  "language_info": {
   "codemirror_mode": {
    "name": "ipython",
    "version": 3
   },
   "file_extension": ".py",
   "mimetype": "text/x-python",
   "name": "python",
   "nbconvert_exporter": "python",
   "pygments_lexer": "ipython3",
   "version": "3.8.10"
  }
 },
 "nbformat": 4,
 "nbformat_minor": 5
}
