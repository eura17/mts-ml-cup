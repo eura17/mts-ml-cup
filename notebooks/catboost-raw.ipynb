{
 "cells": [
  {
   "cell_type": "code",
   "execution_count": 1,
   "id": "382bafbf-f932-48b4-b35f-123c63ef3e3d",
   "metadata": {},
   "outputs": [],
   "source": [
    "%load_ext autoreload\n",
    "%autoreload 2\n",
    "\n",
    "from __future__ import annotations\n",
    "\n",
    "import os\n",
    "from functools import partial\n",
    "from typing import Optional\n",
    "\n",
    "import catboost\n",
    "import numpy as np\n",
    "import pandas as pd\n",
    "import polars as pl\n",
    "from tqdm import tqdm\n",
    "\n",
    "from mts_ml_cup.modeling import catboost as cb\n",
    "from mts_ml_cup.preprocessing import urls as u"
   ]
  },
  {
   "cell_type": "markdown",
   "id": "34f25210-47a6-4ad3-8d08-bb8ca8b45b88",
   "metadata": {
    "jp-MarkdownHeadingCollapsed": true,
    "tags": []
   },
   "source": [
    "# Подготовка"
   ]
  },
  {
   "cell_type": "code",
   "execution_count": 2,
   "id": "987ecd96-389a-4542-a4fb-27c811dedcf4",
   "metadata": {},
   "outputs": [
    {
     "name": "stdout",
     "output_type": "stream",
     "text": [
      "CPU times: user 32.6 ms, sys: 20.5 ms, total: 53.1 ms\n",
      "Wall time: 21.3 ms\n"
     ]
    }
   ],
   "source": [
    "%%time\n",
    "train = pl.read_parquet(\"../data/processed/train.pq\")\n",
    "test = pl.read_parquet(\"../data/processed/test.pq\")"
   ]
  },
  {
   "cell_type": "code",
   "execution_count": 5,
   "id": "38973b2c-3de2-44ac-86db-20ec100e4ab3",
   "metadata": {},
   "outputs": [
    {
     "name": "stdout",
     "output_type": "stream",
     "text": [
      "CPU times: user 3min 24s, sys: 1min 56s, total: 5min 20s\n",
      "Wall time: 47.5 s\n"
     ]
    }
   ],
   "source": [
    "%%time\n",
    "url_cleaner = partial(\n",
    "    u.clean_url,\n",
    "    preprocessors=[\n",
    "        u.decode_from_punycode,\n",
    "        u.lower,\n",
    "        u.replace_hyphens_with_dots,\n",
    "    ],\n",
    ")\n",
    "\n",
    "sessions = pl.read_parquet(\"../data/processed/sessions.pq\")\n",
    "sessions = (\n",
    "    sessions\n",
    "    .join(\n",
    "        other=sessions\n",
    "            .select(\"url_host\")\n",
    "            .unique()\n",
    "            .with_columns(pl.col(\"url_host\").apply(url_cleaner).alias(\"url_cleaned\")),\n",
    "        on=\"url_host\",\n",
    "        how=\"left\",\n",
    "    )\n",
    "    .select(pl.exclude(\"url_host\"))\n",
    "    .with_columns(pl.col(\"url_cleaned\").alias(\"url_host\"))\n",
    ")"
   ]
  },
  {
   "cell_type": "code",
   "execution_count": 6,
   "id": "d49e73bc-b1f0-48a5-8f3b-d26b2c3d76c9",
   "metadata": {},
   "outputs": [
    {
     "name": "stdout",
     "output_type": "stream",
     "text": [
      "CPU times: user 2min 51s, sys: 10min 53s, total: 13min 44s\n",
      "Wall time: 39.9 s\n"
     ]
    }
   ],
   "source": [
    "%%time\n",
    "sessions = (\n",
    "    sessions\n",
    "    .join(\n",
    "        other=sessions\n",
    "        .select(\"url_host\")\n",
    "        .unique()\n",
    "        .with_row_count()\n",
    "        .select([\"url_host\", pl.col(\"row_nr\").alias(\"url_id\")]),\n",
    "        how=\"left\",\n",
    "        on=\"url_host\",\n",
    "    )\n",
    "    .join(\n",
    "        other=sessions\n",
    "        .select(\"date\")\n",
    "        .unique()\n",
    "        .with_row_count()\n",
    "        .select([\"date\", pl.col(\"row_nr\").alias(\"date_id\")]),\n",
    "        how=\"left\",\n",
    "        on=\"date\",\n",
    "    )\n",
    ")"
   ]
  },
  {
   "cell_type": "code",
   "execution_count": 9,
   "id": "939c1f15-487d-44e3-8bac-b5b205e7cfa9",
   "metadata": {},
   "outputs": [
    {
     "name": "stdout",
     "output_type": "stream",
     "text": [
      "CPU times: user 1min 46s, sys: 2min 20s, total: 4min 7s\n",
      "Wall time: 1min 31s\n"
     ]
    }
   ],
   "source": [
    "%%time\n",
    "(\n",
    "    sessions\n",
    "    .join(train.with_columns(pl.lit(True).alias(\"is_train\")), how=\"left\", on=\"user_id\")\n",
    "    .filter(pl.col(\"is_train\"))\n",
    "    .select(pl.exclude(\"is_train\"))\n",
    "    .filter(pl.col(\"is_male\").is_not_null() & pl.col(\"age_bucket\").is_not_null())\n",
    "    .with_columns(pl.col(\"age_bucket\").clip_min(1))\n",
    ").write_parquet(\"../data/len1/train.pq\")"
   ]
  },
  {
   "cell_type": "code",
   "execution_count": 10,
   "id": "44ed16bb-9a3c-41fb-a1eb-13c6bf4820f5",
   "metadata": {},
   "outputs": [
    {
     "name": "stdout",
     "output_type": "stream",
     "text": [
      "CPU times: user 51.6 s, sys: 43.6 s, total: 1min 35s\n",
      "Wall time: 43.5 s\n"
     ]
    }
   ],
   "source": [
    "%%time\n",
    "(\n",
    "    sessions\n",
    "    .join(test.with_columns(pl.lit(True).alias(\"is_test\")), how=\"left\", on=\"user_id\")\n",
    "    .filter(pl.col(\"is_test\"))\n",
    "    .select(pl.exclude(\"is_test\"))\n",
    ").write_parquet(\"../data/len1/test.pq\")"
   ]
  },
  {
   "cell_type": "markdown",
   "id": "21735bd3-dd1e-489e-86b7-50d35050ae12",
   "metadata": {
    "tags": []
   },
   "source": [
    "# Нарезание фолдов"
   ]
  },
  {
   "cell_type": "code",
   "execution_count": 2,
   "id": "14677fe6-cfef-4a6e-9646-76a01546294d",
   "metadata": {},
   "outputs": [
    {
     "name": "stdout",
     "output_type": "stream",
     "text": [
      "CPU times: user 21.4 s, sys: 4.14 s, total: 25.5 s\n",
      "Wall time: 3.11 s\n"
     ]
    }
   ],
   "source": [
    "%%time\n",
    "train = pl.read_parquet(\n",
    "    \"../data/len1/train.pq\",\n",
    "    columns=[\n",
    "        \"region_id\", \"city_id\",\n",
    "        \"manufacturer_id\", \"model_id\", \"type_id\", \"os_id\", \"price\",\n",
    "        \"date_id\", \"part_of_day_id\", \"request_cnt\", \"url_id\",\n",
    "        \"user_id\", \"is_male\", \"age_bucket\",\n",
    "    ]\n",
    ")"
   ]
  },
  {
   "cell_type": "markdown",
   "id": "e945ea69-db1e-4691-8c39-a4c42f1d7685",
   "metadata": {
    "jp-MarkdownHeadingCollapsed": true,
    "tags": []
   },
   "source": [
    "## kfold"
   ]
  },
  {
   "cell_type": "code",
   "execution_count": 3,
   "id": "7f4ea495-04cc-432d-bfb6-8e6f4f534bd7",
   "metadata": {},
   "outputs": [],
   "source": [
    "train_short = (\n",
    "    train\n",
    "    .groupby(\n",
    "        [\n",
    "            \"region_id\", \"city_id\", \n",
    "            \"manufacturer_id\", \"model_id\", \"type_id\", \"os_id\",\n",
    "            \"url_id\",\n",
    "            \"is_male\", \"age_bucket\"\n",
    "        ]\n",
    "    )\n",
    "    .agg([pl.col(\"price\").mean(), pl.col(\"user_id\").n_unique().alias(\"n_users\")])\n",
    ")"
   ]
  },
  {
   "cell_type": "code",
   "execution_count": 6,
   "id": "706ab9c0-3874-43e0-b0a6-9306d8f9b8e1",
   "metadata": {},
   "outputs": [],
   "source": [
    "from sklearn.model_selection import KFold\n",
    "\n",
    "def kfold_split(x: pl.DataFrame, n_splits: int = 5) -> Generator:\n",
    "    return KFold(n_splits=n_splits, shuffle=True, random_state=777).split(x)"
   ]
  },
  {
   "cell_type": "code",
   "execution_count": 8,
   "id": "87863f39-ef91-4d15-afbb-cc09f8eb76d1",
   "metadata": {},
   "outputs": [
    {
     "name": "stderr",
     "output_type": "stream",
     "text": [
      "5it [00:28,  5.67s/it]\n"
     ]
    }
   ],
   "source": [
    "for i, (train_idx, val_idx) in tqdm(enumerate(kfold_split(train_short))):\n",
    "    (\n",
    "        train_short[train_idx]\n",
    "        .with_columns((pl.col(\"n_users\") / pl.col(\"n_users\").sum() * pl.col(\"n_users\").count()).alias(\"weight\"))\n",
    "        .write_parquet(f\"../data/len1/folds-k/{i}/train.pq\")\n",
    "    )\n",
    "    (\n",
    "        train_short[val_idx]\n",
    "        .with_columns((pl.col(\"n_users\") / pl.col(\"n_users\").sum() * pl.col(\"n_users\").count()).alias(\"weight\"))\n",
    "        .write_parquet(f\"../data/len1/folds-k/{i}/val.pq\")\n",
    "    )"
   ]
  },
  {
   "cell_type": "markdown",
   "id": "672058b7-389c-4cbf-981c-cc7cb8f8f9db",
   "metadata": {
    "jp-MarkdownHeadingCollapsed": true,
    "tags": []
   },
   "source": [
    "## fold by user"
   ]
  },
  {
   "cell_type": "code",
   "execution_count": 6,
   "id": "d6f0567d-feca-4686-8f2c-79f3902e0051",
   "metadata": {},
   "outputs": [],
   "source": [
    "folds = pd.read_csv(\"../data/processed/folds.csv\")"
   ]
  },
  {
   "cell_type": "code",
   "execution_count": 10,
   "id": "99917fa5-65a0-44af-9833-cc31c4e3b3d7",
   "metadata": {},
   "outputs": [
    {
     "name": "stderr",
     "output_type": "stream",
     "text": [
      "100%|█████████████████████████████████████████████| 5/5 [02:19<00:00, 27.80s/it]\n"
     ]
    }
   ],
   "source": [
    "for i in tqdm(range(5)):\n",
    "    train_users = folds.loc[folds[f\"fold_{i}_tr\"] == 1, \"user_id\"].tolist()\n",
    "    val_users = folds.loc[folds[f\"fold_{i}_va\"] == 1, \"user_id\"].tolist()\n",
    "    \n",
    "    train.filter(pl.col(\"user_id\").is_in(train_users)).write_parquet(f\"../data/len1/folds/{i}/train.pq\")\n",
    "    train.filter(pl.col(\"user_id\").is_in(val_users)).write_parquet(f\"../data/len1/folds/{i}/val.pq\")"
   ]
  },
  {
   "cell_type": "markdown",
   "id": "54219909-37dd-4926-98d4-6e22c51fd51a",
   "metadata": {
    "tags": []
   },
   "source": [
    "### Подготовка фолдов к обучению"
   ]
  },
  {
   "cell_type": "code",
   "execution_count": 5,
   "id": "a9ef31b5-b5ab-4483-9138-66a1f5ab8bdc",
   "metadata": {},
   "outputs": [
    {
     "name": "stderr",
     "output_type": "stream",
     "text": [
      "100%|█████████████████████████████████████████████| 5/5 [03:03<00:00, 36.64s/it]\n"
     ]
    }
   ],
   "source": [
    "for fold in tqdm(range(5)):\n",
    "    train = pl.read_parquet(\n",
    "        f\"../data/len1/folds/{fold}/train.pq\",\n",
    "        columns=[\n",
    "            \"region_id\", \"city_id\",\n",
    "            \"manufacturer_id\", \"model_id\", \"type_id\", \"os_id\", \"price\",\n",
    "            \"url_id\",\n",
    "            \"user_id\", \"is_male\", \"age_bucket\",\n",
    "        ]\n",
    "    )\n",
    "    val = pl.read_parquet(\n",
    "        f\"../data/len1/folds/{fold}/val.pq\",\n",
    "        columns=[\n",
    "            \"region_id\", \"city_id\",\n",
    "            \"manufacturer_id\", \"model_id\", \"type_id\", \"os_id\", \"price\",\n",
    "            \"url_id\",\n",
    "            \"user_id\", \"is_male\", \"age_bucket\",\n",
    "        ]\n",
    "    )\n",
    "    \n",
    "    train_sex = (\n",
    "        train\n",
    "        .select(\n",
    "            [\n",
    "                \"region_id\", \"city_id\", \n",
    "                \"manufacturer_id\", \"model_id\", \"type_id\", \"os_id\", \"price\",\n",
    "                \"url_id\",\n",
    "                \"user_id\", \"is_male\", \"age_bucket\",\n",
    "            ]\n",
    "        )\n",
    "        .unique()\n",
    "    )\n",
    "    val_sex = (\n",
    "        val\n",
    "        .select(\n",
    "            [\n",
    "                \"region_id\", \"city_id\", \n",
    "                \"manufacturer_id\", \"model_id\", \"type_id\", \"os_id\", \"price\",\n",
    "                \"url_id\",\n",
    "                \"user_id\", \"is_male\", \"age_bucket\",\n",
    "            ]\n",
    "        )\n",
    "        .unique()\n",
    "    )\n",
    "    \n",
    "    train_age = (\n",
    "        train\n",
    "        .select(\n",
    "            [\n",
    "                \"region_id\", \"city_id\", \n",
    "                \"manufacturer_id\", \"model_id\", \"type_id\", \"os_id\", \"price\",\n",
    "                \"url_id\",\n",
    "                \"user_id\", \"is_male\", \"age_bucket\",\n",
    "            ]\n",
    "        )\n",
    "        .unique()\n",
    "    )\n",
    "    val_age = (\n",
    "        val\n",
    "        .select(\n",
    "            [\n",
    "                \"region_id\", \"city_id\", \n",
    "                \"manufacturer_id\", \"model_id\", \"type_id\", \"os_id\", \"price\",\n",
    "                \"url_id\",\n",
    "                \"user_id\", \"is_male\", \"age_bucket\",\n",
    "            ]\n",
    "        )\n",
    "        .unique()\n",
    "    )\n",
    "    \n",
    "    train_sex.write_parquet(f\"../data/len1/folds-short/{fold}/train-sex.pq\")\n",
    "    val_sex.write_parquet(f\"../data/len1/folds-short/{fold}/val-sex.pq\")\n",
    "    \n",
    "    train_age.write_parquet(f\"../data/len1/folds-short/{fold}/train-age.pq\")\n",
    "    val_age.write_parquet(f\"../data/len1/folds-short/{fold}/val-age.pq\")"
   ]
  },
  {
   "cell_type": "markdown",
   "id": "426e90ba-beef-4884-b83f-b824df565e96",
   "metadata": {},
   "source": [
    "# Обучение"
   ]
  },
  {
   "cell_type": "code",
   "execution_count": 2,
   "id": "931f30ab-4d3c-41d0-8839-b20c6c2b71ce",
   "metadata": {},
   "outputs": [],
   "source": [
    "def fit(fold: int = 0) -> None:\n",
    "    cat_features = [\n",
    "        \"region_id\", \"city_id\",\n",
    "        \"manufacturer_id\", \"model_id\", \"type_id\", \"os_id\",\n",
    "        \"url_id\",\n",
    "    ]\n",
    "    num_features = [\"price\"]\n",
    "    \n",
    "    train = pd.read_parquet(\n",
    "        f\"../data/len1/folds-k/{fold}/train.pq\",\n",
    "        columns=cat_features + num_features + [\"is_male\", \"age_bucket\", \"weight\"],\n",
    "    )\n",
    "    val = pd.read_parquet(\n",
    "        f\"../data/len1/folds-k/{fold}/val.pq\",\n",
    "        columns=cat_features + num_features + [\"is_male\", \"age_bucket\", \"weight\"],\n",
    "    )\n",
    "    \n",
    "    x_train = train.loc[:, cat_features + num_features]\n",
    "    x_val = val.loc[:, cat_features + num_features]\n",
    "    \n",
    "    sex_model = catboost.CatBoostClassifier(\n",
    "        loss_function=\"Logloss\",\n",
    "        eval_metric=\"Logloss\",\n",
    "        iterations=1_000,\n",
    "        early_stopping_rounds=20,\n",
    "        random_seed=777,\n",
    "    )\n",
    "    sex_model.fit(\n",
    "        catboost.Pool(\n",
    "            data=x_train,\n",
    "            label=train[\"is_male\"],\n",
    "            cat_features=cat_features,\n",
    "            weight=train[\"weight\"],\n",
    "        ),\n",
    "        eval_set=catboost.Pool(\n",
    "            data=x_val,\n",
    "            label=val[\"is_male\"],\n",
    "            cat_features=cat_features,\n",
    "            weight=val[\"weight\"],\n",
    "        ),\n",
    "        verbose=20,\n",
    "    )\n",
    "    sex_model.save_model(f\"../data/len1/models/{fold}/sex.cbm\")\n",
    "    print(pd.Series(sex_model.feature_importances_, index=sex_model.feature_names_).sort_values(ascending=False))\n",
    "    \n",
    "    age_model = catboost.CatBoostClassifier(\n",
    "        loss_function=\"MultiClass\",\n",
    "        eval_metric=\"MultiClass\",\n",
    "        iterations=1_000,\n",
    "        early_stopping_rounds=20,\n",
    "        random_seed=777,\n",
    "    )\n",
    "    age_model.fit(\n",
    "        catboost.Pool(\n",
    "            data=x_train,\n",
    "            label=train[\"age_bucket\"],\n",
    "            cat_features=cat_features,\n",
    "            weight=train[\"weight\"],\n",
    "        ),\n",
    "        eval_set=catboost.Pool(\n",
    "            data=x_val,\n",
    "            label=val[\"age_bucket\"],\n",
    "            cat_features=cat_features,\n",
    "            weight=val[\"weight\"],\n",
    "        ),\n",
    "        verbose=20,\n",
    "    )\n",
    "    age_model.save_model(f\"../data/len1/models/{fold}/age.cbm\")\n",
    "    print(pd.Series(age_model.feature_importances_, index=age_model.feature_names_).sort_values(ascending=False))"
   ]
  },
  {
   "cell_type": "code",
   "execution_count": null,
   "id": "72fb7104-b167-4d8d-8113-1b8454fa64ae",
   "metadata": {},
   "outputs": [
    {
     "name": "stdout",
     "output_type": "stream",
     "text": [
      "Learning rate set to 0.330432\n",
      "0:\tlearn: 0.6452697\ttest: 0.6432581\tbest: 0.6432581 (0)\ttotal: 9.81s\tremaining: 2h 43m 25s\n",
      "20:\tlearn: 0.5551090\ttest: 0.5107918\tbest: 0.5107918 (20)\ttotal: 2m 34s\tremaining: 2h 16s\n",
      "40:\tlearn: 0.5404688\ttest: 0.4953117\tbest: 0.4953117 (40)\ttotal: 5m 33s\tremaining: 2h 10m 5s\n",
      "60:\tlearn: 0.5329458\ttest: 0.4873856\tbest: 0.4873856 (60)\ttotal: 7m 58s\tremaining: 2h 2m 44s\n",
      "80:\tlearn: 0.5280933\ttest: 0.4815460\tbest: 0.4815460 (80)\ttotal: 10m 54s\tremaining: 2h 3m 47s\n",
      "100:\tlearn: 0.5226146\ttest: 0.4761456\tbest: 0.4761456 (100)\ttotal: 13m 20s\tremaining: 1h 58m 46s\n",
      "120:\tlearn: 0.5176886\ttest: 0.4709931\tbest: 0.4709931 (120)\ttotal: 15m 56s\tremaining: 1h 55m 48s\n",
      "140:\tlearn: 0.5085624\ttest: 0.4612203\tbest: 0.4612203 (140)\ttotal: 18m 36s\tremaining: 1h 53m 19s\n",
      "160:\tlearn: 0.5050536\ttest: 0.4578019\tbest: 0.4578019 (160)\ttotal: 21m 34s\tremaining: 1h 52m 24s\n",
      "180:\tlearn: 0.5035963\ttest: 0.4559925\tbest: 0.4559925 (180)\ttotal: 24m 12s\tremaining: 1h 49m 33s\n",
      "200:\tlearn: 0.4987559\ttest: 0.4512935\tbest: 0.4512935 (200)\ttotal: 26m 44s\tremaining: 1h 46m 18s\n",
      "220:\tlearn: 0.4959709\ttest: 0.4484322\tbest: 0.4484322 (220)\ttotal: 29m 29s\tremaining: 1h 43m 57s\n",
      "240:\tlearn: 0.4927736\ttest: 0.4454441\tbest: 0.4454441 (240)\ttotal: 32m 6s\tremaining: 1h 41m 8s\n",
      "260:\tlearn: 0.4901161\ttest: 0.4430262\tbest: 0.4430250 (259)\ttotal: 34m 55s\tremaining: 1h 38m 52s\n",
      "280:\tlearn: 0.4868652\ttest: 0.4399330\tbest: 0.4399330 (280)\ttotal: 37m 39s\tremaining: 1h 36m 22s\n",
      "300:\tlearn: 0.4857607\ttest: 0.4389854\tbest: 0.4389854 (300)\ttotal: 40m 11s\tremaining: 1h 33m 19s\n",
      "320:\tlearn: 0.4836708\ttest: 0.4371092\tbest: 0.4371092 (320)\ttotal: 42m 48s\tremaining: 1h 30m 33s\n",
      "340:\tlearn: 0.4806336\ttest: 0.4340990\tbest: 0.4340990 (340)\ttotal: 45m 20s\tremaining: 1h 27m 36s\n",
      "360:\tlearn: 0.4785081\ttest: 0.4320954\tbest: 0.4320954 (360)\ttotal: 48m 16s\tremaining: 1h 25m 26s\n",
      "380:\tlearn: 0.4756214\ttest: 0.4292916\tbest: 0.4292916 (380)\ttotal: 50m 57s\tremaining: 1h 22m 47s\n",
      "400:\tlearn: 0.4741590\ttest: 0.4279804\tbest: 0.4279804 (400)\ttotal: 53m 28s\tremaining: 1h 19m 52s\n",
      "420:\tlearn: 0.4729595\ttest: 0.4268371\tbest: 0.4268371 (420)\ttotal: 56m 20s\tremaining: 1h 17m 28s\n",
      "440:\tlearn: 0.4713873\ttest: 0.4252377\tbest: 0.4252377 (440)\ttotal: 59m 9s\tremaining: 1h 14m 59s\n",
      "460:\tlearn: 0.4697483\ttest: 0.4236688\tbest: 0.4236688 (460)\ttotal: 1h 1m 48s\tremaining: 1h 12m 15s\n",
      "480:\tlearn: 0.4667531\ttest: 0.4206961\tbest: 0.4206961 (480)\ttotal: 1h 4m 35s\tremaining: 1h 9m 41s\n",
      "500:\tlearn: 0.4651214\ttest: 0.4191042\tbest: 0.4191042 (500)\ttotal: 1h 7m 24s\tremaining: 1h 7m 8s\n",
      "520:\tlearn: 0.4638032\ttest: 0.4178193\tbest: 0.4178193 (520)\ttotal: 1h 10m 4s\tremaining: 1h 4m 25s\n",
      "540:\tlearn: 0.4625747\ttest: 0.4167176\tbest: 0.4167176 (540)\ttotal: 1h 12m 40s\tremaining: 1h 1m 39s\n",
      "560:\tlearn: 0.4597813\ttest: 0.4139920\tbest: 0.4139920 (560)\ttotal: 1h 15m 27s\tremaining: 59m 2s\n",
      "580:\tlearn: 0.4586015\ttest: 0.4128874\tbest: 0.4128874 (580)\ttotal: 1h 18m 5s\tremaining: 56m 19s\n",
      "600:\tlearn: 0.4570557\ttest: 0.4115125\tbest: 0.4115125 (600)\ttotal: 1h 21m 1s\tremaining: 53m 47s\n",
      "620:\tlearn: 0.4557592\ttest: 0.4102399\tbest: 0.4102399 (620)\ttotal: 1h 24m 4s\tremaining: 51m 18s\n",
      "640:\tlearn: 0.4543245\ttest: 0.4088587\tbest: 0.4088587 (640)\ttotal: 1h 26m 52s\tremaining: 48m 39s\n",
      "660:\tlearn: 0.4534907\ttest: 0.4080715\tbest: 0.4080715 (660)\ttotal: 1h 29m 27s\tremaining: 45m 52s\n",
      "680:\tlearn: 0.4524208\ttest: 0.4070274\tbest: 0.4070274 (680)\ttotal: 1h 32m 9s\tremaining: 43m 10s\n",
      "700:\tlearn: 0.4515667\ttest: 0.4063131\tbest: 0.4062887 (698)\ttotal: 1h 34m 59s\tremaining: 40m 30s\n",
      "720:\tlearn: 0.4509392\ttest: 0.4056780\tbest: 0.4056780 (720)\ttotal: 1h 37m 38s\tremaining: 37m 47s\n",
      "740:\tlearn: 0.4506055\ttest: 0.4054946\tbest: 0.4054929 (736)\ttotal: 1h 40m 15s\tremaining: 35m 2s\n",
      "760:\tlearn: 0.4497015\ttest: 0.4047317\tbest: 0.4047214 (759)\ttotal: 1h 43m 30s\tremaining: 32m 30s\n",
      "780:\tlearn: 0.4486429\ttest: 0.4038001\tbest: 0.4038001 (780)\ttotal: 1h 46m 4s\tremaining: 29m 44s\n",
      "800:\tlearn: 0.4480737\ttest: 0.4032132\tbest: 0.4032132 (800)\ttotal: 1h 48m 45s\tremaining: 27m 1s\n",
      "820:\tlearn: 0.4470620\ttest: 0.4022751\tbest: 0.4022751 (820)\ttotal: 1h 51m 35s\tremaining: 24m 19s\n",
      "840:\tlearn: 0.4459834\ttest: 0.4012477\tbest: 0.4012374 (838)\ttotal: 1h 54m 41s\tremaining: 21m 41s\n",
      "860:\tlearn: 0.4451870\ttest: 0.4005447\tbest: 0.4005447 (860)\ttotal: 1h 57m 15s\tremaining: 18m 55s\n",
      "880:\tlearn: 0.4440832\ttest: 0.3995180\tbest: 0.3995180 (880)\ttotal: 2h 2s\tremaining: 16m 12s\n",
      "900:\tlearn: 0.4434122\ttest: 0.3988162\tbest: 0.3988162 (900)\ttotal: 2h 2m 55s\tremaining: 13m 30s\n",
      "920:\tlearn: 0.4427715\ttest: 0.3982430\tbest: 0.3982417 (919)\ttotal: 2h 5m 42s\tremaining: 10m 46s\n",
      "940:\tlearn: 0.4425441\ttest: 0.3981012\tbest: 0.3981012 (940)\ttotal: 2h 7m 41s\tremaining: 8m\n",
      "960:\tlearn: 0.4421261\ttest: 0.3978063\tbest: 0.3978050 (957)\ttotal: 2h 10m 20s\tremaining: 5m 17s\n",
      "980:\tlearn: 0.4416787\ttest: 0.3974600\tbest: 0.3974595 (979)\ttotal: 2h 13m 28s\tremaining: 2m 35s\n",
      "999:\tlearn: 0.4412538\ttest: 0.3971174\tbest: 0.3971072 (993)\ttotal: 2h 15m 41s\tremaining: 0us\n",
      "\n",
      "bestTest = 0.3971071951\n",
      "bestIteration = 993\n",
      "\n",
      "Shrink model to first 994 iterations.\n",
      "price              45.958614\n",
      "model_id           22.808694\n",
      "city_id            20.259212\n",
      "url_id              6.663603\n",
      "region_id           1.371789\n",
      "manufacturer_id     1.306214\n",
      "type_id             0.976310\n",
      "os_id               0.655563\n",
      "dtype: float64\n",
      "Learning rate set to 0.130548\n",
      "0:\tlearn: 1.6806811\ttest: 1.6790985\tbest: 1.6790985 (0)\ttotal: 18.6s\tremaining: 5h 9m 45s\n",
      "20:\tlearn: 1.2676541\ttest: 1.2427572\tbest: 1.2427572 (20)\ttotal: 5m 35s\tremaining: 4h 20m 45s\n",
      "40:\tlearn: 1.2197860\ttest: 1.1810180\tbest: 1.1810180 (40)\ttotal: 11m 52s\tremaining: 4h 37m 39s\n",
      "60:\tlearn: 1.1741964\ttest: 1.0850163\tbest: 1.0850163 (60)\ttotal: 17m 16s\tremaining: 4h 26m 2s\n",
      "80:\tlearn: 1.1513783\ttest: 1.0515604\tbest: 1.0515604 (80)\ttotal: 23m 39s\tremaining: 4h 28m 25s\n",
      "100:\tlearn: 1.1314207\ttest: 1.0150788\tbest: 1.0150788 (100)\ttotal: 29m 55s\tremaining: 4h 26m 24s\n",
      "120:\tlearn: 1.1179457\ttest: 0.9896792\tbest: 0.9896792 (120)\ttotal: 35m 53s\tremaining: 4h 20m 46s\n",
      "140:\tlearn: 1.1068350\ttest: 0.9712125\tbest: 0.9712125 (140)\ttotal: 42m 19s\tremaining: 4h 17m 52s\n",
      "160:\tlearn: 1.0962030\ttest: 0.9579975\tbest: 0.9579975 (160)\ttotal: 48m 56s\tremaining: 4h 15m 3s\n",
      "180:\tlearn: 1.0877256\ttest: 0.9411789\tbest: 0.9411789 (180)\ttotal: 55m 7s\tremaining: 4h 9m 26s\n",
      "200:\tlearn: 1.0803079\ttest: 0.9284282\tbest: 0.9284282 (200)\ttotal: 1h 1m 4s\tremaining: 4h 2m 44s\n",
      "220:\tlearn: 1.0753419\ttest: 0.9201765\tbest: 0.9201765 (220)\ttotal: 1h 7m 20s\tremaining: 3h 57m 21s\n",
      "240:\tlearn: 1.0683594\ttest: 0.9129561\tbest: 0.9129561 (240)\ttotal: 1h 13m 45s\tremaining: 3h 52m 18s\n",
      "260:\tlearn: 1.0626942\ttest: 0.9055058\tbest: 0.9055058 (260)\ttotal: 1h 20m 30s\tremaining: 3h 47m 56s\n",
      "280:\tlearn: 1.0590653\ttest: 0.8988218\tbest: 0.8988218 (280)\ttotal: 1h 26m 49s\tremaining: 3h 42m 9s\n",
      "300:\tlearn: 1.0552236\ttest: 0.8937185\tbest: 0.8937185 (300)\ttotal: 1h 33m 21s\tremaining: 3h 36m 47s\n",
      "320:\tlearn: 1.0525550\ttest: 0.8907941\tbest: 0.8907941 (320)\ttotal: 1h 39m 50s\tremaining: 3h 31m 12s\n",
      "340:\tlearn: 1.0498268\ttest: 0.8880257\tbest: 0.8880257 (340)\ttotal: 1h 46m 31s\tremaining: 3h 25m 52s\n",
      "360:\tlearn: 1.0463386\ttest: 0.8832728\tbest: 0.8832728 (360)\ttotal: 1h 53m 7s\tremaining: 3h 20m 14s\n",
      "380:\tlearn: 1.0431521\ttest: 0.8803362\tbest: 0.8803362 (380)\ttotal: 1h 59m 25s\tremaining: 3h 14m 2s\n",
      "400:\tlearn: 1.0402611\ttest: 0.8775119\tbest: 0.8775119 (400)\ttotal: 2h 6m 4s\tremaining: 3h 8m 19s\n",
      "420:\tlearn: 1.0378859\ttest: 0.8736502\tbest: 0.8736502 (420)\ttotal: 2h 12m 24s\tremaining: 3h 2m 5s\n",
      "440:\tlearn: 1.0348581\ttest: 0.8695308\tbest: 0.8695308 (440)\ttotal: 2h 18m 54s\tremaining: 2h 56m 4s\n"
     ]
    }
   ],
   "source": [
    "for fold in range(5):\n",
    "    fit(fold)"
   ]
  },
  {
   "cell_type": "code",
   "execution_count": null,
   "id": "22c40939-c446-43eb-9071-17dcf6281a20",
   "metadata": {},
   "outputs": [],
   "source": []
  }
 ],
 "metadata": {
  "kernelspec": {
   "display_name": "Python (mts-ml-cup)",
   "language": "python",
   "name": "mts-ml-cup"
  },
  "language_info": {
   "codemirror_mode": {
    "name": "ipython",
    "version": 3
   },
   "file_extension": ".py",
   "mimetype": "text/x-python",
   "name": "python",
   "nbconvert_exporter": "python",
   "pygments_lexer": "ipython3",
   "version": "3.8.10"
  }
 },
 "nbformat": 4,
 "nbformat_minor": 5
}
