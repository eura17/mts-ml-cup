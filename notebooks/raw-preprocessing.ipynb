{
 "cells": [
  {
   "cell_type": "code",
   "execution_count": 1,
   "id": "280d4e8b-8e7d-4ac8-829d-61c61858f479",
   "metadata": {},
   "outputs": [],
   "source": [
    "%load_ext autoreload\n",
    "%autoreload 2"
   ]
  },
  {
   "cell_type": "code",
   "execution_count": 2,
   "id": "07bc4c0b-babf-407f-9a60-658f16ece620",
   "metadata": {},
   "outputs": [],
   "source": [
    "import functools as ft\n",
    "import os\n",
    "\n",
    "import joblib as jbl\n",
    "import pandas as pd\n",
    "import polars as pl\n",
    "from tqdm import tqdm\n",
    "\n",
    "from mts_ml_cup import preprocessing as prep"
   ]
  },
  {
   "cell_type": "markdown",
   "id": "ea1f37ee-2111-42ae-b717-e1d6688725cf",
   "metadata": {},
   "source": [
    "# Подготовка маппингов"
   ]
  },
  {
   "cell_type": "code",
   "execution_count": 3,
   "id": "1ac64ea0-9763-4845-a37d-6a778f4a3c7a",
   "metadata": {},
   "outputs": [
    {
     "name": "stderr",
     "output_type": "stream",
     "text": [
      "100%|███████████████████████████████████████████| 11/11 [01:41<00:00,  9.25s/it]\n"
     ]
    }
   ],
   "source": [
    "regions = set()\n",
    "cities = set()\n",
    "manufacturers = set()\n",
    "models = set()\n",
    "oss = set()\n",
    "parts_of_day = set()\n",
    "\n",
    "parts_path = \"../data/raw/competition_data_final_pqt/\"\n",
    "for p in tqdm(os.listdir(parts_path)):\n",
    "    if not p.endswith(\".parquet\"):\n",
    "        continue\n",
    "    part = (\n",
    "        pl.read_parquet(os.path.join(parts_path, p))\n",
    "        .with_columns(\n",
    "            [\n",
    "                pl.concat_str([pl.col(\"region_name\"), pl.col(\"city_name\")], sep=\"_+_\").alias(\"city_name\"),\n",
    "                pl.concat_str([pl.col(\"cpe_manufacturer_name\"), pl.col(\"cpe_model_name\")], sep=\"_+_\").alias(\"cpe_model_name\"),\n",
    "            ]\n",
    "        )\n",
    "    )\n",
    "    regions |= set(part[\"region_name\"].unique())\n",
    "    cities |= set(part[\"city_name\"].unique())\n",
    "    manufacturers |= set(part[\"cpe_manufacturer_name\"].unique())\n",
    "    models |= set(part[\"cpe_model_name\"].unique())\n",
    "    oss |= set(part[\"cpe_model_os_type\"].unique())\n",
    "    parts_of_day |= set(part[\"part_of_day\"].unique())"
   ]
  },
  {
   "cell_type": "code",
   "execution_count": 4,
   "id": "2c0f5f04-2d92-498d-842a-453f5e11a786",
   "metadata": {},
   "outputs": [],
   "source": [
    "manufacturers_map = {\n",
    "    \"Alcatel\": 1,\n",
    "    \"Apple\": 2,\n",
    "    \"Asus\": 3,\n",
    "    \"Atlas LLC\": 4,\n",
    "    \"BQ Devices Limited\": 5,\n",
    "    \"Blackview\": 6,\n",
    "    \"Doke Communication (HK) Limited\": 6,\n",
    "    \"Doogee\": 7,\n",
    "    \"Google Inc\": 8,\n",
    "    \"HTC\": 9,\n",
    "    \"Highscreen\": 10,\n",
    "    \"Highscreen Limited\": 10,\n",
    "    \"Honor Device Company Limited\": 11,\n",
    "    \"Huawei\": 12,\n",
    "    \"Huawei Device Company Limited\": 12,\n",
    "    \"Itel Technology Limited\": 13,\n",
    "    \"LG\": 14,\n",
    "    \"LeEco\": 15,\n",
    "    \"Lenovo\": 16,\n",
    "    \"Meizu\": 17,\n",
    "    \"Motorola\": 18,\n",
    "    \"Motorola Mobility LLC, a Lenovo Company\": 18,\n",
    "    \"Nokia\": 19,\n",
    "    \"OnePlus\": 20,\n",
    "    \"Oppo\": 21,\n",
    "    \"Realme Chongqing Mobile Telecommunications Corp Ltd\": 22,\n",
    "    \"Realme Mobile Telecommunications (Shenzhen) Co Ltd\": 22,\n",
    "    \"Samsung\": 23,\n",
    "    \"Sony\": 24,\n",
    "    \"Sony Mobile Communications Inc.\": 24,\n",
    "    \"Tecno\": 25,\n",
    "    \"Umi Network Technology Co Limited\": 26,\n",
    "    \"Vingroup Joint Stock Company\": 27,\n",
    "    \"Vivo\": 28,\n",
    "    \"Xiaomi\": 29,\n",
    "    \"Yandex LLC\": 30,\n",
    "    \"ZTE\": 31,\n",
    "}"
   ]
  },
  {
   "cell_type": "code",
   "execution_count": 6,
   "id": "4f80e4b0-6138-4edb-b776-d90cca784bf1",
   "metadata": {},
   "outputs": [
    {
     "data": {
      "text/plain": [
       "['../data/mappings/manufacturers.jbl']"
      ]
     },
     "execution_count": 6,
     "metadata": {},
     "output_type": "execute_result"
    }
   ],
   "source": [
    "jbl.dump(manufacturers_map, \"../data/mappings/manufacturers.jbl\")"
   ]
  },
  {
   "cell_type": "code",
   "execution_count": 7,
   "id": "6f286ce8-2d68-4ac5-bec2-3735142bf09a",
   "metadata": {},
   "outputs": [
    {
     "data": {
      "text/plain": [
       "['../data/mappings/regions.jbl']"
      ]
     },
     "execution_count": 7,
     "metadata": {},
     "output_type": "execute_result"
    }
   ],
   "source": [
    "jbl.dump(dict(zip(sorted(regions), range(1, len(regions) + 1))), \"../data/mappings/regions.jbl\")"
   ]
  },
  {
   "cell_type": "code",
   "execution_count": 8,
   "id": "5d0a0508-947d-487c-a5f3-27fb5686e9e2",
   "metadata": {},
   "outputs": [
    {
     "data": {
      "text/plain": [
       "['../data/mappings/cities.jbl']"
      ]
     },
     "execution_count": 8,
     "metadata": {},
     "output_type": "execute_result"
    }
   ],
   "source": [
    "jbl.dump(dict(zip(sorted(cities), range(1, len(cities) + 1))), \"../data/mappings/cities.jbl\")"
   ]
  },
  {
   "cell_type": "code",
   "execution_count": 9,
   "id": "7204ad6b-5292-42df-a98d-624d6dbe9c77",
   "metadata": {},
   "outputs": [],
   "source": [
    "mm = pd.Series(manufacturers_map, name=\"manufacturer_id\").reset_index().rename(columns={\"index\": \"manufacturer\"})\n",
    "mmm = pd.DataFrame(list(map(lambda m: m.split(\"_+_\"), sorted(models))), columns=[\"manufacturer\", \"model\"])\n",
    "models_map = mmm.merge(mm)"
   ]
  },
  {
   "cell_type": "code",
   "execution_count": 10,
   "id": "636777ec-e4b0-4389-8ea3-1842e94134db",
   "metadata": {},
   "outputs": [],
   "source": [
    "models_map[\"manufacturer_model\"] = models_map[\"manufacturer\"] + \"_+_\" + models_map[\"model\"]\n",
    "models_map[\"manufacturer_id_model\"] = models_map[\"manufacturer_id\"].astype(str) + \"_+_\" + models_map[\"model\"]"
   ]
  },
  {
   "cell_type": "code",
   "execution_count": 11,
   "id": "a64287bc-9a56-4dfa-b9ce-e25e230934fe",
   "metadata": {},
   "outputs": [
    {
     "data": {
      "text/plain": [
       "(603, 603)"
      ]
     },
     "execution_count": 11,
     "metadata": {},
     "output_type": "execute_result"
    }
   ],
   "source": [
    "models_map[\"manufacturer_model\"].nunique(), models_map[\"manufacturer_id_model\"].nunique()"
   ]
  },
  {
   "cell_type": "code",
   "execution_count": 12,
   "id": "a0106cc6-5a5f-43ae-ad32-3ffd81f722ee",
   "metadata": {},
   "outputs": [
    {
     "data": {
      "text/plain": [
       "['../data/mappings/models.jbl']"
      ]
     },
     "execution_count": 12,
     "metadata": {},
     "output_type": "execute_result"
    }
   ],
   "source": [
    "jbl.dump(dict(zip(sorted(models), range(1, len(models) + 1))), \"../data/mappings/models.jbl\")"
   ]
  },
  {
   "cell_type": "code",
   "execution_count": 13,
   "id": "23b4fd20-32e2-4384-9637-5d86afd339be",
   "metadata": {},
   "outputs": [],
   "source": [
    "parts_of_day_map = {\n",
    "    \"morning\": 1,\n",
    "    \"day\": 2,\n",
    "    \"evening\": 3,\n",
    "    \"night\": 4,\n",
    "}"
   ]
  },
  {
   "cell_type": "code",
   "execution_count": 14,
   "id": "35b406a3-1fd4-42ad-9d57-a02607354a7c",
   "metadata": {},
   "outputs": [
    {
     "data": {
      "text/plain": [
       "['../data/mappings/parts_of_day.jbl']"
      ]
     },
     "execution_count": 14,
     "metadata": {},
     "output_type": "execute_result"
    }
   ],
   "source": [
    "jbl.dump(parts_of_day_map, \"../data/mappings/parts_of_day.jbl\")"
   ]
  },
  {
   "cell_type": "markdown",
   "id": "3058c9a8-bb99-4cf9-808e-771a2b36e815",
   "metadata": {},
   "source": [
    "# Легкие партиции"
   ]
  },
  {
   "cell_type": "code",
   "execution_count": 15,
   "id": "05c2dda4-2b48-4ae0-88a7-22c824270ce5",
   "metadata": {},
   "outputs": [],
   "source": [
    "prepare_sessions_ = ft.partial(\n",
    "    prep.prepare_sessions,\n",
    "    regions_mapping=jbl.load(\"../data/mappings/regions.jbl\"),\n",
    "    cities_mapping=jbl.load(\"../data/mappings/cities.jbl\"),\n",
    "    manufacturers_mapping=jbl.load(\"../data/mappings/manufacturers.jbl\"),\n",
    "    models_mapping=jbl.load(\"../data/mappings/models.jbl\"),\n",
    "    parts_of_day_mapping=jbl.load(\"../data/mappings/parts_of_day.jbl\"),\n",
    ")"
   ]
  },
  {
   "cell_type": "code",
   "execution_count": 17,
   "id": "a72782bd-86e1-4896-bbc4-2092fa72bebb",
   "metadata": {},
   "outputs": [
    {
     "name": "stderr",
     "output_type": "stream",
     "text": [
      "100%|███████████████████████████████████████████| 11/11 [03:08<00:00, 17.15s/it]\n"
     ]
    }
   ],
   "source": [
    "parts_path = \"../data/raw/competition_data_final_pqt/\"\n",
    "\n",
    "for part in tqdm(os.listdir(parts_path)):\n",
    "    if not part.endswith(\".parquet\"):\n",
    "        continue\n",
    "    i = int(part.split(\"-\")[1])\n",
    "    p = prepare_sessions_(os.path.join(parts_path, part))\n",
    "    p.write_parquet(f\"../data/processed/sessions/part-{i}.parquet\")"
   ]
  },
  {
   "cell_type": "code",
   "execution_count": 18,
   "id": "9cac43d9-3e3a-45b5-88f5-47bb213e8ea5",
   "metadata": {},
   "outputs": [
    {
     "name": "stdout",
     "output_type": "stream",
     "text": [
      "CPU times: user 39.5 s, sys: 19.9 s, total: 59.4 s\n",
      "Wall time: 14 s\n"
     ]
    }
   ],
   "source": [
    "%%time\n",
    "df = pl.read_parquet(\"../data/processed/sessions/*\")"
   ]
  },
  {
   "cell_type": "code",
   "execution_count": 19,
   "id": "176c85ee-3792-4b6d-ba84-24c9b884b159",
   "metadata": {},
   "outputs": [
    {
     "data": {
      "text/plain": [
       "12.841251781210303"
      ]
     },
     "execution_count": 19,
     "metadata": {},
     "output_type": "execute_result"
    }
   ],
   "source": [
    "df.estimated_size(\"gb\")"
   ]
  },
  {
   "cell_type": "code",
   "execution_count": 20,
   "id": "23dc97f9-1d12-4908-8276-2a6baf80e099",
   "metadata": {},
   "outputs": [],
   "source": [
    "df.write_parquet(\"../data/processed/sessions.pq\")"
   ]
  },
  {
   "cell_type": "code",
   "execution_count": 21,
   "id": "6b29c8ca-7442-470d-84c7-6ad15c2767ad",
   "metadata": {},
   "outputs": [
    {
     "name": "stdout",
     "output_type": "stream",
     "text": [
      "total 3.6G\n",
      "drwxrwxr-x 2 ababkin ababkin 4.0K Mar 12 15:18 sessions\n",
      "-rw-rw-r-- 1 ababkin ababkin 1.7G Feb 18 16:30 sessions-noncat.pq\n",
      "-rw-rw-r-- 1 ababkin ababkin 1.9G Mar 12 15:19 sessions.pq\n",
      "-rw-rw-r-- 1 ababkin ababkin 1.7M Feb 17 11:30 test-split.csv\n",
      "-rw-rw-r-- 1 ababkin ababkin 885K Feb 17 19:25 test-users.pq\n",
      "-rw-rw-r-- 1 ababkin ababkin 2.0M Feb 17 19:24 train-users.pq\n",
      "-rw-rw-r-- 1 ababkin ababkin 4.7M Feb 19 07:52 urls.csv\n"
     ]
    }
   ],
   "source": [
    "!ls -lh ../data/processed"
   ]
  },
  {
   "cell_type": "markdown",
   "id": "26b801d3-b822-44a4-9979-538d96cc784c",
   "metadata": {},
   "source": [
    "# Подготовка таргета"
   ]
  },
  {
   "cell_type": "code",
   "execution_count": 20,
   "id": "33219b32-9134-4d2a-880c-38c988c81b26",
   "metadata": {},
   "outputs": [],
   "source": [
    "train = prep.prepare_train(\"../data/raw/public_train.pqt\")\n",
    "train.write_parquet(\"../data/processed/train.pq\")"
   ]
  },
  {
   "cell_type": "code",
   "execution_count": 21,
   "id": "3d50ca7d-b9a7-4a57-a717-aca1ad3b4ef6",
   "metadata": {},
   "outputs": [],
   "source": [
    "test = prep.prepare_test(\"../data/raw/submit_2.pqt\")\n",
    "test.write_parquet(\"../data/processed/test.pq\")"
   ]
  },
  {
   "cell_type": "code",
   "execution_count": null,
   "id": "b2d5d2e8-e3b9-416f-8947-9c67f3648ead",
   "metadata": {},
   "outputs": [],
   "source": []
  }
 ],
 "metadata": {
  "kernelspec": {
   "display_name": "Python (mts-ml-cup)",
   "language": "python",
   "name": "mts-ml-cup"
  },
  "language_info": {
   "codemirror_mode": {
    "name": "ipython",
    "version": 3
   },
   "file_extension": ".py",
   "mimetype": "text/x-python",
   "name": "python",
   "nbconvert_exporter": "python",
   "pygments_lexer": "ipython3",
   "version": "3.8.10"
  }
 },
 "nbformat": 4,
 "nbformat_minor": 5
}
