{
 "cells": [
  {
   "cell_type": "code",
   "execution_count": 1,
   "id": "10c50017-b39b-453f-b1dc-0faa3558141e",
   "metadata": {},
   "outputs": [],
   "source": [
    "import pandas as pd"
   ]
  },
  {
   "cell_type": "code",
   "execution_count": 3,
   "id": "445ee2dc-ba28-4ea0-848d-edccef8a359d",
   "metadata": {},
   "outputs": [
    {
     "name": "stdout",
     "output_type": "stream",
     "text": [
      "CPU times: user 2min 47s, sys: 2min 34s, total: 5min 22s\n",
      "Wall time: 1min 30s\n"
     ]
    }
   ],
   "source": [
    "%%time\n",
    "df = pd.read_parquet(\"../data/raw/competition_data_final_pqt/\")"
   ]
  },
  {
   "cell_type": "code",
   "execution_count": 4,
   "id": "4c6259fe-5880-4912-9450-d356ce517724",
   "metadata": {},
   "outputs": [
    {
     "name": "stdout",
     "output_type": "stream",
     "text": [
      "<class 'pandas.core.frame.DataFrame'>\n",
      "RangeIndex: 322899435 entries, 0 to 322899434\n",
      "Data columns (total 12 columns):\n",
      " #   Column                 Dtype  \n",
      "---  ------                 -----  \n",
      " 0   region_name            object \n",
      " 1   city_name              object \n",
      " 2   cpe_manufacturer_name  object \n",
      " 3   cpe_model_name         object \n",
      " 4   url_host               object \n",
      " 5   cpe_type_cd            object \n",
      " 6   cpe_model_os_type      object \n",
      " 7   price                  float64\n",
      " 8   date                   object \n",
      " 9   part_of_day            object \n",
      " 10  request_cnt            int64  \n",
      " 11  user_id                int64  \n",
      "dtypes: float64(1), int64(2), object(9)\n",
      "memory usage: 28.9+ GB\n"
     ]
    }
   ],
   "source": [
    "df.info()"
   ]
  },
  {
   "cell_type": "code",
   "execution_count": 21,
   "id": "595e639e-c256-47eb-83be-e5606060fecc",
   "metadata": {},
   "outputs": [
    {
     "data": {
      "text/plain": [
       "0"
      ]
     },
     "execution_count": 21,
     "metadata": {},
     "output_type": "execute_result"
    }
   ],
   "source": [
    "df[\"user_id\"].min()"
   ]
  },
  {
   "cell_type": "code",
   "execution_count": 22,
   "id": "ec65106c-e6a2-4b18-a1e4-1fdd76aa6f30",
   "metadata": {},
   "outputs": [
    {
     "data": {
      "text/plain": [
       "415316"
      ]
     },
     "execution_count": 22,
     "metadata": {},
     "output_type": "execute_result"
    }
   ],
   "source": [
    "df[\"user_id\"].max()"
   ]
  },
  {
   "cell_type": "code",
   "execution_count": 5,
   "id": "3e66023e-5b55-46fa-8913-f51669eac8bc",
   "metadata": {},
   "outputs": [
    {
     "name": "stdout",
     "output_type": "stream",
     "text": [
      "CPU times: user 42.6 s, sys: 38.2 s, total: 1min 20s\n",
      "Wall time: 1min 11s\n"
     ]
    }
   ],
   "source": [
    "%%time\n",
    "df = df.astype(\n",
    "    {\n",
    "        # \"region_name\": \"category\",\n",
    "        # \"city_name\": \"category\",\n",
    "        # \"cpe_manufacturer_name\": \"category\",\n",
    "        # \"cpe_model_name\": \"category\",\n",
    "        # \"url_host\": \"category\",\n",
    "        # \"cpe_type_cd\": \"category\",\n",
    "        # \"cpe_model_os_type\": \"category\",\n",
    "        \"price\": \"float32\",\n",
    "        \"date\": \"datetime64[ns]\",\n",
    "        # \"part_of_day\": \"category\",\n",
    "        \"request_cnt\": \"uint8\",\n",
    "        \"user_id\": \"int32\"\n",
    "    }\n",
    ")"
   ]
  },
  {
   "cell_type": "code",
   "execution_count": 6,
   "id": "d5abfd48-a8cf-4a2f-9060-8c1ccfe8d843",
   "metadata": {},
   "outputs": [
    {
     "name": "stdout",
     "output_type": "stream",
     "text": [
      "<class 'pandas.core.frame.DataFrame'>\n",
      "RangeIndex: 322899435 entries, 0 to 322899434\n",
      "Data columns (total 12 columns):\n",
      " #   Column                 Dtype         \n",
      "---  ------                 -----         \n",
      " 0   region_name            object        \n",
      " 1   city_name              object        \n",
      " 2   cpe_manufacturer_name  object        \n",
      " 3   cpe_model_name         object        \n",
      " 4   url_host               object        \n",
      " 5   cpe_type_cd            object        \n",
      " 6   cpe_model_os_type      object        \n",
      " 7   price                  float32       \n",
      " 8   date                   datetime64[ns]\n",
      " 9   part_of_day            object        \n",
      " 10  request_cnt            uint8         \n",
      " 11  user_id                int32         \n",
      "dtypes: datetime64[ns](1), float32(1), int32(1), object(8), uint8(1)\n",
      "memory usage: 24.4+ GB\n"
     ]
    }
   ],
   "source": [
    "df.info()"
   ]
  },
  {
   "cell_type": "code",
   "execution_count": null,
   "id": "b9c1401d-df2b-4548-98c5-4589385d997c",
   "metadata": {},
   "outputs": [],
   "source": []
  },
  {
   "cell_type": "code",
   "execution_count": 7,
   "id": "00ffe906-b389-4be3-b97f-1f0cdbe8ee1b",
   "metadata": {},
   "outputs": [
    {
     "name": "stdout",
     "output_type": "stream",
     "text": [
      "CPU times: user 3min 25s, sys: 41.9 s, total: 4min 7s\n",
      "Wall time: 4min 3s\n"
     ]
    }
   ],
   "source": [
    "%%time\n",
    "df.to_parquet(\"../data/processed/sessions-noncat.pq\")"
   ]
  },
  {
   "cell_type": "code",
   "execution_count": 8,
   "id": "06ba467a-786f-4a0e-9c2f-9916ee80a4b5",
   "metadata": {},
   "outputs": [
    {
     "name": "stdout",
     "output_type": "stream",
     "text": [
      "total 2.9G\n",
      "-rw-rw-r-- 1 ababkin ababkin 1.7G Feb 18 16:30 sessions-noncat.pq\n",
      "-rw-rw-r-- 1 ababkin ababkin 1.2G Feb 17 10:49 sessions.pq\n",
      "-rw-rw-r-- 1 ababkin ababkin 1.7M Feb 17 11:30 test-split.csv\n",
      "-rw-rw-r-- 1 ababkin ababkin 885K Feb 17 19:25 test-users.pq\n",
      "-rw-rw-r-- 1 ababkin ababkin 2.0M Feb 17 19:24 train-users.pq\n"
     ]
    }
   ],
   "source": [
    "! ls -lh ../data/processed/"
   ]
  },
  {
   "cell_type": "code",
   "execution_count": 28,
   "id": "e8e7b963-9b80-4421-bfa6-4e4788f22abd",
   "metadata": {},
   "outputs": [],
   "source": [
    "target = pd.read_parquet(\"../data/raw/public_train.pqt\")"
   ]
  },
  {
   "cell_type": "code",
   "execution_count": 36,
   "id": "023b6b67-13c8-4dab-b648-1f6fc6483d80",
   "metadata": {},
   "outputs": [
    {
     "data": {
      "text/plain": [
       "True"
      ]
     },
     "execution_count": 36,
     "metadata": {},
     "output_type": "execute_result"
    }
   ],
   "source": [
    "(target.index == target[\"user_id\"]).all()"
   ]
  },
  {
   "cell_type": "code",
   "execution_count": 33,
   "id": "3d50ca7d-b9a7-4a57-a717-aca1ad3b4ef6",
   "metadata": {},
   "outputs": [],
   "source": [
    "test = pd.read_parquet(\"../data/raw/submit_2.pqt\")"
   ]
  },
  {
   "cell_type": "code",
   "execution_count": 51,
   "id": "8d8836f8-f297-42d0-b681-e80bc2e444d1",
   "metadata": {},
   "outputs": [
    {
     "data": {
      "text/html": [
       "<div>\n",
       "<style scoped>\n",
       "    .dataframe tbody tr th:only-of-type {\n",
       "        vertical-align: middle;\n",
       "    }\n",
       "\n",
       "    .dataframe tbody tr th {\n",
       "        vertical-align: top;\n",
       "    }\n",
       "\n",
       "    .dataframe thead th {\n",
       "        text-align: right;\n",
       "    }\n",
       "</style>\n",
       "<table border=\"1\" class=\"dataframe\">\n",
       "  <thead>\n",
       "    <tr style=\"text-align: right;\">\n",
       "      <th></th>\n",
       "      <th>age</th>\n",
       "      <th>is_male</th>\n",
       "      <th>user_id</th>\n",
       "    </tr>\n",
       "  </thead>\n",
       "  <tbody>\n",
       "    <tr>\n",
       "      <th>220333</th>\n",
       "      <td>NaN</td>\n",
       "      <td>1</td>\n",
       "      <td>220333</td>\n",
       "    </tr>\n",
       "  </tbody>\n",
       "</table>\n",
       "</div>"
      ],
      "text/plain": [
       "        age is_male  user_id\n",
       "220333  NaN       1   220333"
      ]
     },
     "execution_count": 51,
     "metadata": {},
     "output_type": "execute_result"
    }
   ],
   "source": [
    "target[target[\"age\"].isna()]"
   ]
  },
  {
   "cell_type": "code",
   "execution_count": 39,
   "id": "cc3bb30c-8573-4110-a93b-3c49fca37fe7",
   "metadata": {},
   "outputs": [
    {
     "data": {
      "text/html": [
       "<div>\n",
       "<style scoped>\n",
       "    .dataframe tbody tr th:only-of-type {\n",
       "        vertical-align: middle;\n",
       "    }\n",
       "\n",
       "    .dataframe tbody tr th {\n",
       "        vertical-align: top;\n",
       "    }\n",
       "\n",
       "    .dataframe thead th {\n",
       "        text-align: right;\n",
       "    }\n",
       "</style>\n",
       "<table border=\"1\" class=\"dataframe\">\n",
       "  <thead>\n",
       "    <tr style=\"text-align: right;\">\n",
       "      <th></th>\n",
       "      <th>user_id</th>\n",
       "    </tr>\n",
       "  </thead>\n",
       "  <tbody>\n",
       "    <tr>\n",
       "      <th>0</th>\n",
       "      <td>6</td>\n",
       "    </tr>\n",
       "    <tr>\n",
       "      <th>4</th>\n",
       "      <td>11</td>\n",
       "    </tr>\n",
       "    <tr>\n",
       "      <th>8</th>\n",
       "      <td>19</td>\n",
       "    </tr>\n",
       "    <tr>\n",
       "      <th>10</th>\n",
       "      <td>27</td>\n",
       "    </tr>\n",
       "    <tr>\n",
       "      <th>11</th>\n",
       "      <td>32</td>\n",
       "    </tr>\n",
       "    <tr>\n",
       "      <th>...</th>\n",
       "      <td>...</td>\n",
       "    </tr>\n",
       "    <tr>\n",
       "      <th>145307</th>\n",
       "      <td>415284</td>\n",
       "    </tr>\n",
       "    <tr>\n",
       "      <th>145308</th>\n",
       "      <td>415285</td>\n",
       "    </tr>\n",
       "    <tr>\n",
       "      <th>145309</th>\n",
       "      <td>415286</td>\n",
       "    </tr>\n",
       "    <tr>\n",
       "      <th>145312</th>\n",
       "      <td>415306</td>\n",
       "    </tr>\n",
       "    <tr>\n",
       "      <th>145315</th>\n",
       "      <td>415315</td>\n",
       "    </tr>\n",
       "  </tbody>\n",
       "</table>\n",
       "<p>79996 rows × 1 columns</p>\n",
       "</div>"
      ],
      "text/plain": [
       "        user_id\n",
       "0             6\n",
       "4            11\n",
       "8            19\n",
       "10           27\n",
       "11           32\n",
       "...         ...\n",
       "145307   415284\n",
       "145308   415285\n",
       "145309   415286\n",
       "145312   415306\n",
       "145315   415315\n",
       "\n",
       "[79996 rows x 1 columns]"
      ]
     },
     "execution_count": 39,
     "metadata": {},
     "output_type": "execute_result"
    }
   ],
   "source": [
    "test[test.index != test[\"user_id\"]]"
   ]
  },
  {
   "cell_type": "code",
   "execution_count": 91,
   "id": "816b9365-4a33-45df-8101-f8cee835eac9",
   "metadata": {},
   "outputs": [
    {
     "name": "stdout",
     "output_type": "stream",
     "text": [
      "<class 'pandas.core.frame.DataFrame'>\n",
      "RangeIndex: 322899435 entries, 0 to 322899434\n",
      "Data columns (total 12 columns):\n",
      " #   Column                 Dtype         \n",
      "---  ------                 -----         \n",
      " 0   region_name            category      \n",
      " 1   city_name              category      \n",
      " 2   cpe_manufacturer_name  category      \n",
      " 3   cpe_model_name         category      \n",
      " 4   url_host               category      \n",
      " 5   cpe_type_cd            category      \n",
      " 6   cpe_model_os_type      category      \n",
      " 7   price                  float32       \n",
      " 8   date                   datetime64[ns]\n",
      " 9   part_of_day            category      \n",
      " 10  request_cnt            uint8         \n",
      " 11  user_id                int32         \n",
      "dtypes: category(8), datetime64[ns](1), float32(1), int32(1), uint8(1)\n",
      "memory usage: 9.0 GB\n"
     ]
    }
   ],
   "source": [
    "df.info()"
   ]
  },
  {
   "cell_type": "code",
   "execution_count": 66,
   "id": "86753596-37d5-4819-916e-7171abfbddfc",
   "metadata": {},
   "outputs": [],
   "source": [
    "import bisect\n",
    "import numpy as np"
   ]
  },
  {
   "cell_type": "code",
   "execution_count": 67,
   "id": "b8661d34-af61-499c-9438-1fddba4c83ca",
   "metadata": {},
   "outputs": [],
   "source": [
    "target[\"age_bucket\"] = target[\"age\"].map(lambda x: bisect.bisect_left([18,25,35,45,55,65], x))\n",
    "target.loc[target[\"age\"].isna(), \"age_bucket\"] = np.nan"
   ]
  },
  {
   "cell_type": "code",
   "execution_count": 68,
   "id": "9668ad80-bb2a-4f90-8cfa-43ed09e87d3f",
   "metadata": {},
   "outputs": [
    {
     "data": {
      "text/html": [
       "<div>\n",
       "<style scoped>\n",
       "    .dataframe tbody tr th:only-of-type {\n",
       "        vertical-align: middle;\n",
       "    }\n",
       "\n",
       "    .dataframe tbody tr th {\n",
       "        vertical-align: top;\n",
       "    }\n",
       "\n",
       "    .dataframe thead th {\n",
       "        text-align: right;\n",
       "    }\n",
       "</style>\n",
       "<table border=\"1\" class=\"dataframe\">\n",
       "  <thead>\n",
       "    <tr style=\"text-align: right;\">\n",
       "      <th></th>\n",
       "      <th>age</th>\n",
       "      <th>is_male</th>\n",
       "      <th>user_id</th>\n",
       "      <th>age_bucket</th>\n",
       "    </tr>\n",
       "  </thead>\n",
       "  <tbody>\n",
       "    <tr>\n",
       "      <th>220333</th>\n",
       "      <td>NaN</td>\n",
       "      <td>1</td>\n",
       "      <td>220333</td>\n",
       "      <td>NaN</td>\n",
       "    </tr>\n",
       "  </tbody>\n",
       "</table>\n",
       "</div>"
      ],
      "text/plain": [
       "        age is_male  user_id  age_bucket\n",
       "220333  NaN       1   220333         NaN"
      ]
     },
     "execution_count": 68,
     "metadata": {},
     "output_type": "execute_result"
    }
   ],
   "source": [
    "target[target[\"age\"].isna()]"
   ]
  },
  {
   "cell_type": "code",
   "execution_count": 74,
   "id": "cfada524-9e6d-4c59-867c-5aff0869a437",
   "metadata": {},
   "outputs": [],
   "source": [
    "target[\"is_male\"] = target[\"is_male\"].replace(\"NA\", np.nan).astype(float)"
   ]
  },
  {
   "cell_type": "code",
   "execution_count": 77,
   "id": "182c1feb-f135-41b4-aaf2-3f613b65f882",
   "metadata": {},
   "outputs": [
    {
     "data": {
      "text/plain": [
       "True"
      ]
     },
     "execution_count": 77,
     "metadata": {},
     "output_type": "execute_result"
    }
   ],
   "source": [
    "(target[\"age\"].dropna() == target[\"age\"].dropna().astype(int)).all()"
   ]
  },
  {
   "cell_type": "code",
   "execution_count": 89,
   "id": "7262f437-e3f1-4ca7-9860-c0f466e31965",
   "metadata": {},
   "outputs": [],
   "source": [
    "target = target.astype(\n",
    "    {\n",
    "        \"age\": \"Int32\",\n",
    "        \"is_male\": \"UInt8\",\n",
    "        \"user_id\": \"int32\",\n",
    "        \"age_bucket\": \"UInt8\",\n",
    "    }\n",
    ")"
   ]
  },
  {
   "cell_type": "code",
   "execution_count": 92,
   "id": "c4f55be9-52b7-4456-aa64-60214774f541",
   "metadata": {},
   "outputs": [
    {
     "data": {
      "text/html": [
       "<div>\n",
       "<style scoped>\n",
       "    .dataframe tbody tr th:only-of-type {\n",
       "        vertical-align: middle;\n",
       "    }\n",
       "\n",
       "    .dataframe tbody tr th {\n",
       "        vertical-align: top;\n",
       "    }\n",
       "\n",
       "    .dataframe thead th {\n",
       "        text-align: right;\n",
       "    }\n",
       "</style>\n",
       "<table border=\"1\" class=\"dataframe\">\n",
       "  <thead>\n",
       "    <tr style=\"text-align: right;\">\n",
       "      <th></th>\n",
       "      <th>user_id</th>\n",
       "      <th>is_male</th>\n",
       "      <th>age_bucket</th>\n",
       "      <th>age</th>\n",
       "    </tr>\n",
       "  </thead>\n",
       "  <tbody>\n",
       "    <tr>\n",
       "      <th>350459</th>\n",
       "      <td>350459</td>\n",
       "      <td>1</td>\n",
       "      <td>2</td>\n",
       "      <td>31</td>\n",
       "    </tr>\n",
       "    <tr>\n",
       "      <th>188276</th>\n",
       "      <td>188276</td>\n",
       "      <td>1</td>\n",
       "      <td>2</td>\n",
       "      <td>35</td>\n",
       "    </tr>\n",
       "    <tr>\n",
       "      <th>99002</th>\n",
       "      <td>99002</td>\n",
       "      <td>0</td>\n",
       "      <td>3</td>\n",
       "      <td>41</td>\n",
       "    </tr>\n",
       "    <tr>\n",
       "      <th>155506</th>\n",
       "      <td>155506</td>\n",
       "      <td>0</td>\n",
       "      <td>2</td>\n",
       "      <td>33</td>\n",
       "    </tr>\n",
       "    <tr>\n",
       "      <th>213873</th>\n",
       "      <td>213873</td>\n",
       "      <td>0</td>\n",
       "      <td>4</td>\n",
       "      <td>54</td>\n",
       "    </tr>\n",
       "    <tr>\n",
       "      <th>...</th>\n",
       "      <td>...</td>\n",
       "      <td>...</td>\n",
       "      <td>...</td>\n",
       "      <td>...</td>\n",
       "    </tr>\n",
       "    <tr>\n",
       "      <th>225374</th>\n",
       "      <td>225374</td>\n",
       "      <td>1</td>\n",
       "      <td>4</td>\n",
       "      <td>49</td>\n",
       "    </tr>\n",
       "    <tr>\n",
       "      <th>25776</th>\n",
       "      <td>25776</td>\n",
       "      <td>1</td>\n",
       "      <td>1</td>\n",
       "      <td>22</td>\n",
       "    </tr>\n",
       "    <tr>\n",
       "      <th>148131</th>\n",
       "      <td>148131</td>\n",
       "      <td>0</td>\n",
       "      <td>2</td>\n",
       "      <td>28</td>\n",
       "    </tr>\n",
       "    <tr>\n",
       "      <th>205570</th>\n",
       "      <td>205570</td>\n",
       "      <td>1</td>\n",
       "      <td>2</td>\n",
       "      <td>28</td>\n",
       "    </tr>\n",
       "    <tr>\n",
       "      <th>103148</th>\n",
       "      <td>103148</td>\n",
       "      <td>1</td>\n",
       "      <td>6</td>\n",
       "      <td>68</td>\n",
       "    </tr>\n",
       "  </tbody>\n",
       "</table>\n",
       "<p>270000 rows × 4 columns</p>\n",
       "</div>"
      ],
      "text/plain": [
       "        user_id  is_male  age_bucket  age\n",
       "350459   350459        1           2   31\n",
       "188276   188276        1           2   35\n",
       "99002     99002        0           3   41\n",
       "155506   155506        0           2   33\n",
       "213873   213873        0           4   54\n",
       "...         ...      ...         ...  ...\n",
       "225374   225374        1           4   49\n",
       "25776     25776        1           1   22\n",
       "148131   148131        0           2   28\n",
       "205570   205570        1           2   28\n",
       "103148   103148        1           6   68\n",
       "\n",
       "[270000 rows x 4 columns]"
      ]
     },
     "execution_count": 92,
     "metadata": {},
     "output_type": "execute_result"
    }
   ],
   "source": [
    "target.loc[:, [\"user_id\", \"is_male\", \"age_bucket\", \"age\"]]"
   ]
  },
  {
   "cell_type": "code",
   "execution_count": 145,
   "id": "06398af3-f8c8-40d7-a9a4-a23e85fb7384",
   "metadata": {},
   "outputs": [],
   "source": [
    "target.to_parquet(\"../data/processed/train-users.pq\", index=False)"
   ]
  },
  {
   "cell_type": "code",
   "execution_count": 150,
   "id": "8a18c6f7-244a-499d-a1bf-be4780c89986",
   "metadata": {},
   "outputs": [],
   "source": [
    "test.astype(\"int32\").to_parquet(\"../data/processed/test-users.pq\", index=False)"
   ]
  },
  {
   "cell_type": "code",
   "execution_count": 118,
   "id": "40162470-7d8a-4e5d-b818-00443303bd00",
   "metadata": {},
   "outputs": [],
   "source": [
    "htest = set(test[test.index == test[\"user_id\"]][\"user_id\"])"
   ]
  },
  {
   "cell_type": "code",
   "execution_count": 119,
   "id": "13454239-09b6-4a59-bab7-8f21bf685a88",
   "metadata": {},
   "outputs": [],
   "source": [
    "subm = pd.read_csv(\"../data/raw/sample_submission.csv\")"
   ]
  },
  {
   "cell_type": "code",
   "execution_count": 120,
   "id": "0b97f40a-537e-42c9-b102-e2b163a023a6",
   "metadata": {},
   "outputs": [],
   "source": [
    "subm.loc[subm[\"user_id\"].isin(htest), [\"age\", \"is_male\"]] = 0"
   ]
  },
  {
   "cell_type": "code",
   "execution_count": 132,
   "id": "118d745f-49b7-46ba-8a9b-e70e64191f5c",
   "metadata": {},
   "outputs": [],
   "source": [
    "subm[\"is_private\"] = False"
   ]
  },
  {
   "cell_type": "code",
   "execution_count": 133,
   "id": "c2d49627-9f5c-4d85-b7e5-7a87f02d7769",
   "metadata": {},
   "outputs": [],
   "source": [
    "subm.loc[(subm[\"age\"] == 0) & (subm[\"is_male\"] == 0), \"is_private\"] = True"
   ]
  },
  {
   "cell_type": "code",
   "execution_count": 136,
   "id": "fb563889-a652-4019-a81f-582e8323e4c7",
   "metadata": {},
   "outputs": [],
   "source": [
    "subm[[\"user_id\", \"is_private\"]].to_csv(\"../data/processed/test-split.csv\", index=False)"
   ]
  },
  {
   "cell_type": "code",
   "execution_count": 128,
   "id": "8b017a6f-324c-4075-84c6-c67a4d021bea",
   "metadata": {},
   "outputs": [
    {
     "data": {
      "text/plain": [
       "0        131076\n",
       "1        393220\n",
       "2             7\n",
       "3        262153\n",
       "4            10\n",
       "          ...  \n",
       "64723    131057\n",
       "64724    131061\n",
       "64725    131062\n",
       "64726    262137\n",
       "64727    131071\n",
       "Name: user_id, Length: 64728, dtype: int64"
      ]
     },
     "execution_count": 128,
     "metadata": {},
     "output_type": "execute_result"
    }
   ],
   "source": [
    "pd.Series(list(htest), name=\"user_id\")"
   ]
  },
  {
   "cell_type": "code",
   "execution_count": 121,
   "id": "24f7a18e-1f9f-4b2e-8fd8-20a582d3668c",
   "metadata": {},
   "outputs": [],
   "source": [
    "subm.to_csv(\"../submissions/test-private-2.csv\", index=False)"
   ]
  },
  {
   "cell_type": "code",
   "execution_count": 98,
   "id": "34110aeb-b9b1-4621-a566-ee244ed4c1f5",
   "metadata": {},
   "outputs": [
    {
     "data": {
      "text/plain": [
       "0.5527486802465382"
      ]
     },
     "execution_count": 98,
     "metadata": {},
     "output_type": "execute_result"
    }
   ],
   "source": [
    "79996 / (64728 + 79996)"
   ]
  },
  {
   "cell_type": "code",
   "execution_count": 99,
   "id": "54df80a0-0eba-4657-9409-9cd83d4e3701",
   "metadata": {},
   "outputs": [
    {
     "data": {
      "text/plain": [
       "True"
      ]
     },
     "execution_count": 99,
     "metadata": {},
     "output_type": "execute_result"
    }
   ],
   "source": [
    "(target[\"user_id\"] == target.index).all()"
   ]
  },
  {
   "cell_type": "code",
   "execution_count": 140,
   "id": "e541a3b4-0e6a-4f01-b049-f719d3c99a90",
   "metadata": {},
   "outputs": [
    {
     "data": {
      "text/html": [
       "<div>\n",
       "<style scoped>\n",
       "    .dataframe tbody tr th:only-of-type {\n",
       "        vertical-align: middle;\n",
       "    }\n",
       "\n",
       "    .dataframe tbody tr th {\n",
       "        vertical-align: top;\n",
       "    }\n",
       "\n",
       "    .dataframe thead th {\n",
       "        text-align: right;\n",
       "    }\n",
       "</style>\n",
       "<table border=\"1\" class=\"dataframe\">\n",
       "  <thead>\n",
       "    <tr style=\"text-align: right;\">\n",
       "      <th></th>\n",
       "      <th>user_id</th>\n",
       "      <th>age</th>\n",
       "      <th>is_male</th>\n",
       "      <th>is_private</th>\n",
       "    </tr>\n",
       "  </thead>\n",
       "  <tbody>\n",
       "    <tr>\n",
       "      <th>0</th>\n",
       "      <td>6</td>\n",
       "      <td>2</td>\n",
       "      <td>0.330467</td>\n",
       "      <td>False</td>\n",
       "    </tr>\n",
       "    <tr>\n",
       "      <th>1</th>\n",
       "      <td>11</td>\n",
       "      <td>5</td>\n",
       "      <td>0.725477</td>\n",
       "      <td>False</td>\n",
       "    </tr>\n",
       "    <tr>\n",
       "      <th>2</th>\n",
       "      <td>19</td>\n",
       "      <td>1</td>\n",
       "      <td>0.240190</td>\n",
       "      <td>False</td>\n",
       "    </tr>\n",
       "    <tr>\n",
       "      <th>3</th>\n",
       "      <td>27</td>\n",
       "      <td>2</td>\n",
       "      <td>0.536798</td>\n",
       "      <td>False</td>\n",
       "    </tr>\n",
       "    <tr>\n",
       "      <th>4</th>\n",
       "      <td>32</td>\n",
       "      <td>3</td>\n",
       "      <td>0.471325</td>\n",
       "      <td>False</td>\n",
       "    </tr>\n",
       "    <tr>\n",
       "      <th>...</th>\n",
       "      <td>...</td>\n",
       "      <td>...</td>\n",
       "      <td>...</td>\n",
       "      <td>...</td>\n",
       "    </tr>\n",
       "    <tr>\n",
       "      <th>79991</th>\n",
       "      <td>415284</td>\n",
       "      <td>2</td>\n",
       "      <td>0.510685</td>\n",
       "      <td>False</td>\n",
       "    </tr>\n",
       "    <tr>\n",
       "      <th>79992</th>\n",
       "      <td>415285</td>\n",
       "      <td>3</td>\n",
       "      <td>0.514142</td>\n",
       "      <td>False</td>\n",
       "    </tr>\n",
       "    <tr>\n",
       "      <th>79993</th>\n",
       "      <td>415286</td>\n",
       "      <td>3</td>\n",
       "      <td>0.536682</td>\n",
       "      <td>False</td>\n",
       "    </tr>\n",
       "    <tr>\n",
       "      <th>79994</th>\n",
       "      <td>415306</td>\n",
       "      <td>3</td>\n",
       "      <td>0.511746</td>\n",
       "      <td>False</td>\n",
       "    </tr>\n",
       "    <tr>\n",
       "      <th>79995</th>\n",
       "      <td>415315</td>\n",
       "      <td>3</td>\n",
       "      <td>0.539346</td>\n",
       "      <td>False</td>\n",
       "    </tr>\n",
       "  </tbody>\n",
       "</table>\n",
       "<p>79996 rows × 4 columns</p>\n",
       "</div>"
      ],
      "text/plain": [
       "       user_id  age   is_male  is_private\n",
       "0            6    2  0.330467       False\n",
       "1           11    5  0.725477       False\n",
       "2           19    1  0.240190       False\n",
       "3           27    2  0.536798       False\n",
       "4           32    3  0.471325       False\n",
       "...        ...  ...       ...         ...\n",
       "79991   415284    2  0.510685       False\n",
       "79992   415285    3  0.514142       False\n",
       "79993   415286    3  0.536682       False\n",
       "79994   415306    3  0.511746       False\n",
       "79995   415315    3  0.539346       False\n",
       "\n",
       "[79996 rows x 4 columns]"
      ]
     },
     "execution_count": 140,
     "metadata": {},
     "output_type": "execute_result"
    }
   ],
   "source": [
    "subm[~subm[\"is_private\"]]"
   ]
  },
  {
   "cell_type": "code",
   "execution_count": 141,
   "id": "3ff62a23-144e-47c4-8f87-c35fd553b80d",
   "metadata": {},
   "outputs": [
    {
     "data": {
      "text/html": [
       "<div>\n",
       "<style scoped>\n",
       "    .dataframe tbody tr th:only-of-type {\n",
       "        vertical-align: middle;\n",
       "    }\n",
       "\n",
       "    .dataframe tbody tr th {\n",
       "        vertical-align: top;\n",
       "    }\n",
       "\n",
       "    .dataframe thead th {\n",
       "        text-align: right;\n",
       "    }\n",
       "</style>\n",
       "<table border=\"1\" class=\"dataframe\">\n",
       "  <thead>\n",
       "    <tr style=\"text-align: right;\">\n",
       "      <th></th>\n",
       "      <th>region_name</th>\n",
       "      <th>city_name</th>\n",
       "      <th>cpe_manufacturer_name</th>\n",
       "      <th>cpe_model_name</th>\n",
       "      <th>url_host</th>\n",
       "      <th>cpe_type_cd</th>\n",
       "      <th>cpe_model_os_type</th>\n",
       "      <th>price</th>\n",
       "      <th>date</th>\n",
       "      <th>part_of_day</th>\n",
       "      <th>request_cnt</th>\n",
       "      <th>user_id</th>\n",
       "    </tr>\n",
       "  </thead>\n",
       "  <tbody>\n",
       "    <tr>\n",
       "      <th>60819777</th>\n",
       "      <td>Приморский край</td>\n",
       "      <td>Большой Камень</td>\n",
       "      <td>Huawei</td>\n",
       "      <td>P Smart Z</td>\n",
       "      <td>adwile.com</td>\n",
       "      <td>smartphone</td>\n",
       "      <td>Android</td>\n",
       "      <td>14190.0</td>\n",
       "      <td>2021-08-04</td>\n",
       "      <td>morning</td>\n",
       "      <td>1</td>\n",
       "      <td>11</td>\n",
       "    </tr>\n",
       "    <tr>\n",
       "      <th>60819778</th>\n",
       "      <td>Приморский край</td>\n",
       "      <td>Большой Камень</td>\n",
       "      <td>Huawei</td>\n",
       "      <td>P Smart Z</td>\n",
       "      <td>avatars.mds.yandex.net</td>\n",
       "      <td>smartphone</td>\n",
       "      <td>Android</td>\n",
       "      <td>14190.0</td>\n",
       "      <td>2021-08-06</td>\n",
       "      <td>day</td>\n",
       "      <td>2</td>\n",
       "      <td>11</td>\n",
       "    </tr>\n",
       "    <tr>\n",
       "      <th>60819779</th>\n",
       "      <td>Приморский край</td>\n",
       "      <td>Большой Камень</td>\n",
       "      <td>Huawei</td>\n",
       "      <td>P Smart Z</td>\n",
       "      <td>mail.yandex.ru</td>\n",
       "      <td>smartphone</td>\n",
       "      <td>Android</td>\n",
       "      <td>14190.0</td>\n",
       "      <td>2021-07-01</td>\n",
       "      <td>evening</td>\n",
       "      <td>1</td>\n",
       "      <td>11</td>\n",
       "    </tr>\n",
       "    <tr>\n",
       "      <th>60819780</th>\n",
       "      <td>Приморский край</td>\n",
       "      <td>Большой Камень</td>\n",
       "      <td>Huawei</td>\n",
       "      <td>P Smart Z</td>\n",
       "      <td>rueconomics-ru.turbopages.org</td>\n",
       "      <td>smartphone</td>\n",
       "      <td>Android</td>\n",
       "      <td>14190.0</td>\n",
       "      <td>2021-07-14</td>\n",
       "      <td>morning</td>\n",
       "      <td>1</td>\n",
       "      <td>11</td>\n",
       "    </tr>\n",
       "    <tr>\n",
       "      <th>60819781</th>\n",
       "      <td>Приморский край</td>\n",
       "      <td>Владивосток</td>\n",
       "      <td>Huawei</td>\n",
       "      <td>P Smart Z</td>\n",
       "      <td>googleads.g.doubleclick.net</td>\n",
       "      <td>smartphone</td>\n",
       "      <td>Android</td>\n",
       "      <td>14190.0</td>\n",
       "      <td>2021-07-26</td>\n",
       "      <td>day</td>\n",
       "      <td>1</td>\n",
       "      <td>11</td>\n",
       "    </tr>\n",
       "    <tr>\n",
       "      <th>...</th>\n",
       "      <td>...</td>\n",
       "      <td>...</td>\n",
       "      <td>...</td>\n",
       "      <td>...</td>\n",
       "      <td>...</td>\n",
       "      <td>...</td>\n",
       "      <td>...</td>\n",
       "      <td>...</td>\n",
       "      <td>...</td>\n",
       "      <td>...</td>\n",
       "      <td>...</td>\n",
       "      <td>...</td>\n",
       "    </tr>\n",
       "    <tr>\n",
       "      <th>60820343</th>\n",
       "      <td>Приморский край</td>\n",
       "      <td>Большой Камень</td>\n",
       "      <td>Huawei</td>\n",
       "      <td>P Smart Z</td>\n",
       "      <td>googleads.g.doubleclick.net</td>\n",
       "      <td>smartphone</td>\n",
       "      <td>Android</td>\n",
       "      <td>14190.0</td>\n",
       "      <td>2021-07-29</td>\n",
       "      <td>day</td>\n",
       "      <td>1</td>\n",
       "      <td>11</td>\n",
       "    </tr>\n",
       "    <tr>\n",
       "      <th>60820344</th>\n",
       "      <td>Приморский край</td>\n",
       "      <td>Большой Камень</td>\n",
       "      <td>Huawei</td>\n",
       "      <td>P Smart Z</td>\n",
       "      <td>rueconomics-ru.turbopages.org</td>\n",
       "      <td>smartphone</td>\n",
       "      <td>Android</td>\n",
       "      <td>14190.0</td>\n",
       "      <td>2021-07-08</td>\n",
       "      <td>morning</td>\n",
       "      <td>1</td>\n",
       "      <td>11</td>\n",
       "    </tr>\n",
       "    <tr>\n",
       "      <th>60820345</th>\n",
       "      <td>Приморский край</td>\n",
       "      <td>Большой Камень</td>\n",
       "      <td>Huawei</td>\n",
       "      <td>P Smart Z</td>\n",
       "      <td>ads.adfox.ru</td>\n",
       "      <td>smartphone</td>\n",
       "      <td>Android</td>\n",
       "      <td>14190.0</td>\n",
       "      <td>2021-08-02</td>\n",
       "      <td>morning</td>\n",
       "      <td>1</td>\n",
       "      <td>11</td>\n",
       "    </tr>\n",
       "    <tr>\n",
       "      <th>60820346</th>\n",
       "      <td>Приморский край</td>\n",
       "      <td>Большой Камень</td>\n",
       "      <td>Huawei</td>\n",
       "      <td>P Smart Z</td>\n",
       "      <td>avatars.mds.yandex.net</td>\n",
       "      <td>smartphone</td>\n",
       "      <td>Android</td>\n",
       "      <td>14190.0</td>\n",
       "      <td>2021-06-30</td>\n",
       "      <td>day</td>\n",
       "      <td>1</td>\n",
       "      <td>11</td>\n",
       "    </tr>\n",
       "    <tr>\n",
       "      <th>60820347</th>\n",
       "      <td>Приморский край</td>\n",
       "      <td>Большой Камень</td>\n",
       "      <td>Huawei</td>\n",
       "      <td>P Smart Z</td>\n",
       "      <td>yandex.ru</td>\n",
       "      <td>smartphone</td>\n",
       "      <td>Android</td>\n",
       "      <td>14190.0</td>\n",
       "      <td>2021-07-24</td>\n",
       "      <td>day</td>\n",
       "      <td>3</td>\n",
       "      <td>11</td>\n",
       "    </tr>\n",
       "  </tbody>\n",
       "</table>\n",
       "<p>571 rows × 12 columns</p>\n",
       "</div>"
      ],
      "text/plain": [
       "              region_name       city_name cpe_manufacturer_name  \\\n",
       "60819777  Приморский край  Большой Камень                Huawei   \n",
       "60819778  Приморский край  Большой Камень                Huawei   \n",
       "60819779  Приморский край  Большой Камень                Huawei   \n",
       "60819780  Приморский край  Большой Камень                Huawei   \n",
       "60819781  Приморский край     Владивосток                Huawei   \n",
       "...                   ...             ...                   ...   \n",
       "60820343  Приморский край  Большой Камень                Huawei   \n",
       "60820344  Приморский край  Большой Камень                Huawei   \n",
       "60820345  Приморский край  Большой Камень                Huawei   \n",
       "60820346  Приморский край  Большой Камень                Huawei   \n",
       "60820347  Приморский край  Большой Камень                Huawei   \n",
       "\n",
       "         cpe_model_name                       url_host cpe_type_cd  \\\n",
       "60819777      P Smart Z                     adwile.com  smartphone   \n",
       "60819778      P Smart Z         avatars.mds.yandex.net  smartphone   \n",
       "60819779      P Smart Z                 mail.yandex.ru  smartphone   \n",
       "60819780      P Smart Z  rueconomics-ru.turbopages.org  smartphone   \n",
       "60819781      P Smart Z    googleads.g.doubleclick.net  smartphone   \n",
       "...                 ...                            ...         ...   \n",
       "60820343      P Smart Z    googleads.g.doubleclick.net  smartphone   \n",
       "60820344      P Smart Z  rueconomics-ru.turbopages.org  smartphone   \n",
       "60820345      P Smart Z                   ads.adfox.ru  smartphone   \n",
       "60820346      P Smart Z         avatars.mds.yandex.net  smartphone   \n",
       "60820347      P Smart Z                      yandex.ru  smartphone   \n",
       "\n",
       "         cpe_model_os_type    price       date part_of_day  request_cnt  \\\n",
       "60819777           Android  14190.0 2021-08-04     morning            1   \n",
       "60819778           Android  14190.0 2021-08-06         day            2   \n",
       "60819779           Android  14190.0 2021-07-01     evening            1   \n",
       "60819780           Android  14190.0 2021-07-14     morning            1   \n",
       "60819781           Android  14190.0 2021-07-26         day            1   \n",
       "...                    ...      ...        ...         ...          ...   \n",
       "60820343           Android  14190.0 2021-07-29         day            1   \n",
       "60820344           Android  14190.0 2021-07-08     morning            1   \n",
       "60820345           Android  14190.0 2021-08-02     morning            1   \n",
       "60820346           Android  14190.0 2021-06-30         day            1   \n",
       "60820347           Android  14190.0 2021-07-24         day            3   \n",
       "\n",
       "          user_id  \n",
       "60819777       11  \n",
       "60819778       11  \n",
       "60819779       11  \n",
       "60819780       11  \n",
       "60819781       11  \n",
       "...           ...  \n",
       "60820343       11  \n",
       "60820344       11  \n",
       "60820345       11  \n",
       "60820346       11  \n",
       "60820347       11  \n",
       "\n",
       "[571 rows x 12 columns]"
      ]
     },
     "execution_count": 141,
     "metadata": {},
     "output_type": "execute_result"
    }
   ],
   "source": [
    "df[df[\"user_id\"] == 11]"
   ]
  },
  {
   "cell_type": "code",
   "execution_count": null,
   "id": "f4c1b4d9-232d-4e57-9a01-a47a36aabe71",
   "metadata": {},
   "outputs": [],
   "source": []
  }
 ],
 "metadata": {
  "kernelspec": {
   "display_name": "Python (mts-ml-cup)",
   "language": "python",
   "name": "mts-ml-cup"
  },
  "language_info": {
   "codemirror_mode": {
    "name": "ipython",
    "version": 3
   },
   "file_extension": ".py",
   "mimetype": "text/x-python",
   "name": "python",
   "nbconvert_exporter": "python",
   "pygments_lexer": "ipython3",
   "version": "3.8.10"
  }
 },
 "nbformat": 4,
 "nbformat_minor": 5
}
